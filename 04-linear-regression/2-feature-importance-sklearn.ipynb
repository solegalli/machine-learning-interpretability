{
 "cells": [
  {
   "cell_type": "markdown",
   "id": "a5edef54",
   "metadata": {},
   "source": [
    "# Linear regression coefficients\n",
    "\n",
    "\n",
    "[Machine Learning Interpretability course](https://www.trainindata.com/p/machine-learning-interpretability)\n",
    "\n",
    "In this notebook we will understand the information provided by the coefficients of the linear regression model and calculate its variability."
   ]
  },
  {
   "cell_type": "code",
   "execution_count": 1,
   "id": "0da331f9",
   "metadata": {},
   "outputs": [],
   "source": [
    "import numpy as np\n",
    "import matplotlib.pyplot as plt\n",
    "import pandas as pd\n",
    "from scipy import stats\n",
    "\n",
    "from sklearn.datasets import fetch_california_housing\n",
    "from sklearn.linear_model import LinearRegression\n",
    "from sklearn.model_selection import train_test_split, cross_validate\n",
    "from sklearn.preprocessing import MinMaxScaler"
   ]
  },
  {
   "cell_type": "markdown",
   "id": "33a2f988",
   "metadata": {},
   "source": [
    "### Load data"
   ]
  },
  {
   "cell_type": "code",
   "execution_count": 2,
   "id": "7717800e",
   "metadata": {},
   "outputs": [
    {
     "data": {
      "text/html": [
       "<div>\n",
       "<style scoped>\n",
       "    .dataframe tbody tr th:only-of-type {\n",
       "        vertical-align: middle;\n",
       "    }\n",
       "\n",
       "    .dataframe tbody tr th {\n",
       "        vertical-align: top;\n",
       "    }\n",
       "\n",
       "    .dataframe thead th {\n",
       "        text-align: right;\n",
       "    }\n",
       "</style>\n",
       "<table border=\"1\" class=\"dataframe\">\n",
       "  <thead>\n",
       "    <tr style=\"text-align: right;\">\n",
       "      <th></th>\n",
       "      <th>MedInc</th>\n",
       "      <th>HouseAge</th>\n",
       "      <th>AveRooms</th>\n",
       "      <th>AveBedrms</th>\n",
       "      <th>Population</th>\n",
       "      <th>AveOccup</th>\n",
       "    </tr>\n",
       "  </thead>\n",
       "  <tbody>\n",
       "    <tr>\n",
       "      <th>0</th>\n",
       "      <td>0.539668</td>\n",
       "      <td>0.784314</td>\n",
       "      <td>0.043512</td>\n",
       "      <td>0.020469</td>\n",
       "      <td>0.008941</td>\n",
       "      <td>0.001499</td>\n",
       "    </tr>\n",
       "    <tr>\n",
       "      <th>1</th>\n",
       "      <td>0.538027</td>\n",
       "      <td>0.392157</td>\n",
       "      <td>0.038224</td>\n",
       "      <td>0.018929</td>\n",
       "      <td>0.067210</td>\n",
       "      <td>0.001141</td>\n",
       "    </tr>\n",
       "    <tr>\n",
       "      <th>2</th>\n",
       "      <td>0.466028</td>\n",
       "      <td>1.000000</td>\n",
       "      <td>0.052756</td>\n",
       "      <td>0.021940</td>\n",
       "      <td>0.013818</td>\n",
       "      <td>0.001698</td>\n",
       "    </tr>\n",
       "    <tr>\n",
       "      <th>3</th>\n",
       "      <td>0.354699</td>\n",
       "      <td>1.000000</td>\n",
       "      <td>0.035241</td>\n",
       "      <td>0.021929</td>\n",
       "      <td>0.015555</td>\n",
       "      <td>0.001493</td>\n",
       "    </tr>\n",
       "    <tr>\n",
       "      <th>4</th>\n",
       "      <td>0.230776</td>\n",
       "      <td>1.000000</td>\n",
       "      <td>0.038534</td>\n",
       "      <td>0.022166</td>\n",
       "      <td>0.015752</td>\n",
       "      <td>0.001198</td>\n",
       "    </tr>\n",
       "  </tbody>\n",
       "</table>\n",
       "</div>"
      ],
      "text/plain": [
       "     MedInc  HouseAge  AveRooms  AveBedrms  Population  AveOccup\n",
       "0  0.539668  0.784314  0.043512   0.020469    0.008941  0.001499\n",
       "1  0.538027  0.392157  0.038224   0.018929    0.067210  0.001141\n",
       "2  0.466028  1.000000  0.052756   0.021940    0.013818  0.001698\n",
       "3  0.354699  1.000000  0.035241   0.021929    0.015555  0.001493\n",
       "4  0.230776  1.000000  0.038534   0.022166    0.015752  0.001198"
      ]
     },
     "execution_count": 2,
     "metadata": {},
     "output_type": "execute_result"
    }
   ],
   "source": [
    "# load the California House price data from Scikit-learn\n",
    "\n",
    "X, y = fetch_california_housing(return_X_y=True, as_frame=True)\n",
    "X = X.drop(columns=[\"Latitude\", \"Longitude\"])\n",
    "\n",
    "# scale the variables\n",
    "X = MinMaxScaler().set_output(transform=\"pandas\").fit_transform(X)\n",
    "\n",
    "# display top 5 rows\n",
    "X.head()"
   ]
  },
  {
   "cell_type": "markdown",
   "id": "494990a3",
   "metadata": {},
   "source": [
    "## Coefficient variability"
   ]
  },
  {
   "cell_type": "code",
   "execution_count": 3,
   "id": "cfd26bf8",
   "metadata": {},
   "outputs": [],
   "source": [
    "# Train 500 models on different partitions of X\n",
    "\n",
    "s = dict()\n",
    "\n",
    "for i in np.linspace(1, 500, num=500):\n",
    "    \n",
    "    # split data    \n",
    "    X_train, X_test, y_train, y_test = train_test_split(\n",
    "        X, y, test_size=0.3, random_state=int(i))\n",
    "    \n",
    "    # train model\n",
    "    linreg = LinearRegression().fit(X_train, y_train)\n",
    "    \n",
    "    # store coefficients\n",
    "    s[str(int(i))] = pd.Series(linreg.coef_)"
   ]
  },
  {
   "cell_type": "code",
   "execution_count": 4,
   "id": "d2b89223",
   "metadata": {},
   "outputs": [
    {
     "data": {
      "text/html": [
       "<div>\n",
       "<style scoped>\n",
       "    .dataframe tbody tr th:only-of-type {\n",
       "        vertical-align: middle;\n",
       "    }\n",
       "\n",
       "    .dataframe tbody tr th {\n",
       "        vertical-align: top;\n",
       "    }\n",
       "\n",
       "    .dataframe thead th {\n",
       "        text-align: right;\n",
       "    }\n",
       "</style>\n",
       "<table border=\"1\" class=\"dataframe\">\n",
       "  <thead>\n",
       "    <tr style=\"text-align: right;\">\n",
       "      <th></th>\n",
       "      <th>MedInc</th>\n",
       "      <th>HouseAge</th>\n",
       "      <th>AveRooms</th>\n",
       "      <th>AveBedrms</th>\n",
       "      <th>Population</th>\n",
       "      <th>AveOccup</th>\n",
       "    </tr>\n",
       "  </thead>\n",
       "  <tbody>\n",
       "    <tr>\n",
       "      <th>1</th>\n",
       "      <td>7.855325</td>\n",
       "      <td>0.860223</td>\n",
       "      <td>-29.212496</td>\n",
       "      <td>32.533937</td>\n",
       "      <td>0.684239</td>\n",
       "      <td>-5.462926</td>\n",
       "    </tr>\n",
       "    <tr>\n",
       "      <th>2</th>\n",
       "      <td>7.919423</td>\n",
       "      <td>0.808462</td>\n",
       "      <td>-32.066956</td>\n",
       "      <td>32.728056</td>\n",
       "      <td>0.624559</td>\n",
       "      <td>-6.574072</td>\n",
       "    </tr>\n",
       "    <tr>\n",
       "      <th>3</th>\n",
       "      <td>8.003544</td>\n",
       "      <td>0.872742</td>\n",
       "      <td>-32.748139</td>\n",
       "      <td>40.107737</td>\n",
       "      <td>0.754104</td>\n",
       "      <td>-5.520501</td>\n",
       "    </tr>\n",
       "    <tr>\n",
       "      <th>4</th>\n",
       "      <td>7.880499</td>\n",
       "      <td>0.803695</td>\n",
       "      <td>-32.515462</td>\n",
       "      <td>34.512223</td>\n",
       "      <td>0.555273</td>\n",
       "      <td>-6.631170</td>\n",
       "    </tr>\n",
       "    <tr>\n",
       "      <th>5</th>\n",
       "      <td>7.859912</td>\n",
       "      <td>0.821066</td>\n",
       "      <td>-30.771436</td>\n",
       "      <td>35.392139</td>\n",
       "      <td>0.840508</td>\n",
       "      <td>-6.659695</td>\n",
       "    </tr>\n",
       "  </tbody>\n",
       "</table>\n",
       "</div>"
      ],
      "text/plain": [
       "     MedInc  HouseAge   AveRooms  AveBedrms  Population  AveOccup\n",
       "1  7.855325  0.860223 -29.212496  32.533937    0.684239 -5.462926\n",
       "2  7.919423  0.808462 -32.066956  32.728056    0.624559 -6.574072\n",
       "3  8.003544  0.872742 -32.748139  40.107737    0.754104 -5.520501\n",
       "4  7.880499  0.803695 -32.515462  34.512223    0.555273 -6.631170\n",
       "5  7.859912  0.821066 -30.771436  35.392139    0.840508 -6.659695"
      ]
     },
     "execution_count": 4,
     "metadata": {},
     "output_type": "execute_result"
    }
   ],
   "source": [
    "# put coefficients in a dataframe\n",
    "\n",
    "df = pd.concat(s, axis=1)\n",
    "df.index = linreg.feature_names_in_\n",
    "df = df.T\n",
    "\n",
    "df.head()"
   ]
  },
  {
   "cell_type": "code",
   "execution_count": 5,
   "id": "489e6b81",
   "metadata": {},
   "outputs": [
    {
     "data": {
      "image/png": "[encoded data removed]",
      "text/plain": [
       "<Figure size 720x864 with 6 Axes>"
      ]
     },
     "metadata": {
      "needs_background": "light"
     },
     "output_type": "display_data"
    }
   ],
   "source": [
    "# Display variability of coefficients\n",
    "\n",
    "df.hist(bins=30, figsize=(10, 12))\n",
    "plt.show()"
   ]
  },
  {
   "cell_type": "code",
   "execution_count": 6,
   "id": "a06cb82e",
   "metadata": {},
   "outputs": [
    {
     "data": {
      "text/html": [
       "<div>\n",
       "<style scoped>\n",
       "    .dataframe tbody tr th:only-of-type {\n",
       "        vertical-align: middle;\n",
       "    }\n",
       "\n",
       "    .dataframe tbody tr th {\n",
       "        vertical-align: top;\n",
       "    }\n",
       "\n",
       "    .dataframe thead th {\n",
       "        text-align: right;\n",
       "    }\n",
       "</style>\n",
       "<table border=\"1\" class=\"dataframe\">\n",
       "  <thead>\n",
       "    <tr style=\"text-align: right;\">\n",
       "      <th></th>\n",
       "      <th>MedInc</th>\n",
       "      <th>HouseAge</th>\n",
       "      <th>AveRooms</th>\n",
       "      <th>AveBedrms</th>\n",
       "      <th>Population</th>\n",
       "      <th>AveOccup</th>\n",
       "    </tr>\n",
       "  </thead>\n",
       "  <tbody>\n",
       "    <tr>\n",
       "      <th>mean</th>\n",
       "      <td>7.799373</td>\n",
       "      <td>0.843488</td>\n",
       "      <td>-30.088385</td>\n",
       "      <td>33.968347</td>\n",
       "      <td>0.811338</td>\n",
       "      <td>-9.323211</td>\n",
       "    </tr>\n",
       "    <tr>\n",
       "      <th>std</th>\n",
       "      <td>0.113091</td>\n",
       "      <td>0.022102</td>\n",
       "      <td>1.922136</td>\n",
       "      <td>2.729052</td>\n",
       "      <td>0.155688</td>\n",
       "      <td>17.720183</td>\n",
       "    </tr>\n",
       "  </tbody>\n",
       "</table>\n",
       "</div>"
      ],
      "text/plain": [
       "        MedInc  HouseAge   AveRooms  AveBedrms  Population   AveOccup\n",
       "mean  7.799373  0.843488 -30.088385  33.968347    0.811338  -9.323211\n",
       "std   0.113091  0.022102   1.922136   2.729052    0.155688  17.720183"
      ]
     },
     "execution_count": 6,
     "metadata": {},
     "output_type": "execute_result"
    }
   ],
   "source": [
    "# Summarize variability of coefficients\n",
    "\n",
    "coeff_summary = df.agg([\"mean\", \"std\"])\n",
    "coeff_summary"
   ]
  },
  {
   "cell_type": "markdown",
   "id": "9016bf4c",
   "metadata": {},
   "source": [
    "## Coefficient direction (sign)"
   ]
  },
  {
   "cell_type": "code",
   "execution_count": 7,
   "id": "daec1699",
   "metadata": {},
   "outputs": [
    {
     "data": {
      "image/png": "[encoded data removed]",
      "text/plain": [
       "<Figure size 432x288 with 1 Axes>"
      ]
     },
     "metadata": {
      "needs_background": "light"
     },
     "output_type": "display_data"
    }
   ],
   "source": [
    "s = pd.Series(\n",
    "    coeff_summary.loc[\"mean\"],\n",
    "    index=linreg.feature_names_in_,\n",
    ")\n",
    "\n",
    "s.plot.bar(yerr=coeff_summary.loc[\"std\"])\n",
    "plt.ylabel(\"Beta\")\n",
    "plt.title(\"Coefficient value (slope)\")\n",
    "plt.show()"
   ]
  },
  {
   "cell_type": "markdown",
   "id": "7498345e",
   "metadata": {},
   "source": [
    "We see that the variability of the coefficients is different. `AveOccup` is the most variable. Or in other words, it has the biggest estimation error.\n",
    "\n",
    "We also see that the variables `AveRooms` and `AveBdrms` have opposite direction. We'd expect, intuitively that they have the same direction. And we also expect these variables to be highly correlated. More on this later."
   ]
  },
  {
   "cell_type": "markdown",
   "id": "c84aa0dd",
   "metadata": {},
   "source": [
    "## Coefficient absolute value - feature importance\n",
    "\n",
    "This is what we normally use as a measure of feature importance."
   ]
  },
  {
   "cell_type": "code",
   "execution_count": 8,
   "id": "89c58375",
   "metadata": {},
   "outputs": [
    {
     "data": {
      "image/png": "[encoded data removed]",
      "text/plain": [
       "<Figure size 432x288 with 1 Axes>"
      ]
     },
     "metadata": {
      "needs_background": "light"
     },
     "output_type": "display_data"
    }
   ],
   "source": [
    "# Plot mean coefficient and std\n",
    "\n",
    "s = pd.Series(\n",
    "    np.abs(coeff_summary.loc[\"mean\"]),\n",
    "    index=linreg.feature_names_in_,\n",
    ")\n",
    "\n",
    "s.plot.bar(yerr=coeff_summary.loc[\"std\"])\n",
    "plt.ylabel(\"Absolute coefficient value\")\n",
    "plt.title(\"Absolute coefficient value\")\n",
    "plt.show()"
   ]
  },
  {
   "cell_type": "markdown",
   "id": "a7e0f370",
   "metadata": {},
   "source": [
    "From the previous plot, we'd expect the variables `AveRooms` and `AveBdrms` to be the ones with the highest importance. However, the coefficients for those variables also shows more variability, or a bigger error. Then, we can trust them less.\n",
    "\n",
    "## t"
   ]
  },
  {
   "cell_type": "code",
   "execution_count": 9,
   "id": "d0ea415d",
   "metadata": {},
   "outputs": [
    {
     "data": {
      "image/png": "[encoded data removed]",
      "text/plain": [
       "<Figure size 432x288 with 1 Axes>"
      ]
     },
     "metadata": {
      "needs_background": "light"
     },
     "output_type": "display_data"
    }
   ],
   "source": [
    "# estimate and plot t\n",
    "\n",
    "s = pd.Series(\n",
    "    np.abs(coeff_summary.loc[\"mean\"])/coeff_summary.loc[\"std\"],\n",
    "    index=linreg.feature_names_in_,\n",
    ")\n",
    "\n",
    "s.plot.bar()\n",
    "plt.ylabel(\"t\")\n",
    "plt.title(\"t\")\n",
    "plt.show()"
   ]
  },
  {
   "cell_type": "markdown",
   "id": "c027d68d",
   "metadata": {},
   "source": [
    "After correcting the coefficient by its error, we see that `MedInc` is a more robust predictor of house price.\n",
    "\n",
    "## Cross validation\n",
    "\n",
    "We'd probably won't train 500 models to obtain the coefficient's error. But we could infer it using cross-validation."
   ]
  },
  {
   "cell_type": "code",
   "execution_count": 10,
   "id": "920a637a",
   "metadata": {},
   "outputs": [
    {
     "data": {
      "text/plain": [
       "{'fit_time': array([0.0089972 , 0.00499773, 0.00349975, 0.0099988 , 0.00399756]),\n",
       " 'score_time': array([0.00600815, 0.00161481, 0.002002  , 0.00299954, 0.0019989 ]),\n",
       " 'estimator': [LinearRegression(),\n",
       "  LinearRegression(),\n",
       "  LinearRegression(),\n",
       "  LinearRegression(),\n",
       "  LinearRegression()],\n",
       " 'test_score': array([0.52504554, 0.49338104, 0.54262472, 0.54395095, 0.52401754]),\n",
       " 'train_score': array([0.53629996, 0.54195681, 0.53243437, 0.53217046, 0.53481389])}"
      ]
     },
     "execution_count": 10,
     "metadata": {},
     "output_type": "execute_result"
    }
   ],
   "source": [
    "# we use cross-validation to estimate\n",
    "# coefficient's variability\n",
    "\n",
    "results = cross_validate(\n",
    "    estimator=linreg,\n",
    "    X=X_train,\n",
    "    y=y_train,\n",
    "    scoring=\"r2\",\n",
    "    cv=5,\n",
    "    return_train_score=True,\n",
    "    return_estimator=True,\n",
    ")\n",
    "\n",
    "results"
   ]
  },
  {
   "cell_type": "code",
   "execution_count": 11,
   "id": "bf41703a",
   "metadata": {},
   "outputs": [
    {
     "name": "stdout",
     "output_type": "stream",
     "text": [
      "R2 in train set: mean, std\n"
     ]
    },
    {
     "data": {
      "text/plain": [
       "(0.5355350974726584, 0.0035574920750000654)"
      ]
     },
     "execution_count": 11,
     "metadata": {},
     "output_type": "execute_result"
    }
   ],
   "source": [
    "# R2 in train set\n",
    "\n",
    "print(\"R2 in train set: mean, std\")\n",
    "np.mean(results['train_score']), np.std(results['train_score'])"
   ]
  },
  {
   "cell_type": "code",
   "execution_count": 12,
   "id": "2ed173ff",
   "metadata": {},
   "outputs": [
    {
     "name": "stdout",
     "output_type": "stream",
     "text": [
      "R2 in test set: mean, std\n"
     ]
    },
    {
     "data": {
      "text/plain": [
       "(0.5258039582841565, 0.018260688279630583)"
      ]
     },
     "execution_count": 12,
     "metadata": {},
     "output_type": "execute_result"
    }
   ],
   "source": [
    "# R2 in test set\n",
    "\n",
    "print(\"R2 in test set: mean, std\")\n",
    "np.mean(results['test_score']), np.std(results['test_score'])"
   ]
  },
  {
   "cell_type": "code",
   "execution_count": 13,
   "id": "e8e888dd",
   "metadata": {},
   "outputs": [
    {
     "data": {
      "text/html": [
       "<div>\n",
       "<style scoped>\n",
       "    .dataframe tbody tr th:only-of-type {\n",
       "        vertical-align: middle;\n",
       "    }\n",
       "\n",
       "    .dataframe tbody tr th {\n",
       "        vertical-align: top;\n",
       "    }\n",
       "\n",
       "    .dataframe thead th {\n",
       "        text-align: right;\n",
       "    }\n",
       "</style>\n",
       "<table border=\"1\" class=\"dataframe\">\n",
       "  <thead>\n",
       "    <tr style=\"text-align: right;\">\n",
       "      <th></th>\n",
       "      <th>1</th>\n",
       "      <th>2</th>\n",
       "      <th>3</th>\n",
       "      <th>4</th>\n",
       "      <th>5</th>\n",
       "    </tr>\n",
       "  </thead>\n",
       "  <tbody>\n",
       "    <tr>\n",
       "      <th>MedInc</th>\n",
       "      <td>7.683438</td>\n",
       "      <td>7.910415</td>\n",
       "      <td>7.572398</td>\n",
       "      <td>7.677282</td>\n",
       "      <td>7.845622</td>\n",
       "    </tr>\n",
       "    <tr>\n",
       "      <th>HouseAge</th>\n",
       "      <td>0.828854</td>\n",
       "      <td>0.835736</td>\n",
       "      <td>0.837256</td>\n",
       "      <td>0.861382</td>\n",
       "      <td>0.886368</td>\n",
       "    </tr>\n",
       "    <tr>\n",
       "      <th>AveRooms</th>\n",
       "      <td>-28.254500</td>\n",
       "      <td>-33.587306</td>\n",
       "      <td>-27.075949</td>\n",
       "      <td>-28.662132</td>\n",
       "      <td>-30.435205</td>\n",
       "    </tr>\n",
       "    <tr>\n",
       "      <th>AveBedrms</th>\n",
       "      <td>31.532223</td>\n",
       "      <td>34.076150</td>\n",
       "      <td>30.290862</td>\n",
       "      <td>32.215434</td>\n",
       "      <td>37.114112</td>\n",
       "    </tr>\n",
       "    <tr>\n",
       "      <th>Population</th>\n",
       "      <td>0.804231</td>\n",
       "      <td>0.668001</td>\n",
       "      <td>0.981969</td>\n",
       "      <td>0.833060</td>\n",
       "      <td>0.766261</td>\n",
       "    </tr>\n",
       "    <tr>\n",
       "      <th>AveOccup</th>\n",
       "      <td>-12.300671</td>\n",
       "      <td>-5.678060</td>\n",
       "      <td>-6.241370</td>\n",
       "      <td>-6.583914</td>\n",
       "      <td>-5.977715</td>\n",
       "    </tr>\n",
       "  </tbody>\n",
       "</table>\n",
       "</div>"
      ],
      "text/plain": [
       "                    1          2          3          4          5\n",
       "MedInc       7.683438   7.910415   7.572398   7.677282   7.845622\n",
       "HouseAge     0.828854   0.835736   0.837256   0.861382   0.886368\n",
       "AveRooms   -28.254500 -33.587306 -27.075949 -28.662132 -30.435205\n",
       "AveBedrms   31.532223  34.076150  30.290862  32.215434  37.114112\n",
       "Population   0.804231   0.668001   0.981969   0.833060   0.766261\n",
       "AveOccup   -12.300671  -5.678060  -6.241370  -6.583914  -5.977715"
      ]
     },
     "execution_count": 13,
     "metadata": {},
     "output_type": "execute_result"
    }
   ],
   "source": [
    "# Collect coefficients in dataframe\n",
    "\n",
    "coeffs = pd.DataFrame()\n",
    "\n",
    "for estimator in results[\"estimator\"]:\n",
    "\n",
    "    coeffs = pd.concat([coeffs, pd.Series(estimator.coef_)], axis=1)\n",
    "\n",
    "coeffs.columns = [str(i) for i in range(1, 6)]\n",
    "coeffs.index = estimator.feature_names_in_\n",
    "\n",
    "coeffs"
   ]
  },
  {
   "cell_type": "code",
   "execution_count": 14,
   "id": "5eb0ba8a",
   "metadata": {},
   "outputs": [
    {
     "data": {
      "text/html": [
       "<div>\n",
       "<style scoped>\n",
       "    .dataframe tbody tr th:only-of-type {\n",
       "        vertical-align: middle;\n",
       "    }\n",
       "\n",
       "    .dataframe tbody tr th {\n",
       "        vertical-align: top;\n",
       "    }\n",
       "\n",
       "    .dataframe thead th {\n",
       "        text-align: right;\n",
       "    }\n",
       "</style>\n",
       "<table border=\"1\" class=\"dataframe\">\n",
       "  <thead>\n",
       "    <tr style=\"text-align: right;\">\n",
       "      <th></th>\n",
       "      <th>1</th>\n",
       "      <th>2</th>\n",
       "      <th>3</th>\n",
       "      <th>4</th>\n",
       "      <th>5</th>\n",
       "      <th>mean</th>\n",
       "      <th>std</th>\n",
       "      <th>t</th>\n",
       "    </tr>\n",
       "  </thead>\n",
       "  <tbody>\n",
       "    <tr>\n",
       "      <th>MedInc</th>\n",
       "      <td>7.683438</td>\n",
       "      <td>7.910415</td>\n",
       "      <td>7.572398</td>\n",
       "      <td>7.677282</td>\n",
       "      <td>7.845622</td>\n",
       "      <td>7.737831</td>\n",
       "      <td>0.137292</td>\n",
       "      <td>56.360202</td>\n",
       "    </tr>\n",
       "    <tr>\n",
       "      <th>HouseAge</th>\n",
       "      <td>0.828854</td>\n",
       "      <td>0.835736</td>\n",
       "      <td>0.837256</td>\n",
       "      <td>0.861382</td>\n",
       "      <td>0.886368</td>\n",
       "      <td>0.849919</td>\n",
       "      <td>0.023797</td>\n",
       "      <td>35.715751</td>\n",
       "    </tr>\n",
       "    <tr>\n",
       "      <th>AveRooms</th>\n",
       "      <td>-28.254500</td>\n",
       "      <td>-33.587306</td>\n",
       "      <td>-27.075949</td>\n",
       "      <td>-28.662132</td>\n",
       "      <td>-30.435205</td>\n",
       "      <td>-29.603018</td>\n",
       "      <td>2.532634</td>\n",
       "      <td>-11.688630</td>\n",
       "    </tr>\n",
       "    <tr>\n",
       "      <th>AveBedrms</th>\n",
       "      <td>31.532223</td>\n",
       "      <td>34.076150</td>\n",
       "      <td>30.290862</td>\n",
       "      <td>32.215434</td>\n",
       "      <td>37.114112</td>\n",
       "      <td>33.045756</td>\n",
       "      <td>2.654378</td>\n",
       "      <td>12.449529</td>\n",
       "    </tr>\n",
       "    <tr>\n",
       "      <th>Population</th>\n",
       "      <td>0.804231</td>\n",
       "      <td>0.668001</td>\n",
       "      <td>0.981969</td>\n",
       "      <td>0.833060</td>\n",
       "      <td>0.766261</td>\n",
       "      <td>0.810704</td>\n",
       "      <td>0.114250</td>\n",
       "      <td>7.095858</td>\n",
       "    </tr>\n",
       "    <tr>\n",
       "      <th>AveOccup</th>\n",
       "      <td>-12.300671</td>\n",
       "      <td>-5.678060</td>\n",
       "      <td>-6.241370</td>\n",
       "      <td>-6.583914</td>\n",
       "      <td>-5.977715</td>\n",
       "      <td>-7.356346</td>\n",
       "      <td>2.784037</td>\n",
       "      <td>-2.642331</td>\n",
       "    </tr>\n",
       "  </tbody>\n",
       "</table>\n",
       "</div>"
      ],
      "text/plain": [
       "                    1          2          3          4          5       mean  \\\n",
       "MedInc       7.683438   7.910415   7.572398   7.677282   7.845622   7.737831   \n",
       "HouseAge     0.828854   0.835736   0.837256   0.861382   0.886368   0.849919   \n",
       "AveRooms   -28.254500 -33.587306 -27.075949 -28.662132 -30.435205 -29.603018   \n",
       "AveBedrms   31.532223  34.076150  30.290862  32.215434  37.114112  33.045756   \n",
       "Population   0.804231   0.668001   0.981969   0.833060   0.766261   0.810704   \n",
       "AveOccup   -12.300671  -5.678060  -6.241370  -6.583914  -5.977715  -7.356346   \n",
       "\n",
       "                 std          t  \n",
       "MedInc      0.137292  56.360202  \n",
       "HouseAge    0.023797  35.715751  \n",
       "AveRooms    2.532634 -11.688630  \n",
       "AveBedrms   2.654378  12.449529  \n",
       "Population  0.114250   7.095858  \n",
       "AveOccup    2.784037  -2.642331  "
      ]
     },
     "execution_count": 14,
     "metadata": {},
     "output_type": "execute_result"
    }
   ],
   "source": [
    "# Summarize coefficient's variability and\n",
    "# calculate t\n",
    "\n",
    "coeffs[[\"mean\", \"std\"]] = coeffs.agg([\"mean\", \"std\"], axis=1)\n",
    "coeffs[\"t\"] = coeffs[\"mean\"] / coeffs[\"std\"]\n",
    "coeffs"
   ]
  },
  {
   "cell_type": "markdown",
   "id": "a221efdf",
   "metadata": {},
   "source": [
    "### Coefficient direction (sign)"
   ]
  },
  {
   "cell_type": "code",
   "execution_count": 15,
   "id": "41c0697d",
   "metadata": {},
   "outputs": [
    {
     "data": {
      "image/png": "[encoded data removed]",
      "text/plain": [
       "<Figure size 432x288 with 1 Axes>"
      ]
     },
     "metadata": {
      "needs_background": "light"
     },
     "output_type": "display_data"
    }
   ],
   "source": [
    "s = pd.Series(\n",
    "    coeffs[\"mean\"],\n",
    "    index=linreg.feature_names_in_,\n",
    ")\n",
    "\n",
    "s.plot.bar(yerr=coeffs[\"std\"])\n",
    "plt.ylabel(\"Beta\")\n",
    "plt.title(\"Coefficient value (slope)\")\n",
    "plt.show()"
   ]
  },
  {
   "cell_type": "markdown",
   "id": "a0156b00",
   "metadata": {},
   "source": [
    "We obtain similar results to those obtain by training 500 models. And we see that the errors are more conservative. \n",
    "\n",
    "### Coefficient absolute value"
   ]
  },
  {
   "cell_type": "code",
   "execution_count": 16,
   "id": "0a47a93d",
   "metadata": {},
   "outputs": [
    {
     "data": {
      "image/png": "[encoded data removed]",
      "text/plain": [
       "<Figure size 432x288 with 1 Axes>"
      ]
     },
     "metadata": {
      "needs_background": "light"
     },
     "output_type": "display_data"
    }
   ],
   "source": [
    "# plot mean coefficient plus std\n",
    "\n",
    "coeffs[\"mean\"].abs().plot.bar(yerr=coeffs[\"std\"])\n",
    "plt.ylabel(\"Mean coefficient\")\n",
    "plt.title(\"Coefficients\")\n",
    "plt.show()"
   ]
  },
  {
   "cell_type": "markdown",
   "id": "ef0911b5",
   "metadata": {},
   "source": [
    "### t"
   ]
  },
  {
   "cell_type": "code",
   "execution_count": 17,
   "id": "04444151",
   "metadata": {},
   "outputs": [
    {
     "data": {
      "image/png": "[encoded data removed]",
      "text/plain": [
       "<Figure size 432x288 with 1 Axes>"
      ]
     },
     "metadata": {
      "needs_background": "light"
     },
     "output_type": "display_data"
    }
   ],
   "source": [
    "# plot t\n",
    "\n",
    "coeffs[\"t\"].abs().plot.bar()\n",
    "plt.ylabel(\"t\")\n",
    "plt.title(\"Global feature importance\")\n",
    "plt.show()"
   ]
  },
  {
   "cell_type": "markdown",
   "id": "4359d9ad",
   "metadata": {},
   "source": [
    "With cross-validation we also see that `MedInc` is a more robust contributor to house price, but the difference to `AveRooms` and `AveBdrms` is smaller because the error of the coefficients was smaller. The error is smaller because we have less samples to estimate it from.\n",
    "\n",
    "### p-values\n",
    "\n",
    "With the value of t and the degrees of freedom, we can calculate the p-value for each coefficient utilizing `scipy.stats`."
   ]
  },
  {
   "cell_type": "code",
   "execution_count": 18,
   "id": "ffd6a565",
   "metadata": {},
   "outputs": [
    {
     "data": {
      "text/plain": [
       "MedInc        56.360202\n",
       "HouseAge      35.715751\n",
       "AveRooms     -11.688630\n",
       "AveBedrms     12.449529\n",
       "Population     7.095858\n",
       "AveOccup      -2.642331\n",
       "Name: t, dtype: float64"
      ]
     },
     "execution_count": 18,
     "metadata": {},
     "output_type": "execute_result"
    }
   ],
   "source": [
    "coeffs[\"t\"]"
   ]
  },
  {
   "cell_type": "code",
   "execution_count": 19,
   "id": "3442ccf7",
   "metadata": {},
   "outputs": [
    {
     "data": {
      "text/plain": [
       "2883.0"
      ]
     },
     "execution_count": 19,
     "metadata": {},
     "output_type": "execute_result"
    }
   ],
   "source": [
    "# degrees of freedom\n",
    "\n",
    "N = np.round(len(X_train) / 5, 0) # number of obs in each CV round\n",
    "p = 6 # number of features\n",
    "\n",
    "df = N - p - 1\n",
    "\n",
    "df"
   ]
  },
  {
   "cell_type": "code",
   "execution_count": 20,
   "id": "f346b48a",
   "metadata": {},
   "outputs": [
    {
     "data": {
      "text/plain": [
       "array([0.00000000e+000, 1.20159578e-231, 7.16222877e-031, 1.07906036e-034,\n",
       "       1.61133070e-012, 8.27827525e-003])"
      ]
     },
     "execution_count": 20,
     "metadata": {},
     "output_type": "execute_result"
    }
   ],
   "source": [
    "# 2 tail t-test (the coefficients can be \n",
    "# greater or smaller than 0)\n",
    "\n",
    "# the p-values\n",
    "stats.t.sf(np.abs(coeffs[\"t\"]), df=df)*2"
   ]
  },
  {
   "cell_type": "markdown",
   "id": "e1cf0049",
   "metadata": {},
   "source": [
    "All regression coefficients are significant.\n",
    "\n",
    "Here a link about how to find the p-values with the t-statistic: https://www.statology.org/p-value-from-t-score-python/"
   ]
  },
  {
   "cell_type": "code",
   "execution_count": null,
   "id": "22f7596e",
   "metadata": {},
   "outputs": [],
   "source": []
  }
 ],
 "metadata": {
  "kernelspec": {
   "display_name": "fsml",
   "language": "python",
   "name": "fsml"
  },
  "language_info": {
   "codemirror_mode": {
    "name": "ipython",
    "version": 3
   },
   "file_extension": ".py",
   "mimetype": "text/x-python",
   "name": "python",
   "nbconvert_exporter": "python",
   "pygments_lexer": "ipython3",
   "version": "3.10.5"
  },
  "toc": {
   "base_numbering": 1,
   "nav_menu": {},
   "number_sections": true,
   "sideBar": true,
   "skip_h1_title": false,
   "title_cell": "Table of Contents",
   "title_sidebar": "Contents",
   "toc_cell": false,
   "toc_position": {},
   "toc_section_display": true,
   "toc_window_display": true
  }
 },
 "nbformat": 4,
 "nbformat_minor": 5
}
