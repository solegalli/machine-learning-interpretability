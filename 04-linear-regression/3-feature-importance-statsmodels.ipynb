{
 "cells": [
  {
   "cell_type": "markdown",
   "id": "e07907e2",
   "metadata": {},
   "source": [
    "# Linear regression coefficients\n",
    "\n",
    "[Machine Learning Interpretability course](https://www.trainindata.com/p/machine-learning-interpretability)\n",
    "\n",
    "In this notebook we will evaluate the coefficients of the linear regression models provided by statsmodels."
   ]
  },
  {
   "cell_type": "code",
   "execution_count": 1,
   "id": "90e85181",
   "metadata": {},
   "outputs": [],
   "source": [
    "import numpy as np\n",
    "import pandas as pd\n",
    "import matplotlib.pyplot as plt\n",
    "import seaborn as sns\n",
    "\n",
    "import statsmodels.api as sm\n",
    "\n",
    "# the dataset for the demo\n",
    "from sklearn.datasets import fetch_california_housing\n",
    "from sklearn.feature_selection import f_regression\n",
    "from sklearn.model_selection import train_test_split\n",
    "from sklearn.preprocessing import MinMaxScaler"
   ]
  },
  {
   "cell_type": "markdown",
   "id": "05112c80",
   "metadata": {},
   "source": [
    "### Load data"
   ]
  },
  {
   "cell_type": "code",
   "execution_count": 2,
   "id": "6759d4cc",
   "metadata": {},
   "outputs": [],
   "source": [
    "# load the California House price data from Scikit-learn\n",
    "X, y = fetch_california_housing(return_X_y=True, as_frame=True)\n",
    "X = X.drop(columns = [\"Latitude\", \"Longitude\"])\n",
    "\n",
    "# Split data\n",
    "X_train, X_test, y_train, y_test = train_test_split(\n",
    "    X, y, test_size=0.3, random_state=0,\n",
    ")\n",
    "\n",
    "# Scale data\n",
    "scaler = MinMaxScaler().set_output(transform=\"pandas\").fit(X_train)\n",
    "X_train = scaler.transform(X_train)\n",
    "X_test = scaler.transform(X_test)"
   ]
  },
  {
   "cell_type": "markdown",
   "id": "5bf2aec7",
   "metadata": {},
   "source": [
    "## Train linear regression"
   ]
  },
  {
   "cell_type": "code",
   "execution_count": 3,
   "id": "ed27c759",
   "metadata": {},
   "outputs": [],
   "source": [
    "# Our model needs an intercept so we add a column of 1s:\n",
    "\n",
    "X_train = sm.add_constant(X_train)\n",
    "X_test = sm.add_constant(X_test)"
   ]
  },
  {
   "cell_type": "code",
   "execution_count": 4,
   "id": "4edecf5d",
   "metadata": {},
   "outputs": [
    {
     "name": "stdout",
     "output_type": "stream",
     "text": [
      "                            OLS Regression Results                            \n",
      "==============================================================================\n",
      "Dep. Variable:            MedHouseVal   R-squared:                       0.550\n",
      "Model:                            OLS   Adj. R-squared:                  0.550\n",
      "Method:                 Least Squares   F-statistic:                     2942.\n",
      "Date:                Tue, 14 Nov 2023   Prob (F-statistic):               0.00\n",
      "Time:                        10:47:31   Log-Likelihood:                -16796.\n",
      "No. Observations:               14448   AIC:                         3.361e+04\n",
      "Df Residuals:                   14441   BIC:                         3.366e+04\n",
      "Df Model:                           6                                         \n",
      "Covariance Type:            nonrobust                                         \n",
      "==============================================================================\n",
      "                 coef    std err          t      P>|t|      [0.025      0.975]\n",
      "------------------------------------------------------------------------------\n",
      "const          0.0659      0.028      2.340      0.019       0.011       0.121\n",
      "MedInc         7.9900      0.072    111.425      0.000       7.849       8.131\n",
      "HouseAge       0.8081      0.028     28.831      0.000       0.753       0.863\n",
      "AveRooms     -30.6783      0.963    -31.866      0.000     -32.565     -28.791\n",
      "AveBedrms     33.9966      1.156     29.415      0.000      31.731      36.262\n",
      "Population     0.5273      0.212      2.485      0.013       0.111       0.943\n",
      "AveOccup      -3.2817      0.564     -5.821      0.000      -4.387      -2.177\n",
      "==============================================================================\n",
      "Omnibus:                     3002.913   Durbin-Watson:                   2.000\n",
      "Prob(Omnibus):                  0.000   Jarque-Bera (JB):             8179.865\n",
      "Skew:                           1.112   Prob(JB):                         0.00\n",
      "Kurtosis:                       5.940   Cond. No.                         267.\n",
      "==============================================================================\n",
      "\n",
      "Notes:\n",
      "[1] Standard Errors assume that the covariance matrix of the errors is correctly specified.\n"
     ]
    }
   ],
   "source": [
    "# Fit model\n",
    "\n",
    "linreg = sm.OLS(y_train, X_train)\n",
    "results = linreg.fit()\n",
    "print(results.summary())"
   ]
  },
  {
   "cell_type": "markdown",
   "id": "76d76d6f",
   "metadata": {},
   "source": [
    "## Coefficients direction (sign)"
   ]
  },
  {
   "cell_type": "code",
   "execution_count": 5,
   "id": "c273b730",
   "metadata": {},
   "outputs": [
    {
     "data": {
      "image/png": "[encoded data removed]",
      "text/plain": [
       "<Figure size 432x288 with 1 Axes>"
      ]
     },
     "metadata": {
      "needs_background": "light"
     },
     "output_type": "display_data"
    }
   ],
   "source": [
    "# Coefficients value\n",
    "\n",
    "s = pd.Series(\n",
    "    results.params,\n",
    "    index=X_train.columns,\n",
    ")\n",
    "\n",
    "s.plot.bar(yerr=results.bse)\n",
    "plt.ylabel(\"Coefficients' value\")\n",
    "plt.title(\"Coefficients\")\n",
    "plt.show()"
   ]
  },
  {
   "cell_type": "markdown",
   "id": "3afe73eb",
   "metadata": {},
   "source": [
    "We see that the variability of the coefficients is different.\n",
    "\n",
    "We also see that the variables `AveRooms` and `AveBdrms` have opposite direction. We'd expect, intuitively that they have the same direction. And we also expect these variables to be highly correlated. More on this later.\n",
    "\n",
    "Note that the errors estimated by statsmodels are smaller than those observed with cross-validation in the previous notebook."
   ]
  },
  {
   "cell_type": "markdown",
   "id": "b33ecb94",
   "metadata": {},
   "source": [
    "## Coefficient absolute value - feature importance\n",
    "\n",
    "This is what we normally use as a measure of feature importance."
   ]
  },
  {
   "cell_type": "code",
   "execution_count": 6,
   "id": "3530b903",
   "metadata": {},
   "outputs": [
    {
     "data": {
      "image/png": "[encoded data removed]",
      "text/plain": [
       "<Figure size 432x288 with 1 Axes>"
      ]
     },
     "metadata": {
      "needs_background": "light"
     },
     "output_type": "display_data"
    }
   ],
   "source": [
    "# Plot mean coefficient and std\n",
    "\n",
    "s = pd.Series(\n",
    "    np.abs(results.params),\n",
    "    index=X_train.columns,\n",
    ")\n",
    "\n",
    "s.plot.bar(yerr=results.bse)\n",
    "plt.ylabel(\"Absolute coefficient value\")\n",
    "plt.title(\"Absolute coefficient value\")\n",
    "plt.show()"
   ]
  },
  {
   "cell_type": "markdown",
   "id": "5b18a55a",
   "metadata": {},
   "source": [
    "From the previous plot, we'd expect the variables `AveRooms` and `AveBdrms` to be the ones with the highest importance. However, the coefficients for those variables also shows more variability, or a bigger error. Then, we can trust them less.\n",
    "\n",
    "## t"
   ]
  },
  {
   "cell_type": "code",
   "execution_count": 7,
   "id": "07a4bfbf",
   "metadata": {},
   "outputs": [
    {
     "data": {
      "image/png": "[encoded data removed]",
      "text/plain": [
       "<Figure size 432x288 with 1 Axes>"
      ]
     },
     "metadata": {
      "needs_background": "light"
     },
     "output_type": "display_data"
    }
   ],
   "source": [
    "# estimate and plot t\n",
    "\n",
    "s = pd.Series(\n",
    "    np.abs(results.tvalues),\n",
    "    index=X_train.columns,\n",
    ")\n",
    "\n",
    "s.plot.bar()\n",
    "plt.ylabel(\"t\")\n",
    "plt.title(\"t\")\n",
    "plt.show()"
   ]
  },
  {
   "cell_type": "markdown",
   "id": "2326a669",
   "metadata": {},
   "source": [
    "After correcting the coefficient by its error, we see that `MedInc` is a more robust predictor of house price."
   ]
  },
  {
   "cell_type": "markdown",
   "id": "8fe75254",
   "metadata": {},
   "source": [
    "## Confidence intervals\n",
    "\n",
    "Statsmodels documentation is quite poor in my opinion, so here I leave a link to an explanation of the values we obtain when fitting `OLS`: https://stackoverflow.com/questions/60963178/what-does-obs-confidence-interval-in-statsmodels-linear-regression-in-python\n",
    "\n",
    "We will plot the predictions and its conficence intervals vs the truth, to get a better view of the model performance."
   ]
  },
  {
   "cell_type": "code",
   "execution_count": 8,
   "id": "1286137e",
   "metadata": {},
   "outputs": [
    {
     "data": {
      "text/html": [
       "<div>\n",
       "<style scoped>\n",
       "    .dataframe tbody tr th:only-of-type {\n",
       "        vertical-align: middle;\n",
       "    }\n",
       "\n",
       "    .dataframe tbody tr th {\n",
       "        vertical-align: top;\n",
       "    }\n",
       "\n",
       "    .dataframe thead th {\n",
       "        text-align: right;\n",
       "    }\n",
       "</style>\n",
       "<table border=\"1\" class=\"dataframe\">\n",
       "  <thead>\n",
       "    <tr style=\"text-align: right;\">\n",
       "      <th></th>\n",
       "      <th>mean</th>\n",
       "      <th>mean_se</th>\n",
       "      <th>mean_ci_lower</th>\n",
       "      <th>mean_ci_upper</th>\n",
       "      <th>obs_ci_lower</th>\n",
       "      <th>obs_ci_upper</th>\n",
       "    </tr>\n",
       "  </thead>\n",
       "  <tbody>\n",
       "    <tr>\n",
       "      <th>14740</th>\n",
       "      <td>2.040811</td>\n",
       "      <td>0.007459</td>\n",
       "      <td>2.026189</td>\n",
       "      <td>2.055432</td>\n",
       "      <td>0.523596</td>\n",
       "      <td>3.558025</td>\n",
       "    </tr>\n",
       "    <tr>\n",
       "      <th>10101</th>\n",
       "      <td>2.846458</td>\n",
       "      <td>0.010319</td>\n",
       "      <td>2.826233</td>\n",
       "      <td>2.866684</td>\n",
       "      <td>1.329180</td>\n",
       "      <td>4.363737</td>\n",
       "    </tr>\n",
       "    <tr>\n",
       "      <th>20566</th>\n",
       "      <td>2.155244</td>\n",
       "      <td>0.007979</td>\n",
       "      <td>2.139605</td>\n",
       "      <td>2.170883</td>\n",
       "      <td>0.638019</td>\n",
       "      <td>3.672468</td>\n",
       "    </tr>\n",
       "    <tr>\n",
       "      <th>2670</th>\n",
       "      <td>1.731485</td>\n",
       "      <td>0.011593</td>\n",
       "      <td>1.708762</td>\n",
       "      <td>1.754209</td>\n",
       "      <td>0.214171</td>\n",
       "      <td>3.248799</td>\n",
       "    </tr>\n",
       "    <tr>\n",
       "      <th>15709</th>\n",
       "      <td>2.835506</td>\n",
       "      <td>0.014450</td>\n",
       "      <td>2.807183</td>\n",
       "      <td>2.863830</td>\n",
       "      <td>1.318098</td>\n",
       "      <td>4.352915</td>\n",
       "    </tr>\n",
       "  </tbody>\n",
       "</table>\n",
       "</div>"
      ],
      "text/plain": [
       "           mean   mean_se  mean_ci_lower  mean_ci_upper  obs_ci_lower  \\\n",
       "14740  2.040811  0.007459       2.026189       2.055432      0.523596   \n",
       "10101  2.846458  0.010319       2.826233       2.866684      1.329180   \n",
       "20566  2.155244  0.007979       2.139605       2.170883      0.638019   \n",
       "2670   1.731485  0.011593       1.708762       1.754209      0.214171   \n",
       "15709  2.835506  0.014450       2.807183       2.863830      1.318098   \n",
       "\n",
       "       obs_ci_upper  \n",
       "14740      3.558025  \n",
       "10101      4.363737  \n",
       "20566      3.672468  \n",
       "2670       3.248799  \n",
       "15709      4.352915  "
      ]
     },
     "execution_count": 8,
     "metadata": {},
     "output_type": "execute_result"
    }
   ],
   "source": [
    "# Obtain first 50 predictions for train set\n",
    "\n",
    "df = results.get_prediction(X_test.head(50)).summary_frame()\n",
    "\n",
    "df.head()"
   ]
  },
  {
   "cell_type": "code",
   "execution_count": 9,
   "id": "38935747",
   "metadata": {},
   "outputs": [
    {
     "data": {
      "text/html": [
       "<div>\n",
       "<style scoped>\n",
       "    .dataframe tbody tr th:only-of-type {\n",
       "        vertical-align: middle;\n",
       "    }\n",
       "\n",
       "    .dataframe tbody tr th {\n",
       "        vertical-align: top;\n",
       "    }\n",
       "\n",
       "    .dataframe thead th {\n",
       "        text-align: right;\n",
       "    }\n",
       "</style>\n",
       "<table border=\"1\" class=\"dataframe\">\n",
       "  <thead>\n",
       "    <tr style=\"text-align: right;\">\n",
       "      <th></th>\n",
       "      <th>mean</th>\n",
       "      <th>mean_se</th>\n",
       "      <th>mean_ci_lower</th>\n",
       "      <th>mean_ci_upper</th>\n",
       "      <th>obs_ci_lower</th>\n",
       "      <th>obs_ci_upper</th>\n",
       "      <th>true</th>\n",
       "    </tr>\n",
       "  </thead>\n",
       "  <tbody>\n",
       "    <tr>\n",
       "      <th>14740</th>\n",
       "      <td>2.040811</td>\n",
       "      <td>0.007459</td>\n",
       "      <td>2.026189</td>\n",
       "      <td>2.055432</td>\n",
       "      <td>0.523596</td>\n",
       "      <td>3.558025</td>\n",
       "      <td>1.369</td>\n",
       "    </tr>\n",
       "    <tr>\n",
       "      <th>10101</th>\n",
       "      <td>2.846458</td>\n",
       "      <td>0.010319</td>\n",
       "      <td>2.826233</td>\n",
       "      <td>2.866684</td>\n",
       "      <td>1.329180</td>\n",
       "      <td>4.363737</td>\n",
       "      <td>2.413</td>\n",
       "    </tr>\n",
       "    <tr>\n",
       "      <th>20566</th>\n",
       "      <td>2.155244</td>\n",
       "      <td>0.007979</td>\n",
       "      <td>2.139605</td>\n",
       "      <td>2.170883</td>\n",
       "      <td>0.638019</td>\n",
       "      <td>3.672468</td>\n",
       "      <td>2.007</td>\n",
       "    </tr>\n",
       "    <tr>\n",
       "      <th>2670</th>\n",
       "      <td>1.731485</td>\n",
       "      <td>0.011593</td>\n",
       "      <td>1.708762</td>\n",
       "      <td>1.754209</td>\n",
       "      <td>0.214171</td>\n",
       "      <td>3.248799</td>\n",
       "      <td>0.725</td>\n",
       "    </tr>\n",
       "    <tr>\n",
       "      <th>15709</th>\n",
       "      <td>2.835506</td>\n",
       "      <td>0.014450</td>\n",
       "      <td>2.807183</td>\n",
       "      <td>2.863830</td>\n",
       "      <td>1.318098</td>\n",
       "      <td>4.352915</td>\n",
       "      <td>4.600</td>\n",
       "    </tr>\n",
       "  </tbody>\n",
       "</table>\n",
       "</div>"
      ],
      "text/plain": [
       "           mean   mean_se  mean_ci_lower  mean_ci_upper  obs_ci_lower  \\\n",
       "14740  2.040811  0.007459       2.026189       2.055432      0.523596   \n",
       "10101  2.846458  0.010319       2.826233       2.866684      1.329180   \n",
       "20566  2.155244  0.007979       2.139605       2.170883      0.638019   \n",
       "2670   1.731485  0.011593       1.708762       1.754209      0.214171   \n",
       "15709  2.835506  0.014450       2.807183       2.863830      1.318098   \n",
       "\n",
       "       obs_ci_upper   true  \n",
       "14740      3.558025  1.369  \n",
       "10101      4.363737  2.413  \n",
       "20566      3.672468  2.007  \n",
       "2670       3.248799  0.725  \n",
       "15709      4.352915  4.600  "
      ]
     },
     "execution_count": 9,
     "metadata": {},
     "output_type": "execute_result"
    }
   ],
   "source": [
    "# add target variable to results\n",
    "\n",
    "df[\"true\"] = y_test.head(50)\n",
    "\n",
    "df.head()"
   ]
  },
  {
   "cell_type": "code",
   "execution_count": 10,
   "id": "88eda7e5",
   "metadata": {},
   "outputs": [
    {
     "data": {
      "text/html": [
       "<div>\n",
       "<style scoped>\n",
       "    .dataframe tbody tr th:only-of-type {\n",
       "        vertical-align: middle;\n",
       "    }\n",
       "\n",
       "    .dataframe tbody tr th {\n",
       "        vertical-align: top;\n",
       "    }\n",
       "\n",
       "    .dataframe thead th {\n",
       "        text-align: right;\n",
       "    }\n",
       "</style>\n",
       "<table border=\"1\" class=\"dataframe\">\n",
       "  <thead>\n",
       "    <tr style=\"text-align: right;\">\n",
       "      <th></th>\n",
       "      <th>mean</th>\n",
       "      <th>mean_se</th>\n",
       "      <th>mean_ci_lower</th>\n",
       "      <th>mean_ci_upper</th>\n",
       "      <th>obs_ci_lower</th>\n",
       "      <th>obs_ci_upper</th>\n",
       "      <th>true</th>\n",
       "    </tr>\n",
       "  </thead>\n",
       "  <tbody>\n",
       "    <tr>\n",
       "      <th>2400</th>\n",
       "      <td>0.934639</td>\n",
       "      <td>0.013197</td>\n",
       "      <td>0.908772</td>\n",
       "      <td>0.960506</td>\n",
       "      <td>-0.582726</td>\n",
       "      <td>2.452003</td>\n",
       "      <td>1.000</td>\n",
       "    </tr>\n",
       "    <tr>\n",
       "      <th>13895</th>\n",
       "      <td>0.982493</td>\n",
       "      <td>0.012755</td>\n",
       "      <td>0.957491</td>\n",
       "      <td>1.007495</td>\n",
       "      <td>-0.534857</td>\n",
       "      <td>2.499843</td>\n",
       "      <td>0.542</td>\n",
       "    </tr>\n",
       "    <tr>\n",
       "      <th>13579</th>\n",
       "      <td>1.020219</td>\n",
       "      <td>0.018329</td>\n",
       "      <td>0.984291</td>\n",
       "      <td>1.056146</td>\n",
       "      <td>-0.497351</td>\n",
       "      <td>2.537788</td>\n",
       "      <td>0.795</td>\n",
       "    </tr>\n",
       "    <tr>\n",
       "      <th>74</th>\n",
       "      <td>1.074692</td>\n",
       "      <td>0.013977</td>\n",
       "      <td>1.047296</td>\n",
       "      <td>1.102088</td>\n",
       "      <td>-0.442700</td>\n",
       "      <td>2.592083</td>\n",
       "      <td>1.375</td>\n",
       "    </tr>\n",
       "    <tr>\n",
       "      <th>9228</th>\n",
       "      <td>1.100908</td>\n",
       "      <td>0.012909</td>\n",
       "      <td>1.075605</td>\n",
       "      <td>1.126210</td>\n",
       "      <td>-0.416447</td>\n",
       "      <td>2.618263</td>\n",
       "      <td>0.922</td>\n",
       "    </tr>\n",
       "  </tbody>\n",
       "</table>\n",
       "</div>"
      ],
      "text/plain": [
       "           mean   mean_se  mean_ci_lower  mean_ci_upper  obs_ci_lower  \\\n",
       "2400   0.934639  0.013197       0.908772       0.960506     -0.582726   \n",
       "13895  0.982493  0.012755       0.957491       1.007495     -0.534857   \n",
       "13579  1.020219  0.018329       0.984291       1.056146     -0.497351   \n",
       "74     1.074692  0.013977       1.047296       1.102088     -0.442700   \n",
       "9228   1.100908  0.012909       1.075605       1.126210     -0.416447   \n",
       "\n",
       "       obs_ci_upper   true  \n",
       "2400       2.452003  1.000  \n",
       "13895      2.499843  0.542  \n",
       "13579      2.537788  0.795  \n",
       "74         2.592083  1.375  \n",
       "9228       2.618263  0.922  "
      ]
     },
     "execution_count": 10,
     "metadata": {},
     "output_type": "execute_result"
    }
   ],
   "source": [
    "# sort results by value of the prediction\n",
    "\n",
    "df = df.sort_values(by=[\"mean\"])\n",
    "\n",
    "df.head()"
   ]
  },
  {
   "cell_type": "code",
   "execution_count": 11,
   "id": "b694ecb9",
   "metadata": {},
   "outputs": [
    {
     "data": {
      "text/plain": [
       "Text(0.5, 0, 'predictions')"
      ]
     },
     "execution_count": 11,
     "metadata": {},
     "output_type": "execute_result"
    },
    {
     "data": {
      "image/png": "[encoded data removed]",
      "text/plain": [
       "<Figure size 576x432 with 1 Axes>"
      ]
     },
     "metadata": {
      "needs_background": "light"
     },
     "output_type": "display_data"
    }
   ],
   "source": [
    "# PLot predictions vs target plus confidence intervals\n",
    "\n",
    "fig, ax = plt.subplots(figsize=(8, 6))\n",
    "\n",
    "ax.plot(df[\"mean\"], df[\"true\"], \"bo\")\n",
    "ax.plot(df[\"mean\"], df[\"obs_ci_upper\"], \"r--\")\n",
    "ax.plot(df[\"mean\"], df[\"obs_ci_lower\"], \"r--\")\n",
    "ax.set_ylabel(\"House price\")\n",
    "ax.set_xlabel(\"predictions\")"
   ]
  },
  {
   "cell_type": "code",
   "execution_count": 12,
   "id": "04494f85",
   "metadata": {},
   "outputs": [
    {
     "data": {
      "text/plain": [
       "Text(0.5, 0, 'predictions')"
      ]
     },
     "execution_count": 12,
     "metadata": {},
     "output_type": "execute_result"
    },
    {
     "data": {
      "image/png": "[encoded data removed]",
      "text/plain": [
       "<Figure size 576x432 with 1 Axes>"
      ]
     },
     "metadata": {
      "needs_background": "light"
     },
     "output_type": "display_data"
    }
   ],
   "source": [
    "# Plot all results\n",
    "\n",
    "df = results.get_prediction(X_test).summary_frame()\n",
    "df[\"true\"] = y_test\n",
    "df = df.sort_values(by=[\"mean\"])\n",
    "\n",
    "fig, ax = plt.subplots(figsize=(8, 6))\n",
    "\n",
    "ax.plot(df[\"mean\"], df[\"true\"], \"bo\")\n",
    "ax.plot(df[\"mean\"], df[\"obs_ci_upper\"], \"r--\")\n",
    "ax.plot(df[\"mean\"], df[\"obs_ci_lower\"], \"r--\")\n",
    "ax.set_ylabel(\"House price\")\n",
    "ax.set_xlabel(\"predictions\")"
   ]
  },
  {
   "cell_type": "code",
   "execution_count": 13,
   "id": "f5d5f26a",
   "metadata": {},
   "outputs": [
    {
     "data": {
      "text/plain": [
       "(0.14999, 5.00001)"
      ]
     },
     "execution_count": 13,
     "metadata": {},
     "output_type": "execute_result"
    }
   ],
   "source": [
    "y.min(), y.max()"
   ]
  },
  {
   "cell_type": "code",
   "execution_count": null,
   "id": "112f4231",
   "metadata": {},
   "outputs": [],
   "source": []
  }
 ],
 "metadata": {
  "kernelspec": {
   "display_name": "fsml",
   "language": "python",
   "name": "fsml"
  },
  "language_info": {
   "codemirror_mode": {
    "name": "ipython",
    "version": 3
   },
   "file_extension": ".py",
   "mimetype": "text/x-python",
   "name": "python",
   "nbconvert_exporter": "python",
   "pygments_lexer": "ipython3",
   "version": "3.10.5"
  },
  "toc": {
   "base_numbering": 1,
   "nav_menu": {},
   "number_sections": true,
   "sideBar": true,
   "skip_h1_title": false,
   "title_cell": "Table of Contents",
   "title_sidebar": "Contents",
   "toc_cell": false,
   "toc_position": {},
   "toc_section_display": true,
   "toc_window_display": true
  }
 },
 "nbformat": 4,
 "nbformat_minor": 5
}
