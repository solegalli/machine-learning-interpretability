{
 "cells": [
  {
   "cell_type": "markdown",
   "id": "5e9e49bd",
   "metadata": {},
   "source": [
    "# Linear regression model - OLS\n",
    "\n",
    "\n",
    "[Machine Learning Interpretability Course](https://www.trainindata.com/p/machine-learning-interpretability)\n",
    "\n",
    "In this notebook, we will compare the linear regression (OLS) implementations of `scikit-learn` and `statsmodels`.\n",
    "\n",
    "We will evaluate:\n",
    "\n",
    "- model coefficients \n",
    "- R2 \n",
    "- F-ratio\n",
    "- p-value of the model\n",
    "- residuals\n",
    "\n",
    "These are the first steps towards understanding if the model shows a good fit to the data. \n",
    "\n",
    "Only when the model shows a good fit can we derive meaningful interpretations."
   ]
  },
  {
   "cell_type": "code",
   "execution_count": 1,
   "id": "b619bd11",
   "metadata": {},
   "outputs": [],
   "source": [
    "import numpy as np\n",
    "import matplotlib.pyplot as plt\n",
    "import pandas as pd\n",
    "from scipy import stats\n",
    "\n",
    "from sklearn.datasets import fetch_california_housing\n",
    "from sklearn.linear_model import LinearRegression\n",
    "from sklearn.model_selection import train_test_split\n",
    "from sklearn.preprocessing import MinMaxScaler\n",
    "\n",
    "import statsmodels.api as sm"
   ]
  },
  {
   "cell_type": "markdown",
   "id": "750e70b0",
   "metadata": {},
   "source": [
    "### Load data"
   ]
  },
  {
   "cell_type": "code",
   "execution_count": 2,
   "id": "050acc05",
   "metadata": {},
   "outputs": [
    {
     "data": {
      "text/html": [
       "<div>\n",
       "<style scoped>\n",
       "    .dataframe tbody tr th:only-of-type {\n",
       "        vertical-align: middle;\n",
       "    }\n",
       "\n",
       "    .dataframe tbody tr th {\n",
       "        vertical-align: top;\n",
       "    }\n",
       "\n",
       "    .dataframe thead th {\n",
       "        text-align: right;\n",
       "    }\n",
       "</style>\n",
       "<table border=\"1\" class=\"dataframe\">\n",
       "  <thead>\n",
       "    <tr style=\"text-align: right;\">\n",
       "      <th></th>\n",
       "      <th>MedInc</th>\n",
       "      <th>HouseAge</th>\n",
       "      <th>AveRooms</th>\n",
       "      <th>AveBedrms</th>\n",
       "      <th>Population</th>\n",
       "      <th>AveOccup</th>\n",
       "    </tr>\n",
       "  </thead>\n",
       "  <tbody>\n",
       "    <tr>\n",
       "      <th>0</th>\n",
       "      <td>8.3252</td>\n",
       "      <td>41.0</td>\n",
       "      <td>6.984127</td>\n",
       "      <td>1.023810</td>\n",
       "      <td>322.0</td>\n",
       "      <td>2.555556</td>\n",
       "    </tr>\n",
       "    <tr>\n",
       "      <th>1</th>\n",
       "      <td>8.3014</td>\n",
       "      <td>21.0</td>\n",
       "      <td>6.238137</td>\n",
       "      <td>0.971880</td>\n",
       "      <td>2401.0</td>\n",
       "      <td>2.109842</td>\n",
       "    </tr>\n",
       "    <tr>\n",
       "      <th>2</th>\n",
       "      <td>7.2574</td>\n",
       "      <td>52.0</td>\n",
       "      <td>8.288136</td>\n",
       "      <td>1.073446</td>\n",
       "      <td>496.0</td>\n",
       "      <td>2.802260</td>\n",
       "    </tr>\n",
       "    <tr>\n",
       "      <th>3</th>\n",
       "      <td>5.6431</td>\n",
       "      <td>52.0</td>\n",
       "      <td>5.817352</td>\n",
       "      <td>1.073059</td>\n",
       "      <td>558.0</td>\n",
       "      <td>2.547945</td>\n",
       "    </tr>\n",
       "    <tr>\n",
       "      <th>4</th>\n",
       "      <td>3.8462</td>\n",
       "      <td>52.0</td>\n",
       "      <td>6.281853</td>\n",
       "      <td>1.081081</td>\n",
       "      <td>565.0</td>\n",
       "      <td>2.181467</td>\n",
       "    </tr>\n",
       "  </tbody>\n",
       "</table>\n",
       "</div>"
      ],
      "text/plain": [
       "   MedInc  HouseAge  AveRooms  AveBedrms  Population  AveOccup\n",
       "0  8.3252      41.0  6.984127   1.023810       322.0  2.555556\n",
       "1  8.3014      21.0  6.238137   0.971880      2401.0  2.109842\n",
       "2  7.2574      52.0  8.288136   1.073446       496.0  2.802260\n",
       "3  5.6431      52.0  5.817352   1.073059       558.0  2.547945\n",
       "4  3.8462      52.0  6.281853   1.081081       565.0  2.181467"
      ]
     },
     "execution_count": 2,
     "metadata": {},
     "output_type": "execute_result"
    }
   ],
   "source": [
    "# load the California House price data from Scikit-learn\n",
    "X, y = fetch_california_housing(return_X_y=True, as_frame=True)\n",
    "X = X.drop(columns=[\"Latitude\", \"Longitude\"])\n",
    "\n",
    "# display top 5 rows\n",
    "X.head()"
   ]
  },
  {
   "cell_type": "markdown",
   "id": "0f086003",
   "metadata": {},
   "source": [
    "### Visualize data"
   ]
  },
  {
   "cell_type": "code",
   "execution_count": 3,
   "id": "fea9b50e",
   "metadata": {},
   "outputs": [
    {
     "data": {
      "image/png": "[encoded data removed]",
      "text/plain": [
       "<Figure size 432x288 with 1 Axes>"
      ]
     },
     "metadata": {
      "needs_background": "light"
     },
     "output_type": "display_data"
    }
   ],
   "source": [
    "# Display the target distribution\n",
    "\n",
    "y.hist(bins=20)\n",
    "plt.xlabel(\"House price\")\n",
    "plt.ylabel(\"Number of houses\")\n",
    "plt.title(\"Distribution of House Prices - target\")\n",
    "plt.show()"
   ]
  },
  {
   "cell_type": "code",
   "execution_count": 4,
   "id": "79c1a4a4",
   "metadata": {},
   "outputs": [
    {
     "data": {
      "image/png": "[encoded data removed]",
      "text/plain": [
       "<Figure size 720x864 with 6 Axes>"
      ]
     },
     "metadata": {
      "needs_background": "light"
     },
     "output_type": "display_data"
    }
   ],
   "source": [
    "# Display the variables distribution\n",
    "\n",
    "X.hist(bins=50, figsize=(10, 12))\n",
    "plt.show()"
   ]
  },
  {
   "cell_type": "markdown",
   "id": "74a2f5cc",
   "metadata": {},
   "source": [
    "### Split data"
   ]
  },
  {
   "cell_type": "code",
   "execution_count": 5,
   "id": "52282705",
   "metadata": {},
   "outputs": [
    {
     "data": {
      "text/plain": [
       "((14448, 6), (6192, 6))"
      ]
     },
     "execution_count": 5,
     "metadata": {},
     "output_type": "execute_result"
    }
   ],
   "source": [
    "# let's separate into training and testing set\n",
    "\n",
    "X_train, X_test, y_train, y_test = train_test_split(\n",
    "    X, y, test_size=0.3, random_state=0)\n",
    "\n",
    "X_train.shape, X_test.shape"
   ]
  },
  {
   "cell_type": "markdown",
   "id": "6f953c80",
   "metadata": {},
   "source": [
    "### Scale data"
   ]
  },
  {
   "cell_type": "code",
   "execution_count": 6,
   "id": "9a42f03f",
   "metadata": {},
   "outputs": [],
   "source": [
    "scaler = MinMaxScaler().set_output(transform=\"pandas\").fit(X_train)\n",
    "\n",
    "X_train = scaler.transform(X_train)\n",
    "X_test = scaler.transform(X_test)"
   ]
  },
  {
   "cell_type": "markdown",
   "id": "adfae3e9",
   "metadata": {},
   "source": [
    "## Scikit-learn"
   ]
  },
  {
   "cell_type": "code",
   "execution_count": 7,
   "id": "89b7867b",
   "metadata": {},
   "outputs": [],
   "source": [
    "# fit model\n",
    "\n",
    "linreg = LinearRegression().fit(X_train, y_train)"
   ]
  },
  {
   "cell_type": "code",
   "execution_count": 8,
   "id": "5533ffec",
   "metadata": {},
   "outputs": [
    {
     "data": {
      "text/plain": [
       "0.5500622254048072"
      ]
     },
     "execution_count": 8,
     "metadata": {},
     "output_type": "execute_result"
    }
   ],
   "source": [
    "# R2 in train set\n",
    "\n",
    "linreg.score(X_train, y_train)"
   ]
  },
  {
   "cell_type": "code",
   "execution_count": 9,
   "id": "d51dd951",
   "metadata": {},
   "outputs": [
    {
     "data": {
      "text/plain": [
       "0.5105637256518258"
      ]
     },
     "execution_count": 9,
     "metadata": {},
     "output_type": "execute_result"
    }
   ],
   "source": [
    "# R2 in test set\n",
    "\n",
    "linreg.score(X_test, y_test)"
   ]
  },
  {
   "cell_type": "markdown",
   "id": "98a5f28c",
   "metadata": {},
   "source": [
    "The model explains about 50% of the variability in the target variable."
   ]
  },
  {
   "cell_type": "code",
   "execution_count": 10,
   "id": "ccc640a3",
   "metadata": {},
   "outputs": [
    {
     "data": {
      "image/png": "[encoded data removed]",
      "text/plain": [
       "<Figure size 432x288 with 1 Axes>"
      ]
     },
     "metadata": {
      "needs_background": "light"
     },
     "output_type": "display_data"
    }
   ],
   "source": [
    "# plot residuals - train set\n",
    "\n",
    "residuals = y_train - linreg.predict(X_train)\n",
    "\n",
    "residuals.hist(bins=20)\n",
    "plt.title(\"Residuals - train set\")\n",
    "plt.show()"
   ]
  },
  {
   "cell_type": "code",
   "execution_count": 11,
   "id": "d49b3ead",
   "metadata": {},
   "outputs": [
    {
     "data": {
      "image/png": "[encoded data removed]",
      "text/plain": [
       "<Figure size 432x288 with 1 Axes>"
      ]
     },
     "metadata": {
      "needs_background": "light"
     },
     "output_type": "display_data"
    }
   ],
   "source": [
    "# plot residuals - test set\n",
    "\n",
    "residuals = y_test - linreg.predict(X_test)\n",
    "\n",
    "residuals.hist(bins=20)\n",
    "plt.title(\"Residuals - test set\")\n",
    "plt.show()"
   ]
  },
  {
   "cell_type": "markdown",
   "id": "79ad2d76",
   "metadata": {},
   "source": [
    "The residuals are fairly normally distributed and centered at 0."
   ]
  },
  {
   "cell_type": "code",
   "execution_count": 12,
   "id": "105e944e",
   "metadata": {},
   "outputs": [
    {
     "data": {
      "text/plain": [
       "MedInc         7.990024\n",
       "HouseAge       0.808127\n",
       "AveRooms     -30.678295\n",
       "AveBedrms     33.996598\n",
       "Population     0.527330\n",
       "AveOccup      -3.281687\n",
       "dtype: float64"
      ]
     },
     "execution_count": 12,
     "metadata": {},
     "output_type": "execute_result"
    }
   ],
   "source": [
    "# coefficients\n",
    "\n",
    "pd.Series(linreg.coef_, index=linreg.feature_names_in_)"
   ]
  },
  {
   "cell_type": "markdown",
   "id": "a32f7ebf",
   "metadata": {},
   "source": [
    "### Evaluate the model\n",
    "\n",
    "We need to calculate all of these statistics manually. "
   ]
  },
  {
   "cell_type": "code",
   "execution_count": 13,
   "id": "e5d8d18c",
   "metadata": {},
   "outputs": [
    {
     "data": {
      "text/plain": [
       "19227.7912639894"
      ]
     },
     "execution_count": 13,
     "metadata": {},
     "output_type": "execute_result"
    }
   ],
   "source": [
    "# SST - total sum of squares\n",
    "\n",
    "SST = np.sum((y_train - y_train.mean())**2)\n",
    "\n",
    "SST"
   ]
  },
  {
   "cell_type": "code",
   "execution_count": 14,
   "id": "7e8393db",
   "metadata": {},
   "outputs": [
    {
     "data": {
      "text/plain": [
       "8651.309611700279"
      ]
     },
     "execution_count": 14,
     "metadata": {},
     "output_type": "execute_result"
    }
   ],
   "source": [
    "# SSR - sum of squares of the residuals\n",
    "\n",
    "SSR = np.sum((y_train - linreg.predict(X_train))**2)\n",
    "\n",
    "SSR"
   ]
  },
  {
   "cell_type": "code",
   "execution_count": 15,
   "id": "8901cdf9",
   "metadata": {},
   "outputs": [
    {
     "data": {
      "text/plain": [
       "10576.48165228912"
      ]
     },
     "execution_count": 15,
     "metadata": {},
     "output_type": "execute_result"
    }
   ],
   "source": [
    "# SSM - sum of squares of the model\n",
    "\n",
    "SSM = SST - SSR\n",
    "\n",
    "SSM"
   ]
  },
  {
   "cell_type": "code",
   "execution_count": 16,
   "id": "f0ba909e",
   "metadata": {},
   "outputs": [
    {
     "data": {
      "text/plain": [
       "0.5500622254048072"
      ]
     },
     "execution_count": 16,
     "metadata": {},
     "output_type": "execute_result"
    }
   ],
   "source": [
    "# R2 - fraction of variability explained by the model\n",
    "\n",
    "SSM / SST"
   ]
  },
  {
   "cell_type": "code",
   "execution_count": 17,
   "id": "14c52e7d",
   "metadata": {},
   "outputs": [
    {
     "data": {
      "text/plain": [
       "1762.7469420481866"
      ]
     },
     "execution_count": 17,
     "metadata": {},
     "output_type": "execute_result"
    }
   ],
   "source": [
    "# mean sum of squares of the model\n",
    "\n",
    "df1 = len(X_train.columns)\n",
    "\n",
    "MSM = SSM / df1\n",
    "\n",
    "MSM"
   ]
  },
  {
   "cell_type": "code",
   "execution_count": 18,
   "id": "7c970778",
   "metadata": {},
   "outputs": [
    {
     "data": {
      "text/plain": [
       "0.5990381949660905"
      ]
     },
     "execution_count": 18,
     "metadata": {},
     "output_type": "execute_result"
    }
   ],
   "source": [
    "# mean sum of squares of the residuals\n",
    "\n",
    "df2 = (len(X_train)-len(X_train.columns))\n",
    "\n",
    "MSR = SSR / df2\n",
    "\n",
    "MSR"
   ]
  },
  {
   "cell_type": "code",
   "execution_count": 19,
   "id": "c3302066",
   "metadata": {},
   "outputs": [
    {
     "data": {
      "text/plain": [
       "2942.628628459943"
      ]
     },
     "execution_count": 19,
     "metadata": {},
     "output_type": "execute_result"
    }
   ],
   "source": [
    "# F-ratio\n",
    "\n",
    "F = MSM/MSR\n",
    "\n",
    "F"
   ]
  },
  {
   "cell_type": "code",
   "execution_count": 20,
   "id": "1571292c",
   "metadata": {},
   "outputs": [
    {
     "data": {
      "text/plain": [
       "1.1102230246251565e-16"
      ]
     },
     "execution_count": 20,
     "metadata": {},
     "output_type": "execute_result"
    }
   ],
   "source": [
    "p_value = 1 - stats.f.cdf(F, df1, df2)\n",
    "\n",
    "p_value"
   ]
  },
  {
   "cell_type": "markdown",
   "id": "7ada99f7",
   "metadata": {},
   "source": [
    "## Stats models"
   ]
  },
  {
   "cell_type": "code",
   "execution_count": 21,
   "id": "ec8ae23c",
   "metadata": {},
   "outputs": [],
   "source": [
    "# Our model needs an intercept so we add a column of 1s:\n",
    "\n",
    "X_train = sm.add_constant(X_train)\n",
    "X_test = sm.add_constant(X_test)"
   ]
  },
  {
   "cell_type": "code",
   "execution_count": 22,
   "id": "dfac6e9b",
   "metadata": {},
   "outputs": [
    {
     "name": "stdout",
     "output_type": "stream",
     "text": [
      "                            OLS Regression Results                            \n",
      "==============================================================================\n",
      "Dep. Variable:            MedHouseVal   R-squared:                       0.550\n",
      "Model:                            OLS   Adj. R-squared:                  0.550\n",
      "Method:                 Least Squares   F-statistic:                     2942.\n",
      "Date:                Tue, 14 Nov 2023   Prob (F-statistic):               0.00\n",
      "Time:                        10:45:43   Log-Likelihood:                -16796.\n",
      "No. Observations:               14448   AIC:                         3.361e+04\n",
      "Df Residuals:                   14441   BIC:                         3.366e+04\n",
      "Df Model:                           6                                         \n",
      "Covariance Type:            nonrobust                                         \n",
      "==============================================================================\n",
      "                 coef    std err          t      P>|t|      [0.025      0.975]\n",
      "------------------------------------------------------------------------------\n",
      "const          0.0659      0.028      2.340      0.019       0.011       0.121\n",
      "MedInc         7.9900      0.072    111.425      0.000       7.849       8.131\n",
      "HouseAge       0.8081      0.028     28.831      0.000       0.753       0.863\n",
      "AveRooms     -30.6783      0.963    -31.866      0.000     -32.565     -28.791\n",
      "AveBedrms     33.9966      1.156     29.415      0.000      31.731      36.262\n",
      "Population     0.5273      0.212      2.485      0.013       0.111       0.943\n",
      "AveOccup      -3.2817      0.564     -5.821      0.000      -4.387      -2.177\n",
      "==============================================================================\n",
      "Omnibus:                     3002.913   Durbin-Watson:                   2.000\n",
      "Prob(Omnibus):                  0.000   Jarque-Bera (JB):             8179.865\n",
      "Skew:                           1.112   Prob(JB):                         0.00\n",
      "Kurtosis:                       5.940   Cond. No.                         267.\n",
      "==============================================================================\n",
      "\n",
      "Notes:\n",
      "[1] Standard Errors assume that the covariance matrix of the errors is correctly specified.\n"
     ]
    }
   ],
   "source": [
    "# Fit model\n",
    "\n",
    "linreg = sm.OLS(y_train, X_train)\n",
    "results = linreg.fit()\n",
    "print(results.summary())"
   ]
  },
  {
   "cell_type": "code",
   "execution_count": 23,
   "id": "3a010fd6",
   "metadata": {},
   "outputs": [
    {
     "data": {
      "image/png": "[encoded data removed]",
      "text/plain": [
       "<Figure size 432x288 with 1 Axes>"
      ]
     },
     "metadata": {
      "needs_background": "light"
     },
     "output_type": "display_data"
    }
   ],
   "source": [
    "# plot residuals - train set\n",
    "\n",
    "residuals = y_train - results.get_prediction().summary_frame()[\"mean\"]\n",
    "\n",
    "residuals.hist(bins=20)\n",
    "plt.title(\"Residuals - train set\")\n",
    "plt.show()"
   ]
  },
  {
   "cell_type": "code",
   "execution_count": 24,
   "id": "e6864d4d",
   "metadata": {},
   "outputs": [
    {
     "data": {
      "image/png": "[encoded data removed]",
      "text/plain": [
       "<Figure size 432x288 with 1 Axes>"
      ]
     },
     "metadata": {
      "needs_background": "light"
     },
     "output_type": "display_data"
    }
   ],
   "source": [
    "# plot residuals - test set\n",
    "\n",
    "residuals = y_test - results.get_prediction(X_test).summary_frame()[\"mean\"]\n",
    "\n",
    "residuals.hist(bins=20)\n",
    "plt.title(\"Residuals - test set\")\n",
    "plt.show()"
   ]
  },
  {
   "cell_type": "markdown",
   "id": "8dfc3414",
   "metadata": {},
   "source": [
    "We have a decent linear model. How do we make global and local interpretations?"
   ]
  }
 ],
 "metadata": {
  "kernelspec": {
   "display_name": "fsml",
   "language": "python",
   "name": "fsml"
  },
  "language_info": {
   "codemirror_mode": {
    "name": "ipython",
    "version": 3
   },
   "file_extension": ".py",
   "mimetype": "text/x-python",
   "name": "python",
   "nbconvert_exporter": "python",
   "pygments_lexer": "ipython3",
   "version": "3.10.5"
  },
  "toc": {
   "base_numbering": 1,
   "nav_menu": {},
   "number_sections": true,
   "sideBar": true,
   "skip_h1_title": false,
   "title_cell": "Table of Contents",
   "title_sidebar": "Contents",
   "toc_cell": false,
   "toc_position": {},
   "toc_section_display": true,
   "toc_window_display": true
  }
 },
 "nbformat": 4,
 "nbformat_minor": 5
}
