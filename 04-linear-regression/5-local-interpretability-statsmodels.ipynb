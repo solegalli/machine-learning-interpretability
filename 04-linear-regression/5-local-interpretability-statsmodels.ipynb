{
 "cells": [
  {
   "cell_type": "markdown",
   "id": "26311c47",
   "metadata": {},
   "source": [
    "# Local interpretability\n",
    "\n",
    "[Machine Learning Interpretability course](https://www.trainindata.com/p/machine-learning-interpretability)\n",
    "\n",
    "In this notebook, we will evaluate the contribution of each feature towards the target value, for a single observation.\n",
    "\n",
    "Based on [Christoph Molnar's book](https://christophm.github.io/interpretable-ml-book/limo.html#effect-plot)"
   ]
  },
  {
   "cell_type": "code",
   "execution_count": 1,
   "id": "90e85181",
   "metadata": {},
   "outputs": [],
   "source": [
    "import pandas as pd\n",
    "import matplotlib.pyplot as plt\n",
    "\n",
    "import statsmodels.api as sm\n",
    "\n",
    "from sklearn.datasets import fetch_california_housing\n",
    "from sklearn.model_selection import train_test_split\n",
    "from sklearn.preprocessing import MinMaxScaler"
   ]
  },
  {
   "cell_type": "markdown",
   "id": "05112c80",
   "metadata": {},
   "source": [
    "### Load data"
   ]
  },
  {
   "cell_type": "code",
   "execution_count": 2,
   "id": "6759d4cc",
   "metadata": {},
   "outputs": [],
   "source": [
    "# load the California House price data from Scikit-learn\n",
    "X, y = fetch_california_housing(return_X_y=True, as_frame=True)\n",
    "X = X.drop(columns = [\"Latitude\", \"Longitude\", \"AveBedrms\"])\n",
    "\n",
    "# Split data\n",
    "X_train, X_test, y_train, y_test = train_test_split(\n",
    "    X, y, test_size=0.3, random_state=0,\n",
    ")\n",
    "\n",
    "# Scale data\n",
    "scaler = MinMaxScaler().set_output(transform=\"pandas\").fit(X_train)\n",
    "X_train = scaler.transform(X_train)\n",
    "X_test = scaler.transform(X_test)"
   ]
  },
  {
   "cell_type": "markdown",
   "id": "5bf2aec7",
   "metadata": {},
   "source": [
    "## Linear regression"
   ]
  },
  {
   "cell_type": "code",
   "execution_count": 3,
   "id": "ed27c759",
   "metadata": {},
   "outputs": [],
   "source": [
    "# Our model needs an intercept so we add a column of 1s:\n",
    "\n",
    "X_train = sm.add_constant(X_train)\n",
    "X_test = sm.add_constant(X_test)"
   ]
  },
  {
   "cell_type": "code",
   "execution_count": 4,
   "id": "4edecf5d",
   "metadata": {},
   "outputs": [
    {
     "name": "stdout",
     "output_type": "stream",
     "text": [
      "                            OLS Regression Results                            \n",
      "==============================================================================\n",
      "Dep. Variable:            MedHouseVal   R-squared:                       0.523\n",
      "Model:                            OLS   Adj. R-squared:                  0.523\n",
      "Method:                 Least Squares   F-statistic:                     3168.\n",
      "Date:                Tue, 14 Nov 2023   Prob (F-statistic):               0.00\n",
      "Time:                        10:48:52   Log-Likelihood:                -17216.\n",
      "No. Observations:               14448   AIC:                         3.444e+04\n",
      "Df Residuals:                   14442   BIC:                         3.449e+04\n",
      "Df Model:                           5                                         \n",
      "Covariance Type:            nonrobust                                         \n",
      "==============================================================================\n",
      "                 coef    std err          t      P>|t|      [0.025      0.975]\n",
      "------------------------------------------------------------------------------\n",
      "const          0.2191      0.028      7.692      0.000       0.163       0.275\n",
      "MedInc         6.5699      0.055    120.364      0.000       6.463       6.677\n",
      "HouseAge       0.8809      0.029     30.647      0.000       0.825       0.937\n",
      "AveRooms      -4.9671      0.415    -11.958      0.000      -5.781      -4.153\n",
      "Population     0.8322      0.218      3.814      0.000       0.405       1.260\n",
      "AveOccup      -3.6424      0.580     -6.277      0.000      -4.780      -2.505\n",
      "==============================================================================\n",
      "Omnibus:                     3055.467   Durbin-Watson:                   1.998\n",
      "Prob(Omnibus):                  0.000   Jarque-Bera (JB):             7077.209\n",
      "Skew:                           1.195   Prob(JB):                         0.00\n",
      "Kurtosis:                       5.458   Cond. No.                         102.\n",
      "==============================================================================\n",
      "\n",
      "Notes:\n",
      "[1] Standard Errors assume that the covariance matrix of the errors is correctly specified.\n"
     ]
    }
   ],
   "source": [
    "# Fit model\n",
    "\n",
    "linreg = sm.OLS(y_train, X_train)\n",
    "results = linreg.fit()\n",
    "print(results.summary())"
   ]
  },
  {
   "cell_type": "markdown",
   "id": "914c7bf8",
   "metadata": {},
   "source": [
    "## Coefficients direction (sign)"
   ]
  },
  {
   "cell_type": "code",
   "execution_count": 5,
   "id": "b3084af9",
   "metadata": {},
   "outputs": [
    {
     "data": {
      "image/png": "[encoded data removed]",
      "text/plain": [
       "<Figure size 432x288 with 1 Axes>"
      ]
     },
     "metadata": {
      "needs_background": "light"
     },
     "output_type": "display_data"
    }
   ],
   "source": [
    "# Coefficients value\n",
    "\n",
    "pd.Series(results.params, index=X_train.columns).plot.bar(\n",
    "    yerr=pd.Series(results.bse))\n",
    "\n",
    "plt.ylabel(\"Coefficients' value\")\n",
    "plt.title(\"Coefficients\")\n",
    "plt.show()"
   ]
  },
  {
   "cell_type": "markdown",
   "id": "b33ecb94",
   "metadata": {},
   "source": [
    "## Effect plots\n",
    "\n",
    "The effect is the coefficient multiplied by the feature value. If we do this for each observation, we can better understand the contribution of each feature to the target."
   ]
  },
  {
   "cell_type": "code",
   "execution_count": 6,
   "id": "bdb955ba",
   "metadata": {},
   "outputs": [
    {
     "data": {
      "text/plain": [
       "Text(0, 0.5, 'Effects (coeff x feature)')"
      ]
     },
     "execution_count": 6,
     "metadata": {},
     "output_type": "execute_result"
    },
    {
     "data": {
      "image/png": "[encoded data removed]",
      "text/plain": [
       "<Figure size 576x432 with 1 Axes>"
      ]
     },
     "metadata": {
      "needs_background": "light"
     },
     "output_type": "display_data"
    }
   ],
   "source": [
    "# multiply the coefficients by the feature values\n",
    "effects = results.params * X_test\n",
    "\n",
    "# plot the effects\n",
    "effects.boxplot(figsize=(8,6))\n",
    "plt.ylabel(\"Effects (coeff x feature)\")"
   ]
  },
  {
   "cell_type": "markdown",
   "id": "e0253658",
   "metadata": {},
   "source": [
    "## Local interpretability\n",
    "\n",
    "Let's take an individual observation and evaluate how its feature values contribute towards house price."
   ]
  },
  {
   "cell_type": "code",
   "execution_count": 7,
   "id": "2a985f56",
   "metadata": {},
   "outputs": [
    {
     "data": {
      "text/html": [
       "<div>\n",
       "<style scoped>\n",
       "    .dataframe tbody tr th:only-of-type {\n",
       "        vertical-align: middle;\n",
       "    }\n",
       "\n",
       "    .dataframe tbody tr th {\n",
       "        vertical-align: top;\n",
       "    }\n",
       "\n",
       "    .dataframe thead th {\n",
       "        text-align: right;\n",
       "    }\n",
       "</style>\n",
       "<table border=\"1\" class=\"dataframe\">\n",
       "  <thead>\n",
       "    <tr style=\"text-align: right;\">\n",
       "      <th></th>\n",
       "      <th>const</th>\n",
       "      <th>MedInc</th>\n",
       "      <th>HouseAge</th>\n",
       "      <th>AveRooms</th>\n",
       "      <th>Population</th>\n",
       "      <th>AveOccup</th>\n",
       "    </tr>\n",
       "  </thead>\n",
       "  <tbody>\n",
       "    <tr>\n",
       "      <th>19681</th>\n",
       "      <td>1.0</td>\n",
       "      <td>0.179053</td>\n",
       "      <td>0.686275</td>\n",
       "      <td>0.029618</td>\n",
       "      <td>0.032652</td>\n",
       "      <td>0.002736</td>\n",
       "    </tr>\n",
       "    <tr>\n",
       "      <th>12156</th>\n",
       "      <td>1.0</td>\n",
       "      <td>0.250941</td>\n",
       "      <td>0.019608</td>\n",
       "      <td>0.060561</td>\n",
       "      <td>0.079122</td>\n",
       "      <td>0.004371</td>\n",
       "    </tr>\n",
       "    <tr>\n",
       "      <th>10211</th>\n",
       "      <td>1.0</td>\n",
       "      <td>0.508621</td>\n",
       "      <td>0.568627</td>\n",
       "      <td>0.050914</td>\n",
       "      <td>0.014574</td>\n",
       "      <td>0.002790</td>\n",
       "    </tr>\n",
       "    <tr>\n",
       "      <th>2445</th>\n",
       "      <td>1.0</td>\n",
       "      <td>0.107992</td>\n",
       "      <td>0.647059</td>\n",
       "      <td>0.038667</td>\n",
       "      <td>0.010090</td>\n",
       "      <td>0.004996</td>\n",
       "    </tr>\n",
       "    <tr>\n",
       "      <th>17914</th>\n",
       "      <td>1.0</td>\n",
       "      <td>0.288010</td>\n",
       "      <td>0.607843</td>\n",
       "      <td>0.033936</td>\n",
       "      <td>0.025617</td>\n",
       "      <td>0.003387</td>\n",
       "    </tr>\n",
       "  </tbody>\n",
       "</table>\n",
       "</div>"
      ],
      "text/plain": [
       "       const    MedInc  HouseAge  AveRooms  Population  AveOccup\n",
       "19681    1.0  0.179053  0.686275  0.029618    0.032652  0.002736\n",
       "12156    1.0  0.250941  0.019608  0.060561    0.079122  0.004371\n",
       "10211    1.0  0.508621  0.568627  0.050914    0.014574  0.002790\n",
       "2445     1.0  0.107992  0.647059  0.038667    0.010090  0.004996\n",
       "17914    1.0  0.288010  0.607843  0.033936    0.025617  0.003387"
      ]
     },
     "execution_count": 7,
     "metadata": {},
     "output_type": "execute_result"
    }
   ],
   "source": [
    "# Let's pick up a few observations\n",
    "\n",
    "X_test.tail()"
   ]
  },
  {
   "cell_type": "code",
   "execution_count": 8,
   "id": "8e0b0f83",
   "metadata": {},
   "outputs": [
    {
     "data": {
      "text/plain": [
       "const         1.000000\n",
       "MedInc        0.250941\n",
       "HouseAge      0.019608\n",
       "AveRooms      0.060561\n",
       "Population    0.079122\n",
       "AveOccup      0.004371\n",
       "Name: 12156, dtype: float64"
      ]
     },
     "execution_count": 8,
     "metadata": {},
     "output_type": "execute_result"
    }
   ],
   "source": [
    "obs = 12156\n",
    "\n",
    "X_test.loc[obs]"
   ]
  },
  {
   "cell_type": "code",
   "execution_count": 9,
   "id": "5b802030",
   "metadata": {},
   "outputs": [
    {
     "data": {
      "text/plain": [
       "const         0.219147\n",
       "MedInc        1.648660\n",
       "HouseAge      0.017273\n",
       "AveRooms     -0.300810\n",
       "Population    0.065843\n",
       "AveOccup     -0.015922\n",
       "dtype: float64"
      ]
     },
     "execution_count": 9,
     "metadata": {},
     "output_type": "execute_result"
    }
   ],
   "source": [
    "effect = results.params * X_test.loc[obs]\n",
    "effect"
   ]
  },
  {
   "cell_type": "code",
   "execution_count": 10,
   "id": "07a4bfbf",
   "metadata": {},
   "outputs": [
    {
     "data": {
      "image/png": "[encoded data removed]",
      "text/plain": [
       "<Figure size 432x288 with 1 Axes>"
      ]
     },
     "metadata": {
      "needs_background": "light"
     },
     "output_type": "display_data"
    }
   ],
   "source": [
    "effect.plot.bar()\n",
    "\n",
    "plt.axhline(y=0, color='r', linestyle='-')\n",
    "plt.ylabel(\"Coefficient x feature value\")\n",
    "plt.title(f\"Local interpretability for {obs}\")\n",
    "plt.show()"
   ]
  },
  {
   "cell_type": "code",
   "execution_count": 11,
   "id": "0d422323",
   "metadata": {},
   "outputs": [
    {
     "data": {
      "text/plain": [
       "Text(0, 0.5, 'Effects (coeff x feature)')"
      ]
     },
     "execution_count": 11,
     "metadata": {},
     "output_type": "execute_result"
    },
    {
     "data": {
      "image/png": "[encoded data removed]",
      "text/plain": [
       "<Figure size 720x576 with 1 Axes>"
      ]
     },
     "metadata": {
      "needs_background": "light"
     },
     "output_type": "display_data"
    }
   ],
   "source": [
    "# overlay the individual observation to the effects\n",
    "\n",
    "effects.boxplot(figsize=(10,8), positions=range(len(effects.columns)))\n",
    "plt.scatter(effects.columns, effect,  marker='o', color=\"r\", s=50)\n",
    "plt.ylabel(\"Effects (coeff x feature)\")"
   ]
  },
  {
   "cell_type": "code",
   "execution_count": 12,
   "id": "0e7ca790",
   "metadata": {},
   "outputs": [
    {
     "data": {
      "text/plain": [
       "const         1.000000\n",
       "MedInc        0.107992\n",
       "HouseAge      0.647059\n",
       "AveRooms      0.038667\n",
       "Population    0.010090\n",
       "AveOccup      0.004996\n",
       "Name: 2445, dtype: float64"
      ]
     },
     "execution_count": 12,
     "metadata": {},
     "output_type": "execute_result"
    }
   ],
   "source": [
    "obs = 2445\n",
    "\n",
    "X_test.loc[obs]"
   ]
  },
  {
   "cell_type": "code",
   "execution_count": 13,
   "id": "cd98a8ef",
   "metadata": {},
   "outputs": [
    {
     "data": {
      "image/png": "[encoded data removed]",
      "text/plain": [
       "<Figure size 432x288 with 1 Axes>"
      ]
     },
     "metadata": {
      "needs_background": "light"
     },
     "output_type": "display_data"
    }
   ],
   "source": [
    "effect = results.params * X_test.loc[obs]\n",
    "effect.plot.bar()\n",
    "\n",
    "plt.axhline(y=0, color='r', linestyle='-')\n",
    "plt.ylabel(\"Coefficient x feature value\")\n",
    "plt.title(f\"Local interpretability for {obs}\")\n",
    "plt.show()"
   ]
  },
  {
   "cell_type": "code",
   "execution_count": 14,
   "id": "627d8571",
   "metadata": {},
   "outputs": [
    {
     "data": {
      "text/plain": [
       "Text(0, 0.5, 'Effects (coeff x feature)')"
      ]
     },
     "execution_count": 14,
     "metadata": {},
     "output_type": "execute_result"
    },
    {
     "data": {
      "image/png": "[encoded data removed]",
      "text/plain": [
       "<Figure size 720x576 with 1 Axes>"
      ]
     },
     "metadata": {
      "needs_background": "light"
     },
     "output_type": "display_data"
    }
   ],
   "source": [
    "# overlay the individual observation to the effects\n",
    "\n",
    "effects.boxplot(figsize=(10,8), positions=range(len(effects.columns)))\n",
    "plt.scatter(effects.columns, effect,  marker='o', color=\"r\", s=50)\n",
    "plt.ylabel(\"Effects (coeff x feature)\")"
   ]
  },
  {
   "cell_type": "code",
   "execution_count": null,
   "id": "4351fd44",
   "metadata": {},
   "outputs": [],
   "source": []
  }
 ],
 "metadata": {
  "kernelspec": {
   "display_name": "fsml",
   "language": "python",
   "name": "fsml"
  },
  "language_info": {
   "codemirror_mode": {
    "name": "ipython",
    "version": 3
   },
   "file_extension": ".py",
   "mimetype": "text/x-python",
   "name": "python",
   "nbconvert_exporter": "python",
   "pygments_lexer": "ipython3",
   "version": "3.10.5"
  },
  "toc": {
   "base_numbering": 1,
   "nav_menu": {},
   "number_sections": true,
   "sideBar": true,
   "skip_h1_title": false,
   "title_cell": "Table of Contents",
   "title_sidebar": "Contents",
   "toc_cell": false,
   "toc_position": {},
   "toc_section_display": true,
   "toc_window_display": true
  }
 },
 "nbformat": 4,
 "nbformat_minor": 5
}
