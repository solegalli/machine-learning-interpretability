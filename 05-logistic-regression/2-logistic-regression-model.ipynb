{
 "cells": [
  {
   "cell_type": "markdown",
   "id": "5e9e49bd",
   "metadata": {},
   "source": [
    "# Logistic regression model\n",
    "\n",
    "[Machine Learning Interpretability course](https://www.trainindata.com/p/machine-learning-interpretability)\n",
    "\n",
    "In this notebook, we will compare the logistic regression implementations of `scikit-learn` and `statsmodels`.\n",
    "\n",
    "We will evaluate:\n",
    "\n",
    "- log-loss\n",
    "- log-likelihood\n",
    "- deviance\n",
    "- p-value of the model\n",
    "- R-statistic \n",
    "\n",
    "These are the first steps towards understanding if the model shows a good fit to the data. \n",
    "\n",
    "Only when the model shows a good fit can we derive meaningful interpretations."
   ]
  },
  {
   "cell_type": "code",
   "execution_count": 1,
   "id": "b619bd11",
   "metadata": {},
   "outputs": [],
   "source": [
    "import numpy as np\n",
    "import matplotlib.pyplot as plt\n",
    "import pandas as pd\n",
    "from scipy import stats\n",
    "\n",
    "from sklearn.linear_model import LogisticRegression\n",
    "from sklearn.metrics import accuracy_score, log_loss\n",
    "from sklearn.model_selection import train_test_split\n",
    "from sklearn.preprocessing import StandardScaler\n",
    "\n",
    "import statsmodels.api as sm"
   ]
  },
  {
   "cell_type": "markdown",
   "id": "750e70b0",
   "metadata": {},
   "source": [
    "### Load data\n",
    "\n",
    "To obtain the data, check the folder `prepare-data` in this repo, or section 2 in the course."
   ]
  },
  {
   "cell_type": "code",
   "execution_count": 2,
   "id": "050acc05",
   "metadata": {},
   "outputs": [
    {
     "data": {
      "text/html": [
       "<div>\n",
       "<style scoped>\n",
       "    .dataframe tbody tr th:only-of-type {\n",
       "        vertical-align: middle;\n",
       "    }\n",
       "\n",
       "    .dataframe tbody tr th {\n",
       "        vertical-align: top;\n",
       "    }\n",
       "\n",
       "    .dataframe thead th {\n",
       "        text-align: right;\n",
       "    }\n",
       "</style>\n",
       "<table border=\"1\" class=\"dataframe\">\n",
       "  <thead>\n",
       "    <tr style=\"text-align: right;\">\n",
       "      <th></th>\n",
       "      <th>pclass</th>\n",
       "      <th>sibsp</th>\n",
       "      <th>parch</th>\n",
       "      <th>survived</th>\n",
       "      <th>sex_female</th>\n",
       "      <th>embarked_S</th>\n",
       "      <th>embarked_C</th>\n",
       "      <th>cabin_B</th>\n",
       "      <th>cabin_C</th>\n",
       "      <th>cabin_E</th>\n",
       "      <th>cabin_D</th>\n",
       "      <th>cabin_A</th>\n",
       "      <th>cabin_M</th>\n",
       "      <th>cabin_G</th>\n",
       "    </tr>\n",
       "  </thead>\n",
       "  <tbody>\n",
       "    <tr>\n",
       "      <th>0</th>\n",
       "      <td>1</td>\n",
       "      <td>0</td>\n",
       "      <td>0</td>\n",
       "      <td>1</td>\n",
       "      <td>1</td>\n",
       "      <td>1</td>\n",
       "      <td>0</td>\n",
       "      <td>1</td>\n",
       "      <td>0</td>\n",
       "      <td>0</td>\n",
       "      <td>0</td>\n",
       "      <td>0</td>\n",
       "      <td>0</td>\n",
       "      <td>0</td>\n",
       "    </tr>\n",
       "    <tr>\n",
       "      <th>1</th>\n",
       "      <td>1</td>\n",
       "      <td>1</td>\n",
       "      <td>2</td>\n",
       "      <td>1</td>\n",
       "      <td>0</td>\n",
       "      <td>1</td>\n",
       "      <td>0</td>\n",
       "      <td>0</td>\n",
       "      <td>1</td>\n",
       "      <td>0</td>\n",
       "      <td>0</td>\n",
       "      <td>0</td>\n",
       "      <td>0</td>\n",
       "      <td>0</td>\n",
       "    </tr>\n",
       "    <tr>\n",
       "      <th>2</th>\n",
       "      <td>1</td>\n",
       "      <td>1</td>\n",
       "      <td>2</td>\n",
       "      <td>0</td>\n",
       "      <td>1</td>\n",
       "      <td>1</td>\n",
       "      <td>0</td>\n",
       "      <td>0</td>\n",
       "      <td>1</td>\n",
       "      <td>0</td>\n",
       "      <td>0</td>\n",
       "      <td>0</td>\n",
       "      <td>0</td>\n",
       "      <td>0</td>\n",
       "    </tr>\n",
       "    <tr>\n",
       "      <th>3</th>\n",
       "      <td>1</td>\n",
       "      <td>1</td>\n",
       "      <td>2</td>\n",
       "      <td>0</td>\n",
       "      <td>0</td>\n",
       "      <td>1</td>\n",
       "      <td>0</td>\n",
       "      <td>0</td>\n",
       "      <td>1</td>\n",
       "      <td>0</td>\n",
       "      <td>0</td>\n",
       "      <td>0</td>\n",
       "      <td>0</td>\n",
       "      <td>0</td>\n",
       "    </tr>\n",
       "    <tr>\n",
       "      <th>4</th>\n",
       "      <td>1</td>\n",
       "      <td>1</td>\n",
       "      <td>2</td>\n",
       "      <td>0</td>\n",
       "      <td>1</td>\n",
       "      <td>1</td>\n",
       "      <td>0</td>\n",
       "      <td>0</td>\n",
       "      <td>1</td>\n",
       "      <td>0</td>\n",
       "      <td>0</td>\n",
       "      <td>0</td>\n",
       "      <td>0</td>\n",
       "      <td>0</td>\n",
       "    </tr>\n",
       "  </tbody>\n",
       "</table>\n",
       "</div>"
      ],
      "text/plain": [
       "   pclass  sibsp  parch  survived  sex_female  embarked_S  embarked_C  \\\n",
       "0       1      0      0         1           1           1           0   \n",
       "1       1      1      2         1           0           1           0   \n",
       "2       1      1      2         0           1           1           0   \n",
       "3       1      1      2         0           0           1           0   \n",
       "4       1      1      2         0           1           1           0   \n",
       "\n",
       "   cabin_B  cabin_C  cabin_E  cabin_D  cabin_A  cabin_M  cabin_G  \n",
       "0        1        0        0        0        0        0        0  \n",
       "1        0        1        0        0        0        0        0  \n",
       "2        0        1        0        0        0        0        0  \n",
       "3        0        1        0        0        0        0        0  \n",
       "4        0        1        0        0        0        0        0  "
      ]
     },
     "execution_count": 2,
     "metadata": {},
     "output_type": "execute_result"
    }
   ],
   "source": [
    "# load titanic dataset\n",
    "\n",
    "df = pd.read_csv('../titanic.csv')\n",
    "\n",
    "df.head()"
   ]
  },
  {
   "cell_type": "code",
   "execution_count": 3,
   "id": "715ba744",
   "metadata": {},
   "outputs": [
    {
     "data": {
      "text/plain": [
       "((1112, 13), (197, 13))"
      ]
     },
     "execution_count": 3,
     "metadata": {},
     "output_type": "execute_result"
    }
   ],
   "source": [
    "# Split the data\n",
    "\n",
    "X_train, X_test, y_train, y_test = train_test_split(\n",
    "    df.drop(\"survived\", axis=1),\n",
    "    df[\"survived\"],\n",
    "    test_size=0.15,\n",
    "    random_state=1,\n",
    ")\n",
    "\n",
    "X_train.shape, X_test.shape"
   ]
  },
  {
   "cell_type": "code",
   "execution_count": 4,
   "id": "2d9af713",
   "metadata": {},
   "outputs": [
    {
     "data": {
      "text/html": [
       "<div>\n",
       "<style scoped>\n",
       "    .dataframe tbody tr th:only-of-type {\n",
       "        vertical-align: middle;\n",
       "    }\n",
       "\n",
       "    .dataframe tbody tr th {\n",
       "        vertical-align: top;\n",
       "    }\n",
       "\n",
       "    .dataframe thead th {\n",
       "        text-align: right;\n",
       "    }\n",
       "</style>\n",
       "<table border=\"1\" class=\"dataframe\">\n",
       "  <thead>\n",
       "    <tr style=\"text-align: right;\">\n",
       "      <th></th>\n",
       "      <th>pclass</th>\n",
       "      <th>sibsp</th>\n",
       "      <th>parch</th>\n",
       "      <th>sex_female</th>\n",
       "      <th>embarked_S</th>\n",
       "      <th>embarked_C</th>\n",
       "      <th>cabin_B</th>\n",
       "      <th>cabin_C</th>\n",
       "      <th>cabin_E</th>\n",
       "      <th>cabin_D</th>\n",
       "      <th>cabin_A</th>\n",
       "      <th>cabin_M</th>\n",
       "      <th>cabin_G</th>\n",
       "    </tr>\n",
       "  </thead>\n",
       "  <tbody>\n",
       "    <tr>\n",
       "      <th>1021</th>\n",
       "      <td>0.834271</td>\n",
       "      <td>-0.474139</td>\n",
       "      <td>-0.456096</td>\n",
       "      <td>-0.739319</td>\n",
       "      <td>0.666450</td>\n",
       "      <td>-0.516251</td>\n",
       "      <td>-0.22592</td>\n",
       "      <td>-0.280294</td>\n",
       "      <td>-0.182913</td>\n",
       "      <td>-0.193167</td>\n",
       "      <td>-0.128271</td>\n",
       "      <td>0.539927</td>\n",
       "      <td>-0.067206</td>\n",
       "    </tr>\n",
       "    <tr>\n",
       "      <th>512</th>\n",
       "      <td>-0.367425</td>\n",
       "      <td>0.469050</td>\n",
       "      <td>-0.456096</td>\n",
       "      <td>-0.739319</td>\n",
       "      <td>-1.500487</td>\n",
       "      <td>1.937043</td>\n",
       "      <td>-0.22592</td>\n",
       "      <td>-0.280294</td>\n",
       "      <td>-0.182913</td>\n",
       "      <td>-0.193167</td>\n",
       "      <td>-0.128271</td>\n",
       "      <td>0.539927</td>\n",
       "      <td>-0.067206</td>\n",
       "    </tr>\n",
       "    <tr>\n",
       "      <th>957</th>\n",
       "      <td>0.834271</td>\n",
       "      <td>2.355428</td>\n",
       "      <td>0.745749</td>\n",
       "      <td>1.352596</td>\n",
       "      <td>0.666450</td>\n",
       "      <td>-0.516251</td>\n",
       "      <td>-0.22592</td>\n",
       "      <td>-0.280294</td>\n",
       "      <td>-0.182913</td>\n",
       "      <td>-0.193167</td>\n",
       "      <td>-0.128271</td>\n",
       "      <td>0.539927</td>\n",
       "      <td>-0.067206</td>\n",
       "    </tr>\n",
       "    <tr>\n",
       "      <th>1066</th>\n",
       "      <td>0.834271</td>\n",
       "      <td>-0.474139</td>\n",
       "      <td>-0.456096</td>\n",
       "      <td>-0.739319</td>\n",
       "      <td>-1.500487</td>\n",
       "      <td>1.937043</td>\n",
       "      <td>-0.22592</td>\n",
       "      <td>-0.280294</td>\n",
       "      <td>-0.182913</td>\n",
       "      <td>-0.193167</td>\n",
       "      <td>-0.128271</td>\n",
       "      <td>0.539927</td>\n",
       "      <td>-0.067206</td>\n",
       "    </tr>\n",
       "    <tr>\n",
       "      <th>1259</th>\n",
       "      <td>0.834271</td>\n",
       "      <td>-0.474139</td>\n",
       "      <td>-0.456096</td>\n",
       "      <td>-0.739319</td>\n",
       "      <td>0.666450</td>\n",
       "      <td>-0.516251</td>\n",
       "      <td>-0.22592</td>\n",
       "      <td>-0.280294</td>\n",
       "      <td>-0.182913</td>\n",
       "      <td>-0.193167</td>\n",
       "      <td>-0.128271</td>\n",
       "      <td>0.539927</td>\n",
       "      <td>-0.067206</td>\n",
       "    </tr>\n",
       "  </tbody>\n",
       "</table>\n",
       "</div>"
      ],
      "text/plain": [
       "        pclass     sibsp     parch  sex_female  embarked_S  embarked_C  \\\n",
       "1021  0.834271 -0.474139 -0.456096   -0.739319    0.666450   -0.516251   \n",
       "512  -0.367425  0.469050 -0.456096   -0.739319   -1.500487    1.937043   \n",
       "957   0.834271  2.355428  0.745749    1.352596    0.666450   -0.516251   \n",
       "1066  0.834271 -0.474139 -0.456096   -0.739319   -1.500487    1.937043   \n",
       "1259  0.834271 -0.474139 -0.456096   -0.739319    0.666450   -0.516251   \n",
       "\n",
       "      cabin_B   cabin_C   cabin_E   cabin_D   cabin_A   cabin_M   cabin_G  \n",
       "1021 -0.22592 -0.280294 -0.182913 -0.193167 -0.128271  0.539927 -0.067206  \n",
       "512  -0.22592 -0.280294 -0.182913 -0.193167 -0.128271  0.539927 -0.067206  \n",
       "957  -0.22592 -0.280294 -0.182913 -0.193167 -0.128271  0.539927 -0.067206  \n",
       "1066 -0.22592 -0.280294 -0.182913 -0.193167 -0.128271  0.539927 -0.067206  \n",
       "1259 -0.22592 -0.280294 -0.182913 -0.193167 -0.128271  0.539927 -0.067206  "
      ]
     },
     "execution_count": 4,
     "metadata": {},
     "output_type": "execute_result"
    }
   ],
   "source": [
    "# scale the variables\n",
    "scaler = StandardScaler().set_output(transform=\"pandas\")\n",
    "\n",
    "X_train = scaler.fit_transform(X_train)\n",
    "X_test = scaler.transform(X_test)\n",
    "\n",
    "# display top 5 rows\n",
    "X_train.head()"
   ]
  },
  {
   "cell_type": "markdown",
   "id": "0f086003",
   "metadata": {},
   "source": [
    "### Visualize data"
   ]
  },
  {
   "cell_type": "code",
   "execution_count": 5,
   "id": "fea9b50e",
   "metadata": {},
   "outputs": [
    {
     "data": {
      "image/png": "[encoded data removed]",
      "text/plain": [
       "<Figure size 432x288 with 1 Axes>"
      ]
     },
     "metadata": {
      "needs_background": "light"
     },
     "output_type": "display_data"
    }
   ],
   "source": [
    "# Display the target distribution\n",
    "\n",
    "y_train.value_counts(normalize=True).plot.bar()\n",
    "plt.xlabel(\"Survved\")\n",
    "plt.ylabel(\"Number of passengers\")\n",
    "plt.title(\"Distribution of Survival - target\")\n",
    "plt.show()"
   ]
  },
  {
   "cell_type": "code",
   "execution_count": 6,
   "id": "79c1a4a4",
   "metadata": {},
   "outputs": [
    {
     "data": {
      "image/png": "[encoded data removed]",
      "text/plain": [
       "<Figure size 1080x1080 with 16 Axes>"
      ]
     },
     "metadata": {
      "needs_background": "light"
     },
     "output_type": "display_data"
    }
   ],
   "source": [
    "# Display the variables distribution\n",
    "\n",
    "X_train.hist(bins=50, figsize=(15, 15))\n",
    "plt.show()"
   ]
  },
  {
   "cell_type": "markdown",
   "id": "7ada99f7",
   "metadata": {},
   "source": [
    "## Statsmodels"
   ]
  },
  {
   "cell_type": "code",
   "execution_count": 7,
   "id": "ec8ae23c",
   "metadata": {},
   "outputs": [],
   "source": [
    "# Our model needs an intercept so we add a column of 1s:\n",
    "\n",
    "X_train_sm = sm.add_constant(X_train)\n",
    "X_test_sm = sm.add_constant(X_test)"
   ]
  },
  {
   "cell_type": "code",
   "execution_count": 8,
   "id": "dfac6e9b",
   "metadata": {},
   "outputs": [
    {
     "name": "stdout",
     "output_type": "stream",
     "text": [
      "Optimization terminated successfully.\n",
      "         Current function value: 0.469479\n",
      "         Iterations 6\n",
      "                           Logit Regression Results                           \n",
      "==============================================================================\n",
      "Dep. Variable:               survived   No. Observations:                 1112\n",
      "Model:                          Logit   Df Residuals:                     1098\n",
      "Method:                           MLE   Df Model:                           13\n",
      "Date:                Tue, 14 Nov 2023   Pseudo R-squ.:                  0.2923\n",
      "Time:                        10:56:14   Log-Likelihood:                -522.06\n",
      "converged:                       True   LL-Null:                       -737.67\n",
      "Covariance Type:            nonrobust   LLR p-value:                 5.606e-84\n",
      "==============================================================================\n",
      "                 coef    std err          z      P>|z|      [0.025      0.975]\n",
      "------------------------------------------------------------------------------\n",
      "const         -0.6505      0.079     -8.267      0.000      -0.805      -0.496\n",
      "pclass        -0.5174      0.118     -4.389      0.000      -0.748      -0.286\n",
      "sibsp         -0.2268      0.095     -2.383      0.017      -0.413      -0.040\n",
      "parch          0.0542      0.082      0.660      0.509      -0.107       0.215\n",
      "sex_female     1.1999      0.082     14.620      0.000       1.039       1.361\n",
      "embarked_S    -0.0085      0.125     -0.068      0.946      -0.254       0.237\n",
      "embarked_C     0.2340      0.127      1.836      0.066      -0.016       0.484\n",
      "cabin_B       -0.2198      0.149     -1.479      0.139      -0.511       0.072\n",
      "cabin_C       -0.3765      0.170     -2.210      0.027      -0.710      -0.043\n",
      "cabin_E       -0.0252      0.129     -0.195      0.846      -0.279       0.228\n",
      "cabin_D       -0.1982      0.130     -1.519      0.129      -0.454       0.058\n",
      "cabin_A       -0.1051      0.100     -1.055      0.291      -0.300       0.090\n",
      "cabin_M       -0.6804      0.236     -2.878      0.004      -1.144      -0.217\n",
      "cabin_G       -0.1436      0.073     -1.958      0.050      -0.287       0.000\n",
      "==============================================================================\n"
     ]
    }
   ],
   "source": [
    "# Fit logistic regression model\n",
    "\n",
    "logit_mod = sm.Logit(y_train, X_train_sm)\n",
    "\n",
    "logit_res = logit_mod.fit()\n",
    "\n",
    "print(logit_res.summary())"
   ]
  },
  {
   "cell_type": "markdown",
   "id": "d666ad47",
   "metadata": {},
   "source": [
    "**Note**: It is important to one hot encode into k-1 for logistic regression, otherwise the Logit from statsmodels will raise a convergence error, due to data redundancy."
   ]
  },
  {
   "cell_type": "code",
   "execution_count": 9,
   "id": "999328db",
   "metadata": {},
   "outputs": [],
   "source": [
    "# obtain predictions\n",
    "\n",
    "pred_train = logit_res.get_prediction(X_train_sm).summary_frame()[\"predicted\"]\n",
    "\n",
    "pred_test = logit_res.get_prediction(X_test_sm).summary_frame()[\"predicted\"]"
   ]
  },
  {
   "cell_type": "code",
   "execution_count": 10,
   "id": "647d0f70",
   "metadata": {},
   "outputs": [
    {
     "name": "stdout",
     "output_type": "stream",
     "text": [
      "Accuracy in train set: 0.7850719424460432\n",
      "Accuracy in test set: 0.8020304568527918\n"
     ]
    }
   ],
   "source": [
    "print(f\"Accuracy in train set: {accuracy_score(y_train, pred_train>0.5)}\")\n",
    "\n",
    "print(f\"Accuracy in test set: {accuracy_score(y_test, pred_test>0.5)}\")"
   ]
  },
  {
   "cell_type": "markdown",
   "id": "8dfc3414",
   "metadata": {},
   "source": [
    "The p-value of the model is significant, the LL of the model is smaller than the baseline, and some of the coefficients also show significant p-values (more on this later). That means that we have a decent linear model. \n",
    "\n",
    "We can now make global and local interpretations ==> Later in this course!"
   ]
  },
  {
   "cell_type": "markdown",
   "id": "adfae3e9",
   "metadata": {},
   "source": [
    "## Scikit-learn\n",
    "\n",
    "Sklearn does not output all the statistics that we need out of the box, so we need to calculate them manually. \n",
    "\n",
    "Let's see how to do that."
   ]
  },
  {
   "cell_type": "code",
   "execution_count": 11,
   "id": "89b7867b",
   "metadata": {},
   "outputs": [
    {
     "data": {
      "text/html": [
       "<style>#sk-container-id-1 {color: black;}#sk-container-id-1 pre{padding: 0;}#sk-container-id-1 div.sk-toggleable {background-color: white;}#sk-container-id-1 label.sk-toggleable__label {cursor: pointer;display: block;width: 100%;margin-bottom: 0;padding: 0.3em;box-sizing: border-box;text-align: center;}#sk-container-id-1 label.sk-toggleable__label-arrow:before {content: \"▸\";float: left;margin-right: 0.25em;color: #696969;}#sk-container-id-1 label.sk-toggleable__label-arrow:hover:before {color: black;}#sk-container-id-1 div.sk-estimator:hover label.sk-toggleable__label-arrow:before {color: black;}#sk-container-id-1 div.sk-toggleable__content {max-height: 0;max-width: 0;overflow: hidden;text-align: left;background-color: #f0f8ff;}#sk-container-id-1 div.sk-toggleable__content pre {margin: 0.2em;color: black;border-radius: 0.25em;background-color: #f0f8ff;}#sk-container-id-1 input.sk-toggleable__control:checked~div.sk-toggleable__content {max-height: 200px;max-width: 100%;overflow: auto;}#sk-container-id-1 input.sk-toggleable__control:checked~label.sk-toggleable__label-arrow:before {content: \"▾\";}#sk-container-id-1 div.sk-estimator input.sk-toggleable__control:checked~label.sk-toggleable__label {background-color: #d4ebff;}#sk-container-id-1 div.sk-label input.sk-toggleable__control:checked~label.sk-toggleable__label {background-color: #d4ebff;}#sk-container-id-1 input.sk-hidden--visually {border: 0;clip: rect(1px 1px 1px 1px);clip: rect(1px, 1px, 1px, 1px);height: 1px;margin: -1px;overflow: hidden;padding: 0;position: absolute;width: 1px;}#sk-container-id-1 div.sk-estimator {font-family: monospace;background-color: #f0f8ff;border: 1px dotted black;border-radius: 0.25em;box-sizing: border-box;margin-bottom: 0.5em;}#sk-container-id-1 div.sk-estimator:hover {background-color: #d4ebff;}#sk-container-id-1 div.sk-parallel-item::after {content: \"\";width: 100%;border-bottom: 1px solid gray;flex-grow: 1;}#sk-container-id-1 div.sk-label:hover label.sk-toggleable__label {background-color: #d4ebff;}#sk-container-id-1 div.sk-serial::before {content: \"\";position: absolute;border-left: 1px solid gray;box-sizing: border-box;top: 0;bottom: 0;left: 50%;z-index: 0;}#sk-container-id-1 div.sk-serial {display: flex;flex-direction: column;align-items: center;background-color: white;padding-right: 0.2em;padding-left: 0.2em;position: relative;}#sk-container-id-1 div.sk-item {position: relative;z-index: 1;}#sk-container-id-1 div.sk-parallel {display: flex;align-items: stretch;justify-content: center;background-color: white;position: relative;}#sk-container-id-1 div.sk-item::before, #sk-container-id-1 div.sk-parallel-item::before {content: \"\";position: absolute;border-left: 1px solid gray;box-sizing: border-box;top: 0;bottom: 0;left: 50%;z-index: -1;}#sk-container-id-1 div.sk-parallel-item {display: flex;flex-direction: column;z-index: 1;position: relative;background-color: white;}#sk-container-id-1 div.sk-parallel-item:first-child::after {align-self: flex-end;width: 50%;}#sk-container-id-1 div.sk-parallel-item:last-child::after {align-self: flex-start;width: 50%;}#sk-container-id-1 div.sk-parallel-item:only-child::after {width: 0;}#sk-container-id-1 div.sk-dashed-wrapped {border: 1px dashed gray;margin: 0 0.4em 0.5em 0.4em;box-sizing: border-box;padding-bottom: 0.4em;background-color: white;}#sk-container-id-1 div.sk-label label {font-family: monospace;font-weight: bold;display: inline-block;line-height: 1.2em;}#sk-container-id-1 div.sk-label-container {text-align: center;}#sk-container-id-1 div.sk-container {/* jupyter's `normalize.less` sets `[hidden] { display: none; }` but bootstrap.min.css set `[hidden] { display: none !important; }` so we also need the `!important` here to be able to override the default hidden behavior on the sphinx rendered scikit-learn.org. See: https://github.com/scikit-learn/scikit-learn/issues/21755 */display: inline-block !important;position: relative;}#sk-container-id-1 div.sk-text-repr-fallback {display: none;}</style><div id=\"sk-container-id-1\" class=\"sk-top-container\"><div class=\"sk-text-repr-fallback\"><pre>LogisticRegression(penalty=None, random_state=1)</pre><b>In a Jupyter environment, please rerun this cell to show the HTML representation or trust the notebook. <br />On GitHub, the HTML representation is unable to render, please try loading this page with nbviewer.org.</b></div><div class=\"sk-container\" hidden><div class=\"sk-item\"><div class=\"sk-estimator sk-toggleable\"><input class=\"sk-toggleable__control sk-hidden--visually\" id=\"sk-estimator-id-1\" type=\"checkbox\" checked><label for=\"sk-estimator-id-1\" class=\"sk-toggleable__label sk-toggleable__label-arrow\">LogisticRegression</label><div class=\"sk-toggleable__content\"><pre>LogisticRegression(penalty=None, random_state=1)</pre></div></div></div></div></div>"
      ],
      "text/plain": [
       "LogisticRegression(penalty=None, random_state=1)"
      ]
     },
     "execution_count": 11,
     "metadata": {},
     "output_type": "execute_result"
    }
   ],
   "source": [
    "# fit model\n",
    "\n",
    "# important to remove the penalty for unregularized regression.\n",
    "logit = LogisticRegression(penalty=None, random_state=1)\n",
    "\n",
    "logit.fit(X_train, y_train)"
   ]
  },
  {
   "cell_type": "code",
   "execution_count": 12,
   "id": "5533ffec",
   "metadata": {},
   "outputs": [
    {
     "data": {
      "text/plain": [
       "0.7850719424460432"
      ]
     },
     "execution_count": 12,
     "metadata": {},
     "output_type": "execute_result"
    }
   ],
   "source": [
    "# Accuracy in train set\n",
    "\n",
    "logit.score(X_train, y_train)"
   ]
  },
  {
   "cell_type": "code",
   "execution_count": 13,
   "id": "d51dd951",
   "metadata": {},
   "outputs": [
    {
     "data": {
      "text/plain": [
       "0.8020304568527918"
      ]
     },
     "execution_count": 13,
     "metadata": {},
     "output_type": "execute_result"
    }
   ],
   "source": [
    "# Accuracy in test set\n",
    "\n",
    "logit.score(X_test, y_test)"
   ]
  },
  {
   "cell_type": "code",
   "execution_count": 14,
   "id": "105e944e",
   "metadata": {},
   "outputs": [
    {
     "data": {
      "text/plain": [
       "pclass       -0.517374\n",
       "sibsp        -0.226898\n",
       "parch         0.054203\n",
       "sex_female    1.199899\n",
       "embarked_S   -0.008459\n",
       "embarked_C    0.234049\n",
       "cabin_B      -0.219822\n",
       "cabin_C      -0.376500\n",
       "cabin_E      -0.025204\n",
       "cabin_D      -0.198210\n",
       "cabin_A      -0.105084\n",
       "cabin_M      -0.680452\n",
       "cabin_G      -0.143629\n",
       "dtype: float64"
      ]
     },
     "execution_count": 14,
     "metadata": {},
     "output_type": "execute_result"
    }
   ],
   "source": [
    "# coefficients\n",
    "\n",
    "pd.Series(logit.coef_[0], index=logit.feature_names_in_)"
   ]
  },
  {
   "cell_type": "markdown",
   "id": "a32f7ebf",
   "metadata": {},
   "source": [
    "### Evaluate the model\n",
    "\n",
    "We need to calculate all of these statistics manually.\n",
    "\n",
    "\n",
    "- log-loss\n",
    "- log-likelihood\n",
    "- deviance\n",
    "- p-value of the model\n",
    "- R-statistic"
   ]
  },
  {
   "cell_type": "code",
   "execution_count": 15,
   "id": "8ddb93de",
   "metadata": {},
   "outputs": [
    {
     "data": {
      "text/plain": [
       "array([0.37859712, 0.37859712, 0.37859712, ..., 0.37859712, 0.37859712,\n",
       "       0.37859712])"
      ]
     },
     "execution_count": 15,
     "metadata": {},
     "output_type": "execute_result"
    }
   ],
   "source": [
    "# baseline model: mean of the target\n",
    "\n",
    "base_preds = np.ones(len(y_train)) * y_train.mean()\n",
    "\n",
    "base_preds"
   ]
  },
  {
   "cell_type": "code",
   "execution_count": 16,
   "id": "a046cca1",
   "metadata": {},
   "outputs": [
    {
     "data": {
      "text/plain": [
       "array([0.10348986, 0.23888613, 0.44378169, ..., 0.06088701, 0.28585885,\n",
       "       0.58687262])"
      ]
     },
     "execution_count": 16,
     "metadata": {},
     "output_type": "execute_result"
    }
   ],
   "source": [
    "# logit predictions\n",
    "\n",
    "model_preds = logit.predict_proba(X_train)[:,1]\n",
    "\n",
    "model_preds"
   ]
  },
  {
   "cell_type": "markdown",
   "id": "ef8f266d",
   "metadata": {},
   "source": [
    "### Log loss"
   ]
  },
  {
   "cell_type": "code",
   "execution_count": 17,
   "id": "e5d8d18c",
   "metadata": {},
   "outputs": [
    {
     "data": {
      "text/plain": [
       "0.6633731715697522"
      ]
     },
     "execution_count": 17,
     "metadata": {},
     "output_type": "execute_result"
    }
   ],
   "source": [
    "# baseline log loss\n",
    "\n",
    "log_loss(y_train, base_preds)"
   ]
  },
  {
   "cell_type": "code",
   "execution_count": 18,
   "id": "7e8393db",
   "metadata": {},
   "outputs": [
    {
     "data": {
      "text/plain": [
       "0.46947874574848963"
      ]
     },
     "execution_count": 18,
     "metadata": {},
     "output_type": "execute_result"
    }
   ],
   "source": [
    "# model log loss\n",
    "\n",
    "log_loss(y_train, model_preds)"
   ]
  },
  {
   "cell_type": "markdown",
   "id": "161d1c7c",
   "metadata": {},
   "source": [
    "### Log-likelihood"
   ]
  },
  {
   "cell_type": "code",
   "execution_count": 19,
   "id": "8901cdf9",
   "metadata": {},
   "outputs": [],
   "source": [
    "def ll(y_true, y_pred):\n",
    "    return - log_loss(y_true, y_pred, normalize=False)"
   ]
  },
  {
   "cell_type": "code",
   "execution_count": 20,
   "id": "f0ba909e",
   "metadata": {},
   "outputs": [
    {
     "data": {
      "text/plain": [
       "-737.6709667855644"
      ]
     },
     "execution_count": 20,
     "metadata": {},
     "output_type": "execute_result"
    }
   ],
   "source": [
    "# baseline log likelihood\n",
    "\n",
    "ll(y_train, base_preds)"
   ]
  },
  {
   "cell_type": "code",
   "execution_count": 21,
   "id": "14c52e7d",
   "metadata": {},
   "outputs": [
    {
     "data": {
      "text/plain": [
       "-522.0603652723205"
      ]
     },
     "execution_count": 21,
     "metadata": {},
     "output_type": "execute_result"
    }
   ],
   "source": [
    "# model log likelihood\n",
    "\n",
    "ll(y_train, model_preds)"
   ]
  },
  {
   "cell_type": "markdown",
   "id": "ef7131e9",
   "metadata": {},
   "source": [
    "### Deviance"
   ]
  },
  {
   "cell_type": "code",
   "execution_count": 22,
   "id": "7c970778",
   "metadata": {},
   "outputs": [],
   "source": [
    "def deviance(y_true, y_pred):\n",
    "    return 2 * log_loss(y_true, y_pred, normalize=False)"
   ]
  },
  {
   "cell_type": "code",
   "execution_count": 23,
   "id": "c3302066",
   "metadata": {},
   "outputs": [
    {
     "data": {
      "text/plain": [
       "1475.3419335711287"
      ]
     },
     "execution_count": 23,
     "metadata": {},
     "output_type": "execute_result"
    }
   ],
   "source": [
    "# baseline deviance\n",
    "\n",
    "dev_base = deviance(y_train, base_preds)\n",
    "\n",
    "dev_base"
   ]
  },
  {
   "cell_type": "code",
   "execution_count": 24,
   "id": "1571292c",
   "metadata": {},
   "outputs": [
    {
     "data": {
      "text/plain": [
       "1044.120730544641"
      ]
     },
     "execution_count": 24,
     "metadata": {},
     "output_type": "execute_result"
    }
   ],
   "source": [
    "# model deviance\n",
    "\n",
    "dev_model = deviance(y_train, model_preds)\n",
    "\n",
    "dev_model"
   ]
  },
  {
   "cell_type": "markdown",
   "id": "d8947466",
   "metadata": {},
   "source": [
    "### p-value"
   ]
  },
  {
   "cell_type": "code",
   "execution_count": 25,
   "id": "c684eb17",
   "metadata": {},
   "outputs": [
    {
     "data": {
      "text/plain": [
       "0.0"
      ]
     },
     "execution_count": 25,
     "metadata": {},
     "output_type": "execute_result"
    }
   ],
   "source": [
    "x2 = dev_base - dev_model\n",
    "\n",
    "df = len(logit.feature_names_in_)\n",
    "\n",
    "1 - stats.chi2.cdf(x2, df)"
   ]
  },
  {
   "cell_type": "markdown",
   "id": "78a5bb12",
   "metadata": {},
   "source": [
    "### R-statistic"
   ]
  },
  {
   "cell_type": "code",
   "execution_count": 26,
   "id": "7b26b488",
   "metadata": {},
   "outputs": [
    {
     "data": {
      "text/plain": [
       "0.29228560052021174"
      ]
     },
     "execution_count": 26,
     "metadata": {},
     "output_type": "execute_result"
    }
   ],
   "source": [
    "R = ( dev_base - dev_model )/ dev_base\n",
    "\n",
    "R"
   ]
  },
  {
   "cell_type": "markdown",
   "id": "90a86a98",
   "metadata": {},
   "source": [
    "We obtained the same values as we did with `statsmodels`. Well done us!"
   ]
  },
  {
   "cell_type": "code",
   "execution_count": null,
   "id": "c0a36677",
   "metadata": {},
   "outputs": [],
   "source": []
  }
 ],
 "metadata": {
  "kernelspec": {
   "display_name": "fsml",
   "language": "python",
   "name": "fsml"
  },
  "language_info": {
   "codemirror_mode": {
    "name": "ipython",
    "version": 3
   },
   "file_extension": ".py",
   "mimetype": "text/x-python",
   "name": "python",
   "nbconvert_exporter": "python",
   "pygments_lexer": "ipython3",
   "version": "3.10.5"
  },
  "toc": {
   "base_numbering": 1,
   "nav_menu": {},
   "number_sections": true,
   "sideBar": true,
   "skip_h1_title": false,
   "title_cell": "Table of Contents",
   "title_sidebar": "Contents",
   "toc_cell": false,
   "toc_position": {
    "height": "calc(100% - 180px)",
    "left": "10px",
    "top": "150px",
    "width": "245.6px"
   },
   "toc_section_display": true,
   "toc_window_display": true
  }
 },
 "nbformat": 4,
 "nbformat_minor": 5
}
