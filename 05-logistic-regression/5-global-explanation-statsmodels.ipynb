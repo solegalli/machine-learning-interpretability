{
 "cells": [
  {
   "cell_type": "markdown",
   "id": "5e9e49bd",
   "metadata": {},
   "source": [
    "# Interpreting the coefficients - global explanations\n",
    "\n",
    "[Machine Learning Interpretability course](https://www.trainindata.com/p/machine-learning-interpretability)\n",
    "\n",
    "In this notebook, we will interpret the values of the coefficients and how they affect the probability of the outcome."
   ]
  },
  {
   "cell_type": "code",
   "execution_count": 1,
   "id": "b619bd11",
   "metadata": {},
   "outputs": [],
   "source": [
    "import numpy as np\n",
    "import matplotlib.pyplot as plt\n",
    "import pandas as pd\n",
    "\n",
    "from sklearn.model_selection import train_test_split\n",
    "from sklearn.preprocessing import StandardScaler\n",
    "\n",
    "import statsmodels.api as sm"
   ]
  },
  {
   "cell_type": "markdown",
   "id": "750e70b0",
   "metadata": {},
   "source": [
    "### Load data\n",
    "\n",
    "To obtain the data, check the folder `prepare-data` in this repo, or section 2 in the course."
   ]
  },
  {
   "cell_type": "code",
   "execution_count": 2,
   "id": "050acc05",
   "metadata": {},
   "outputs": [
    {
     "data": {
      "text/html": [
       "<div>\n",
       "<style scoped>\n",
       "    .dataframe tbody tr th:only-of-type {\n",
       "        vertical-align: middle;\n",
       "    }\n",
       "\n",
       "    .dataframe tbody tr th {\n",
       "        vertical-align: top;\n",
       "    }\n",
       "\n",
       "    .dataframe thead th {\n",
       "        text-align: right;\n",
       "    }\n",
       "</style>\n",
       "<table border=\"1\" class=\"dataframe\">\n",
       "  <thead>\n",
       "    <tr style=\"text-align: right;\">\n",
       "      <th></th>\n",
       "      <th>pclass</th>\n",
       "      <th>sibsp</th>\n",
       "      <th>parch</th>\n",
       "      <th>survived</th>\n",
       "      <th>sex_female</th>\n",
       "      <th>embarked_S</th>\n",
       "      <th>embarked_C</th>\n",
       "      <th>cabin_B</th>\n",
       "      <th>cabin_C</th>\n",
       "      <th>cabin_E</th>\n",
       "      <th>cabin_D</th>\n",
       "      <th>cabin_A</th>\n",
       "      <th>cabin_M</th>\n",
       "      <th>cabin_G</th>\n",
       "    </tr>\n",
       "  </thead>\n",
       "  <tbody>\n",
       "    <tr>\n",
       "      <th>0</th>\n",
       "      <td>1</td>\n",
       "      <td>0</td>\n",
       "      <td>0</td>\n",
       "      <td>1</td>\n",
       "      <td>1</td>\n",
       "      <td>1</td>\n",
       "      <td>0</td>\n",
       "      <td>1</td>\n",
       "      <td>0</td>\n",
       "      <td>0</td>\n",
       "      <td>0</td>\n",
       "      <td>0</td>\n",
       "      <td>0</td>\n",
       "      <td>0</td>\n",
       "    </tr>\n",
       "    <tr>\n",
       "      <th>1</th>\n",
       "      <td>1</td>\n",
       "      <td>1</td>\n",
       "      <td>2</td>\n",
       "      <td>1</td>\n",
       "      <td>0</td>\n",
       "      <td>1</td>\n",
       "      <td>0</td>\n",
       "      <td>0</td>\n",
       "      <td>1</td>\n",
       "      <td>0</td>\n",
       "      <td>0</td>\n",
       "      <td>0</td>\n",
       "      <td>0</td>\n",
       "      <td>0</td>\n",
       "    </tr>\n",
       "    <tr>\n",
       "      <th>2</th>\n",
       "      <td>1</td>\n",
       "      <td>1</td>\n",
       "      <td>2</td>\n",
       "      <td>0</td>\n",
       "      <td>1</td>\n",
       "      <td>1</td>\n",
       "      <td>0</td>\n",
       "      <td>0</td>\n",
       "      <td>1</td>\n",
       "      <td>0</td>\n",
       "      <td>0</td>\n",
       "      <td>0</td>\n",
       "      <td>0</td>\n",
       "      <td>0</td>\n",
       "    </tr>\n",
       "    <tr>\n",
       "      <th>3</th>\n",
       "      <td>1</td>\n",
       "      <td>1</td>\n",
       "      <td>2</td>\n",
       "      <td>0</td>\n",
       "      <td>0</td>\n",
       "      <td>1</td>\n",
       "      <td>0</td>\n",
       "      <td>0</td>\n",
       "      <td>1</td>\n",
       "      <td>0</td>\n",
       "      <td>0</td>\n",
       "      <td>0</td>\n",
       "      <td>0</td>\n",
       "      <td>0</td>\n",
       "    </tr>\n",
       "    <tr>\n",
       "      <th>4</th>\n",
       "      <td>1</td>\n",
       "      <td>1</td>\n",
       "      <td>2</td>\n",
       "      <td>0</td>\n",
       "      <td>1</td>\n",
       "      <td>1</td>\n",
       "      <td>0</td>\n",
       "      <td>0</td>\n",
       "      <td>1</td>\n",
       "      <td>0</td>\n",
       "      <td>0</td>\n",
       "      <td>0</td>\n",
       "      <td>0</td>\n",
       "      <td>0</td>\n",
       "    </tr>\n",
       "  </tbody>\n",
       "</table>\n",
       "</div>"
      ],
      "text/plain": [
       "   pclass  sibsp  parch  survived  sex_female  embarked_S  embarked_C  \\\n",
       "0       1      0      0         1           1           1           0   \n",
       "1       1      1      2         1           0           1           0   \n",
       "2       1      1      2         0           1           1           0   \n",
       "3       1      1      2         0           0           1           0   \n",
       "4       1      1      2         0           1           1           0   \n",
       "\n",
       "   cabin_B  cabin_C  cabin_E  cabin_D  cabin_A  cabin_M  cabin_G  \n",
       "0        1        0        0        0        0        0        0  \n",
       "1        0        1        0        0        0        0        0  \n",
       "2        0        1        0        0        0        0        0  \n",
       "3        0        1        0        0        0        0        0  \n",
       "4        0        1        0        0        0        0        0  "
      ]
     },
     "execution_count": 2,
     "metadata": {},
     "output_type": "execute_result"
    }
   ],
   "source": [
    "# load titanic dataset\n",
    "\n",
    "df = pd.read_csv('../titanic.csv')\n",
    "\n",
    "df.head()"
   ]
  },
  {
   "cell_type": "code",
   "execution_count": 3,
   "id": "715ba744",
   "metadata": {},
   "outputs": [
    {
     "data": {
      "text/plain": [
       "((1112, 13), (197, 13))"
      ]
     },
     "execution_count": 3,
     "metadata": {},
     "output_type": "execute_result"
    }
   ],
   "source": [
    "# Split the data\n",
    "\n",
    "X_train, X_test, y_train, y_test = train_test_split(\n",
    "    df.drop(\"survived\", axis=1),\n",
    "    df[\"survived\"],\n",
    "    test_size=0.15,\n",
    "    random_state=1,\n",
    ")\n",
    "\n",
    "X_train.shape, X_test.shape"
   ]
  },
  {
   "cell_type": "code",
   "execution_count": 4,
   "id": "2d9af713",
   "metadata": {},
   "outputs": [
    {
     "data": {
      "text/html": [
       "<div>\n",
       "<style scoped>\n",
       "    .dataframe tbody tr th:only-of-type {\n",
       "        vertical-align: middle;\n",
       "    }\n",
       "\n",
       "    .dataframe tbody tr th {\n",
       "        vertical-align: top;\n",
       "    }\n",
       "\n",
       "    .dataframe thead th {\n",
       "        text-align: right;\n",
       "    }\n",
       "</style>\n",
       "<table border=\"1\" class=\"dataframe\">\n",
       "  <thead>\n",
       "    <tr style=\"text-align: right;\">\n",
       "      <th></th>\n",
       "      <th>pclass</th>\n",
       "      <th>sibsp</th>\n",
       "      <th>parch</th>\n",
       "      <th>sex_female</th>\n",
       "      <th>embarked_S</th>\n",
       "      <th>embarked_C</th>\n",
       "      <th>cabin_B</th>\n",
       "      <th>cabin_C</th>\n",
       "      <th>cabin_E</th>\n",
       "      <th>cabin_D</th>\n",
       "      <th>cabin_A</th>\n",
       "      <th>cabin_M</th>\n",
       "      <th>cabin_G</th>\n",
       "    </tr>\n",
       "  </thead>\n",
       "  <tbody>\n",
       "    <tr>\n",
       "      <th>1021</th>\n",
       "      <td>0.834271</td>\n",
       "      <td>-0.474139</td>\n",
       "      <td>-0.456096</td>\n",
       "      <td>-0.739319</td>\n",
       "      <td>0.666450</td>\n",
       "      <td>-0.516251</td>\n",
       "      <td>-0.22592</td>\n",
       "      <td>-0.280294</td>\n",
       "      <td>-0.182913</td>\n",
       "      <td>-0.193167</td>\n",
       "      <td>-0.128271</td>\n",
       "      <td>0.539927</td>\n",
       "      <td>-0.067206</td>\n",
       "    </tr>\n",
       "    <tr>\n",
       "      <th>512</th>\n",
       "      <td>-0.367425</td>\n",
       "      <td>0.469050</td>\n",
       "      <td>-0.456096</td>\n",
       "      <td>-0.739319</td>\n",
       "      <td>-1.500487</td>\n",
       "      <td>1.937043</td>\n",
       "      <td>-0.22592</td>\n",
       "      <td>-0.280294</td>\n",
       "      <td>-0.182913</td>\n",
       "      <td>-0.193167</td>\n",
       "      <td>-0.128271</td>\n",
       "      <td>0.539927</td>\n",
       "      <td>-0.067206</td>\n",
       "    </tr>\n",
       "    <tr>\n",
       "      <th>957</th>\n",
       "      <td>0.834271</td>\n",
       "      <td>2.355428</td>\n",
       "      <td>0.745749</td>\n",
       "      <td>1.352596</td>\n",
       "      <td>0.666450</td>\n",
       "      <td>-0.516251</td>\n",
       "      <td>-0.22592</td>\n",
       "      <td>-0.280294</td>\n",
       "      <td>-0.182913</td>\n",
       "      <td>-0.193167</td>\n",
       "      <td>-0.128271</td>\n",
       "      <td>0.539927</td>\n",
       "      <td>-0.067206</td>\n",
       "    </tr>\n",
       "    <tr>\n",
       "      <th>1066</th>\n",
       "      <td>0.834271</td>\n",
       "      <td>-0.474139</td>\n",
       "      <td>-0.456096</td>\n",
       "      <td>-0.739319</td>\n",
       "      <td>-1.500487</td>\n",
       "      <td>1.937043</td>\n",
       "      <td>-0.22592</td>\n",
       "      <td>-0.280294</td>\n",
       "      <td>-0.182913</td>\n",
       "      <td>-0.193167</td>\n",
       "      <td>-0.128271</td>\n",
       "      <td>0.539927</td>\n",
       "      <td>-0.067206</td>\n",
       "    </tr>\n",
       "    <tr>\n",
       "      <th>1259</th>\n",
       "      <td>0.834271</td>\n",
       "      <td>-0.474139</td>\n",
       "      <td>-0.456096</td>\n",
       "      <td>-0.739319</td>\n",
       "      <td>0.666450</td>\n",
       "      <td>-0.516251</td>\n",
       "      <td>-0.22592</td>\n",
       "      <td>-0.280294</td>\n",
       "      <td>-0.182913</td>\n",
       "      <td>-0.193167</td>\n",
       "      <td>-0.128271</td>\n",
       "      <td>0.539927</td>\n",
       "      <td>-0.067206</td>\n",
       "    </tr>\n",
       "  </tbody>\n",
       "</table>\n",
       "</div>"
      ],
      "text/plain": [
       "        pclass     sibsp     parch  sex_female  embarked_S  embarked_C  \\\n",
       "1021  0.834271 -0.474139 -0.456096   -0.739319    0.666450   -0.516251   \n",
       "512  -0.367425  0.469050 -0.456096   -0.739319   -1.500487    1.937043   \n",
       "957   0.834271  2.355428  0.745749    1.352596    0.666450   -0.516251   \n",
       "1066  0.834271 -0.474139 -0.456096   -0.739319   -1.500487    1.937043   \n",
       "1259  0.834271 -0.474139 -0.456096   -0.739319    0.666450   -0.516251   \n",
       "\n",
       "      cabin_B   cabin_C   cabin_E   cabin_D   cabin_A   cabin_M   cabin_G  \n",
       "1021 -0.22592 -0.280294 -0.182913 -0.193167 -0.128271  0.539927 -0.067206  \n",
       "512  -0.22592 -0.280294 -0.182913 -0.193167 -0.128271  0.539927 -0.067206  \n",
       "957  -0.22592 -0.280294 -0.182913 -0.193167 -0.128271  0.539927 -0.067206  \n",
       "1066 -0.22592 -0.280294 -0.182913 -0.193167 -0.128271  0.539927 -0.067206  \n",
       "1259 -0.22592 -0.280294 -0.182913 -0.193167 -0.128271  0.539927 -0.067206  "
      ]
     },
     "execution_count": 4,
     "metadata": {},
     "output_type": "execute_result"
    }
   ],
   "source": [
    "# scale the variables\n",
    "scaler = StandardScaler().set_output(transform=\"pandas\")\n",
    "\n",
    "X_train = scaler.fit_transform(X_train)\n",
    "X_test = scaler.transform(X_test)\n",
    "\n",
    "# display top 5 rows\n",
    "X_train.head()"
   ]
  },
  {
   "cell_type": "code",
   "execution_count": 5,
   "id": "eb493270",
   "metadata": {},
   "outputs": [],
   "source": [
    "# We know from previous notebooks that these features are non-\n",
    "# predictive (their coefficients are not significantly\n",
    "# different from 0.)\n",
    "\n",
    "non_predictive = [\"parch\", \"embarked_S\", \"embarked_C\", \"cabin_C\",\n",
    "                  \"cabin_B\", \"cabin_E\", \"cabin_D\", \"cabin_A\", \"cabin_G\"]\n",
    "\n",
    "# So we take them out\n",
    "X_train.drop(non_predictive, axis=1, inplace=True)\n",
    "X_test.drop(non_predictive, axis=1, inplace=True)"
   ]
  },
  {
   "cell_type": "markdown",
   "id": "7ada99f7",
   "metadata": {},
   "source": [
    "## Statsmodels"
   ]
  },
  {
   "cell_type": "code",
   "execution_count": 6,
   "id": "ec8ae23c",
   "metadata": {},
   "outputs": [],
   "source": [
    "# Our model needs an intercept so we add a column of 1s:\n",
    "\n",
    "X_train_sm = sm.add_constant(X_train)\n",
    "X_test_sm = sm.add_constant(X_test)"
   ]
  },
  {
   "cell_type": "code",
   "execution_count": 7,
   "id": "dfac6e9b",
   "metadata": {},
   "outputs": [
    {
     "name": "stdout",
     "output_type": "stream",
     "text": [
      "Optimization terminated successfully.\n",
      "         Current function value: 0.478401\n",
      "         Iterations 6\n",
      "                           Logit Regression Results                           \n",
      "==============================================================================\n",
      "Dep. Variable:               survived   No. Observations:                 1112\n",
      "Model:                          Logit   Df Residuals:                     1107\n",
      "Method:                           MLE   Df Model:                            4\n",
      "Date:                Tue, 14 Nov 2023   Pseudo R-squ.:                  0.2788\n",
      "Time:                        10:58:08   Log-Likelihood:                -531.98\n",
      "converged:                       True   LL-Null:                       -737.67\n",
      "Covariance Type:            nonrobust   LLR p-value:                 9.678e-88\n",
      "==============================================================================\n",
      "                 coef    std err          z      P>|z|      [0.025      0.975]\n",
      "------------------------------------------------------------------------------\n",
      "const         -0.6454      0.078     -8.321      0.000      -0.797      -0.493\n",
      "pclass        -0.4967      0.107     -4.659      0.000      -0.706      -0.288\n",
      "sibsp         -0.2253      0.089     -2.529      0.011      -0.400      -0.051\n",
      "sex_female     1.1810      0.078     15.225      0.000       1.029       1.333\n",
      "cabin_M       -0.3301      0.104     -3.176      0.001      -0.534      -0.126\n",
      "==============================================================================\n"
     ]
    }
   ],
   "source": [
    "# Fit logistic regression model\n",
    "\n",
    "logit_mod = sm.Logit(y_train, X_train_sm)\n",
    "\n",
    "logit_res = logit_mod.fit()\n",
    "\n",
    "print(logit_res.summary())"
   ]
  },
  {
   "cell_type": "markdown",
   "id": "d666ad47",
   "metadata": {},
   "source": [
    "**Note**: It is important to one hot encode into k-1 for logistic regression, otherwise the Logit from statsmodels will raise a convergence error, due to data redundancy."
   ]
  },
  {
   "cell_type": "markdown",
   "id": "ba3d6669",
   "metadata": {},
   "source": [
    "## Odds ratio"
   ]
  },
  {
   "cell_type": "code",
   "execution_count": 8,
   "id": "999328db",
   "metadata": {},
   "outputs": [
    {
     "data": {
      "image/png": "[encoded data removed]",
      "text/plain": [
       "<Figure size 576x360 with 1 Axes>"
      ]
     },
     "metadata": {
      "needs_background": "light"
     },
     "output_type": "display_data"
    }
   ],
   "source": [
    "# Calculate and plot the odds ratio\n",
    "\n",
    "s = pd.Series(\n",
    "    np.exp(logit_res.params),\n",
    "    index=X_train.columns,\n",
    ")\n",
    "\n",
    "s.plot.bar(figsize=(8,5))\n",
    "plt.ylabel(\"Odds ratio\")\n",
    "plt.title(\"Changes in odds ratio\")\n",
    "plt.show()"
   ]
  },
  {
   "cell_type": "markdown",
   "id": "8dfc3414",
   "metadata": {},
   "source": [
    "Being female, increased the probability of survival 3 times.\n",
    "\n",
    "\n",
    "The remaining variables reduced the probability of survival by ~half."
   ]
  },
  {
   "cell_type": "markdown",
   "id": "adfae3e9",
   "metadata": {},
   "source": [
    "## Coefficient sign and direction\n",
    "\n",
    "Visualize how the coefficients affect the probability of survival, and with the error, we know if we can trust them."
   ]
  },
  {
   "cell_type": "code",
   "execution_count": 9,
   "id": "89b7867b",
   "metadata": {},
   "outputs": [
    {
     "data": {
      "image/png": "[encoded data removed]",
      "text/plain": [
       "<Figure size 576x360 with 1 Axes>"
      ]
     },
     "metadata": {
      "needs_background": "light"
     },
     "output_type": "display_data"
    }
   ],
   "source": [
    "# Coefficients value\n",
    "\n",
    "s = pd.Series(\n",
    "    logit_res.params,\n",
    "    index=X_train.columns,\n",
    ")\n",
    "\n",
    "s.plot.bar(yerr=logit_res.bse, figsize=(8,5))\n",
    "plt.ylabel(\"Coefficients' value\")\n",
    "plt.title(\"Coefficients\")\n",
    "plt.show()"
   ]
  },
  {
   "cell_type": "markdown",
   "id": "8ddbd917",
   "metadata": {},
   "source": [
    "By looking at the coefficient sign and absolute magnitude we conclude that being female increases the probability of survival. \n",
    "\n",
    "Increasing the value of all other variables decreases the probability of survival.\n",
    "\n",
    "The standard error among the coefficients is very similar.\n",
    "\n",
    "## Coefficient absolute value - feature importance\n",
    "\n",
    "This is what we normally use as a measure of feature importance."
   ]
  },
  {
   "cell_type": "code",
   "execution_count": 10,
   "id": "d51dd951",
   "metadata": {},
   "outputs": [
    {
     "data": {
      "image/png": "[encoded data removed]",
      "text/plain": [
       "<Figure size 576x360 with 1 Axes>"
      ]
     },
     "metadata": {
      "needs_background": "light"
     },
     "output_type": "display_data"
    }
   ],
   "source": [
    "# Plot mean coefficient and std\n",
    "\n",
    "s = pd.Series(\n",
    "    np.abs(logit_res.params),\n",
    "    index=X_train.columns,\n",
    ")\n",
    "\n",
    "s.plot.bar(yerr=logit_res.bse, figsize=(8,5))\n",
    "plt.ylabel(\"Absolute coefficient value\")\n",
    "plt.title(\"Absolute coefficient value\")\n",
    "plt.show()"
   ]
  },
  {
   "cell_type": "markdown",
   "id": "66c4f6b8",
   "metadata": {},
   "source": [
    "The most important feature is gender. The second most important variable is social status, indicated by the class in which the passenger was traveling (first class, second or third). "
   ]
  },
  {
   "cell_type": "markdown",
   "id": "60995be9",
   "metadata": {},
   "source": [
    "## z (Wald statistic)"
   ]
  },
  {
   "cell_type": "code",
   "execution_count": 11,
   "id": "8ddb93de",
   "metadata": {},
   "outputs": [
    {
     "data": {
      "image/png": "[encoded data removed]",
      "text/plain": [
       "<Figure size 576x360 with 1 Axes>"
      ]
     },
     "metadata": {
      "needs_background": "light"
     },
     "output_type": "display_data"
    }
   ],
   "source": [
    "# estimate and plot z\n",
    "\n",
    "s = pd.Series(\n",
    "    np.abs(logit_res.tvalues),\n",
    "    index=X_train.columns,\n",
    ")\n",
    "\n",
    "s.plot.bar(figsize=(8,5))\n",
    "plt.ylabel(\"z\")\n",
    "plt.title(\"z\")\n",
    "plt.show()"
   ]
  },
  {
   "cell_type": "markdown",
   "id": "90a86a98",
   "metadata": {},
   "source": [
    "The errors for all coefficients is very similar, so there are no surprises here when we plot the z score."
   ]
  },
  {
   "cell_type": "markdown",
   "id": "1b53dda3",
   "metadata": {},
   "source": [
    "So by looking at the coefficients and the odds ratio, we now know that:\n",
    "\n",
    "- females were 3 times more likely to survive than men.\n",
    "- richer people (travelling in class 1) were more likely to survive than poorer people (pclass decreases probability of survival)\n",
    "- having children or spouse (sibsp) also decreased, for some reason, the probability of survival.\n",
    "- Not having data about in which cabin the passenger was traveling, is a poor indicator of survival as well.\n",
    "\n",
    "The latter is probably a consequence of data collection. If the person did not survive, it is harder to obtain information about where they were traveling. So if this model was for real, probably we would not want to have that variable as input, because it was collected after it happened."
   ]
  },
  {
   "cell_type": "code",
   "execution_count": null,
   "id": "6805bedb",
   "metadata": {},
   "outputs": [],
   "source": []
  }
 ],
 "metadata": {
  "kernelspec": {
   "display_name": "fsml",
   "language": "python",
   "name": "fsml"
  },
  "language_info": {
   "codemirror_mode": {
    "name": "ipython",
    "version": 3
   },
   "file_extension": ".py",
   "mimetype": "text/x-python",
   "name": "python",
   "nbconvert_exporter": "python",
   "pygments_lexer": "ipython3",
   "version": "3.10.5"
  },
  "toc": {
   "base_numbering": 1,
   "nav_menu": {},
   "number_sections": true,
   "sideBar": true,
   "skip_h1_title": false,
   "title_cell": "Table of Contents",
   "title_sidebar": "Contents",
   "toc_cell": false,
   "toc_position": {
    "height": "calc(100% - 180px)",
    "left": "10px",
    "top": "150px",
    "width": "245.6px"
   },
   "toc_section_display": true,
   "toc_window_display": true
  }
 },
 "nbformat": 4,
 "nbformat_minor": 5
}
