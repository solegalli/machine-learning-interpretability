{
 "cells": [
  {
   "cell_type": "markdown",
   "id": "b574a8a8",
   "metadata": {},
   "source": [
    "#  Local interpretability\n",
    "\n",
    "[Machine Learning Interpretability course](https://www.trainindata.com/p/machine-learning-interpretability)\n",
    "\n",
    "In this notebook, we will evaluate the contribution of each feature towards the target value, for a single observation."
   ]
  },
  {
   "cell_type": "code",
   "execution_count": 1,
   "id": "0da331f9",
   "metadata": {},
   "outputs": [],
   "source": [
    "import matplotlib.pyplot as plt\n",
    "import pandas as pd\n",
    "\n",
    "from sklearn.linear_model import LogisticRegression\n",
    "from sklearn.model_selection import train_test_split\n",
    "from sklearn.preprocessing import StandardScaler"
   ]
  },
  {
   "cell_type": "markdown",
   "id": "33a2f988",
   "metadata": {},
   "source": [
    "### Load data\n",
    "\n",
    "To obtain the data, check the folder `prepare-data` in this repo, or section 2 in the course."
   ]
  },
  {
   "cell_type": "code",
   "execution_count": 2,
   "id": "7717800e",
   "metadata": {},
   "outputs": [],
   "source": [
    "# load titanic dataset\n",
    "\n",
    "df = pd.read_csv('../titanic.csv')\n",
    "\n",
    "# Split the data\n",
    "\n",
    "X_train, X_test, y_train, y_test = train_test_split(\n",
    "    df.drop(\"survived\", axis=1),\n",
    "    df[\"survived\"],\n",
    "    test_size=0.15,\n",
    "    random_state=1,\n",
    ")\n",
    "\n",
    "# scale the variables\n",
    "scaler = StandardScaler().set_output(transform=\"pandas\")\n",
    "\n",
    "X_train = scaler.fit_transform(X_train)\n",
    "X_test = scaler.transform(X_test)"
   ]
  },
  {
   "cell_type": "code",
   "execution_count": 3,
   "id": "abc4ba23",
   "metadata": {},
   "outputs": [],
   "source": [
    "# We know from previous notebooks that these features are non-\n",
    "# predictive (their coefficients are not significantly \n",
    "# different from 0.)\n",
    "\n",
    "non_predictive = [\"parch\", \"embarked_S\", \"embarked_C\", \"cabin_C\",\n",
    "                  \"cabin_B\", \"cabin_E\", \"cabin_D\", \"cabin_A\", \"cabin_G\"]\n",
    "\n",
    "# So we take them out\n",
    "X_train.drop(non_predictive, axis=1, inplace=True)\n",
    "X_test.drop(non_predictive, axis=1, inplace=True)"
   ]
  },
  {
   "cell_type": "markdown",
   "id": "494990a3",
   "metadata": {},
   "source": [
    "## Logistic regression"
   ]
  },
  {
   "cell_type": "code",
   "execution_count": 4,
   "id": "cfd26bf8",
   "metadata": {},
   "outputs": [
    {
     "data": {
      "text/html": [
       "<style>#sk-container-id-1 {color: black;}#sk-container-id-1 pre{padding: 0;}#sk-container-id-1 div.sk-toggleable {background-color: white;}#sk-container-id-1 label.sk-toggleable__label {cursor: pointer;display: block;width: 100%;margin-bottom: 0;padding: 0.3em;box-sizing: border-box;text-align: center;}#sk-container-id-1 label.sk-toggleable__label-arrow:before {content: \"▸\";float: left;margin-right: 0.25em;color: #696969;}#sk-container-id-1 label.sk-toggleable__label-arrow:hover:before {color: black;}#sk-container-id-1 div.sk-estimator:hover label.sk-toggleable__label-arrow:before {color: black;}#sk-container-id-1 div.sk-toggleable__content {max-height: 0;max-width: 0;overflow: hidden;text-align: left;background-color: #f0f8ff;}#sk-container-id-1 div.sk-toggleable__content pre {margin: 0.2em;color: black;border-radius: 0.25em;background-color: #f0f8ff;}#sk-container-id-1 input.sk-toggleable__control:checked~div.sk-toggleable__content {max-height: 200px;max-width: 100%;overflow: auto;}#sk-container-id-1 input.sk-toggleable__control:checked~label.sk-toggleable__label-arrow:before {content: \"▾\";}#sk-container-id-1 div.sk-estimator input.sk-toggleable__control:checked~label.sk-toggleable__label {background-color: #d4ebff;}#sk-container-id-1 div.sk-label input.sk-toggleable__control:checked~label.sk-toggleable__label {background-color: #d4ebff;}#sk-container-id-1 input.sk-hidden--visually {border: 0;clip: rect(1px 1px 1px 1px);clip: rect(1px, 1px, 1px, 1px);height: 1px;margin: -1px;overflow: hidden;padding: 0;position: absolute;width: 1px;}#sk-container-id-1 div.sk-estimator {font-family: monospace;background-color: #f0f8ff;border: 1px dotted black;border-radius: 0.25em;box-sizing: border-box;margin-bottom: 0.5em;}#sk-container-id-1 div.sk-estimator:hover {background-color: #d4ebff;}#sk-container-id-1 div.sk-parallel-item::after {content: \"\";width: 100%;border-bottom: 1px solid gray;flex-grow: 1;}#sk-container-id-1 div.sk-label:hover label.sk-toggleable__label {background-color: #d4ebff;}#sk-container-id-1 div.sk-serial::before {content: \"\";position: absolute;border-left: 1px solid gray;box-sizing: border-box;top: 0;bottom: 0;left: 50%;z-index: 0;}#sk-container-id-1 div.sk-serial {display: flex;flex-direction: column;align-items: center;background-color: white;padding-right: 0.2em;padding-left: 0.2em;position: relative;}#sk-container-id-1 div.sk-item {position: relative;z-index: 1;}#sk-container-id-1 div.sk-parallel {display: flex;align-items: stretch;justify-content: center;background-color: white;position: relative;}#sk-container-id-1 div.sk-item::before, #sk-container-id-1 div.sk-parallel-item::before {content: \"\";position: absolute;border-left: 1px solid gray;box-sizing: border-box;top: 0;bottom: 0;left: 50%;z-index: -1;}#sk-container-id-1 div.sk-parallel-item {display: flex;flex-direction: column;z-index: 1;position: relative;background-color: white;}#sk-container-id-1 div.sk-parallel-item:first-child::after {align-self: flex-end;width: 50%;}#sk-container-id-1 div.sk-parallel-item:last-child::after {align-self: flex-start;width: 50%;}#sk-container-id-1 div.sk-parallel-item:only-child::after {width: 0;}#sk-container-id-1 div.sk-dashed-wrapped {border: 1px dashed gray;margin: 0 0.4em 0.5em 0.4em;box-sizing: border-box;padding-bottom: 0.4em;background-color: white;}#sk-container-id-1 div.sk-label label {font-family: monospace;font-weight: bold;display: inline-block;line-height: 1.2em;}#sk-container-id-1 div.sk-label-container {text-align: center;}#sk-container-id-1 div.sk-container {/* jupyter's `normalize.less` sets `[hidden] { display: none; }` but bootstrap.min.css set `[hidden] { display: none !important; }` so we also need the `!important` here to be able to override the default hidden behavior on the sphinx rendered scikit-learn.org. See: https://github.com/scikit-learn/scikit-learn/issues/21755 */display: inline-block !important;position: relative;}#sk-container-id-1 div.sk-text-repr-fallback {display: none;}</style><div id=\"sk-container-id-1\" class=\"sk-top-container\"><div class=\"sk-text-repr-fallback\"><pre>LogisticRegression(penalty=None, random_state=1)</pre><b>In a Jupyter environment, please rerun this cell to show the HTML representation or trust the notebook. <br />On GitHub, the HTML representation is unable to render, please try loading this page with nbviewer.org.</b></div><div class=\"sk-container\" hidden><div class=\"sk-item\"><div class=\"sk-estimator sk-toggleable\"><input class=\"sk-toggleable__control sk-hidden--visually\" id=\"sk-estimator-id-1\" type=\"checkbox\" checked><label for=\"sk-estimator-id-1\" class=\"sk-toggleable__label sk-toggleable__label-arrow\">LogisticRegression</label><div class=\"sk-toggleable__content\"><pre>LogisticRegression(penalty=None, random_state=1)</pre></div></div></div></div></div>"
      ],
      "text/plain": [
       "LogisticRegression(penalty=None, random_state=1)"
      ]
     },
     "execution_count": 4,
     "metadata": {},
     "output_type": "execute_result"
    }
   ],
   "source": [
    "# fit model\n",
    "\n",
    "# important to remove the penalty for unregularized regression.\n",
    "logit = LogisticRegression(penalty=None, random_state=1)\n",
    "\n",
    "logit.fit(X_train, y_train)"
   ]
  },
  {
   "cell_type": "code",
   "execution_count": 5,
   "id": "d2b89223",
   "metadata": {},
   "outputs": [
    {
     "data": {
      "text/plain": [
       "pclass       -0.496738\n",
       "sibsp        -0.225361\n",
       "sex_female    1.181004\n",
       "cabin_M      -0.330048\n",
       "dtype: float64"
      ]
     },
     "execution_count": 5,
     "metadata": {},
     "output_type": "execute_result"
    }
   ],
   "source": [
    "coeffs = pd.Series(logit.coef_[0], index=logit.feature_names_in_)\n",
    "coeffs"
   ]
  },
  {
   "cell_type": "markdown",
   "id": "a36eeff6",
   "metadata": {},
   "source": [
    "## Local interpretability\n",
    "\n",
    "Let's take an individual observation and evaluate how its feature values contribute towards survival."
   ]
  },
  {
   "cell_type": "code",
   "execution_count": 6,
   "id": "8b73779a",
   "metadata": {},
   "outputs": [
    {
     "data": {
      "text/html": [
       "<div>\n",
       "<style scoped>\n",
       "    .dataframe tbody tr th:only-of-type {\n",
       "        vertical-align: middle;\n",
       "    }\n",
       "\n",
       "    .dataframe tbody tr th {\n",
       "        vertical-align: top;\n",
       "    }\n",
       "\n",
       "    .dataframe thead th {\n",
       "        text-align: right;\n",
       "    }\n",
       "</style>\n",
       "<table border=\"1\" class=\"dataframe\">\n",
       "  <thead>\n",
       "    <tr style=\"text-align: right;\">\n",
       "      <th></th>\n",
       "      <th>pclass</th>\n",
       "      <th>sibsp</th>\n",
       "      <th>sex_female</th>\n",
       "      <th>cabin_M</th>\n",
       "    </tr>\n",
       "  </thead>\n",
       "  <tbody>\n",
       "    <tr>\n",
       "      <th>401</th>\n",
       "      <td>-0.367425</td>\n",
       "      <td>0.469050</td>\n",
       "      <td>1.352596</td>\n",
       "      <td>0.539927</td>\n",
       "    </tr>\n",
       "    <tr>\n",
       "      <th>893</th>\n",
       "      <td>0.834271</td>\n",
       "      <td>-0.474139</td>\n",
       "      <td>-0.739319</td>\n",
       "      <td>0.539927</td>\n",
       "    </tr>\n",
       "    <tr>\n",
       "      <th>90</th>\n",
       "      <td>-1.569122</td>\n",
       "      <td>0.469050</td>\n",
       "      <td>1.352596</td>\n",
       "      <td>-1.852101</td>\n",
       "    </tr>\n",
       "    <tr>\n",
       "      <th>593</th>\n",
       "      <td>-0.367425</td>\n",
       "      <td>0.469050</td>\n",
       "      <td>1.352596</td>\n",
       "      <td>0.539927</td>\n",
       "    </tr>\n",
       "    <tr>\n",
       "      <th>866</th>\n",
       "      <td>0.834271</td>\n",
       "      <td>-0.474139</td>\n",
       "      <td>1.352596</td>\n",
       "      <td>0.539927</td>\n",
       "    </tr>\n",
       "  </tbody>\n",
       "</table>\n",
       "</div>"
      ],
      "text/plain": [
       "       pclass     sibsp  sex_female   cabin_M\n",
       "401 -0.367425  0.469050    1.352596  0.539927\n",
       "893  0.834271 -0.474139   -0.739319  0.539927\n",
       "90  -1.569122  0.469050    1.352596 -1.852101\n",
       "593 -0.367425  0.469050    1.352596  0.539927\n",
       "866  0.834271 -0.474139    1.352596  0.539927"
      ]
     },
     "execution_count": 6,
     "metadata": {},
     "output_type": "execute_result"
    }
   ],
   "source": [
    "# Let's pick up a few observations\n",
    "\n",
    "X_test.tail()"
   ]
  },
  {
   "cell_type": "code",
   "execution_count": 7,
   "id": "489e6b81",
   "metadata": {},
   "outputs": [
    {
     "data": {
      "text/plain": [
       "pclass       -0.367425\n",
       "sibsp         0.469050\n",
       "sex_female    1.352596\n",
       "cabin_M       0.539927\n",
       "Name: 401, dtype: float64"
      ]
     },
     "execution_count": 7,
     "metadata": {},
     "output_type": "execute_result"
    }
   ],
   "source": [
    "obs = 401\n",
    "\n",
    "X_test.loc[obs]"
   ]
  },
  {
   "cell_type": "code",
   "execution_count": 8,
   "id": "7d7d54f2",
   "metadata": {},
   "outputs": [
    {
     "data": {
      "text/plain": [
       "array([ 0.83427143, -0.36742524, -1.56912191])"
      ]
     },
     "execution_count": 8,
     "metadata": {},
     "output_type": "execute_result"
    }
   ],
   "source": [
    "X_train[\"pclass\"].unique()"
   ]
  },
  {
   "cell_type": "markdown",
   "id": "65d75327",
   "metadata": {},
   "source": [
    "Female, second class. We do not know in which cabin she was traveling (M is for missing)."
   ]
  },
  {
   "cell_type": "code",
   "execution_count": 9,
   "id": "3add9ff6",
   "metadata": {},
   "outputs": [
    {
     "data": {
      "text/plain": [
       "array([[0.29929188, 0.70070812]])"
      ]
     },
     "execution_count": 9,
     "metadata": {},
     "output_type": "execute_result"
    }
   ],
   "source": [
    "# predict survival\n",
    "\n",
    "logit.predict_proba(X_test.loc[obs].to_frame().T)"
   ]
  },
  {
   "cell_type": "markdown",
   "id": "59c0b4b6",
   "metadata": {},
   "source": [
    "Good changes of survival."
   ]
  },
  {
   "cell_type": "code",
   "execution_count": 10,
   "id": "0fed5f51",
   "metadata": {},
   "outputs": [
    {
     "data": {
      "text/plain": [
       "1"
      ]
     },
     "execution_count": 10,
     "metadata": {},
     "output_type": "execute_result"
    }
   ],
   "source": [
    "# did she survive?\n",
    "\n",
    "y_test.loc[obs]"
   ]
  },
  {
   "cell_type": "markdown",
   "id": "a51a0f33",
   "metadata": {},
   "source": [
    "This person survived. Model agrees with outcome."
   ]
  },
  {
   "cell_type": "code",
   "execution_count": 11,
   "id": "a06cb82e",
   "metadata": {},
   "outputs": [
    {
     "data": {
      "text/plain": [
       "pclass        0.182514\n",
       "sibsp        -0.105706\n",
       "sex_female    1.597422\n",
       "cabin_M      -0.178202\n",
       "dtype: float64"
      ]
     },
     "execution_count": 11,
     "metadata": {},
     "output_type": "execute_result"
    }
   ],
   "source": [
    "# log(Odds) contribution of each feature\n",
    "\n",
    "effect = coeffs * X_test.loc[obs]\n",
    "\n",
    "effect"
   ]
  },
  {
   "cell_type": "code",
   "execution_count": 12,
   "id": "ff426d2e",
   "metadata": {},
   "outputs": [
    {
     "data": {
      "image/png": "[encoded data removed]",
      "text/plain": [
       "<Figure size 576x432 with 1 Axes>"
      ]
     },
     "metadata": {
      "needs_background": "light"
     },
     "output_type": "display_data"
    }
   ],
   "source": [
    "effect.plot.bar(figsize=(8,6))\n",
    "\n",
    "plt.axhline(y=0, color='r', linestyle='-')\n",
    "plt.ylabel(\"Log(Odds)\")\n",
    "plt.title(f\"Local interpretability for {obs}\")\n",
    "plt.show()"
   ]
  },
  {
   "cell_type": "markdown",
   "id": "e1a341b0",
   "metadata": {},
   "source": [
    "What do we make of this plot?\n",
    "\n",
    "- She was female, that increased her chances of survival.\n",
    "- Being in second class also seemed to increase her chance of survival\n",
    "- We don't have data about where she was traveling and she probably had a husband or a child, which in this data, makes her less likely to survive.\n",
    "\n",
    "**Let's try someone else:**"
   ]
  },
  {
   "cell_type": "code",
   "execution_count": 13,
   "id": "89c58375",
   "metadata": {},
   "outputs": [
    {
     "data": {
      "text/plain": [
       "pclass       -1.569122\n",
       "sibsp         0.469050\n",
       "sex_female    1.352596\n",
       "cabin_M      -1.852101\n",
       "Name: 90, dtype: float64"
      ]
     },
     "execution_count": 13,
     "metadata": {},
     "output_type": "execute_result"
    }
   ],
   "source": [
    "obs = 90\n",
    "\n",
    "X_test.loc[obs]"
   ]
  },
  {
   "cell_type": "markdown",
   "id": "7484f53b",
   "metadata": {},
   "source": [
    "Female, first class. Her cabin information was not missing. So we know where she was traveling."
   ]
  },
  {
   "cell_type": "code",
   "execution_count": 14,
   "id": "3132a7ee",
   "metadata": {},
   "outputs": [
    {
     "data": {
      "text/plain": [
       "array([[0.09646946, 0.90353054]])"
      ]
     },
     "execution_count": 14,
     "metadata": {},
     "output_type": "execute_result"
    }
   ],
   "source": [
    "# probability of survival\n",
    "\n",
    "logit.predict_proba(X_test.loc[obs].to_frame().T)"
   ]
  },
  {
   "cell_type": "markdown",
   "id": "77535652",
   "metadata": {},
   "source": [
    "High probability of survival."
   ]
  },
  {
   "cell_type": "code",
   "execution_count": 15,
   "id": "1f5183d4",
   "metadata": {},
   "outputs": [
    {
     "data": {
      "text/plain": [
       "1"
      ]
     },
     "execution_count": 15,
     "metadata": {},
     "output_type": "execute_result"
    }
   ],
   "source": [
    "# did she survive?\n",
    "\n",
    "y_test.loc[obs]"
   ]
  },
  {
   "cell_type": "markdown",
   "id": "e1564309",
   "metadata": {},
   "source": [
    "This person also survived."
   ]
  },
  {
   "cell_type": "code",
   "execution_count": 16,
   "id": "d0ea415d",
   "metadata": {},
   "outputs": [
    {
     "data": {
      "image/png": "[encoded data removed]",
      "text/plain": [
       "<Figure size 576x432 with 1 Axes>"
      ]
     },
     "metadata": {
      "needs_background": "light"
     },
     "output_type": "display_data"
    }
   ],
   "source": [
    "# log(Odds) contribution of each feature\n",
    "effect = coeffs * X_test.loc[obs]\n",
    "\n",
    "effect.plot.bar(figsize=(8,6))\n",
    "\n",
    "plt.axhline(y=0, color='r', linestyle='-')\n",
    "plt.ylabel(\"Log(Odds)\")\n",
    "plt.title(f\"Local interpretability for {obs}\")\n",
    "plt.show()"
   ]
  },
  {
   "cell_type": "markdown",
   "id": "ebd07b16",
   "metadata": {},
   "source": [
    "What to make of this?\n",
    "\n",
    "This passenger was among the most likely to survive based on our model:\n",
    "\n",
    "- She was female\n",
    "- She was rich (traveled first class)\n",
    "- We know in which cabin she was traveling (not missing data)\n",
    "\n",
    "**Let's try one more passenger:**"
   ]
  },
  {
   "cell_type": "code",
   "execution_count": 17,
   "id": "0e2f69cb",
   "metadata": {},
   "outputs": [
    {
     "data": {
      "text/plain": [
       "pclass        0.834271\n",
       "sibsp        -0.474139\n",
       "sex_female   -0.739319\n",
       "cabin_M       0.539927\n",
       "Name: 893, dtype: float64"
      ]
     },
     "execution_count": 17,
     "metadata": {},
     "output_type": "execute_result"
    }
   ],
   "source": [
    "obs = 893\n",
    "\n",
    "X_test.loc[obs]"
   ]
  },
  {
   "cell_type": "markdown",
   "id": "f36027c2",
   "metadata": {},
   "source": [
    "Male, third class. We don't know in which cabin he was traveling. I can tell you know, it does not look great for him."
   ]
  },
  {
   "cell_type": "code",
   "execution_count": 18,
   "id": "6751bfbb",
   "metadata": {},
   "outputs": [
    {
     "data": {
      "text/plain": [
       "array([[0.88124343, 0.11875657]])"
      ]
     },
     "execution_count": 18,
     "metadata": {},
     "output_type": "execute_result"
    }
   ],
   "source": [
    "# obtain prediction of survival\n",
    "\n",
    "logit.predict_proba(X_test.loc[obs].to_frame().T)"
   ]
  },
  {
   "cell_type": "markdown",
   "id": "8313c766",
   "metadata": {},
   "source": [
    "Poor chance of survival."
   ]
  },
  {
   "cell_type": "code",
   "execution_count": 19,
   "id": "1bd048f9",
   "metadata": {},
   "outputs": [
    {
     "data": {
      "text/plain": [
       "0"
      ]
     },
     "execution_count": 19,
     "metadata": {},
     "output_type": "execute_result"
    }
   ],
   "source": [
    "# did he survive?\n",
    "\n",
    "y_test.loc[obs]"
   ]
  },
  {
   "cell_type": "markdown",
   "id": "52beb817",
   "metadata": {},
   "source": [
    "Indeed, this person did not survive."
   ]
  },
  {
   "cell_type": "code",
   "execution_count": 20,
   "id": "5449baf8",
   "metadata": {},
   "outputs": [
    {
     "data": {
      "image/png": "[encoded data removed]",
      "text/plain": [
       "<Figure size 576x432 with 1 Axes>"
      ]
     },
     "metadata": {
      "needs_background": "light"
     },
     "output_type": "display_data"
    }
   ],
   "source": [
    "# log(Odds) contribution of each feature\n",
    "\n",
    "effect = coeffs * X_test.loc[obs]\n",
    "\n",
    "effect.plot.bar(figsize=(8,6))\n",
    "\n",
    "plt.axhline(y=0, color='r', linestyle='-')\n",
    "plt.ylabel(\"Log(Odds)\")\n",
    "plt.title(f\"Local interpretability for {obs}\")\n",
    "plt.show()"
   ]
  },
  {
   "cell_type": "markdown",
   "id": "e1a0cec8",
   "metadata": {},
   "source": [
    "As expected, because he was male and poor, his chances of survival were little. The plot shows that these 2 variables decrease his probability of survival."
   ]
  },
  {
   "cell_type": "code",
   "execution_count": null,
   "id": "cee6d8e8",
   "metadata": {},
   "outputs": [],
   "source": []
  }
 ],
 "metadata": {
  "kernelspec": {
   "display_name": "fsml",
   "language": "python",
   "name": "fsml"
  },
  "language_info": {
   "codemirror_mode": {
    "name": "ipython",
    "version": 3
   },
   "file_extension": ".py",
   "mimetype": "text/x-python",
   "name": "python",
   "nbconvert_exporter": "python",
   "pygments_lexer": "ipython3",
   "version": "3.10.5"
  },
  "toc": {
   "base_numbering": 1,
   "nav_menu": {},
   "number_sections": true,
   "sideBar": true,
   "skip_h1_title": false,
   "title_cell": "Table of Contents",
   "title_sidebar": "Contents",
   "toc_cell": false,
   "toc_position": {
    "height": "calc(100% - 180px)",
    "left": "10px",
    "top": "150px",
    "width": "239.6px"
   },
   "toc_section_display": true,
   "toc_window_display": true
  }
 },
 "nbformat": 4,
 "nbformat_minor": 5
}
