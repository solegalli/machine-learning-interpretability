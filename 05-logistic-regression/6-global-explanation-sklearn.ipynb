{
 "cells": [
  {
   "cell_type": "markdown",
   "id": "5e9e49bd",
   "metadata": {},
   "source": [
    "# Interpreting the coefficients - global explanations\n",
    "\n",
    "[Machine Learning Interpretability course](https://www.trainindata.com/p/machine-learning-interpretability)\n",
    "\n",
    "In this notebook, we will interpret the values of the coefficients and how they affect the probability of the outcome."
   ]
  },
  {
   "cell_type": "code",
   "execution_count": 1,
   "id": "b619bd11",
   "metadata": {},
   "outputs": [],
   "source": [
    "import numpy as np\n",
    "import matplotlib.pyplot as plt\n",
    "import pandas as pd\n",
    "\n",
    "from sklearn.linear_model import LogisticRegression\n",
    "from sklearn.model_selection import train_test_split\n",
    "from sklearn.preprocessing import StandardScaler"
   ]
  },
  {
   "cell_type": "markdown",
   "id": "750e70b0",
   "metadata": {},
   "source": [
    "### Load data\n",
    "\n",
    "To obtain the data, check the folder `prepare-data` in this repo, or section 2 in the course."
   ]
  },
  {
   "cell_type": "code",
   "execution_count": 2,
   "id": "050acc05",
   "metadata": {},
   "outputs": [
    {
     "data": {
      "text/html": [
       "<div>\n",
       "<style scoped>\n",
       "    .dataframe tbody tr th:only-of-type {\n",
       "        vertical-align: middle;\n",
       "    }\n",
       "\n",
       "    .dataframe tbody tr th {\n",
       "        vertical-align: top;\n",
       "    }\n",
       "\n",
       "    .dataframe thead th {\n",
       "        text-align: right;\n",
       "    }\n",
       "</style>\n",
       "<table border=\"1\" class=\"dataframe\">\n",
       "  <thead>\n",
       "    <tr style=\"text-align: right;\">\n",
       "      <th></th>\n",
       "      <th>pclass</th>\n",
       "      <th>sibsp</th>\n",
       "      <th>parch</th>\n",
       "      <th>survived</th>\n",
       "      <th>sex_female</th>\n",
       "      <th>embarked_S</th>\n",
       "      <th>embarked_C</th>\n",
       "      <th>cabin_B</th>\n",
       "      <th>cabin_C</th>\n",
       "      <th>cabin_E</th>\n",
       "      <th>cabin_D</th>\n",
       "      <th>cabin_A</th>\n",
       "      <th>cabin_M</th>\n",
       "      <th>cabin_G</th>\n",
       "    </tr>\n",
       "  </thead>\n",
       "  <tbody>\n",
       "    <tr>\n",
       "      <th>0</th>\n",
       "      <td>1</td>\n",
       "      <td>0</td>\n",
       "      <td>0</td>\n",
       "      <td>1</td>\n",
       "      <td>1</td>\n",
       "      <td>1</td>\n",
       "      <td>0</td>\n",
       "      <td>1</td>\n",
       "      <td>0</td>\n",
       "      <td>0</td>\n",
       "      <td>0</td>\n",
       "      <td>0</td>\n",
       "      <td>0</td>\n",
       "      <td>0</td>\n",
       "    </tr>\n",
       "    <tr>\n",
       "      <th>1</th>\n",
       "      <td>1</td>\n",
       "      <td>1</td>\n",
       "      <td>2</td>\n",
       "      <td>1</td>\n",
       "      <td>0</td>\n",
       "      <td>1</td>\n",
       "      <td>0</td>\n",
       "      <td>0</td>\n",
       "      <td>1</td>\n",
       "      <td>0</td>\n",
       "      <td>0</td>\n",
       "      <td>0</td>\n",
       "      <td>0</td>\n",
       "      <td>0</td>\n",
       "    </tr>\n",
       "    <tr>\n",
       "      <th>2</th>\n",
       "      <td>1</td>\n",
       "      <td>1</td>\n",
       "      <td>2</td>\n",
       "      <td>0</td>\n",
       "      <td>1</td>\n",
       "      <td>1</td>\n",
       "      <td>0</td>\n",
       "      <td>0</td>\n",
       "      <td>1</td>\n",
       "      <td>0</td>\n",
       "      <td>0</td>\n",
       "      <td>0</td>\n",
       "      <td>0</td>\n",
       "      <td>0</td>\n",
       "    </tr>\n",
       "    <tr>\n",
       "      <th>3</th>\n",
       "      <td>1</td>\n",
       "      <td>1</td>\n",
       "      <td>2</td>\n",
       "      <td>0</td>\n",
       "      <td>0</td>\n",
       "      <td>1</td>\n",
       "      <td>0</td>\n",
       "      <td>0</td>\n",
       "      <td>1</td>\n",
       "      <td>0</td>\n",
       "      <td>0</td>\n",
       "      <td>0</td>\n",
       "      <td>0</td>\n",
       "      <td>0</td>\n",
       "    </tr>\n",
       "    <tr>\n",
       "      <th>4</th>\n",
       "      <td>1</td>\n",
       "      <td>1</td>\n",
       "      <td>2</td>\n",
       "      <td>0</td>\n",
       "      <td>1</td>\n",
       "      <td>1</td>\n",
       "      <td>0</td>\n",
       "      <td>0</td>\n",
       "      <td>1</td>\n",
       "      <td>0</td>\n",
       "      <td>0</td>\n",
       "      <td>0</td>\n",
       "      <td>0</td>\n",
       "      <td>0</td>\n",
       "    </tr>\n",
       "  </tbody>\n",
       "</table>\n",
       "</div>"
      ],
      "text/plain": [
       "   pclass  sibsp  parch  survived  sex_female  embarked_S  embarked_C  \\\n",
       "0       1      0      0         1           1           1           0   \n",
       "1       1      1      2         1           0           1           0   \n",
       "2       1      1      2         0           1           1           0   \n",
       "3       1      1      2         0           0           1           0   \n",
       "4       1      1      2         0           1           1           0   \n",
       "\n",
       "   cabin_B  cabin_C  cabin_E  cabin_D  cabin_A  cabin_M  cabin_G  \n",
       "0        1        0        0        0        0        0        0  \n",
       "1        0        1        0        0        0        0        0  \n",
       "2        0        1        0        0        0        0        0  \n",
       "3        0        1        0        0        0        0        0  \n",
       "4        0        1        0        0        0        0        0  "
      ]
     },
     "execution_count": 2,
     "metadata": {},
     "output_type": "execute_result"
    }
   ],
   "source": [
    "# load titanic dataset\n",
    "\n",
    "df = pd.read_csv('../titanic.csv')\n",
    "\n",
    "df.head()"
   ]
  },
  {
   "cell_type": "code",
   "execution_count": 3,
   "id": "715ba744",
   "metadata": {},
   "outputs": [
    {
     "data": {
      "text/plain": [
       "((1112, 13), (197, 13))"
      ]
     },
     "execution_count": 3,
     "metadata": {},
     "output_type": "execute_result"
    }
   ],
   "source": [
    "# Split the data\n",
    "\n",
    "X_train, X_test, y_train, y_test = train_test_split(\n",
    "    df.drop(\"survived\", axis=1),\n",
    "    df[\"survived\"],\n",
    "    test_size=0.15,\n",
    "    random_state=1,\n",
    ")\n",
    "\n",
    "X_train.shape, X_test.shape"
   ]
  },
  {
   "cell_type": "code",
   "execution_count": 4,
   "id": "2d9af713",
   "metadata": {},
   "outputs": [
    {
     "data": {
      "text/html": [
       "<div>\n",
       "<style scoped>\n",
       "    .dataframe tbody tr th:only-of-type {\n",
       "        vertical-align: middle;\n",
       "    }\n",
       "\n",
       "    .dataframe tbody tr th {\n",
       "        vertical-align: top;\n",
       "    }\n",
       "\n",
       "    .dataframe thead th {\n",
       "        text-align: right;\n",
       "    }\n",
       "</style>\n",
       "<table border=\"1\" class=\"dataframe\">\n",
       "  <thead>\n",
       "    <tr style=\"text-align: right;\">\n",
       "      <th></th>\n",
       "      <th>pclass</th>\n",
       "      <th>sibsp</th>\n",
       "      <th>parch</th>\n",
       "      <th>sex_female</th>\n",
       "      <th>embarked_S</th>\n",
       "      <th>embarked_C</th>\n",
       "      <th>cabin_B</th>\n",
       "      <th>cabin_C</th>\n",
       "      <th>cabin_E</th>\n",
       "      <th>cabin_D</th>\n",
       "      <th>cabin_A</th>\n",
       "      <th>cabin_M</th>\n",
       "      <th>cabin_G</th>\n",
       "    </tr>\n",
       "  </thead>\n",
       "  <tbody>\n",
       "    <tr>\n",
       "      <th>1021</th>\n",
       "      <td>0.834271</td>\n",
       "      <td>-0.474139</td>\n",
       "      <td>-0.456096</td>\n",
       "      <td>-0.739319</td>\n",
       "      <td>0.666450</td>\n",
       "      <td>-0.516251</td>\n",
       "      <td>-0.22592</td>\n",
       "      <td>-0.280294</td>\n",
       "      <td>-0.182913</td>\n",
       "      <td>-0.193167</td>\n",
       "      <td>-0.128271</td>\n",
       "      <td>0.539927</td>\n",
       "      <td>-0.067206</td>\n",
       "    </tr>\n",
       "    <tr>\n",
       "      <th>512</th>\n",
       "      <td>-0.367425</td>\n",
       "      <td>0.469050</td>\n",
       "      <td>-0.456096</td>\n",
       "      <td>-0.739319</td>\n",
       "      <td>-1.500487</td>\n",
       "      <td>1.937043</td>\n",
       "      <td>-0.22592</td>\n",
       "      <td>-0.280294</td>\n",
       "      <td>-0.182913</td>\n",
       "      <td>-0.193167</td>\n",
       "      <td>-0.128271</td>\n",
       "      <td>0.539927</td>\n",
       "      <td>-0.067206</td>\n",
       "    </tr>\n",
       "    <tr>\n",
       "      <th>957</th>\n",
       "      <td>0.834271</td>\n",
       "      <td>2.355428</td>\n",
       "      <td>0.745749</td>\n",
       "      <td>1.352596</td>\n",
       "      <td>0.666450</td>\n",
       "      <td>-0.516251</td>\n",
       "      <td>-0.22592</td>\n",
       "      <td>-0.280294</td>\n",
       "      <td>-0.182913</td>\n",
       "      <td>-0.193167</td>\n",
       "      <td>-0.128271</td>\n",
       "      <td>0.539927</td>\n",
       "      <td>-0.067206</td>\n",
       "    </tr>\n",
       "    <tr>\n",
       "      <th>1066</th>\n",
       "      <td>0.834271</td>\n",
       "      <td>-0.474139</td>\n",
       "      <td>-0.456096</td>\n",
       "      <td>-0.739319</td>\n",
       "      <td>-1.500487</td>\n",
       "      <td>1.937043</td>\n",
       "      <td>-0.22592</td>\n",
       "      <td>-0.280294</td>\n",
       "      <td>-0.182913</td>\n",
       "      <td>-0.193167</td>\n",
       "      <td>-0.128271</td>\n",
       "      <td>0.539927</td>\n",
       "      <td>-0.067206</td>\n",
       "    </tr>\n",
       "    <tr>\n",
       "      <th>1259</th>\n",
       "      <td>0.834271</td>\n",
       "      <td>-0.474139</td>\n",
       "      <td>-0.456096</td>\n",
       "      <td>-0.739319</td>\n",
       "      <td>0.666450</td>\n",
       "      <td>-0.516251</td>\n",
       "      <td>-0.22592</td>\n",
       "      <td>-0.280294</td>\n",
       "      <td>-0.182913</td>\n",
       "      <td>-0.193167</td>\n",
       "      <td>-0.128271</td>\n",
       "      <td>0.539927</td>\n",
       "      <td>-0.067206</td>\n",
       "    </tr>\n",
       "  </tbody>\n",
       "</table>\n",
       "</div>"
      ],
      "text/plain": [
       "        pclass     sibsp     parch  sex_female  embarked_S  embarked_C  \\\n",
       "1021  0.834271 -0.474139 -0.456096   -0.739319    0.666450   -0.516251   \n",
       "512  -0.367425  0.469050 -0.456096   -0.739319   -1.500487    1.937043   \n",
       "957   0.834271  2.355428  0.745749    1.352596    0.666450   -0.516251   \n",
       "1066  0.834271 -0.474139 -0.456096   -0.739319   -1.500487    1.937043   \n",
       "1259  0.834271 -0.474139 -0.456096   -0.739319    0.666450   -0.516251   \n",
       "\n",
       "      cabin_B   cabin_C   cabin_E   cabin_D   cabin_A   cabin_M   cabin_G  \n",
       "1021 -0.22592 -0.280294 -0.182913 -0.193167 -0.128271  0.539927 -0.067206  \n",
       "512  -0.22592 -0.280294 -0.182913 -0.193167 -0.128271  0.539927 -0.067206  \n",
       "957  -0.22592 -0.280294 -0.182913 -0.193167 -0.128271  0.539927 -0.067206  \n",
       "1066 -0.22592 -0.280294 -0.182913 -0.193167 -0.128271  0.539927 -0.067206  \n",
       "1259 -0.22592 -0.280294 -0.182913 -0.193167 -0.128271  0.539927 -0.067206  "
      ]
     },
     "execution_count": 4,
     "metadata": {},
     "output_type": "execute_result"
    }
   ],
   "source": [
    "# scale the variables\n",
    "scaler = StandardScaler().set_output(transform=\"pandas\")\n",
    "\n",
    "X_train = scaler.fit_transform(X_train)\n",
    "X_test = scaler.transform(X_test)\n",
    "\n",
    "# display top 5 rows\n",
    "X_train.head()"
   ]
  },
  {
   "cell_type": "code",
   "execution_count": 5,
   "id": "eb493270",
   "metadata": {},
   "outputs": [],
   "source": [
    "# We know from previous notebooks that these features are non-\n",
    "# predictive (their coefficients are not significantly \n",
    "# different from 0.)\n",
    "\n",
    "non_predictive = [\"parch\", \"embarked_S\", \"embarked_C\", \"cabin_C\", \n",
    "                  \"cabin_B\", \"cabin_E\", \"cabin_D\", \"cabin_A\", \"cabin_G\"]\n",
    "\n",
    "# So we take them out\n",
    "X_train.drop(non_predictive, axis=1, inplace=True)\n",
    "X_test.drop(non_predictive, axis=1, inplace=True)"
   ]
  },
  {
   "cell_type": "markdown",
   "id": "7ada99f7",
   "metadata": {},
   "source": [
    "## Scikit-learn"
   ]
  },
  {
   "cell_type": "code",
   "execution_count": 6,
   "id": "ec8ae23c",
   "metadata": {},
   "outputs": [
    {
     "data": {
      "text/html": [
       "<style>#sk-container-id-1 {color: black;}#sk-container-id-1 pre{padding: 0;}#sk-container-id-1 div.sk-toggleable {background-color: white;}#sk-container-id-1 label.sk-toggleable__label {cursor: pointer;display: block;width: 100%;margin-bottom: 0;padding: 0.3em;box-sizing: border-box;text-align: center;}#sk-container-id-1 label.sk-toggleable__label-arrow:before {content: \"▸\";float: left;margin-right: 0.25em;color: #696969;}#sk-container-id-1 label.sk-toggleable__label-arrow:hover:before {color: black;}#sk-container-id-1 div.sk-estimator:hover label.sk-toggleable__label-arrow:before {color: black;}#sk-container-id-1 div.sk-toggleable__content {max-height: 0;max-width: 0;overflow: hidden;text-align: left;background-color: #f0f8ff;}#sk-container-id-1 div.sk-toggleable__content pre {margin: 0.2em;color: black;border-radius: 0.25em;background-color: #f0f8ff;}#sk-container-id-1 input.sk-toggleable__control:checked~div.sk-toggleable__content {max-height: 200px;max-width: 100%;overflow: auto;}#sk-container-id-1 input.sk-toggleable__control:checked~label.sk-toggleable__label-arrow:before {content: \"▾\";}#sk-container-id-1 div.sk-estimator input.sk-toggleable__control:checked~label.sk-toggleable__label {background-color: #d4ebff;}#sk-container-id-1 div.sk-label input.sk-toggleable__control:checked~label.sk-toggleable__label {background-color: #d4ebff;}#sk-container-id-1 input.sk-hidden--visually {border: 0;clip: rect(1px 1px 1px 1px);clip: rect(1px, 1px, 1px, 1px);height: 1px;margin: -1px;overflow: hidden;padding: 0;position: absolute;width: 1px;}#sk-container-id-1 div.sk-estimator {font-family: monospace;background-color: #f0f8ff;border: 1px dotted black;border-radius: 0.25em;box-sizing: border-box;margin-bottom: 0.5em;}#sk-container-id-1 div.sk-estimator:hover {background-color: #d4ebff;}#sk-container-id-1 div.sk-parallel-item::after {content: \"\";width: 100%;border-bottom: 1px solid gray;flex-grow: 1;}#sk-container-id-1 div.sk-label:hover label.sk-toggleable__label {background-color: #d4ebff;}#sk-container-id-1 div.sk-serial::before {content: \"\";position: absolute;border-left: 1px solid gray;box-sizing: border-box;top: 0;bottom: 0;left: 50%;z-index: 0;}#sk-container-id-1 div.sk-serial {display: flex;flex-direction: column;align-items: center;background-color: white;padding-right: 0.2em;padding-left: 0.2em;position: relative;}#sk-container-id-1 div.sk-item {position: relative;z-index: 1;}#sk-container-id-1 div.sk-parallel {display: flex;align-items: stretch;justify-content: center;background-color: white;position: relative;}#sk-container-id-1 div.sk-item::before, #sk-container-id-1 div.sk-parallel-item::before {content: \"\";position: absolute;border-left: 1px solid gray;box-sizing: border-box;top: 0;bottom: 0;left: 50%;z-index: -1;}#sk-container-id-1 div.sk-parallel-item {display: flex;flex-direction: column;z-index: 1;position: relative;background-color: white;}#sk-container-id-1 div.sk-parallel-item:first-child::after {align-self: flex-end;width: 50%;}#sk-container-id-1 div.sk-parallel-item:last-child::after {align-self: flex-start;width: 50%;}#sk-container-id-1 div.sk-parallel-item:only-child::after {width: 0;}#sk-container-id-1 div.sk-dashed-wrapped {border: 1px dashed gray;margin: 0 0.4em 0.5em 0.4em;box-sizing: border-box;padding-bottom: 0.4em;background-color: white;}#sk-container-id-1 div.sk-label label {font-family: monospace;font-weight: bold;display: inline-block;line-height: 1.2em;}#sk-container-id-1 div.sk-label-container {text-align: center;}#sk-container-id-1 div.sk-container {/* jupyter's `normalize.less` sets `[hidden] { display: none; }` but bootstrap.min.css set `[hidden] { display: none !important; }` so we also need the `!important` here to be able to override the default hidden behavior on the sphinx rendered scikit-learn.org. See: https://github.com/scikit-learn/scikit-learn/issues/21755 */display: inline-block !important;position: relative;}#sk-container-id-1 div.sk-text-repr-fallback {display: none;}</style><div id=\"sk-container-id-1\" class=\"sk-top-container\"><div class=\"sk-text-repr-fallback\"><pre>LogisticRegression(penalty=None, random_state=1)</pre><b>In a Jupyter environment, please rerun this cell to show the HTML representation or trust the notebook. <br />On GitHub, the HTML representation is unable to render, please try loading this page with nbviewer.org.</b></div><div class=\"sk-container\" hidden><div class=\"sk-item\"><div class=\"sk-estimator sk-toggleable\"><input class=\"sk-toggleable__control sk-hidden--visually\" id=\"sk-estimator-id-1\" type=\"checkbox\" checked><label for=\"sk-estimator-id-1\" class=\"sk-toggleable__label sk-toggleable__label-arrow\">LogisticRegression</label><div class=\"sk-toggleable__content\"><pre>LogisticRegression(penalty=None, random_state=1)</pre></div></div></div></div></div>"
      ],
      "text/plain": [
       "LogisticRegression(penalty=None, random_state=1)"
      ]
     },
     "execution_count": 6,
     "metadata": {},
     "output_type": "execute_result"
    }
   ],
   "source": [
    "# fit model\n",
    "\n",
    "# important to remove the penalty for unregularized regression.\n",
    "logit = LogisticRegression(penalty=None, random_state=1)\n",
    "\n",
    "logit.fit(X_train, y_train)"
   ]
  },
  {
   "cell_type": "markdown",
   "id": "ba3d6669",
   "metadata": {},
   "source": [
    "## Odds ratio"
   ]
  },
  {
   "cell_type": "code",
   "execution_count": 7,
   "id": "999328db",
   "metadata": {},
   "outputs": [
    {
     "data": {
      "image/png": "[encoded data removed]",
      "text/plain": [
       "<Figure size 576x360 with 1 Axes>"
      ]
     },
     "metadata": {
      "needs_background": "light"
     },
     "output_type": "display_data"
    }
   ],
   "source": [
    "# Calculate and plot the odds ratio\n",
    "\n",
    "s = pd.Series(\n",
    "    np.exp(logit.coef_[0]),\n",
    "    index=logit.feature_names_in_,\n",
    ")\n",
    "\n",
    "s.plot.bar(figsize=(8,5))\n",
    "plt.ylabel(\"Odds ratio\")\n",
    "plt.title(\"Changes in odds ratio\")\n",
    "plt.show()"
   ]
  },
  {
   "cell_type": "markdown",
   "id": "8dfc3414",
   "metadata": {},
   "source": [
    "Being female, increased the probability of survival 3 times.\n",
    "\n",
    "\n",
    "The remaining variables reduced the probability of survival by ~half."
   ]
  },
  {
   "cell_type": "markdown",
   "id": "adfae3e9",
   "metadata": {},
   "source": [
    "## Coefficient sign and direction\n",
    "\n",
    "Visualize how the coefficients affect the probability of survival, and with the error, we know if we can trust them."
   ]
  },
  {
   "cell_type": "code",
   "execution_count": 8,
   "id": "89b7867b",
   "metadata": {},
   "outputs": [
    {
     "data": {
      "image/png": "[encoded data removed]",
      "text/plain": [
       "<Figure size 576x360 with 1 Axes>"
      ]
     },
     "metadata": {
      "needs_background": "light"
     },
     "output_type": "display_data"
    }
   ],
   "source": [
    "# Coefficients value\n",
    "\n",
    "s = pd.Series(\n",
    "    logit.coef_[0],\n",
    "    index=logit.feature_names_in_,\n",
    ")\n",
    "\n",
    "s.plot.bar(figsize=(8,5))\n",
    "plt.ylabel(\"Coefficients' value\")\n",
    "plt.title(\"Coefficients\")\n",
    "plt.show()"
   ]
  },
  {
   "cell_type": "markdown",
   "id": "8ddbd917",
   "metadata": {},
   "source": [
    "By looking at the coefficient sign and absolute magnitude we conclude that being female increases the probability of survival. \n",
    "\n",
    "Increasing the value of all other variables decreases the probability of survival.\n",
    "\n",
    "The standard error among the coefficients is very similar.\n",
    "\n",
    "## Coefficient absolute value - feature importance\n",
    "\n",
    "This is what we normally use as a measure of feature importance."
   ]
  },
  {
   "cell_type": "code",
   "execution_count": 9,
   "id": "d51dd951",
   "metadata": {},
   "outputs": [
    {
     "data": {
      "image/png": "[encoded data removed]",
      "text/plain": [
       "<Figure size 576x360 with 1 Axes>"
      ]
     },
     "metadata": {
      "needs_background": "light"
     },
     "output_type": "display_data"
    }
   ],
   "source": [
    "# Plot mean coefficient and std\n",
    "\n",
    "s = pd.Series(\n",
    "    np.abs(logit.coef_[0]),\n",
    "    index=logit.feature_names_in_,\n",
    ")\n",
    "\n",
    "s.plot.bar(figsize=(8,5))\n",
    "plt.ylabel(\"Absolute coefficient value\")\n",
    "plt.title(\"Absolute coefficient value\")\n",
    "plt.show()"
   ]
  },
  {
   "cell_type": "markdown",
   "id": "60995be9",
   "metadata": {},
   "source": [
    "## z (Wald statistic)\n",
    "\n",
    "We need the error, so here I calculate it experimentally."
   ]
  },
  {
   "cell_type": "code",
   "execution_count": 10,
   "id": "3ffa653e",
   "metadata": {},
   "outputs": [
    {
     "data": {
      "text/plain": [
       "array([-4.65872964, -2.52951869, 15.22474493, -3.17580118])"
      ]
     },
     "execution_count": 10,
     "metadata": {},
     "output_type": "execute_result"
    }
   ],
   "source": [
    "W = np.diagflat(np.product(logit.predict_proba(X_train), axis=1))\n",
    "\n",
    "X = np.hstack([np.ones((X_train.shape[0], 1)), X_train])\n",
    "\n",
    "cov_m = np.linalg.inv(np.dot(np.dot(X.T, W), X))\n",
    "\n",
    "se = np.sqrt(np.diag(cov_m))\n",
    "\n",
    "z = logit.coef_[0] / se[1:]\n",
    "\n",
    "z"
   ]
  },
  {
   "cell_type": "code",
   "execution_count": 11,
   "id": "8ddb93de",
   "metadata": {},
   "outputs": [
    {
     "data": {
      "image/png": "[encoded data removed]",
      "text/plain": [
       "<Figure size 576x360 with 1 Axes>"
      ]
     },
     "metadata": {
      "needs_background": "light"
     },
     "output_type": "display_data"
    }
   ],
   "source": [
    "# estimate and plot z\n",
    "\n",
    "s = pd.Series(\n",
    "    z,\n",
    "    index=logit.feature_names_in_,\n",
    ")\n",
    "\n",
    "s.plot.bar(figsize=(8,5))\n",
    "plt.ylabel(\"z\")\n",
    "plt.title(\"z\")\n",
    "plt.show()"
   ]
  },
  {
   "cell_type": "markdown",
   "id": "1b53dda3",
   "metadata": {},
   "source": [
    "- females were 3 times more likely to survive than men.\n",
    "- richer people (travelling in class 1) were more likely to survive than poorer people (pclass decreases probability of survival)\n",
    "- having children or spouse (sibsp) also decreased, for some reason, the probability of survival."
   ]
  },
  {
   "cell_type": "code",
   "execution_count": null,
   "id": "6805bedb",
   "metadata": {},
   "outputs": [],
   "source": []
  }
 ],
 "metadata": {
  "kernelspec": {
   "display_name": "fsml",
   "language": "python",
   "name": "fsml"
  },
  "language_info": {
   "codemirror_mode": {
    "name": "ipython",
    "version": 3
   },
   "file_extension": ".py",
   "mimetype": "text/x-python",
   "name": "python",
   "nbconvert_exporter": "python",
   "pygments_lexer": "ipython3",
   "version": "3.10.5"
  },
  "toc": {
   "base_numbering": 1,
   "nav_menu": {},
   "number_sections": true,
   "sideBar": true,
   "skip_h1_title": false,
   "title_cell": "Table of Contents",
   "title_sidebar": "Contents",
   "toc_cell": false,
   "toc_position": {
    "height": "calc(100% - 180px)",
    "left": "10px",
    "top": "150px",
    "width": "245.6px"
   },
   "toc_section_display": true,
   "toc_window_display": true
  }
 },
 "nbformat": 4,
 "nbformat_minor": 5
}
