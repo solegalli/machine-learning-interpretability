{
 "cells": [
  {
   "cell_type": "markdown",
   "id": "b574a8a8",
   "metadata": {},
   "source": [
    "# Logistic regression model\n",
    "\n",
    "## Fit a logistic regression model and make global and local explanations\n",
    "\n",
    "\n",
    "Predict whether a student will dropout from their class.\n",
    "\n",
    "The workflow is the following:\n",
    "\n",
    "- Identify variables that are good predictors of the target.\n",
    "- Identify and remove high multi-colinearity among the predictors.\n",
    "- Fit a logistic model and assess the goodness of fit\n",
    "- Ensure all features make statistically significant contributions to the outcome\n",
    "- Interpret the coefficients (global interpretation)\n",
    "- Evaluate a few observations individually (local interpretation)"
   ]
  },
  {
   "cell_type": "code",
   "execution_count": 1,
   "id": "0da331f9",
   "metadata": {},
   "outputs": [],
   "source": [
    "import pandas as pd\n",
    "from sklearn.model_selection import train_test_split\n",
    "from sklearn.preprocessing import MinMaxScaler"
   ]
  },
  {
   "cell_type": "markdown",
   "id": "33a2f988",
   "metadata": {},
   "source": [
    "## Load data\n",
    "\n",
    "To obtain the data, check the folder `prepare-data` in this repo, or section 2 in the course."
   ]
  },
  {
   "cell_type": "code",
   "execution_count": 2,
   "id": "8c912400",
   "metadata": {},
   "outputs": [
    {
     "name": "stdout",
     "output_type": "stream",
     "text": [
      "(4424, 102)\n"
     ]
    },
    {
     "data": {
      "text/html": [
       "<div>\n",
       "<style scoped>\n",
       "    .dataframe tbody tr th:only-of-type {\n",
       "        vertical-align: middle;\n",
       "    }\n",
       "\n",
       "    .dataframe tbody tr th {\n",
       "        vertical-align: top;\n",
       "    }\n",
       "\n",
       "    .dataframe thead th {\n",
       "        text-align: right;\n",
       "    }\n",
       "</style>\n",
       "<table border=\"1\" class=\"dataframe\">\n",
       "  <thead>\n",
       "    <tr style=\"text-align: right;\">\n",
       "      <th></th>\n",
       "      <th>Application order</th>\n",
       "      <th>Daytime/evening attendance\\t</th>\n",
       "      <th>Previous qualification (grade)</th>\n",
       "      <th>Admission grade</th>\n",
       "      <th>Displaced</th>\n",
       "      <th>Educational special needs</th>\n",
       "      <th>Debtor</th>\n",
       "      <th>Tuition fees up to date</th>\n",
       "      <th>Gender</th>\n",
       "      <th>Scholarship holder</th>\n",
       "      <th>...</th>\n",
       "      <th>Nacionality_Italian</th>\n",
       "      <th>Nacionality_Cape Verdean</th>\n",
       "      <th>Nacionality_Turkish</th>\n",
       "      <th>Nacionality_Moldova (Republic of)</th>\n",
       "      <th>Nacionality_Guinean</th>\n",
       "      <th>Nacionality_Colombian</th>\n",
       "      <th>Nacionality_German</th>\n",
       "      <th>Nacionality_Cuban</th>\n",
       "      <th>Nacionality_Russian</th>\n",
       "      <th>Nacionality_English</th>\n",
       "    </tr>\n",
       "  </thead>\n",
       "  <tbody>\n",
       "    <tr>\n",
       "      <th>0</th>\n",
       "      <td>5</td>\n",
       "      <td>1</td>\n",
       "      <td>122.0</td>\n",
       "      <td>127.3</td>\n",
       "      <td>1</td>\n",
       "      <td>0</td>\n",
       "      <td>0</td>\n",
       "      <td>1</td>\n",
       "      <td>1</td>\n",
       "      <td>0</td>\n",
       "      <td>...</td>\n",
       "      <td>0</td>\n",
       "      <td>0</td>\n",
       "      <td>0</td>\n",
       "      <td>0</td>\n",
       "      <td>0</td>\n",
       "      <td>0</td>\n",
       "      <td>0</td>\n",
       "      <td>0</td>\n",
       "      <td>0</td>\n",
       "      <td>0</td>\n",
       "    </tr>\n",
       "    <tr>\n",
       "      <th>1</th>\n",
       "      <td>1</td>\n",
       "      <td>1</td>\n",
       "      <td>160.0</td>\n",
       "      <td>142.5</td>\n",
       "      <td>1</td>\n",
       "      <td>0</td>\n",
       "      <td>0</td>\n",
       "      <td>0</td>\n",
       "      <td>1</td>\n",
       "      <td>0</td>\n",
       "      <td>...</td>\n",
       "      <td>0</td>\n",
       "      <td>0</td>\n",
       "      <td>0</td>\n",
       "      <td>0</td>\n",
       "      <td>0</td>\n",
       "      <td>0</td>\n",
       "      <td>0</td>\n",
       "      <td>0</td>\n",
       "      <td>0</td>\n",
       "      <td>0</td>\n",
       "    </tr>\n",
       "    <tr>\n",
       "      <th>2</th>\n",
       "      <td>5</td>\n",
       "      <td>1</td>\n",
       "      <td>122.0</td>\n",
       "      <td>124.8</td>\n",
       "      <td>1</td>\n",
       "      <td>0</td>\n",
       "      <td>0</td>\n",
       "      <td>0</td>\n",
       "      <td>1</td>\n",
       "      <td>0</td>\n",
       "      <td>...</td>\n",
       "      <td>0</td>\n",
       "      <td>0</td>\n",
       "      <td>0</td>\n",
       "      <td>0</td>\n",
       "      <td>0</td>\n",
       "      <td>0</td>\n",
       "      <td>0</td>\n",
       "      <td>0</td>\n",
       "      <td>0</td>\n",
       "      <td>0</td>\n",
       "    </tr>\n",
       "    <tr>\n",
       "      <th>3</th>\n",
       "      <td>2</td>\n",
       "      <td>1</td>\n",
       "      <td>122.0</td>\n",
       "      <td>119.6</td>\n",
       "      <td>1</td>\n",
       "      <td>0</td>\n",
       "      <td>0</td>\n",
       "      <td>1</td>\n",
       "      <td>0</td>\n",
       "      <td>0</td>\n",
       "      <td>...</td>\n",
       "      <td>0</td>\n",
       "      <td>0</td>\n",
       "      <td>0</td>\n",
       "      <td>0</td>\n",
       "      <td>0</td>\n",
       "      <td>0</td>\n",
       "      <td>0</td>\n",
       "      <td>0</td>\n",
       "      <td>0</td>\n",
       "      <td>0</td>\n",
       "    </tr>\n",
       "    <tr>\n",
       "      <th>4</th>\n",
       "      <td>1</td>\n",
       "      <td>0</td>\n",
       "      <td>100.0</td>\n",
       "      <td>141.5</td>\n",
       "      <td>0</td>\n",
       "      <td>0</td>\n",
       "      <td>0</td>\n",
       "      <td>1</td>\n",
       "      <td>0</td>\n",
       "      <td>0</td>\n",
       "      <td>...</td>\n",
       "      <td>0</td>\n",
       "      <td>0</td>\n",
       "      <td>0</td>\n",
       "      <td>0</td>\n",
       "      <td>0</td>\n",
       "      <td>0</td>\n",
       "      <td>0</td>\n",
       "      <td>0</td>\n",
       "      <td>0</td>\n",
       "      <td>0</td>\n",
       "    </tr>\n",
       "  </tbody>\n",
       "</table>\n",
       "<p>5 rows × 102 columns</p>\n",
       "</div>"
      ],
      "text/plain": [
       "   Application order  Daytime/evening attendance\\t  \\\n",
       "0                  5                             1   \n",
       "1                  1                             1   \n",
       "2                  5                             1   \n",
       "3                  2                             1   \n",
       "4                  1                             0   \n",
       "\n",
       "   Previous qualification (grade)  Admission grade  Displaced  \\\n",
       "0                           122.0            127.3          1   \n",
       "1                           160.0            142.5          1   \n",
       "2                           122.0            124.8          1   \n",
       "3                           122.0            119.6          1   \n",
       "4                           100.0            141.5          0   \n",
       "\n",
       "   Educational special needs  Debtor  Tuition fees up to date  Gender  \\\n",
       "0                          0       0                        1       1   \n",
       "1                          0       0                        0       1   \n",
       "2                          0       0                        0       1   \n",
       "3                          0       0                        1       0   \n",
       "4                          0       0                        1       0   \n",
       "\n",
       "   Scholarship holder  ...  Nacionality_Italian  Nacionality_Cape Verdean  \\\n",
       "0                   0  ...                    0                         0   \n",
       "1                   0  ...                    0                         0   \n",
       "2                   0  ...                    0                         0   \n",
       "3                   0  ...                    0                         0   \n",
       "4                   0  ...                    0                         0   \n",
       "\n",
       "   Nacionality_Turkish  Nacionality_Moldova (Republic of)  \\\n",
       "0                    0                                  0   \n",
       "1                    0                                  0   \n",
       "2                    0                                  0   \n",
       "3                    0                                  0   \n",
       "4                    0                                  0   \n",
       "\n",
       "   Nacionality_Guinean  Nacionality_Colombian  Nacionality_German  \\\n",
       "0                    0                      0                   0   \n",
       "1                    0                      0                   0   \n",
       "2                    0                      0                   0   \n",
       "3                    0                      0                   0   \n",
       "4                    0                      0                   0   \n",
       "\n",
       "   Nacionality_Cuban  Nacionality_Russian  Nacionality_English  \n",
       "0                  0                    0                    0  \n",
       "1                  0                    0                    0  \n",
       "2                  0                    0                    0  \n",
       "3                  0                    0                    0  \n",
       "4                  0                    0                    0  \n",
       "\n",
       "[5 rows x 102 columns]"
      ]
     },
     "execution_count": 2,
     "metadata": {},
     "output_type": "execute_result"
    }
   ],
   "source": [
    "df = pd.read_csv('../../student_dropout_logit.csv')\n",
    "\n",
    "print(df.shape)\n",
    "\n",
    "df.head()"
   ]
  },
  {
   "cell_type": "code",
   "execution_count": 3,
   "id": "7717800e",
   "metadata": {},
   "outputs": [
    {
     "data": {
      "text/plain": [
       "((3539, 101), (885, 101))"
      ]
     },
     "execution_count": 3,
     "metadata": {},
     "output_type": "execute_result"
    }
   ],
   "source": [
    "# Split the data\n",
    "\n",
    "X_train, X_test, y_train, y_test = train_test_split(\n",
    "    df.drop(\"dropout\", axis=1),\n",
    "    df[\"dropout\"],\n",
    "    test_size=0.2,\n",
    "    random_state=1,\n",
    ")\n",
    "\n",
    "X_train.shape, X_test.shape"
   ]
  },
  {
   "cell_type": "code",
   "execution_count": 4,
   "id": "23939fe5",
   "metadata": {},
   "outputs": [
    {
     "data": {
      "text/plain": [
       "(0.3241028539135349, 0.3096045197740113)"
      ]
     },
     "execution_count": 4,
     "metadata": {},
     "output_type": "execute_result"
    }
   ],
   "source": [
    "# Fraction of students who drops out.\n",
    "\n",
    "y_train.mean(), y_test.mean()"
   ]
  },
  {
   "cell_type": "code",
   "execution_count": 5,
   "id": "688e7daf",
   "metadata": {},
   "outputs": [],
   "source": [
    "# scale the variables\n",
    "\n",
    "scaler = MinMaxScaler().set_output(transform=\"pandas\")\n",
    "\n",
    "X_train = scaler.fit_transform(X_train)\n",
    "X_test = scaler.transform(X_test)"
   ]
  },
  {
   "cell_type": "markdown",
   "id": "1ffaf7d9",
   "metadata": {},
   "source": [
    "## Variables"
   ]
  },
  {
   "cell_type": "code",
   "execution_count": 6,
   "id": "8878873c",
   "metadata": {},
   "outputs": [
    {
     "data": {
      "text/plain": [
       "(74, 27)"
      ]
     },
     "execution_count": 6,
     "metadata": {},
     "output_type": "execute_result"
    }
   ],
   "source": [
    "# Lists with numerical and categorical variables\n",
    "# The categorical variables were one hot encoded\n",
    "# into k-1 variables\n",
    "\n",
    "cat_vars = [var for var in X_train.columns if \"_\" in var]\n",
    "num_vars = [var for var in X_train.columns if var not in cat_vars]\n",
    "\n",
    "len(cat_vars), len(num_vars)"
   ]
  },
  {
   "cell_type": "markdown",
   "id": "4075eef2",
   "metadata": {},
   "source": [
    "## Chi-square (categorical variables)\n",
    "\n",
    "Find and remove categorical variables that are not good predictors of dropout. Use the chi-square test.\n",
    "\n",
    "**Hint:** sklearn's chi-square function is not what you want. Use `scipy.stats`."
   ]
  },
  {
   "cell_type": "code",
   "execution_count": null,
   "id": "f83c7811",
   "metadata": {},
   "outputs": [],
   "source": []
  },
  {
   "cell_type": "markdown",
   "id": "b92e6099",
   "metadata": {},
   "source": [
    "## Anova (numerical variables)\n",
    "\n",
    "Find and remove numerical variables that are not good predictors of dropout. Use Anova or t-test.\n",
    "\n",
    "**Hint:** The `f_classif` function from sklearn is what you want."
   ]
  },
  {
   "cell_type": "code",
   "execution_count": null,
   "id": "56f5090d",
   "metadata": {},
   "outputs": [],
   "source": []
  },
  {
   "cell_type": "markdown",
   "id": "66563cc1",
   "metadata": {},
   "source": [
    "## Correlation\n",
    "\n",
    "Find and remove variables that are highly correlated to each other. Use 0.7 as threshold. Evaluate only numerical variables, not the categorical."
   ]
  },
  {
   "cell_type": "code",
   "execution_count": null,
   "id": "a15c4d24",
   "metadata": {},
   "outputs": [],
   "source": []
  },
  {
   "cell_type": "markdown",
   "id": "1396c8f7",
   "metadata": {},
   "source": [
    "## Logistic regression\n",
    "\n",
    "Fit and evaluate a logistic regression model to predict dropout. \n",
    "\n",
    "Determine the accuracy of the model and its goodness of fit."
   ]
  },
  {
   "cell_type": "code",
   "execution_count": null,
   "id": "bc08c84c",
   "metadata": {},
   "outputs": [],
   "source": []
  },
  {
   "cell_type": "markdown",
   "id": "e3ba4809",
   "metadata": {},
   "source": [
    "## Goodness of fit\n",
    "\n",
    "Determine if the model's goodness of fit."
   ]
  },
  {
   "cell_type": "code",
   "execution_count": null,
   "id": "7a4441d1",
   "metadata": {},
   "outputs": [],
   "source": []
  },
  {
   "cell_type": "markdown",
   "id": "c63847f3",
   "metadata": {},
   "source": [
    "# Asses the coefficients significance.\n",
    "\n",
    "Use bootstrapping to determine the error of the coefficients.\n",
    "\n",
    "Identify variables whose coefficients are not significantly different from 0."
   ]
  },
  {
   "cell_type": "code",
   "execution_count": null,
   "id": "5a268e7b",
   "metadata": {},
   "outputs": [],
   "source": []
  },
  {
   "cell_type": "markdown",
   "id": "6ea2143b",
   "metadata": {},
   "source": [
    "## Re-train the logistic regression \n",
    "\n",
    "Use only the variables whose coefficients were significantly different from zero."
   ]
  },
  {
   "cell_type": "code",
   "execution_count": null,
   "id": "eb14f338",
   "metadata": {},
   "outputs": [],
   "source": []
  },
  {
   "cell_type": "markdown",
   "id": "ffbd4009",
   "metadata": {},
   "source": [
    "## Sign and magnitude of coefficients\n",
    "\n",
    "Plot the coefficients of the logistic regression and draw some conclusions."
   ]
  },
  {
   "cell_type": "code",
   "execution_count": null,
   "id": "2ab03fd5",
   "metadata": {},
   "outputs": [],
   "source": []
  },
  {
   "cell_type": "markdown",
   "id": "182bbedd",
   "metadata": {},
   "source": [
    "## Coefficient magnitude"
   ]
  },
  {
   "cell_type": "code",
   "execution_count": null,
   "id": "48eb5391",
   "metadata": {},
   "outputs": [],
   "source": []
  },
  {
   "cell_type": "markdown",
   "id": "c6e0b79f",
   "metadata": {},
   "source": [
    "## Odds ratio\n",
    "\n",
    "Plot the odds ratio and draw some conclusions."
   ]
  },
  {
   "cell_type": "code",
   "execution_count": null,
   "id": "b5ef06d1",
   "metadata": {},
   "outputs": [],
   "source": []
  },
  {
   "cell_type": "markdown",
   "id": "03825e07",
   "metadata": {},
   "source": [
    "## Local explanations\n",
    "\n",
    "Evaluate observations 525 and 3017 from the test set and draw some conclusions."
   ]
  },
  {
   "cell_type": "code",
   "execution_count": null,
   "id": "e80d1ce6",
   "metadata": {},
   "outputs": [],
   "source": []
  },
  {
   "cell_type": "code",
   "execution_count": null,
   "id": "d1bcc13f",
   "metadata": {},
   "outputs": [],
   "source": []
  }
 ],
 "metadata": {
  "kernelspec": {
   "display_name": "fsml",
   "language": "python",
   "name": "fsml"
  },
  "language_info": {
   "codemirror_mode": {
    "name": "ipython",
    "version": 3
   },
   "file_extension": ".py",
   "mimetype": "text/x-python",
   "name": "python",
   "nbconvert_exporter": "python",
   "pygments_lexer": "ipython3",
   "version": "3.10.5"
  },
  "toc": {
   "base_numbering": 1,
   "nav_menu": {},
   "number_sections": true,
   "sideBar": true,
   "skip_h1_title": false,
   "title_cell": "Table of Contents",
   "title_sidebar": "Contents",
   "toc_cell": false,
   "toc_position": {},
   "toc_section_display": true,
   "toc_window_display": true
  }
 },
 "nbformat": 4,
 "nbformat_minor": 5
}
