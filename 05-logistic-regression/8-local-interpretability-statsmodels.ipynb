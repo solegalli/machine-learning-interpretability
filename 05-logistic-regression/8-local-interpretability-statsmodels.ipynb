{
 "cells": [
  {
   "cell_type": "markdown",
   "id": "26311c47",
   "metadata": {},
   "source": [
    "#  Local interpretability\n",
    "\n",
    "[Machine Learning Interpretability course](https://www.trainindata.com/p/machine-learning-interpretability)\n",
    "\n",
    "In this notebook, we will evaluate the contribution of each feature towards the target value, for a single observation."
   ]
  },
  {
   "cell_type": "code",
   "execution_count": 1,
   "id": "90e85181",
   "metadata": {},
   "outputs": [],
   "source": [
    "import matplotlib.pyplot as plt\n",
    "import pandas as pd\n",
    "\n",
    "from sklearn.model_selection import train_test_split\n",
    "from sklearn.preprocessing import StandardScaler\n",
    "\n",
    "import statsmodels.api as sm"
   ]
  },
  {
   "cell_type": "markdown",
   "id": "05112c80",
   "metadata": {},
   "source": [
    "### Load data\n",
    "\n",
    "To obtain the data, check the folder `prepare-data` in this repo, or section 2 in the course."
   ]
  },
  {
   "cell_type": "code",
   "execution_count": 2,
   "id": "6759d4cc",
   "metadata": {},
   "outputs": [],
   "source": [
    "# load titanic dataset\n",
    "\n",
    "df = pd.read_csv('../titanic.csv')\n",
    "\n",
    "# Split the data\n",
    "\n",
    "X_train, X_test, y_train, y_test = train_test_split(\n",
    "    df.drop(\"survived\", axis=1),\n",
    "    df[\"survived\"],\n",
    "    test_size=0.15,\n",
    "    random_state=1,\n",
    ")\n",
    "\n",
    "# scale the variables\n",
    "scaler = StandardScaler().set_output(transform=\"pandas\")\n",
    "\n",
    "X_train = scaler.fit_transform(X_train)\n",
    "X_test = scaler.transform(X_test)"
   ]
  },
  {
   "cell_type": "code",
   "execution_count": 3,
   "id": "1cc30c15",
   "metadata": {},
   "outputs": [],
   "source": [
    "# We know from previous notebooks that these features are non-\n",
    "# predictive (their coefficients are not significantly \n",
    "# different from 0.)\n",
    "\n",
    "non_predictive = [\"parch\", \"embarked_S\", \"embarked_C\", \"cabin_C\", \n",
    "                  \"cabin_B\", \"cabin_E\", \"cabin_D\", \"cabin_A\", \"cabin_G\"]\n",
    "\n",
    "# So we take them out\n",
    "X_train.drop(non_predictive, axis=1, inplace=True)\n",
    "X_test.drop(non_predictive, axis=1, inplace=True)"
   ]
  },
  {
   "cell_type": "markdown",
   "id": "5bf2aec7",
   "metadata": {},
   "source": [
    "## Logistic regression"
   ]
  },
  {
   "cell_type": "code",
   "execution_count": 4,
   "id": "ed27c759",
   "metadata": {},
   "outputs": [],
   "source": [
    "# Our model needs an intercept so we add a column of 1s:\n",
    "\n",
    "X_train = sm.add_constant(X_train)\n",
    "X_test = sm.add_constant(X_test)"
   ]
  },
  {
   "cell_type": "code",
   "execution_count": 5,
   "id": "4edecf5d",
   "metadata": {},
   "outputs": [
    {
     "name": "stdout",
     "output_type": "stream",
     "text": [
      "Optimization terminated successfully.\n",
      "         Current function value: 0.478401\n",
      "         Iterations 6\n",
      "                           Logit Regression Results                           \n",
      "==============================================================================\n",
      "Dep. Variable:               survived   No. Observations:                 1112\n",
      "Model:                          Logit   Df Residuals:                     1107\n",
      "Method:                           MLE   Df Model:                            4\n",
      "Date:                Tue, 14 Nov 2023   Pseudo R-squ.:                  0.2788\n",
      "Time:                        10:59:39   Log-Likelihood:                -531.98\n",
      "converged:                       True   LL-Null:                       -737.67\n",
      "Covariance Type:            nonrobust   LLR p-value:                 9.678e-88\n",
      "==============================================================================\n",
      "                 coef    std err          z      P>|z|      [0.025      0.975]\n",
      "------------------------------------------------------------------------------\n",
      "const         -0.6454      0.078     -8.321      0.000      -0.797      -0.493\n",
      "pclass        -0.4967      0.107     -4.659      0.000      -0.706      -0.288\n",
      "sibsp         -0.2253      0.089     -2.529      0.011      -0.400      -0.051\n",
      "sex_female     1.1810      0.078     15.225      0.000       1.029       1.333\n",
      "cabin_M       -0.3301      0.104     -3.176      0.001      -0.534      -0.126\n",
      "==============================================================================\n"
     ]
    }
   ],
   "source": [
    "# Fit logistic regression model\n",
    "\n",
    "logit_mod = sm.Logit(y_train, X_train)\n",
    "\n",
    "logit_res = logit_mod.fit()\n",
    "\n",
    "print(logit_res.summary())"
   ]
  },
  {
   "cell_type": "markdown",
   "id": "e0253658",
   "metadata": {},
   "source": [
    "## Local interpretability\n",
    "\n",
    "Let's take an individual observation and evaluate how its feature values contribute towards survival."
   ]
  },
  {
   "cell_type": "code",
   "execution_count": 6,
   "id": "2a985f56",
   "metadata": {},
   "outputs": [
    {
     "data": {
      "text/html": [
       "<div>\n",
       "<style scoped>\n",
       "    .dataframe tbody tr th:only-of-type {\n",
       "        vertical-align: middle;\n",
       "    }\n",
       "\n",
       "    .dataframe tbody tr th {\n",
       "        vertical-align: top;\n",
       "    }\n",
       "\n",
       "    .dataframe thead th {\n",
       "        text-align: right;\n",
       "    }\n",
       "</style>\n",
       "<table border=\"1\" class=\"dataframe\">\n",
       "  <thead>\n",
       "    <tr style=\"text-align: right;\">\n",
       "      <th></th>\n",
       "      <th>const</th>\n",
       "      <th>pclass</th>\n",
       "      <th>sibsp</th>\n",
       "      <th>sex_female</th>\n",
       "      <th>cabin_M</th>\n",
       "    </tr>\n",
       "  </thead>\n",
       "  <tbody>\n",
       "    <tr>\n",
       "      <th>401</th>\n",
       "      <td>1.0</td>\n",
       "      <td>-0.367425</td>\n",
       "      <td>0.469050</td>\n",
       "      <td>1.352596</td>\n",
       "      <td>0.539927</td>\n",
       "    </tr>\n",
       "    <tr>\n",
       "      <th>893</th>\n",
       "      <td>1.0</td>\n",
       "      <td>0.834271</td>\n",
       "      <td>-0.474139</td>\n",
       "      <td>-0.739319</td>\n",
       "      <td>0.539927</td>\n",
       "    </tr>\n",
       "    <tr>\n",
       "      <th>90</th>\n",
       "      <td>1.0</td>\n",
       "      <td>-1.569122</td>\n",
       "      <td>0.469050</td>\n",
       "      <td>1.352596</td>\n",
       "      <td>-1.852101</td>\n",
       "    </tr>\n",
       "    <tr>\n",
       "      <th>593</th>\n",
       "      <td>1.0</td>\n",
       "      <td>-0.367425</td>\n",
       "      <td>0.469050</td>\n",
       "      <td>1.352596</td>\n",
       "      <td>0.539927</td>\n",
       "    </tr>\n",
       "    <tr>\n",
       "      <th>866</th>\n",
       "      <td>1.0</td>\n",
       "      <td>0.834271</td>\n",
       "      <td>-0.474139</td>\n",
       "      <td>1.352596</td>\n",
       "      <td>0.539927</td>\n",
       "    </tr>\n",
       "  </tbody>\n",
       "</table>\n",
       "</div>"
      ],
      "text/plain": [
       "     const    pclass     sibsp  sex_female   cabin_M\n",
       "401    1.0 -0.367425  0.469050    1.352596  0.539927\n",
       "893    1.0  0.834271 -0.474139   -0.739319  0.539927\n",
       "90     1.0 -1.569122  0.469050    1.352596 -1.852101\n",
       "593    1.0 -0.367425  0.469050    1.352596  0.539927\n",
       "866    1.0  0.834271 -0.474139    1.352596  0.539927"
      ]
     },
     "execution_count": 6,
     "metadata": {},
     "output_type": "execute_result"
    }
   ],
   "source": [
    "# Let's pick up a few observations\n",
    "\n",
    "X_test.tail()"
   ]
  },
  {
   "cell_type": "code",
   "execution_count": 7,
   "id": "588fffaf",
   "metadata": {},
   "outputs": [
    {
     "data": {
      "text/html": [
       "<div>\n",
       "<style scoped>\n",
       "    .dataframe tbody tr th:only-of-type {\n",
       "        vertical-align: middle;\n",
       "    }\n",
       "\n",
       "    .dataframe tbody tr th {\n",
       "        vertical-align: top;\n",
       "    }\n",
       "\n",
       "    .dataframe thead th {\n",
       "        text-align: right;\n",
       "    }\n",
       "</style>\n",
       "<table border=\"1\" class=\"dataframe\">\n",
       "  <thead>\n",
       "    <tr style=\"text-align: right;\">\n",
       "      <th></th>\n",
       "      <th>const</th>\n",
       "      <th>pclass</th>\n",
       "      <th>sibsp</th>\n",
       "      <th>sex_female</th>\n",
       "      <th>cabin_M</th>\n",
       "    </tr>\n",
       "  </thead>\n",
       "  <tbody>\n",
       "    <tr>\n",
       "      <th>401</th>\n",
       "      <td>1.0</td>\n",
       "      <td>-0.367425</td>\n",
       "      <td>0.469050</td>\n",
       "      <td>1.352596</td>\n",
       "      <td>0.539927</td>\n",
       "    </tr>\n",
       "    <tr>\n",
       "      <th>90</th>\n",
       "      <td>1.0</td>\n",
       "      <td>-1.569122</td>\n",
       "      <td>0.469050</td>\n",
       "      <td>1.352596</td>\n",
       "      <td>-1.852101</td>\n",
       "    </tr>\n",
       "    <tr>\n",
       "      <th>893</th>\n",
       "      <td>1.0</td>\n",
       "      <td>0.834271</td>\n",
       "      <td>-0.474139</td>\n",
       "      <td>-0.739319</td>\n",
       "      <td>0.539927</td>\n",
       "    </tr>\n",
       "  </tbody>\n",
       "</table>\n",
       "</div>"
      ],
      "text/plain": [
       "     const    pclass     sibsp  sex_female   cabin_M\n",
       "401    1.0 -0.367425  0.469050    1.352596  0.539927\n",
       "90     1.0 -1.569122  0.469050    1.352596 -1.852101\n",
       "893    1.0  0.834271 -0.474139   -0.739319  0.539927"
      ]
     },
     "execution_count": 7,
     "metadata": {},
     "output_type": "execute_result"
    }
   ],
   "source": [
    "# We'll analize the following predictions\n",
    "\n",
    "X_test.loc[[401, 90, 893]]"
   ]
  },
  {
   "cell_type": "code",
   "execution_count": 8,
   "id": "77aba300",
   "metadata": {},
   "outputs": [
    {
     "data": {
      "text/plain": [
       "401    0.700710\n",
       "90     0.903532\n",
       "893    0.118756\n",
       "Name: predicted, dtype: float64"
      ]
     },
     "execution_count": 8,
     "metadata": {},
     "output_type": "execute_result"
    }
   ],
   "source": [
    "# obtain probability of survival\n",
    "\n",
    "logit_res.get_prediction(X_test.loc[[401, 90, 893]]).summary_frame()[\"predicted\"]"
   ]
  },
  {
   "cell_type": "markdown",
   "id": "b9f4feab",
   "metadata": {},
   "source": [
    "First 2 passengers were likely to survive. The latter was not."
   ]
  },
  {
   "cell_type": "code",
   "execution_count": 9,
   "id": "7934d599",
   "metadata": {},
   "outputs": [
    {
     "data": {
      "text/plain": [
       "401    1\n",
       "90     1\n",
       "893    0\n",
       "Name: survived, dtype: int64"
      ]
     },
     "execution_count": 9,
     "metadata": {},
     "output_type": "execute_result"
    }
   ],
   "source": [
    "# check if they survived\n",
    "\n",
    "y_test.loc[[401, 90, 893]]"
   ]
  },
  {
   "cell_type": "markdown",
   "id": "d5cff837",
   "metadata": {},
   "source": [
    "The first 2 survived, the last one did not. Model matches reality for this observations.\n",
    "\n",
    "**Check first passenger:**"
   ]
  },
  {
   "cell_type": "code",
   "execution_count": 10,
   "id": "8e0b0f83",
   "metadata": {},
   "outputs": [
    {
     "data": {
      "text/plain": [
       "const         1.000000\n",
       "pclass       -0.367425\n",
       "sibsp         0.469050\n",
       "sex_female    1.352596\n",
       "cabin_M       0.539927\n",
       "Name: 401, dtype: float64"
      ]
     },
     "execution_count": 10,
     "metadata": {},
     "output_type": "execute_result"
    }
   ],
   "source": [
    "obs = 401\n",
    "\n",
    "X_test.loc[obs]"
   ]
  },
  {
   "cell_type": "code",
   "execution_count": 11,
   "id": "805dbd62",
   "metadata": {},
   "outputs": [
    {
     "data": {
      "text/plain": [
       "array([ 0.83427143, -0.36742524, -1.56912191])"
      ]
     },
     "execution_count": 11,
     "metadata": {},
     "output_type": "execute_result"
    }
   ],
   "source": [
    "X_train[\"pclass\"].unique()"
   ]
  },
  {
   "cell_type": "markdown",
   "id": "572c6391",
   "metadata": {},
   "source": [
    "Female, second class, we don't know in which cabin she was traveling."
   ]
  },
  {
   "cell_type": "code",
   "execution_count": 12,
   "id": "5b802030",
   "metadata": {},
   "outputs": [
    {
     "data": {
      "text/plain": [
       "const        -0.645351\n",
       "pclass        0.182514\n",
       "sibsp        -0.105694\n",
       "sex_female    1.597413\n",
       "cabin_M      -0.178203\n",
       "dtype: float64"
      ]
     },
     "execution_count": 12,
     "metadata": {},
     "output_type": "execute_result"
    }
   ],
   "source": [
    "# log(Odds) contribution of each feature\n",
    "\n",
    "effect = logit_res.params * X_test.loc[obs]\n",
    "effect"
   ]
  },
  {
   "cell_type": "code",
   "execution_count": 13,
   "id": "07a4bfbf",
   "metadata": {},
   "outputs": [
    {
     "data": {
      "image/png": "[encoded data removed]",
      "text/plain": [
       "<Figure size 432x288 with 1 Axes>"
      ]
     },
     "metadata": {
      "needs_background": "light"
     },
     "output_type": "display_data"
    }
   ],
   "source": [
    "effect.plot.bar()\n",
    "\n",
    "plt.axhline(y=0, color='r', linestyle='-')\n",
    "plt.ylabel(\"Log(Odds)\")\n",
    "plt.title(f\"Local interpretability for {obs}\")\n",
    "plt.show()"
   ]
  },
  {
   "cell_type": "markdown",
   "id": "774d04c7",
   "metadata": {},
   "source": [
    "What do we make of this plot?\n",
    "\n",
    "- She was female, that increased her chances of survival.\n",
    "- Being in second class also seemed to increase her chance of survival\n",
    "- We don't have data about where she was traveling and she probably had a husband or a child, which in this data, makes her less likely to survive.\n",
    "\n",
    "**Let's try someone else:**"
   ]
  },
  {
   "cell_type": "code",
   "execution_count": 14,
   "id": "0e7ca790",
   "metadata": {},
   "outputs": [
    {
     "data": {
      "text/plain": [
       "const         1.000000\n",
       "pclass       -1.569122\n",
       "sibsp         0.469050\n",
       "sex_female    1.352596\n",
       "cabin_M      -1.852101\n",
       "Name: 90, dtype: float64"
      ]
     },
     "execution_count": 14,
     "metadata": {},
     "output_type": "execute_result"
    }
   ],
   "source": [
    "obs = 90\n",
    "\n",
    "X_test.loc[obs]"
   ]
  },
  {
   "cell_type": "markdown",
   "id": "804a2f56",
   "metadata": {},
   "source": [
    "Female, first class. We have data about which cabin she was traveling."
   ]
  },
  {
   "cell_type": "code",
   "execution_count": 15,
   "id": "cd98a8ef",
   "metadata": {},
   "outputs": [
    {
     "data": {
      "image/png": "[encoded data removed]",
      "text/plain": [
       "<Figure size 432x288 with 1 Axes>"
      ]
     },
     "metadata": {
      "needs_background": "light"
     },
     "output_type": "display_data"
    }
   ],
   "source": [
    "# log(Odds) contribution of each feature\n",
    "\n",
    "effect = logit_res.params * X_test.loc[obs]\n",
    "effect.plot.bar()\n",
    "\n",
    "plt.axhline(y=0, color='r', linestyle='-')\n",
    "plt.ylabel(\"Log(Odds)\")\n",
    "plt.title(f\"Local interpretability for {obs}\")\n",
    "plt.show()"
   ]
  },
  {
   "cell_type": "markdown",
   "id": "3b5d5a11",
   "metadata": {},
   "source": [
    "What to make of this?\n",
    "\n",
    "This passenger was among the most likely to survive based on our model:\n",
    "\n",
    "- She was female\n",
    "- She was rich (traveled first class)\n",
    "- We know in which cabin she was traveling (not missing data)\n",
    "\n",
    "**Let's try one more passenger:**"
   ]
  },
  {
   "cell_type": "code",
   "execution_count": 16,
   "id": "4351fd44",
   "metadata": {},
   "outputs": [
    {
     "data": {
      "text/plain": [
       "const         1.000000\n",
       "pclass        0.834271\n",
       "sibsp        -0.474139\n",
       "sex_female   -0.739319\n",
       "cabin_M       0.539927\n",
       "Name: 893, dtype: float64"
      ]
     },
     "execution_count": 16,
     "metadata": {},
     "output_type": "execute_result"
    }
   ],
   "source": [
    "obs = 893\n",
    "\n",
    "X_test.loc[obs]"
   ]
  },
  {
   "cell_type": "markdown",
   "id": "b80e148e",
   "metadata": {},
   "source": [
    "Male, third class. His cabin information is missing."
   ]
  },
  {
   "cell_type": "code",
   "execution_count": 17,
   "id": "0deb9233",
   "metadata": {},
   "outputs": [
    {
     "data": {
      "image/png": "[encoded data removed]",
      "text/plain": [
       "<Figure size 432x288 with 1 Axes>"
      ]
     },
     "metadata": {
      "needs_background": "light"
     },
     "output_type": "display_data"
    }
   ],
   "source": [
    "# log(Odds) contribution of each feature\n",
    "\n",
    "effect = logit_res.params * X_test.loc[obs]\n",
    "effect.plot.bar()\n",
    "\n",
    "plt.axhline(y=0, color='r', linestyle='-')\n",
    "plt.ylabel(\"Log(Odds)\")\n",
    "plt.title(f\"Local interpretability for {obs}\")\n",
    "plt.show()"
   ]
  },
  {
   "cell_type": "markdown",
   "id": "5b7f1348",
   "metadata": {},
   "source": [
    "As expected, because he was male and poor, his chances of survival were little. The plot shows that these 2 variables are decreasing his probability of survival."
   ]
  },
  {
   "cell_type": "code",
   "execution_count": null,
   "id": "3daf520d",
   "metadata": {},
   "outputs": [],
   "source": []
  }
 ],
 "metadata": {
  "kernelspec": {
   "display_name": "fsml",
   "language": "python",
   "name": "fsml"
  },
  "language_info": {
   "codemirror_mode": {
    "name": "ipython",
    "version": 3
   },
   "file_extension": ".py",
   "mimetype": "text/x-python",
   "name": "python",
   "nbconvert_exporter": "python",
   "pygments_lexer": "ipython3",
   "version": "3.10.5"
  },
  "toc": {
   "base_numbering": 1,
   "nav_menu": {},
   "number_sections": true,
   "sideBar": true,
   "skip_h1_title": false,
   "title_cell": "Table of Contents",
   "title_sidebar": "Contents",
   "toc_cell": false,
   "toc_position": {},
   "toc_section_display": true,
   "toc_window_display": true
  }
 },
 "nbformat": 4,
 "nbformat_minor": 5
}
