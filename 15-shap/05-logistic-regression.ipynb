{
 "cells": [
  {
   "cell_type": "markdown",
   "id": "5e9e49bd",
   "metadata": {},
   "source": [
    "# SHAP - Logistic regression\n",
    "\n",
    "- [Online Course](https://www.trainindata.com/p/machine-learning-interpretability)\n",
    "\n",
    "In this notebook, we'll use the approximation of Shapley values that is suitable for linear models to interpret the log(Odds).\n",
    "\n",
    "Then, we'll interpret the probabilities by estimating SHAP with a model agnostic method."
   ]
  },
  {
   "cell_type": "code",
   "execution_count": 1,
   "id": "b619bd11",
   "metadata": {},
   "outputs": [],
   "source": [
    "import matplotlib.pyplot as plt\n",
    "import pandas as pd\n",
    "\n",
    "from sklearn.linear_model import LogisticRegression\n",
    "from sklearn.model_selection import train_test_split\n",
    "from sklearn.preprocessing import StandardScaler\n",
    "\n",
    "import shap"
   ]
  },
  {
   "cell_type": "markdown",
   "id": "750e70b0",
   "metadata": {},
   "source": [
    "### Load data\n",
    "\n",
    "To obtain the data, check the folder `prepare-data` in this repo, or section 2 in the course."
   ]
  },
  {
   "cell_type": "code",
   "execution_count": 2,
   "id": "050acc05",
   "metadata": {},
   "outputs": [
    {
     "data": {
      "text/html": [
       "<div>\n",
       "<style scoped>\n",
       "    .dataframe tbody tr th:only-of-type {\n",
       "        vertical-align: middle;\n",
       "    }\n",
       "\n",
       "    .dataframe tbody tr th {\n",
       "        vertical-align: top;\n",
       "    }\n",
       "\n",
       "    .dataframe thead th {\n",
       "        text-align: right;\n",
       "    }\n",
       "</style>\n",
       "<table border=\"1\" class=\"dataframe\">\n",
       "  <thead>\n",
       "    <tr style=\"text-align: right;\">\n",
       "      <th></th>\n",
       "      <th>pclass</th>\n",
       "      <th>sibsp</th>\n",
       "      <th>survived</th>\n",
       "      <th>fare</th>\n",
       "      <th>sex_female</th>\n",
       "      <th>cabin_M</th>\n",
       "    </tr>\n",
       "  </thead>\n",
       "  <tbody>\n",
       "    <tr>\n",
       "      <th>0</th>\n",
       "      <td>1</td>\n",
       "      <td>0</td>\n",
       "      <td>1</td>\n",
       "      <td>211.3375</td>\n",
       "      <td>1</td>\n",
       "      <td>0</td>\n",
       "    </tr>\n",
       "    <tr>\n",
       "      <th>1</th>\n",
       "      <td>1</td>\n",
       "      <td>1</td>\n",
       "      <td>1</td>\n",
       "      <td>151.5500</td>\n",
       "      <td>0</td>\n",
       "      <td>0</td>\n",
       "    </tr>\n",
       "    <tr>\n",
       "      <th>2</th>\n",
       "      <td>1</td>\n",
       "      <td>1</td>\n",
       "      <td>0</td>\n",
       "      <td>151.5500</td>\n",
       "      <td>1</td>\n",
       "      <td>0</td>\n",
       "    </tr>\n",
       "    <tr>\n",
       "      <th>3</th>\n",
       "      <td>1</td>\n",
       "      <td>1</td>\n",
       "      <td>0</td>\n",
       "      <td>151.5500</td>\n",
       "      <td>0</td>\n",
       "      <td>0</td>\n",
       "    </tr>\n",
       "    <tr>\n",
       "      <th>4</th>\n",
       "      <td>1</td>\n",
       "      <td>1</td>\n",
       "      <td>0</td>\n",
       "      <td>151.5500</td>\n",
       "      <td>1</td>\n",
       "      <td>0</td>\n",
       "    </tr>\n",
       "  </tbody>\n",
       "</table>\n",
       "</div>"
      ],
      "text/plain": [
       "   pclass  sibsp  survived      fare  sex_female  cabin_M\n",
       "0       1      0         1  211.3375           1        0\n",
       "1       1      1         1  151.5500           0        0\n",
       "2       1      1         0  151.5500           1        0\n",
       "3       1      1         0  151.5500           0        0\n",
       "4       1      1         0  151.5500           1        0"
      ]
     },
     "execution_count": 2,
     "metadata": {},
     "output_type": "execute_result"
    }
   ],
   "source": [
    "# load titanic dataset\n",
    "\n",
    "df = pd.read_csv('../titanic2.csv')\n",
    "\n",
    "to_drop = [\n",
    "    \"parch\", \"embarked_S\", \"embarked_C\", \"cabin_C\", \"cabin_B\", \"cabin_E\",\n",
    "    \"cabin_D\", \"cabin_A\", \"cabin_G\"\n",
    "]\n",
    "\n",
    "df.drop(to_drop, axis=1, inplace=True)\n",
    "\n",
    "df.head()"
   ]
  },
  {
   "cell_type": "code",
   "execution_count": 3,
   "id": "715ba744",
   "metadata": {},
   "outputs": [
    {
     "data": {
      "text/plain": [
       "((1112, 5), (197, 5))"
      ]
     },
     "execution_count": 3,
     "metadata": {},
     "output_type": "execute_result"
    }
   ],
   "source": [
    "# Split the data\n",
    "\n",
    "X_train, X_test, y_train, y_test = train_test_split(\n",
    "    df.drop(\"survived\", axis=1),\n",
    "    df[\"survived\"],\n",
    "    test_size=0.15,\n",
    "    random_state=1,\n",
    ")\n",
    "\n",
    "X_train.shape, X_test.shape"
   ]
  },
  {
   "cell_type": "code",
   "execution_count": 4,
   "id": "2d9af713",
   "metadata": {},
   "outputs": [
    {
     "data": {
      "text/html": [
       "<div>\n",
       "<style scoped>\n",
       "    .dataframe tbody tr th:only-of-type {\n",
       "        vertical-align: middle;\n",
       "    }\n",
       "\n",
       "    .dataframe tbody tr th {\n",
       "        vertical-align: top;\n",
       "    }\n",
       "\n",
       "    .dataframe thead th {\n",
       "        text-align: right;\n",
       "    }\n",
       "</style>\n",
       "<table border=\"1\" class=\"dataframe\">\n",
       "  <thead>\n",
       "    <tr style=\"text-align: right;\">\n",
       "      <th></th>\n",
       "      <th>pclass</th>\n",
       "      <th>sibsp</th>\n",
       "      <th>fare</th>\n",
       "      <th>sex_female</th>\n",
       "      <th>cabin_M</th>\n",
       "    </tr>\n",
       "  </thead>\n",
       "  <tbody>\n",
       "    <tr>\n",
       "      <th>1021</th>\n",
       "      <td>0.834271</td>\n",
       "      <td>-0.474139</td>\n",
       "      <td>-0.490185</td>\n",
       "      <td>-0.739319</td>\n",
       "      <td>0.539927</td>\n",
       "    </tr>\n",
       "    <tr>\n",
       "      <th>512</th>\n",
       "      <td>-0.367425</td>\n",
       "      <td>0.469050</td>\n",
       "      <td>-0.060516</td>\n",
       "      <td>-0.739319</td>\n",
       "      <td>0.539927</td>\n",
       "    </tr>\n",
       "    <tr>\n",
       "      <th>957</th>\n",
       "      <td>0.834271</td>\n",
       "      <td>2.355428</td>\n",
       "      <td>-0.149726</td>\n",
       "      <td>1.352596</td>\n",
       "      <td>0.539927</td>\n",
       "    </tr>\n",
       "    <tr>\n",
       "      <th>1066</th>\n",
       "      <td>0.834271</td>\n",
       "      <td>-0.474139</td>\n",
       "      <td>-0.503101</td>\n",
       "      <td>-0.739319</td>\n",
       "      <td>0.539927</td>\n",
       "    </tr>\n",
       "    <tr>\n",
       "      <th>1259</th>\n",
       "      <td>0.834271</td>\n",
       "      <td>-0.474139</td>\n",
       "      <td>-0.490185</td>\n",
       "      <td>-0.739319</td>\n",
       "      <td>0.539927</td>\n",
       "    </tr>\n",
       "  </tbody>\n",
       "</table>\n",
       "</div>"
      ],
      "text/plain": [
       "        pclass     sibsp      fare  sex_female   cabin_M\n",
       "1021  0.834271 -0.474139 -0.490185   -0.739319  0.539927\n",
       "512  -0.367425  0.469050 -0.060516   -0.739319  0.539927\n",
       "957   0.834271  2.355428 -0.149726    1.352596  0.539927\n",
       "1066  0.834271 -0.474139 -0.503101   -0.739319  0.539927\n",
       "1259  0.834271 -0.474139 -0.490185   -0.739319  0.539927"
      ]
     },
     "execution_count": 4,
     "metadata": {},
     "output_type": "execute_result"
    }
   ],
   "source": [
    "# scale the variables\n",
    "scaler = StandardScaler().set_output(transform=\"pandas\")\n",
    "\n",
    "X_train = scaler.fit_transform(X_train)\n",
    "X_test = scaler.transform(X_test)\n",
    "\n",
    "# display top 5 rows\n",
    "X_train.head()"
   ]
  },
  {
   "cell_type": "markdown",
   "id": "adfae3e9",
   "metadata": {},
   "source": [
    "## Logistic regression"
   ]
  },
  {
   "cell_type": "code",
   "execution_count": 5,
   "id": "89b7867b",
   "metadata": {},
   "outputs": [
    {
     "data": {
      "text/plain": [
       "0.8426395939086294"
      ]
     },
     "execution_count": 5,
     "metadata": {},
     "output_type": "execute_result"
    }
   ],
   "source": [
    "logit = LogisticRegression(random_state=1)\n",
    "\n",
    "logit.fit(X_train, y_train)\n",
    "\n",
    "# Accuracy in test set\n",
    "logit.score(X_test, y_test)"
   ]
  },
  {
   "cell_type": "code",
   "execution_count": 6,
   "id": "105e944e",
   "metadata": {},
   "outputs": [
    {
     "data": {
      "text/plain": [
       "pclass       -0.484112\n",
       "sibsp        -0.225560\n",
       "fare          0.020358\n",
       "sex_female    1.171343\n",
       "cabin_M      -0.326350\n",
       "dtype: float64"
      ]
     },
     "execution_count": 6,
     "metadata": {},
     "output_type": "execute_result"
    }
   ],
   "source": [
    "# coefficients\n",
    "\n",
    "coeffs = pd.Series(logit.coef_[0], index=logit.feature_names_in_)\n",
    "coeffs"
   ]
  },
  {
   "cell_type": "markdown",
   "id": "54402af7",
   "metadata": {},
   "source": [
    "## Feature effects\n",
    "\n",
    "Let's take an individual observation and evaluate how its feature values contribute towards survival. This is given by the feature's values multiplied by the model coefficients, which returns the change in the log(odds) resulting from each feature."
   ]
  },
  {
   "cell_type": "code",
   "execution_count": 7,
   "id": "a046cca1",
   "metadata": {},
   "outputs": [],
   "source": [
    "# reset index so we can compare with outpuf of SHAP later\n",
    "\n",
    "X_test.reset_index(inplace=True, drop=True)"
   ]
  },
  {
   "cell_type": "code",
   "execution_count": 8,
   "id": "e5d8d18c",
   "metadata": {},
   "outputs": [
    {
     "data": {
      "text/html": [
       "<div>\n",
       "<style scoped>\n",
       "    .dataframe tbody tr th:only-of-type {\n",
       "        vertical-align: middle;\n",
       "    }\n",
       "\n",
       "    .dataframe tbody tr th {\n",
       "        vertical-align: top;\n",
       "    }\n",
       "\n",
       "    .dataframe thead th {\n",
       "        text-align: right;\n",
       "    }\n",
       "</style>\n",
       "<table border=\"1\" class=\"dataframe\">\n",
       "  <thead>\n",
       "    <tr style=\"text-align: right;\">\n",
       "      <th></th>\n",
       "      <th>pclass</th>\n",
       "      <th>sibsp</th>\n",
       "      <th>fare</th>\n",
       "      <th>sex_female</th>\n",
       "      <th>cabin_M</th>\n",
       "    </tr>\n",
       "  </thead>\n",
       "  <tbody>\n",
       "    <tr>\n",
       "      <th>192</th>\n",
       "      <td>-0.367425</td>\n",
       "      <td>0.469050</td>\n",
       "      <td>-0.374654</td>\n",
       "      <td>1.352596</td>\n",
       "      <td>0.539927</td>\n",
       "    </tr>\n",
       "    <tr>\n",
       "      <th>193</th>\n",
       "      <td>0.834271</td>\n",
       "      <td>-0.474139</td>\n",
       "      <td>-0.490991</td>\n",
       "      <td>-0.739319</td>\n",
       "      <td>0.539927</td>\n",
       "    </tr>\n",
       "    <tr>\n",
       "      <th>194</th>\n",
       "      <td>-1.569122</td>\n",
       "      <td>0.469050</td>\n",
       "      <td>0.364390</td>\n",
       "      <td>1.352596</td>\n",
       "      <td>-1.852101</td>\n",
       "    </tr>\n",
       "    <tr>\n",
       "      <th>195</th>\n",
       "      <td>-0.367425</td>\n",
       "      <td>0.469050</td>\n",
       "      <td>-0.105485</td>\n",
       "      <td>1.352596</td>\n",
       "      <td>0.539927</td>\n",
       "    </tr>\n",
       "    <tr>\n",
       "      <th>196</th>\n",
       "      <td>0.834271</td>\n",
       "      <td>-0.474139</td>\n",
       "      <td>-0.405090</td>\n",
       "      <td>1.352596</td>\n",
       "      <td>0.539927</td>\n",
       "    </tr>\n",
       "  </tbody>\n",
       "</table>\n",
       "</div>"
      ],
      "text/plain": [
       "       pclass     sibsp      fare  sex_female   cabin_M\n",
       "192 -0.367425  0.469050 -0.374654    1.352596  0.539927\n",
       "193  0.834271 -0.474139 -0.490991   -0.739319  0.539927\n",
       "194 -1.569122  0.469050  0.364390    1.352596 -1.852101\n",
       "195 -0.367425  0.469050 -0.105485    1.352596  0.539927\n",
       "196  0.834271 -0.474139 -0.405090    1.352596  0.539927"
      ]
     },
     "execution_count": 8,
     "metadata": {},
     "output_type": "execute_result"
    }
   ],
   "source": [
    "# we'll explain one observations from this view\n",
    "\n",
    "X_test.tail()"
   ]
  },
  {
   "cell_type": "code",
   "execution_count": 9,
   "id": "7e8393db",
   "metadata": {},
   "outputs": [
    {
     "data": {
      "text/plain": [
       "pclass        0.834271\n",
       "sibsp        -0.474139\n",
       "fare         -0.490991\n",
       "sex_female   -0.739319\n",
       "cabin_M       0.539927\n",
       "Name: 193, dtype: float64"
      ]
     },
     "execution_count": 9,
     "metadata": {},
     "output_type": "execute_result"
    }
   ],
   "source": [
    "obs = 193\n",
    "\n",
    "# feature values\n",
    "X_test.loc[obs]"
   ]
  },
  {
   "cell_type": "code",
   "execution_count": 10,
   "id": "8901cdf9",
   "metadata": {},
   "outputs": [
    {
     "data": {
      "text/plain": [
       "pclass       -0.403881\n",
       "sibsp         0.106947\n",
       "fare         -0.009996\n",
       "sex_female   -0.865996\n",
       "cabin_M      -0.176205\n",
       "dtype: float64"
      ]
     },
     "execution_count": 10,
     "metadata": {},
     "output_type": "execute_result"
    }
   ],
   "source": [
    "# change in log(odds) resulting from each feature\n",
    "\n",
    "effect = coeffs * X_test.loc[obs]\n",
    "effect"
   ]
  },
  {
   "cell_type": "code",
   "execution_count": 11,
   "id": "f0ba909e",
   "metadata": {},
   "outputs": [
    {
     "data": {
      "image/png": "[encoded data removed]",
      "text/plain": [
       "<Figure size 432x288 with 1 Axes>"
      ]
     },
     "metadata": {
      "needs_background": "light"
     },
     "output_type": "display_data"
    }
   ],
   "source": [
    "effect.plot.bar()\n",
    "\n",
    "plt.axhline(y=0, color='r', linestyle='-')\n",
    "plt.ylabel(\"log(Odds)\")\n",
    "plt.title(f\"Local interpretability for {obs}\")\n",
    "plt.show()"
   ]
  },
  {
   "cell_type": "code",
   "execution_count": 12,
   "id": "14c52e7d",
   "metadata": {},
   "outputs": [
    {
     "data": {
      "text/plain": [
       "array([0.87991242, 0.12008758])"
      ]
     },
     "execution_count": 12,
     "metadata": {},
     "output_type": "execute_result"
    }
   ],
   "source": [
    "# prediction of the observation being explained\n",
    "\n",
    "preds = logit.predict_proba(X_test)\n",
    "\n",
    "preds[obs]"
   ]
  },
  {
   "cell_type": "markdown",
   "id": "ef7131e9",
   "metadata": {},
   "source": [
    "## SHAP manual\n",
    "\n",
    "We'll calculate the SHAP values manually as we discussed in the video. The manual calculation is only suitable to explain log(Odds) and not probabilities."
   ]
  },
  {
   "cell_type": "code",
   "execution_count": 13,
   "id": "7c970778",
   "metadata": {},
   "outputs": [
    {
     "data": {
      "text/plain": [
       "pclass        1.341852e-16\n",
       "sibsp         5.750796e-17\n",
       "fare          3.833864e-17\n",
       "sex_female   -5.910540e-17\n",
       "cabin_M       5.111818e-17\n",
       "dtype: float64"
      ]
     },
     "execution_count": 13,
     "metadata": {},
     "output_type": "execute_result"
    }
   ],
   "source": [
    "# the mean value of each variable\n",
    "\n",
    "X_train.mean()"
   ]
  },
  {
   "cell_type": "code",
   "execution_count": 14,
   "id": "c3302066",
   "metadata": {},
   "outputs": [
    {
     "data": {
      "text/plain": [
       "pclass       -6.496071e-17\n",
       "sibsp        -1.297151e-17\n",
       "fare          7.804984e-19\n",
       "sex_female   -6.923271e-17\n",
       "cabin_M      -1.668243e-17\n",
       "dtype: float64"
      ]
     },
     "execution_count": 14,
     "metadata": {},
     "output_type": "execute_result"
    }
   ],
   "source": [
    "# the expected (mean) effect for each variable\n",
    "\n",
    "coeffs * X_train.mean()"
   ]
  },
  {
   "cell_type": "code",
   "execution_count": 15,
   "id": "1571292c",
   "metadata": {},
   "outputs": [
    {
     "data": {
      "text/plain": [
       "pclass       -0.403881\n",
       "sibsp         0.106947\n",
       "fare         -0.009996\n",
       "sex_female   -0.865996\n",
       "cabin_M      -0.176205\n",
       "dtype: float64"
      ]
     },
     "execution_count": 15,
     "metadata": {},
     "output_type": "execute_result"
    }
   ],
   "source": [
    "# the shap value for each variable (log odds)\n",
    "\n",
    "effect - coeffs * X_train.mean()"
   ]
  },
  {
   "cell_type": "markdown",
   "id": "d8947466",
   "metadata": {},
   "source": [
    "## SHAP for log odds\n",
    "\n",
    "We'll now use the SHAP library. The `LinearExplainer` will explain the log(Odds) automatically, regardless of whether we pass a link function. In fact, that argument is ignored."
   ]
  },
  {
   "cell_type": "code",
   "execution_count": 16,
   "id": "c684eb17",
   "metadata": {},
   "outputs": [],
   "source": [
    "# we don't need a link function. I leave it as a reminder that we can \n",
    "# pass it or not and we'll obtain the same results.\n",
    "\n",
    "explainer = shap.LinearExplainer(logit, X_train, link=shap.links.logit)"
   ]
  },
  {
   "cell_type": "code",
   "execution_count": 17,
   "id": "12c8b428",
   "metadata": {},
   "outputs": [],
   "source": [
    "shap_values = explainer(X_test)"
   ]
  },
  {
   "cell_type": "code",
   "execution_count": 18,
   "id": "9320b90f",
   "metadata": {},
   "outputs": [
    {
     "data": {
      "text/plain": [
       ".values =\n",
       "array([-0.40722924,  0.10211807, -0.00878069, -0.83311919, -0.21077256])\n",
       "\n",
       ".base_values =\n",
       "-0.6338174640934118\n",
       "\n",
       ".data =\n",
       "array([ 0.83427143, -0.47413915, -0.49099109, -0.73931894,  0.5399273 ])"
      ]
     },
     "execution_count": 18,
     "metadata": {},
     "output_type": "execute_result"
    }
   ],
   "source": [
    "# these values don't coincide with those calculated manually.\n",
    "# That's because by default, LinearExplainer uses only 100 observations\n",
    "# from the data. \n",
    "\n",
    "shap_values[obs]"
   ]
  },
  {
   "cell_type": "markdown",
   "id": "6c13f787",
   "metadata": {},
   "source": [
    "**Important**\n",
    "\n",
    "The difference in the values that we see between the SHAP library and the manual calculation are due to the SHAP library using **only 100 values** from the training set by default to estimate the expected mean effect.\n",
    "\n",
    "See this [stackoverflow thread](https://stackoverflow.com/questions/78796974/shap-values-for-linear-model-different-from-those-calculated-manually) for more details. That is true for SHAP version 0.46.0.\n",
    "\n",
    "To override this behaviour, we need to set up the explainer like this:"
   ]
  },
  {
   "cell_type": "code",
   "execution_count": 19,
   "id": "4c5e98eb",
   "metadata": {},
   "outputs": [
    {
     "data": {
      "text/plain": [
       ".values =\n",
       "array([-0.403881  ,  0.10694695, -0.0099956 , -0.8659962 , -0.17620541])\n",
       "\n",
       ".base_values =\n",
       "-0.6424698035301213\n",
       "\n",
       ".data =\n",
       "array([ 0.83427143, -0.47413915, -0.49099109, -0.73931894,  0.5399273 ])"
      ]
     },
     "execution_count": 19,
     "metadata": {},
     "output_type": "execute_result"
    }
   ],
   "source": [
    "# to use the entire background data:\n",
    "\n",
    "explainer = shap.LinearExplainer(\n",
    "    logit,\n",
    "    shap.maskers.Independent(X_train, max_samples=len(X_train)),\n",
    ")\n",
    "\n",
    "shap_values = explainer(X_test)\n",
    "shap_values[obs]"
   ]
  },
  {
   "cell_type": "markdown",
   "id": "e33b1b0d",
   "metadata": {},
   "source": [
    "We can plot the change in the log(odds) according to the Shapley values per feature."
   ]
  },
  {
   "cell_type": "code",
   "execution_count": 20,
   "id": "7b26b488",
   "metadata": {},
   "outputs": [
    {
     "data": {
      "image/png": "[encoded data removed]",
      "text/plain": [
       "<Figure size 576x288 with 3 Axes>"
      ]
     },
     "metadata": {},
     "output_type": "display_data"
    }
   ],
   "source": [
    "# data index, :, class index\n",
    "\n",
    "shap.plots.waterfall(shap_values[obs])"
   ]
  },
  {
   "cell_type": "code",
   "execution_count": 21,
   "id": "c0a36677",
   "metadata": {},
   "outputs": [
    {
     "data": {
      "image/png": "[encoded data removed]",
      "text/plain": [
       "<Figure size 432x360 with 2 Axes>"
      ]
     },
     "metadata": {
      "needs_background": "light"
     },
     "output_type": "display_data"
    }
   ],
   "source": [
    "# we can see the change in the Shapley value as the feature value increases\n",
    "# we are measuring in log odds, so it should be linear.\n",
    "\n",
    "shap.plots.scatter(shap_values[:,\"pclass\"])"
   ]
  },
  {
   "cell_type": "code",
   "execution_count": 22,
   "id": "eeca900e",
   "metadata": {},
   "outputs": [
    {
     "data": {
      "image/png": "[encoded data removed]",
      "text/plain": [
       "<Figure size 432x360 with 2 Axes>"
      ]
     },
     "metadata": {
      "needs_background": "light"
     },
     "output_type": "display_data"
    }
   ],
   "source": [
    "shap.plots.scatter(shap_values[:,\"sibsp\"])"
   ]
  },
  {
   "cell_type": "code",
   "execution_count": 23,
   "id": "c033abe8",
   "metadata": {},
   "outputs": [
    {
     "data": {
      "image/png": "[encoded data removed]",
      "text/plain": [
       "<Figure size 432x360 with 2 Axes>"
      ]
     },
     "metadata": {
      "needs_background": "light"
     },
     "output_type": "display_data"
    }
   ],
   "source": [
    "shap.plots.scatter(shap_values[:,\"fare\"])"
   ]
  },
  {
   "cell_type": "markdown",
   "id": "5158ea48",
   "metadata": {},
   "source": [
    "## SHAP for probabilities\n",
    "\n",
    "Now, we want to explain how the probability changes when the feature values changes. We need to use a different algorithm to estimate the Shapley values."
   ]
  },
  {
   "cell_type": "code",
   "execution_count": 24,
   "id": "34010a86",
   "metadata": {},
   "outputs": [],
   "source": [
    "# to explain probabilities we need a different explainer\n",
    "\n",
    "explainer = shap.Explainer(logit.predict_proba, X_train)\n",
    "\n",
    "shap_values = explainer(X_test)"
   ]
  },
  {
   "cell_type": "code",
   "execution_count": 25,
   "id": "eddbb7c2",
   "metadata": {},
   "outputs": [
    {
     "data": {
      "text/plain": [
       "shap.explainers._exact.ExactExplainer"
      ]
     },
     "execution_count": 25,
     "metadata": {},
     "output_type": "execute_result"
    }
   ],
   "source": [
    "# in this case, it choses the Exact explainer because we\n",
    "# have few features.\n",
    "\n",
    "explainer.__class__"
   ]
  },
  {
   "cell_type": "code",
   "execution_count": 26,
   "id": "50b9c8b1",
   "metadata": {},
   "outputs": [
    {
     "data": {
      "text/plain": [
       ".values =\n",
       "array([[ 0.06903592, -0.06903592],\n",
       "       [-0.01243739,  0.01243739],\n",
       "       [ 0.00133641, -0.00133641],\n",
       "       [ 0.16790367, -0.16790367],\n",
       "       [ 0.03603822, -0.03603822]])\n",
       "\n",
       ".base_values =\n",
       "array([0.6180356, 0.3819644])\n",
       "\n",
       ".data =\n",
       "array([ 0.83427143, -0.47413915, -0.49099109, -0.73931894,  0.5399273 ])"
      ]
     },
     "execution_count": 26,
     "metadata": {},
     "output_type": "execute_result"
    }
   ],
   "source": [
    "# these values coincide with those calculated manually\n",
    "# as discussed in the intro video\n",
    "\n",
    "shap_values[obs]"
   ]
  },
  {
   "cell_type": "code",
   "execution_count": 27,
   "id": "9413bada",
   "metadata": {},
   "outputs": [
    {
     "data": {
      "image/png": "[encoded data removed]",
      "text/plain": [
       "<Figure size 576x288 with 3 Axes>"
      ]
     },
     "metadata": {},
     "output_type": "display_data"
    }
   ],
   "source": [
    "shap.plots.waterfall(shap_values[obs, :, 1])"
   ]
  },
  {
   "cell_type": "markdown",
   "id": "41aca696",
   "metadata": {},
   "source": [
    "The relationship between Shapley values and feature values may not be linear."
   ]
  },
  {
   "cell_type": "code",
   "execution_count": 28,
   "id": "15c64993",
   "metadata": {},
   "outputs": [
    {
     "data": {
      "image/png": "[encoded data removed]",
      "text/plain": [
       "<Figure size 432x360 with 2 Axes>"
      ]
     },
     "metadata": {
      "needs_background": "light"
     },
     "output_type": "display_data"
    }
   ],
   "source": [
    "shap.plots.scatter(shap_values[:,\"pclass\", 1])"
   ]
  },
  {
   "cell_type": "code",
   "execution_count": 29,
   "id": "867e8d96",
   "metadata": {},
   "outputs": [
    {
     "data": {
      "image/png": "[encoded data removed]",
      "text/plain": [
       "<Figure size 432x360 with 2 Axes>"
      ]
     },
     "metadata": {
      "needs_background": "light"
     },
     "output_type": "display_data"
    }
   ],
   "source": [
    "shap.plots.scatter(shap_values[:,\"sibsp\", 1])"
   ]
  },
  {
   "cell_type": "code",
   "execution_count": 30,
   "id": "faa5d0e7",
   "metadata": {},
   "outputs": [
    {
     "data": {
      "image/png": "[encoded data removed]",
      "text/plain": [
       "<Figure size 432x360 with 2 Axes>"
      ]
     },
     "metadata": {
      "needs_background": "light"
     },
     "output_type": "display_data"
    }
   ],
   "source": [
    "shap.plots.scatter(shap_values[:,\"fare\", 1])"
   ]
  },
  {
   "cell_type": "code",
   "execution_count": null,
   "id": "aab7d577",
   "metadata": {},
   "outputs": [],
   "source": []
  }
 ],
 "metadata": {
  "kernelspec": {
   "display_name": "fsml",
   "language": "python",
   "name": "fsml"
  },
  "language_info": {
   "codemirror_mode": {
    "name": "ipython",
    "version": 3
   },
   "file_extension": ".py",
   "mimetype": "text/x-python",
   "name": "python",
   "nbconvert_exporter": "python",
   "pygments_lexer": "ipython3",
   "version": "3.10.5"
  },
  "toc": {
   "base_numbering": 1,
   "nav_menu": {},
   "number_sections": true,
   "sideBar": true,
   "skip_h1_title": false,
   "title_cell": "Table of Contents",
   "title_sidebar": "Contents",
   "toc_cell": false,
   "toc_position": {
    "height": "calc(100% - 180px)",
    "left": "10px",
    "top": "150px",
    "width": "193.6px"
   },
   "toc_section_display": true,
   "toc_window_display": true
  }
 },
 "nbformat": 4,
 "nbformat_minor": 5
}
