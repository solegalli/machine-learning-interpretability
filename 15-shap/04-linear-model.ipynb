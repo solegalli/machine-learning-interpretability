{
 "cells": [
  {
   "cell_type": "markdown",
   "id": "b574a8a8",
   "metadata": {},
   "source": [
    "# SHAP - Linear regression\n",
    "\n",
    "- [Online Course](https://www.trainindata.com/p/machine-learning-interpretability)\n",
    "\n",
    "In this notebook, we'll use the approximation of Shapley values that is suitable for linear models.\n",
    "\n",
    "This approximation is **model specific** and will be used when you want to explain a linear models."
   ]
  },
  {
   "cell_type": "code",
   "execution_count": 1,
   "id": "0da331f9",
   "metadata": {},
   "outputs": [],
   "source": [
    "import matplotlib.pyplot as plt\n",
    "import pandas as pd\n",
    "\n",
    "from sklearn.datasets import fetch_california_housing\n",
    "from sklearn.linear_model import LinearRegression\n",
    "from sklearn.model_selection import train_test_split\n",
    "from sklearn.preprocessing import MinMaxScaler\n",
    "\n",
    "import shap"
   ]
  },
  {
   "cell_type": "markdown",
   "id": "33a2f988",
   "metadata": {},
   "source": [
    "### Load data"
   ]
  },
  {
   "cell_type": "code",
   "execution_count": 2,
   "id": "7717800e",
   "metadata": {},
   "outputs": [],
   "source": [
    "# load the California House price data from Scikit-learn\n",
    "X, y = fetch_california_housing(return_X_y=True, as_frame=True)\n",
    "X = X.drop(columns = [\"Latitude\", \"Longitude\", \"AveBedrms\"])\n",
    "\n",
    "# Split data\n",
    "X_train, X_test, y_train, y_test = train_test_split(\n",
    "    X, y, test_size=0.3, random_state=0,\n",
    ")\n",
    "\n",
    "# Scale data\n",
    "scaler = MinMaxScaler().set_output(transform=\"pandas\").fit(X_train)\n",
    "X_train = scaler.transform(X_train)\n",
    "X_test = scaler.transform(X_test)"
   ]
  },
  {
   "cell_type": "markdown",
   "id": "494990a3",
   "metadata": {},
   "source": [
    "## Linear regression"
   ]
  },
  {
   "cell_type": "code",
   "execution_count": 3,
   "id": "cfd26bf8",
   "metadata": {},
   "outputs": [
    {
     "data": {
      "text/plain": [
       "array([2.07007444, 2.96469595, 2.27789975, ..., 3.81071816, 1.29678525,\n",
       "       2.48722002])"
      ]
     },
     "execution_count": 3,
     "metadata": {},
     "output_type": "execute_result"
    }
   ],
   "source": [
    "linreg = LinearRegression().fit(X_train, y_train)\n",
    "\n",
    "preds = linreg.predict(X_test)\n",
    "\n",
    "preds"
   ]
  },
  {
   "cell_type": "code",
   "execution_count": 4,
   "id": "ffe2c868",
   "metadata": {},
   "outputs": [
    {
     "data": {
      "text/plain": [
       "0.4914863579707852"
      ]
     },
     "execution_count": 4,
     "metadata": {},
     "output_type": "execute_result"
    }
   ],
   "source": [
    "# performance\n",
    "\n",
    "linreg.score(X_test, y_test)"
   ]
  },
  {
   "cell_type": "code",
   "execution_count": 5,
   "id": "d2b89223",
   "metadata": {},
   "outputs": [
    {
     "data": {
      "text/plain": [
       "MedInc        6.569900\n",
       "HouseAge      0.880922\n",
       "AveRooms     -4.967091\n",
       "Population    0.832171\n",
       "AveOccup     -3.642405\n",
       "dtype: float64"
      ]
     },
     "execution_count": 5,
     "metadata": {},
     "output_type": "execute_result"
    }
   ],
   "source": [
    "# coefficients of the linear regression\n",
    "\n",
    "coeffs = pd.Series(linreg.coef_, index=linreg.feature_names_in_)\n",
    "coeffs"
   ]
  },
  {
   "cell_type": "markdown",
   "id": "a36eeff6",
   "metadata": {},
   "source": [
    "## Feature effects\n",
    "\n",
    "Let's take an individual observation and evaluate how its feature values contribute towards house price. This is given by the feature's values times the coefficients."
   ]
  },
  {
   "cell_type": "code",
   "execution_count": 6,
   "id": "86e80706",
   "metadata": {},
   "outputs": [],
   "source": [
    "# reset index so we can compare with outpuf of SHAP later\n",
    "\n",
    "X_test.reset_index(inplace=True, drop=True)"
   ]
  },
  {
   "cell_type": "code",
   "execution_count": 7,
   "id": "89b3abf5",
   "metadata": {},
   "outputs": [
    {
     "data": {
      "text/html": [
       "<div>\n",
       "<style scoped>\n",
       "    .dataframe tbody tr th:only-of-type {\n",
       "        vertical-align: middle;\n",
       "    }\n",
       "\n",
       "    .dataframe tbody tr th {\n",
       "        vertical-align: top;\n",
       "    }\n",
       "\n",
       "    .dataframe thead th {\n",
       "        text-align: right;\n",
       "    }\n",
       "</style>\n",
       "<table border=\"1\" class=\"dataframe\">\n",
       "  <thead>\n",
       "    <tr style=\"text-align: right;\">\n",
       "      <th></th>\n",
       "      <th>MedInc</th>\n",
       "      <th>HouseAge</th>\n",
       "      <th>AveRooms</th>\n",
       "      <th>Population</th>\n",
       "      <th>AveOccup</th>\n",
       "    </tr>\n",
       "  </thead>\n",
       "  <tbody>\n",
       "    <tr>\n",
       "      <th>6187</th>\n",
       "      <td>0.179053</td>\n",
       "      <td>0.686275</td>\n",
       "      <td>0.029618</td>\n",
       "      <td>0.032652</td>\n",
       "      <td>0.002736</td>\n",
       "    </tr>\n",
       "    <tr>\n",
       "      <th>6188</th>\n",
       "      <td>0.250941</td>\n",
       "      <td>0.019608</td>\n",
       "      <td>0.060561</td>\n",
       "      <td>0.079122</td>\n",
       "      <td>0.004371</td>\n",
       "    </tr>\n",
       "    <tr>\n",
       "      <th>6189</th>\n",
       "      <td>0.508621</td>\n",
       "      <td>0.568627</td>\n",
       "      <td>0.050914</td>\n",
       "      <td>0.014574</td>\n",
       "      <td>0.002790</td>\n",
       "    </tr>\n",
       "    <tr>\n",
       "      <th>6190</th>\n",
       "      <td>0.107992</td>\n",
       "      <td>0.647059</td>\n",
       "      <td>0.038667</td>\n",
       "      <td>0.010090</td>\n",
       "      <td>0.004996</td>\n",
       "    </tr>\n",
       "    <tr>\n",
       "      <th>6191</th>\n",
       "      <td>0.288010</td>\n",
       "      <td>0.607843</td>\n",
       "      <td>0.033936</td>\n",
       "      <td>0.025617</td>\n",
       "      <td>0.003387</td>\n",
       "    </tr>\n",
       "  </tbody>\n",
       "</table>\n",
       "</div>"
      ],
      "text/plain": [
       "        MedInc  HouseAge  AveRooms  Population  AveOccup\n",
       "6187  0.179053  0.686275  0.029618    0.032652  0.002736\n",
       "6188  0.250941  0.019608  0.060561    0.079122  0.004371\n",
       "6189  0.508621  0.568627  0.050914    0.014574  0.002790\n",
       "6190  0.107992  0.647059  0.038667    0.010090  0.004996\n",
       "6191  0.288010  0.607843  0.033936    0.025617  0.003387"
      ]
     },
     "execution_count": 7,
     "metadata": {},
     "output_type": "execute_result"
    }
   ],
   "source": [
    "# we'll explain one observations from this view\n",
    "\n",
    "X_test.tail()"
   ]
  },
  {
   "cell_type": "code",
   "execution_count": 8,
   "id": "489e6b81",
   "metadata": {},
   "outputs": [
    {
     "data": {
      "text/plain": [
       "MedInc        0.250941\n",
       "HouseAge      0.019608\n",
       "AveRooms      0.060561\n",
       "Population    0.079122\n",
       "AveOccup      0.004371\n",
       "Name: 6188, dtype: float64"
      ]
     },
     "execution_count": 8,
     "metadata": {},
     "output_type": "execute_result"
    }
   ],
   "source": [
    "obs = 6188\n",
    "\n",
    "# the feature values\n",
    "\n",
    "X_test.loc[obs]"
   ]
  },
  {
   "cell_type": "code",
   "execution_count": 9,
   "id": "a06cb82e",
   "metadata": {},
   "outputs": [
    {
     "data": {
      "text/plain": [
       "MedInc        1.648660\n",
       "HouseAge      0.017273\n",
       "AveRooms     -0.300810\n",
       "Population    0.065843\n",
       "AveOccup     -0.015922\n",
       "dtype: float64"
      ]
     },
     "execution_count": 9,
     "metadata": {},
     "output_type": "execute_result"
    }
   ],
   "source": [
    "# the feature effects: how much the feature adds\n",
    "# to the final house price\n",
    "\n",
    "effect = coeffs * X_test.loc[obs]\n",
    "effect"
   ]
  },
  {
   "cell_type": "code",
   "execution_count": 10,
   "id": "ff426d2e",
   "metadata": {},
   "outputs": [
    {
     "data": {
      "image/png": "[encoded data removed]",
      "text/plain": [
       "<Figure size 432x288 with 1 Axes>"
      ]
     },
     "metadata": {
      "needs_background": "light"
     },
     "output_type": "display_data"
    }
   ],
   "source": [
    "effect.plot.bar()\n",
    "\n",
    "plt.axhline(y=0, color='r', linestyle='-')\n",
    "plt.ylabel(\"Coefficient x feature value\")\n",
    "plt.title(f\"Local interpretability for {obs}\")\n",
    "plt.show()"
   ]
  },
  {
   "cell_type": "code",
   "execution_count": 11,
   "id": "b7fbdd48",
   "metadata": {},
   "outputs": [
    {
     "data": {
      "text/plain": [
       "1.6341900412769241"
      ]
     },
     "execution_count": 11,
     "metadata": {},
     "output_type": "execute_result"
    }
   ],
   "source": [
    "# prediction of the observation being explained\n",
    "\n",
    "preds[obs]"
   ]
  },
  {
   "cell_type": "markdown",
   "id": "479d5579",
   "metadata": {},
   "source": [
    "## SHAP manual\n",
    "\n",
    "We'll calculate the SHAP values manually as we discussed in the video."
   ]
  },
  {
   "cell_type": "code",
   "execution_count": 12,
   "id": "8f694253",
   "metadata": {},
   "outputs": [
    {
     "data": {
      "text/plain": [
       "MedInc        0.232188\n",
       "HouseAge      0.541543\n",
       "AveRooms      0.034759\n",
       "Population    0.039860\n",
       "AveOccup      0.003824\n",
       "dtype: float64"
      ]
     },
     "execution_count": 12,
     "metadata": {},
     "output_type": "execute_result"
    }
   ],
   "source": [
    "# the mean value of each variable across the training set\n",
    "\n",
    "X_train.mean()"
   ]
  },
  {
   "cell_type": "code",
   "execution_count": 13,
   "id": "bf6fa7fe",
   "metadata": {},
   "outputs": [
    {
     "data": {
      "text/plain": [
       "MedInc        1.525450\n",
       "HouseAge      0.477057\n",
       "AveRooms     -0.172649\n",
       "Population    0.033170\n",
       "AveOccup     -0.013929\n",
       "dtype: float64"
      ]
     },
     "execution_count": 13,
     "metadata": {},
     "output_type": "execute_result"
    }
   ],
   "source": [
    "# the expected (mean) effect for each variable\n",
    "\n",
    "coeffs * X_train.mean()"
   ]
  },
  {
   "cell_type": "code",
   "execution_count": 14,
   "id": "f7487ed9",
   "metadata": {},
   "outputs": [
    {
     "data": {
      "text/plain": [
       "MedInc        0.123210\n",
       "HouseAge     -0.459784\n",
       "AveRooms     -0.128162\n",
       "Population    0.032673\n",
       "AveOccup     -0.001993\n",
       "dtype: float64"
      ]
     },
     "execution_count": 14,
     "metadata": {},
     "output_type": "execute_result"
    }
   ],
   "source": [
    "# the shap value for each variable: how much the feature\n",
    "# contributes to the prediction respect to the mean effect\n",
    "\n",
    "effect - coeffs * X_train.mean()"
   ]
  },
  {
   "cell_type": "markdown",
   "id": "1aa4ca3a",
   "metadata": {},
   "source": [
    "## SHAP\n",
    "\n",
    "We'll now use the SHAP library."
   ]
  },
  {
   "cell_type": "code",
   "execution_count": 15,
   "id": "89c58375",
   "metadata": {},
   "outputs": [],
   "source": [
    "explainer = shap.LinearExplainer(linreg, X_train)\n",
    "\n",
    "shap_values = explainer(X_test)"
   ]
  },
  {
   "cell_type": "code",
   "execution_count": 16,
   "id": "136cdc74",
   "metadata": {},
   "outputs": [
    {
     "data": {
      "text/plain": [
       ".values =\n",
       "array([ 0.12039244, -0.47172515, -0.12767778,  0.03473923, -0.00251017])\n",
       "\n",
       ".base_values =\n",
       "2.0809714707337523\n",
       "\n",
       ".data =\n",
       "array([0.25094137, 0.01960784, 0.06056066, 0.07912217, 0.00437137])"
      ]
     },
     "execution_count": 16,
     "metadata": {},
     "output_type": "execute_result"
    }
   ],
   "source": [
    "shap_values[obs]"
   ]
  },
  {
   "cell_type": "markdown",
   "id": "9d111737",
   "metadata": {},
   "source": [
    "**Important**\n",
    "\n",
    "The difference in the values that we see between the SHAP library and the manual calculation are due to the SHAP library using **only 100 values** from the training set by default to estimate the expected mean effect.\n",
    "\n",
    "See this [stackoverflow thread](https://stackoverflow.com/questions/78796974/shap-values-for-linear-model-different-from-those-calculated-manually) for more details. That is true for SHAP version 0.46.0.\n",
    "\n",
    "To override this behaviour, we need to set up the explainer like this:"
   ]
  },
  {
   "cell_type": "code",
   "execution_count": 17,
   "id": "44831fd3",
   "metadata": {},
   "outputs": [
    {
     "data": {
      "text/plain": [
       ".values =\n",
       "array([ 0.12321002, -0.45978436, -0.12816162,  0.03267303, -0.00199327])\n",
       "\n",
       ".base_values =\n",
       "2.0682462451550387\n",
       "\n",
       ".data =\n",
       "array([0.25094137, 0.01960784, 0.06056066, 0.07912217, 0.00437137])"
      ]
     },
     "execution_count": 17,
     "metadata": {},
     "output_type": "execute_result"
    }
   ],
   "source": [
    "explainer = shap.LinearExplainer(\n",
    "    linreg,\n",
    "    shap.maskers.Independent(X_train, max_samples=len(X_train)),\n",
    ")\n",
    "\n",
    "shap_values = explainer(X_test)\n",
    "shap_values[obs]"
   ]
  },
  {
   "cell_type": "code",
   "execution_count": 18,
   "id": "a9cac2ec",
   "metadata": {},
   "outputs": [
    {
     "data": {
      "text/plain": [
       "array([0.23218765, 0.54154317, 0.03475851, 0.03985979, 0.00382413])"
      ]
     },
     "execution_count": 18,
     "metadata": {},
     "output_type": "execute_result"
    }
   ],
   "source": [
    "# the mean feature value in training set calculated by shap\n",
    "\n",
    "explainer.masker.data.mean(0)"
   ]
  },
  {
   "cell_type": "code",
   "execution_count": 19,
   "id": "99a11500",
   "metadata": {},
   "outputs": [
    {
     "data": {
      "text/plain": [
       "MedInc        0.232188\n",
       "HouseAge      0.541543\n",
       "AveRooms      0.034759\n",
       "Population    0.039860\n",
       "AveOccup      0.003824\n",
       "dtype: float64"
      ]
     },
     "execution_count": 19,
     "metadata": {},
     "output_type": "execute_result"
    }
   ],
   "source": [
    "# the mean feature value calculated manually\n",
    "\n",
    "X_train.mean()"
   ]
  },
  {
   "cell_type": "code",
   "execution_count": 20,
   "id": "d0ea415d",
   "metadata": {},
   "outputs": [
    {
     "data": {
      "image/png": "[encoded data removed]",
      "text/plain": [
       "<Figure size 576x288 with 3 Axes>"
      ]
     },
     "metadata": {},
     "output_type": "display_data"
    }
   ],
   "source": [
    "shap.plots.waterfall(shap_values[obs])"
   ]
  },
  {
   "cell_type": "code",
   "execution_count": 21,
   "id": "0e2f69cb",
   "metadata": {},
   "outputs": [
    {
     "data": {
      "text/plain": [
       "'interventional'"
      ]
     },
     "execution_count": 21,
     "metadata": {},
     "output_type": "execute_result"
    }
   ],
   "source": [
    "# it is not considering feature interactions\n",
    "# these explanations are true to the model\n",
    "\n",
    "explainer.feature_perturbation"
   ]
  },
  {
   "cell_type": "code",
   "execution_count": 22,
   "id": "392bf37e",
   "metadata": {},
   "outputs": [
    {
     "data": {
      "text/plain": [
       "0.2191467343489466"
      ]
     },
     "execution_count": 22,
     "metadata": {},
     "output_type": "execute_result"
    }
   ],
   "source": [
    "# parameters extracted from the linear model\n",
    "\n",
    "explainer.intercept"
   ]
  },
  {
   "cell_type": "code",
   "execution_count": 23,
   "id": "d38c7596",
   "metadata": {},
   "outputs": [
    {
     "data": {
      "text/plain": [
       "array([ 6.56990021,  0.8809221 , -4.96709131,  0.83217128, -3.64240511])"
      ]
     },
     "execution_count": 23,
     "metadata": {},
     "output_type": "execute_result"
    }
   ],
   "source": [
    "# parameters extracted from the linear model\n",
    "\n",
    "explainer.coef"
   ]
  },
  {
   "cell_type": "markdown",
   "id": "15c9a549",
   "metadata": {},
   "source": [
    "## The SHAP value is linear\n",
    "\n",
    "As the value of the variable increases, the SHAP value should increase or decrease linearly because this is a linear model."
   ]
  },
  {
   "cell_type": "code",
   "execution_count": 24,
   "id": "d2520809",
   "metadata": {},
   "outputs": [
    {
     "data": {
      "image/png": "[encoded data removed]",
      "text/plain": [
       "<Figure size 432x360 with 2 Axes>"
      ]
     },
     "metadata": {
      "needs_background": "light"
     },
     "output_type": "display_data"
    }
   ],
   "source": [
    "shap.plots.scatter(shap_values[:, 'MedInc'])"
   ]
  },
  {
   "cell_type": "markdown",
   "id": "3db9ee0d",
   "metadata": {},
   "source": [
    "## Playground to compare other observations\n",
    "\n",
    "Change the value in obs and see how the values calculated by SHAP compare with the manual values."
   ]
  },
  {
   "cell_type": "code",
   "execution_count": 25,
   "id": "8884c840",
   "metadata": {},
   "outputs": [],
   "source": [
    "obs = 10"
   ]
  },
  {
   "cell_type": "code",
   "execution_count": 26,
   "id": "433da56f",
   "metadata": {},
   "outputs": [
    {
     "data": {
      "text/plain": [
       ".values =\n",
       "array([-0.24166361,  0.23113493,  0.02767187, -0.01786973,  0.00526386])\n",
       "\n",
       ".base_values =\n",
       "2.0682462451550387\n",
       "\n",
       ".data =\n",
       "array([0.1954042 , 0.80392157, 0.02918747, 0.01838617, 0.00237897])"
      ]
     },
     "execution_count": 26,
     "metadata": {},
     "output_type": "execute_result"
    }
   ],
   "source": [
    "shap_values[obs]"
   ]
  },
  {
   "cell_type": "code",
   "execution_count": 27,
   "id": "31eab2c5",
   "metadata": {},
   "outputs": [
    {
     "data": {
      "text/plain": [
       "MedInc       -0.241664\n",
       "HouseAge      0.231135\n",
       "AveRooms      0.027672\n",
       "Population   -0.017870\n",
       "AveOccup      0.005264\n",
       "dtype: float64"
      ]
     },
     "execution_count": 27,
     "metadata": {},
     "output_type": "execute_result"
    }
   ],
   "source": [
    "coeffs * X_test.loc[obs] - coeffs * X_train.mean()"
   ]
  },
  {
   "cell_type": "code",
   "execution_count": null,
   "id": "091752e1",
   "metadata": {},
   "outputs": [],
   "source": []
  }
 ],
 "metadata": {
  "kernelspec": {
   "display_name": "fsml",
   "language": "python",
   "name": "fsml"
  },
  "language_info": {
   "codemirror_mode": {
    "name": "ipython",
    "version": 3
   },
   "file_extension": ".py",
   "mimetype": "text/x-python",
   "name": "python",
   "nbconvert_exporter": "python",
   "pygments_lexer": "ipython3",
   "version": "3.10.5"
  },
  "toc": {
   "base_numbering": 1,
   "nav_menu": {},
   "number_sections": true,
   "sideBar": true,
   "skip_h1_title": false,
   "title_cell": "Table of Contents",
   "title_sidebar": "Contents",
   "toc_cell": false,
   "toc_position": {
    "height": "calc(100% - 180px)",
    "left": "10px",
    "top": "150px",
    "width": "165px"
   },
   "toc_section_display": true,
   "toc_window_display": true
  }
 },
 "nbformat": 4,
 "nbformat_minor": 5
}
