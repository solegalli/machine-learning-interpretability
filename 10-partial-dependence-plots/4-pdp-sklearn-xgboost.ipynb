{
 "cells": [
  {
   "cell_type": "markdown",
   "id": "1cd34d25",
   "metadata": {},
   "source": [
    "# Partial Dependence Plots with sklearn\n",
    "\n",
    "[Machine Learning Interpretability course](https://www.trainindata.com/p/machine-learning-interpretability)\n",
    "\n",
    "\n",
    "This notebook was created by [Sal J.M](https://www.linkedin.com/in/salim-j-m-a04534114/). Thank you so much for your contribution Sal!!"
   ]
  },
  {
   "cell_type": "code",
   "execution_count": 1,
   "id": "b1160650",
   "metadata": {},
   "outputs": [],
   "source": [
    "import numpy as np\n",
    "import pandas as pd\n",
    "from matplotlib import pyplot as plt"
   ]
  },
  {
   "cell_type": "code",
   "execution_count": 2,
   "id": "e430332e",
   "metadata": {},
   "outputs": [],
   "source": [
    "from feature_engine.encoding import OneHotEncoder"
   ]
  },
  {
   "cell_type": "code",
   "execution_count": 3,
   "id": "8aed124d",
   "metadata": {},
   "outputs": [],
   "source": [
    "from sklearn.model_selection import train_test_split\n",
    "from sklearn.metrics import roc_auc_score"
   ]
  },
  {
   "cell_type": "code",
   "execution_count": 4,
   "id": "34fa9e79",
   "metadata": {},
   "outputs": [],
   "source": [
    "from xgboost import XGBClassifier"
   ]
  },
  {
   "cell_type": "markdown",
   "id": "85145a5f",
   "metadata": {},
   "source": [
    "### Load Titanic data"
   ]
  },
  {
   "cell_type": "code",
   "execution_count": 5,
   "id": "c75698ce",
   "metadata": {},
   "outputs": [],
   "source": [
    "# The data can be accessed online.\n",
    "data = pd.read_csv('https://www.openml.org/data/get_csv/16826755/phpMYEkMl')"
   ]
  },
  {
   "cell_type": "code",
   "execution_count": 6,
   "id": "9ccdb28a",
   "metadata": {},
   "outputs": [
    {
     "data": {
      "text/html": [
       "<div>\n",
       "<style scoped>\n",
       "    .dataframe tbody tr th:only-of-type {\n",
       "        vertical-align: middle;\n",
       "    }\n",
       "\n",
       "    .dataframe tbody tr th {\n",
       "        vertical-align: top;\n",
       "    }\n",
       "\n",
       "    .dataframe thead th {\n",
       "        text-align: right;\n",
       "    }\n",
       "</style>\n",
       "<table border=\"1\" class=\"dataframe\">\n",
       "  <thead>\n",
       "    <tr style=\"text-align: right;\">\n",
       "      <th></th>\n",
       "      <th>pclass</th>\n",
       "      <th>survived</th>\n",
       "      <th>name</th>\n",
       "      <th>sex</th>\n",
       "      <th>age</th>\n",
       "      <th>sibsp</th>\n",
       "      <th>parch</th>\n",
       "      <th>ticket</th>\n",
       "      <th>fare</th>\n",
       "      <th>cabin</th>\n",
       "      <th>embarked</th>\n",
       "      <th>boat</th>\n",
       "      <th>body</th>\n",
       "      <th>home.dest</th>\n",
       "    </tr>\n",
       "  </thead>\n",
       "  <tbody>\n",
       "    <tr>\n",
       "      <th>0</th>\n",
       "      <td>1</td>\n",
       "      <td>1</td>\n",
       "      <td>Allen, Miss. Elisabeth Walton</td>\n",
       "      <td>female</td>\n",
       "      <td>29</td>\n",
       "      <td>0</td>\n",
       "      <td>0</td>\n",
       "      <td>24160</td>\n",
       "      <td>211.3375</td>\n",
       "      <td>B5</td>\n",
       "      <td>S</td>\n",
       "      <td>2</td>\n",
       "      <td>?</td>\n",
       "      <td>St Louis, MO</td>\n",
       "    </tr>\n",
       "    <tr>\n",
       "      <th>1</th>\n",
       "      <td>1</td>\n",
       "      <td>1</td>\n",
       "      <td>Allison, Master. Hudson Trevor</td>\n",
       "      <td>male</td>\n",
       "      <td>0.9167</td>\n",
       "      <td>1</td>\n",
       "      <td>2</td>\n",
       "      <td>113781</td>\n",
       "      <td>151.55</td>\n",
       "      <td>C22 C26</td>\n",
       "      <td>S</td>\n",
       "      <td>11</td>\n",
       "      <td>?</td>\n",
       "      <td>Montreal, PQ / Chesterville, ON</td>\n",
       "    </tr>\n",
       "    <tr>\n",
       "      <th>2</th>\n",
       "      <td>1</td>\n",
       "      <td>0</td>\n",
       "      <td>Allison, Miss. Helen Loraine</td>\n",
       "      <td>female</td>\n",
       "      <td>2</td>\n",
       "      <td>1</td>\n",
       "      <td>2</td>\n",
       "      <td>113781</td>\n",
       "      <td>151.55</td>\n",
       "      <td>C22 C26</td>\n",
       "      <td>S</td>\n",
       "      <td>?</td>\n",
       "      <td>?</td>\n",
       "      <td>Montreal, PQ / Chesterville, ON</td>\n",
       "    </tr>\n",
       "    <tr>\n",
       "      <th>3</th>\n",
       "      <td>1</td>\n",
       "      <td>0</td>\n",
       "      <td>Allison, Mr. Hudson Joshua Creighton</td>\n",
       "      <td>male</td>\n",
       "      <td>30</td>\n",
       "      <td>1</td>\n",
       "      <td>2</td>\n",
       "      <td>113781</td>\n",
       "      <td>151.55</td>\n",
       "      <td>C22 C26</td>\n",
       "      <td>S</td>\n",
       "      <td>?</td>\n",
       "      <td>135</td>\n",
       "      <td>Montreal, PQ / Chesterville, ON</td>\n",
       "    </tr>\n",
       "    <tr>\n",
       "      <th>4</th>\n",
       "      <td>1</td>\n",
       "      <td>0</td>\n",
       "      <td>Allison, Mrs. Hudson J C (Bessie Waldo Daniels)</td>\n",
       "      <td>female</td>\n",
       "      <td>25</td>\n",
       "      <td>1</td>\n",
       "      <td>2</td>\n",
       "      <td>113781</td>\n",
       "      <td>151.55</td>\n",
       "      <td>C22 C26</td>\n",
       "      <td>S</td>\n",
       "      <td>?</td>\n",
       "      <td>?</td>\n",
       "      <td>Montreal, PQ / Chesterville, ON</td>\n",
       "    </tr>\n",
       "  </tbody>\n",
       "</table>\n",
       "</div>"
      ],
      "text/plain": [
       "   pclass  survived                                             name     sex  \\\n",
       "0       1         1                    Allen, Miss. Elisabeth Walton  female   \n",
       "1       1         1                   Allison, Master. Hudson Trevor    male   \n",
       "2       1         0                     Allison, Miss. Helen Loraine  female   \n",
       "3       1         0             Allison, Mr. Hudson Joshua Creighton    male   \n",
       "4       1         0  Allison, Mrs. Hudson J C (Bessie Waldo Daniels)  female   \n",
       "\n",
       "      age  sibsp  parch  ticket      fare    cabin embarked boat body  \\\n",
       "0      29      0      0   24160  211.3375       B5        S    2    ?   \n",
       "1  0.9167      1      2  113781    151.55  C22 C26        S   11    ?   \n",
       "2       2      1      2  113781    151.55  C22 C26        S    ?    ?   \n",
       "3      30      1      2  113781    151.55  C22 C26        S    ?  135   \n",
       "4      25      1      2  113781    151.55  C22 C26        S    ?    ?   \n",
       "\n",
       "                         home.dest  \n",
       "0                     St Louis, MO  \n",
       "1  Montreal, PQ / Chesterville, ON  \n",
       "2  Montreal, PQ / Chesterville, ON  \n",
       "3  Montreal, PQ / Chesterville, ON  \n",
       "4  Montreal, PQ / Chesterville, ON  "
      ]
     },
     "execution_count": 6,
     "metadata": {},
     "output_type": "execute_result"
    }
   ],
   "source": [
    "data.head()"
   ]
  },
  {
   "cell_type": "markdown",
   "id": "51039127",
   "metadata": {},
   "source": [
    "### Preprocess data"
   ]
  },
  {
   "cell_type": "markdown",
   "id": "21b8271b",
   "metadata": {},
   "source": [
    " - Please note that it's important to split the data before pre-processing, which is not the case here."
   ]
  },
  {
   "cell_type": "code",
   "execution_count": 7,
   "id": "fab3fbfc",
   "metadata": {},
   "outputs": [],
   "source": [
    "# Replace question mark by NaN\n",
    "data = data.replace('?', np.nan)\n",
    "\n",
    "\n",
    "# Extract the first letter from the variable cabin\n",
    "def get_first_cabin(row):\n",
    "    try:\n",
    "        return row.split()[0]\n",
    "    except:\n",
    "        return np.nan\n",
    "    \n",
    "data['cabin'] = data['cabin'].apply(get_first_cabin)\n",
    "\n",
    "\n",
    "# capture letter from cabin\n",
    "data[\"cabin\"] = data[\"cabin\"].str[0]\n",
    "\n",
    "# cabin T is a rare label, we replace it with G\n",
    "data.loc[data[\"cabin\"] == \"T\", \"cabin\"] = \"G\"\n",
    "\n",
    "# impute cabin and embarked\n",
    "data.fillna({\n",
    "    \"cabin\":\"M\",\n",
    "    \"embarked\": \"S\",\n",
    "}, inplace=True)\n",
    "\n",
    "# set pclass', 'sibsp', 'parch' columns to data type int\n",
    "data[['pclass', 'sibsp', 'parch']] = data[['pclass', 'sibsp', 'parch']].astype(int)\n",
    "\n",
    "# set fare to data type float\n",
    "data['fare'] = data['fare'].astype(float)\n",
    "# impute fare with the median\n",
    "data['fare'] = data['fare'].fillna(data['fare'].median())\n",
    "\n",
    "# select the features of interest only\n",
    "usecols = [\"pclass\", \"sibsp\", \"parch\", \"sex\", \"fare\", \"embarked\", \"cabin\", \"survived\", ]\n",
    "data = data[usecols]\n",
    "\n",
    "# OHE for categorical features\n",
    "data = OneHotEncoder(drop_last=False).fit_transform(data)"
   ]
  },
  {
   "cell_type": "markdown",
   "id": "d7121d7a",
   "metadata": {},
   "source": [
    "### Split Data"
   ]
  },
  {
   "cell_type": "code",
   "execution_count": 8,
   "id": "4016c6ac",
   "metadata": {},
   "outputs": [],
   "source": [
    "X = data.drop(columns='survived')\n",
    "y = data['survived']"
   ]
  },
  {
   "cell_type": "code",
   "execution_count": 9,
   "id": "f04ceeae",
   "metadata": {},
   "outputs": [],
   "source": [
    "# separate into training and testing sets\n",
    "X_train, X_test, y_train, y_test = train_test_split(\n",
    "    X, y, test_size=0.3, random_state=0)\n"
   ]
  },
  {
   "cell_type": "markdown",
   "id": "f4091d08",
   "metadata": {},
   "source": [
    "### Train XGBOOST"
   ]
  },
  {
   "cell_type": "code",
   "execution_count": 10,
   "id": "bca0a7c2",
   "metadata": {},
   "outputs": [
    {
     "data": {
      "text/html": [
       "<style>#sk-container-id-1 {color: black;}#sk-container-id-1 pre{padding: 0;}#sk-container-id-1 div.sk-toggleable {background-color: white;}#sk-container-id-1 label.sk-toggleable__label {cursor: pointer;display: block;width: 100%;margin-bottom: 0;padding: 0.3em;box-sizing: border-box;text-align: center;}#sk-container-id-1 label.sk-toggleable__label-arrow:before {content: \"▸\";float: left;margin-right: 0.25em;color: #696969;}#sk-container-id-1 label.sk-toggleable__label-arrow:hover:before {color: black;}#sk-container-id-1 div.sk-estimator:hover label.sk-toggleable__label-arrow:before {color: black;}#sk-container-id-1 div.sk-toggleable__content {max-height: 0;max-width: 0;overflow: hidden;text-align: left;background-color: #f0f8ff;}#sk-container-id-1 div.sk-toggleable__content pre {margin: 0.2em;color: black;border-radius: 0.25em;background-color: #f0f8ff;}#sk-container-id-1 input.sk-toggleable__control:checked~div.sk-toggleable__content {max-height: 200px;max-width: 100%;overflow: auto;}#sk-container-id-1 input.sk-toggleable__control:checked~label.sk-toggleable__label-arrow:before {content: \"▾\";}#sk-container-id-1 div.sk-estimator input.sk-toggleable__control:checked~label.sk-toggleable__label {background-color: #d4ebff;}#sk-container-id-1 div.sk-label input.sk-toggleable__control:checked~label.sk-toggleable__label {background-color: #d4ebff;}#sk-container-id-1 input.sk-hidden--visually {border: 0;clip: rect(1px 1px 1px 1px);clip: rect(1px, 1px, 1px, 1px);height: 1px;margin: -1px;overflow: hidden;padding: 0;position: absolute;width: 1px;}#sk-container-id-1 div.sk-estimator {font-family: monospace;background-color: #f0f8ff;border: 1px dotted black;border-radius: 0.25em;box-sizing: border-box;margin-bottom: 0.5em;}#sk-container-id-1 div.sk-estimator:hover {background-color: #d4ebff;}#sk-container-id-1 div.sk-parallel-item::after {content: \"\";width: 100%;border-bottom: 1px solid gray;flex-grow: 1;}#sk-container-id-1 div.sk-label:hover label.sk-toggleable__label {background-color: #d4ebff;}#sk-container-id-1 div.sk-serial::before {content: \"\";position: absolute;border-left: 1px solid gray;box-sizing: border-box;top: 0;bottom: 0;left: 50%;z-index: 0;}#sk-container-id-1 div.sk-serial {display: flex;flex-direction: column;align-items: center;background-color: white;padding-right: 0.2em;padding-left: 0.2em;position: relative;}#sk-container-id-1 div.sk-item {position: relative;z-index: 1;}#sk-container-id-1 div.sk-parallel {display: flex;align-items: stretch;justify-content: center;background-color: white;position: relative;}#sk-container-id-1 div.sk-item::before, #sk-container-id-1 div.sk-parallel-item::before {content: \"\";position: absolute;border-left: 1px solid gray;box-sizing: border-box;top: 0;bottom: 0;left: 50%;z-index: -1;}#sk-container-id-1 div.sk-parallel-item {display: flex;flex-direction: column;z-index: 1;position: relative;background-color: white;}#sk-container-id-1 div.sk-parallel-item:first-child::after {align-self: flex-end;width: 50%;}#sk-container-id-1 div.sk-parallel-item:last-child::after {align-self: flex-start;width: 50%;}#sk-container-id-1 div.sk-parallel-item:only-child::after {width: 0;}#sk-container-id-1 div.sk-dashed-wrapped {border: 1px dashed gray;margin: 0 0.4em 0.5em 0.4em;box-sizing: border-box;padding-bottom: 0.4em;background-color: white;}#sk-container-id-1 div.sk-label label {font-family: monospace;font-weight: bold;display: inline-block;line-height: 1.2em;}#sk-container-id-1 div.sk-label-container {text-align: center;}#sk-container-id-1 div.sk-container {/* jupyter's `normalize.less` sets `[hidden] { display: none; }` but bootstrap.min.css set `[hidden] { display: none !important; }` so we also need the `!important` here to be able to override the default hidden behavior on the sphinx rendered scikit-learn.org. See: https://github.com/scikit-learn/scikit-learn/issues/21755 */display: inline-block !important;position: relative;}#sk-container-id-1 div.sk-text-repr-fallback {display: none;}</style><div id=\"sk-container-id-1\" class=\"sk-top-container\"><div class=\"sk-text-repr-fallback\"><pre>XGBClassifier(base_score=None, booster=None, callbacks=None,\n",
       "              colsample_bylevel=None, colsample_bynode=None,\n",
       "              colsample_bytree=None, device=None, early_stopping_rounds=None,\n",
       "              enable_categorical=False, eval_metric=None, feature_types=None,\n",
       "              gamma=None, grow_policy=None, importance_type=None,\n",
       "              interaction_constraints=None, learning_rate=None, max_bin=None,\n",
       "              max_cat_threshold=None, max_cat_to_onehot=None,\n",
       "              max_delta_step=None, max_depth=1, max_leaves=None,\n",
       "              min_child_weight=None, missing=nan, monotone_constraints=None,\n",
       "              multi_strategy=None, n_estimators=10, n_jobs=None,\n",
       "              num_parallel_tree=None, random_state=3, ...)</pre><b>In a Jupyter environment, please rerun this cell to show the HTML representation or trust the notebook. <br />On GitHub, the HTML representation is unable to render, please try loading this page with nbviewer.org.</b></div><div class=\"sk-container\" hidden><div class=\"sk-item\"><div class=\"sk-estimator sk-toggleable\"><input class=\"sk-toggleable__control sk-hidden--visually\" id=\"sk-estimator-id-1\" type=\"checkbox\" checked><label for=\"sk-estimator-id-1\" class=\"sk-toggleable__label sk-toggleable__label-arrow\">XGBClassifier</label><div class=\"sk-toggleable__content\"><pre>XGBClassifier(base_score=None, booster=None, callbacks=None,\n",
       "              colsample_bylevel=None, colsample_bynode=None,\n",
       "              colsample_bytree=None, device=None, early_stopping_rounds=None,\n",
       "              enable_categorical=False, eval_metric=None, feature_types=None,\n",
       "              gamma=None, grow_policy=None, importance_type=None,\n",
       "              interaction_constraints=None, learning_rate=None, max_bin=None,\n",
       "              max_cat_threshold=None, max_cat_to_onehot=None,\n",
       "              max_delta_step=None, max_depth=1, max_leaves=None,\n",
       "              min_child_weight=None, missing=nan, monotone_constraints=None,\n",
       "              multi_strategy=None, n_estimators=10, n_jobs=None,\n",
       "              num_parallel_tree=None, random_state=3, ...)</pre></div></div></div></div></div>"
      ],
      "text/plain": [
       "XGBClassifier(base_score=None, booster=None, callbacks=None,\n",
       "              colsample_bylevel=None, colsample_bynode=None,\n",
       "              colsample_bytree=None, device=None, early_stopping_rounds=None,\n",
       "              enable_categorical=False, eval_metric=None, feature_types=None,\n",
       "              gamma=None, grow_policy=None, importance_type=None,\n",
       "              interaction_constraints=None, learning_rate=None, max_bin=None,\n",
       "              max_cat_threshold=None, max_cat_to_onehot=None,\n",
       "              max_delta_step=None, max_depth=1, max_leaves=None,\n",
       "              min_child_weight=None, missing=nan, monotone_constraints=None,\n",
       "              multi_strategy=None, n_estimators=10, n_jobs=None,\n",
       "              num_parallel_tree=None, random_state=3, ...)"
      ]
     },
     "execution_count": 10,
     "metadata": {},
     "output_type": "execute_result"
    }
   ],
   "source": [
    "# create xgboost classifier\n",
    "xgbc = XGBClassifier(n_estimators=10,\n",
    "                     max_depth=1,\n",
    "                     random_state=3,)\n",
    "\n",
    "# train xgboost\n",
    "xgbc.fit(X_train, y_train)"
   ]
  },
  {
   "cell_type": "code",
   "execution_count": 11,
   "id": "3e099593",
   "metadata": {},
   "outputs": [],
   "source": [
    "# predict to get the model performance\n",
    "y_train_proba = xgbc.predict_proba(X_train)[:, 1]\n",
    "y_test_proba = xgbc.predict_proba(X_test)[:, 1]"
   ]
  },
  {
   "cell_type": "code",
   "execution_count": 12,
   "id": "eab4afd9",
   "metadata": {},
   "outputs": [
    {
     "data": {
      "text/plain": [
       "0.8301767645001736"
      ]
     },
     "execution_count": 12,
     "metadata": {},
     "output_type": "execute_result"
    }
   ],
   "source": [
    "# train roc-auc\n",
    "roc_auc_score(y_train, y_train_proba)"
   ]
  },
  {
   "cell_type": "code",
   "execution_count": 13,
   "id": "fe302793",
   "metadata": {},
   "outputs": [
    {
     "data": {
      "text/plain": [
       "0.8240556385155688"
      ]
     },
     "execution_count": 13,
     "metadata": {},
     "output_type": "execute_result"
    }
   ],
   "source": [
    "# test roc-auc\n",
    "roc_auc_score(y_test, y_test_proba)"
   ]
  },
  {
   "cell_type": "markdown",
   "id": "57c1c654",
   "metadata": {},
   "source": [
    "### XGBoost Feature Importance"
   ]
  },
  {
   "cell_type": "markdown",
   "id": "577481f7",
   "metadata": {},
   "source": [
    " XGboost provides feature importance which can be used as a gloabal interpretation method\n"
   ]
  },
  {
   "cell_type": "code",
   "execution_count": 14,
   "id": "bbb46315",
   "metadata": {},
   "outputs": [
    {
     "data": {
      "text/plain": [
       "sex_female    0.551779\n",
       "cabin_M       0.211860\n",
       "pclass        0.169512\n",
       "embarked_C    0.066848\n",
       "cabin_C       0.000000\n",
       "cabin_G       0.000000\n",
       "cabin_A       0.000000\n",
       "cabin_D       0.000000\n",
       "cabin_E       0.000000\n",
       "embarked_Q    0.000000\n",
       "cabin_B       0.000000\n",
       "sibsp         0.000000\n",
       "embarked_S    0.000000\n",
       "sex_male      0.000000\n",
       "fare          0.000000\n",
       "parch         0.000000\n",
       "cabin_F       0.000000\n",
       "dtype: float32"
      ]
     },
     "execution_count": 14,
     "metadata": {},
     "output_type": "execute_result"
    }
   ],
   "source": [
    "pd.Series(xgbc.feature_importances_,\n",
    "          index=X_train.columns).sort_values(ascending=False)"
   ]
  },
  {
   "cell_type": "markdown",
   "id": "1db35e46",
   "metadata": {},
   "source": [
    " - While feature importance from xgboost is a very useful interpretation method, that uncovers the most impactful features on the model prediction, it does not show the relationship of a given feature with the target variable, for example:\n",
    "     - Does the output of a model increase or decrease when a feature increase?\n",
    "     - What is the nature of the relationship with the target? linear, non-linear, monotonic etc.\n",
    "     - PDP tries to answer these questions by plotting the feature values on the x-axis and the model outputs on the y-axis"
   ]
  },
  {
   "cell_type": "markdown",
   "id": "46c40d92",
   "metadata": {},
   "source": [
    "### PDP with scikit-learn"
   ]
  },
  {
   "cell_type": "code",
   "execution_count": 15,
   "id": "d25260f2",
   "metadata": {},
   "outputs": [],
   "source": [
    "from sklearn.inspection import PartialDependenceDisplay"
   ]
  },
  {
   "cell_type": "markdown",
   "id": "912d7d2b",
   "metadata": {},
   "source": [
    "#### PDP for the important features"
   ]
  },
  {
   "cell_type": "code",
   "execution_count": 16,
   "id": "e3fa35c6",
   "metadata": {},
   "outputs": [
    {
     "data": {
      "image/png": "[encoded data removed]",
      "text/plain": [
       "<Figure size 432x432 with 5 Axes>"
      ]
     },
     "metadata": {
      "needs_background": "light"
     },
     "output_type": "display_data"
    }
   ],
   "source": [
    "# plot PDP for the 4 important features (from xgboost feature importance)\n",
    "important_features = ['sex_female', 'cabin_M', 'pclass', 'embarked_C']\n",
    "\n",
    "fig, ax = plt.subplots(figsize=(6, 6))\n",
    "PartialDependenceDisplay.from_estimator(xgbc, X_test, important_features, n_cols=2, ax=ax);\n",
    "ax.set_title('Partial Dependence Plots')\n",
    "plt.show()"
   ]
  },
  {
   "cell_type": "markdown",
   "id": "4644a5aa",
   "metadata": {},
   "source": [
    " - The above PDPs illustrate the behavior of the four most influential features in our model. They offer the following insights:\n",
    "\n",
    "     - When the 'sex_female' feature changes from 0 (male) to 1 (female), the model's output, on average, shifts from 0.2 to 0.7. This indicates that the XGBoost model has learned that females have a significantly higher probability of survival compared to males.\n",
    "\n",
    "     - The 'cabin_M' feature exhibits a negative correlation with the model's output, suggesting that passengers in cabin class 'M' had lower chances of survival.\n",
    "\n",
    "     - The PDP for 'pclass' demonstrates that passengers in either class 1 or 2 had better chances of survival than those in class 3.\n",
    "\n",
    "     - Passengers who embarked in location 'C' have a slightly higher probability of survival compared to all other embarkation classes.\n",
    "\n",
    " - Notably, the largest variance in the model's output is observed in the top-left plot (PDP for 'sex_female'). This substantial variance corresponds to the feature's highest importance score (0.548961), making it the most influential feature in the XGBoost model.\""
   ]
  },
  {
   "cell_type": "markdown",
   "id": "c0597b64",
   "metadata": {},
   "source": [
    "#### PDP for two not important features"
   ]
  },
  {
   "cell_type": "code",
   "execution_count": 17,
   "id": "7021e524",
   "metadata": {},
   "outputs": [
    {
     "name": "stderr",
     "output_type": "stream",
     "text": [
      "C:\\Users\\Sole\\Documents\\Repositories\\envs\\fsml\\lib\\site-packages\\sklearn\\inspection\\_plot\\partial_dependence.py:972: UserWarning: Attempting to set identical low and high ylims makes transformation singular; automatically expanding.\n",
      "  ax.set_ylim([min_val, max_val])\n"
     ]
    },
    {
     "data": {
      "image/png": "[encoded data removed]",
      "text/plain": [
       "<Figure size 288x288 with 3 Axes>"
      ]
     },
     "metadata": {
      "needs_background": "light"
     },
     "output_type": "display_data"
    }
   ],
   "source": [
    "# PDP for some of the features that xgboost did not find important\n",
    "unimportant_features = ['fare', 'parch']\n",
    "\n",
    "fig, ax = plt.subplots(figsize=(4, 4))\n",
    "PartialDependenceDisplay.from_estimator(xgbc, X_test, unimportant_features, n_cols=2, ax=ax);\n",
    "ax.set_title('Partial Dependence Plots (Not Important Features)')\n",
    "plt.show()"
   ]
  },
  {
   "cell_type": "markdown",
   "id": "f3345e1d",
   "metadata": {},
   "source": [
    " - XGBoost assigned low feature importance scores to 'fare' and 'parch,' indicating their limited influence on the model's predictions (close to zero). This assessment is reaffirmed by their PDPs:\n",
    "\n",
    "     - The PDP for 'fare' illustrates a flat, constant line around the value of 0.375 for all feature values. This consistency indicates that, for this model, the specific values of 'fare' have minimal impact on the final model outcome. Regardless of 'fare' values, the model's predictions remain relatively unchanged.\n",
    "\n",
    "     - Similarly, the PDP for 'parch' exhibits a steady line near the 0.375 mark, underscoring the conclusion that, in the context of this model, 'parch' values do not significantly affect the model's predictions. The constant line reinforces the limited influence of 'parch' on the model's output"
   ]
  },
  {
   "cell_type": "markdown",
   "id": "636e144c",
   "metadata": {},
   "source": [
    "#### PDP - tweaking the plot for categorical features"
   ]
  },
  {
   "cell_type": "code",
   "execution_count": 18,
   "id": "96539db5",
   "metadata": {},
   "outputs": [
    {
     "data": {
      "image/png": "[encoded data removed]",
      "text/plain": [
       "<Figure size 432x288 with 3 Axes>"
      ]
     },
     "metadata": {
      "needs_background": "light"
     },
     "output_type": "display_data"
    }
   ],
   "source": [
    "# If we prefer a bar plot for binary or categorical feature, this is possible\n",
    "PartialDependenceDisplay.from_estimator(xgbc, X_test,\n",
    "                                        ['sex_female', 'sex_male'],\n",
    "                                        categorical_features=['sex_female'] ); # specify here the categorical variables"
   ]
  },
  {
   "cell_type": "markdown",
   "id": "507089d0",
   "metadata": {},
   "source": [
    "#### Partial Dependence Raw value"
   ]
  },
  {
   "cell_type": "code",
   "execution_count": 19,
   "id": "253fa023",
   "metadata": {},
   "outputs": [],
   "source": [
    "# the raw values of the partial dependence function can be obtained using the partial_dependence function\n",
    "\n",
    "from sklearn.inspection import partial_dependence"
   ]
  },
  {
   "cell_type": "code",
   "execution_count": 20,
   "id": "d773b542",
   "metadata": {},
   "outputs": [],
   "source": [
    "results_female = partial_dependence(\n",
    "    xgbc,\n",
    "    X_test,\n",
    "    ['sex_female']\n",
    ")"
   ]
  },
  {
   "cell_type": "code",
   "execution_count": 21,
   "id": "1a6bf5aa",
   "metadata": {},
   "outputs": [
    {
     "name": "stderr",
     "output_type": "stream",
     "text": [
      "C:\\Users\\Sole\\Documents\\Repositories\\envs\\fsml\\lib\\site-packages\\sklearn\\utils\\_bunch.py:35: FutureWarning: Key: 'values', is deprecated in 1.3 and will be removed in 1.5. Please use 'grid_values' instead.\n",
      "  warnings.warn(\n"
     ]
    },
    {
     "data": {
      "text/plain": [
       "{'grid_values': [array([0, 1])],\n",
       " 'values': [array([0, 1])],\n",
       " 'average': array([[0.22914086, 0.6515564 ]], dtype=float32)}"
      ]
     },
     "execution_count": 21,
     "metadata": {},
     "output_type": "execute_result"
    }
   ],
   "source": [
    "results_female"
   ]
  },
  {
   "cell_type": "code",
   "execution_count": 22,
   "id": "59b1ac4b",
   "metadata": {},
   "outputs": [
    {
     "data": {
      "text/html": [
       "<div>\n",
       "<style scoped>\n",
       "    .dataframe tbody tr th:only-of-type {\n",
       "        vertical-align: middle;\n",
       "    }\n",
       "\n",
       "    .dataframe tbody tr th {\n",
       "        vertical-align: top;\n",
       "    }\n",
       "\n",
       "    .dataframe thead th {\n",
       "        text-align: right;\n",
       "    }\n",
       "</style>\n",
       "<table border=\"1\" class=\"dataframe\">\n",
       "  <thead>\n",
       "    <tr style=\"text-align: right;\">\n",
       "      <th></th>\n",
       "      <th>pdp_value</th>\n",
       "    </tr>\n",
       "  </thead>\n",
       "  <tbody>\n",
       "    <tr>\n",
       "      <th>male</th>\n",
       "      <td>0.229141</td>\n",
       "    </tr>\n",
       "    <tr>\n",
       "      <th>female</th>\n",
       "      <td>0.651556</td>\n",
       "    </tr>\n",
       "  </tbody>\n",
       "</table>\n",
       "</div>"
      ],
      "text/plain": [
       "        pdp_value\n",
       "male     0.229141\n",
       "female   0.651556"
      ]
     },
     "execution_count": 22,
     "metadata": {},
     "output_type": "execute_result"
    }
   ],
   "source": [
    "pd.DataFrame(results_female['average'], columns=['male', 'female'], index=['pdp_value']).T"
   ]
  },
  {
   "cell_type": "markdown",
   "id": "3b7896aa",
   "metadata": {},
   "source": [
    " - These are the PDP values for female and male as per the plot above (top left in the PDP for important features section)"
   ]
  },
  {
   "cell_type": "code",
   "execution_count": 23,
   "id": "fac9324b",
   "metadata": {},
   "outputs": [],
   "source": [
    "results_fare = partial_dependence(\n",
    "    xgbc,\n",
    "    X_test,\n",
    "    ['fare']\n",
    ")"
   ]
  },
  {
   "cell_type": "code",
   "execution_count": 24,
   "id": "79f845ff",
   "metadata": {},
   "outputs": [
    {
     "name": "stderr",
     "output_type": "stream",
     "text": [
      "C:\\Users\\Sole\\Documents\\Repositories\\envs\\fsml\\lib\\site-packages\\sklearn\\utils\\_bunch.py:35: FutureWarning: Key: 'values', is deprecated in 1.3 and will be removed in 1.5. Please use 'grid_values' instead.\n",
      "  warnings.warn(\n"
     ]
    },
    {
     "data": {
      "text/plain": [
       "{'grid_values': [array([  7.2292    ,   8.52552426,   9.82184853,  11.11817279,\n",
       "          12.41449705,  13.71082131,  15.00714558,  16.30346984,\n",
       "          17.5997941 ,  18.89611836,  20.19244263,  21.48876689,\n",
       "          22.78509115,  24.08141541,  25.37773968,  26.67406394,\n",
       "          27.9703882 ,  29.26671246,  30.56303673,  31.85936099,\n",
       "          33.15568525,  34.45200952,  35.74833378,  37.04465804,\n",
       "          38.3409823 ,  39.63730657,  40.93363083,  42.22995509,\n",
       "          43.52627935,  44.82260362,  46.11892788,  47.41525214,\n",
       "          48.7115764 ,  50.00790067,  51.30422493,  52.60054919,\n",
       "          53.89687345,  55.19319772,  56.48952198,  57.78584624,\n",
       "          59.08217051,  60.37849477,  61.67481903,  62.97114329,\n",
       "          64.26746756,  65.56379182,  66.86011608,  68.15644034,\n",
       "          69.45276461,  70.74908887,  72.04541313,  73.34173739,\n",
       "          74.63806166,  75.93438592,  77.23071018,  78.52703444,\n",
       "          79.82335871,  81.11968297,  82.41600723,  83.71233149,\n",
       "          85.00865576,  86.30498002,  87.60130428,  88.89762855,\n",
       "          90.19395281,  91.49027707,  92.78660133,  94.0829256 ,\n",
       "          95.37924986,  96.67557412,  97.97189838,  99.26822265,\n",
       "         100.56454691, 101.86087117, 103.15719543, 104.4535197 ,\n",
       "         105.74984396, 107.04616822, 108.34249248, 109.63881675,\n",
       "         110.93514101, 112.23146527, 113.52778954, 114.8241138 ,\n",
       "         116.12043806, 117.41676232, 118.71308659, 120.00941085,\n",
       "         121.30573511, 122.60205937, 123.89838364, 125.1947079 ,\n",
       "         126.49103216, 127.78735642, 129.08368069, 130.38000495,\n",
       "         131.67632921, 132.97265347, 134.26897774, 135.565302  ])],\n",
       " 'values': [array([  7.2292    ,   8.52552426,   9.82184853,  11.11817279,\n",
       "          12.41449705,  13.71082131,  15.00714558,  16.30346984,\n",
       "          17.5997941 ,  18.89611836,  20.19244263,  21.48876689,\n",
       "          22.78509115,  24.08141541,  25.37773968,  26.67406394,\n",
       "          27.9703882 ,  29.26671246,  30.56303673,  31.85936099,\n",
       "          33.15568525,  34.45200952,  35.74833378,  37.04465804,\n",
       "          38.3409823 ,  39.63730657,  40.93363083,  42.22995509,\n",
       "          43.52627935,  44.82260362,  46.11892788,  47.41525214,\n",
       "          48.7115764 ,  50.00790067,  51.30422493,  52.60054919,\n",
       "          53.89687345,  55.19319772,  56.48952198,  57.78584624,\n",
       "          59.08217051,  60.37849477,  61.67481903,  62.97114329,\n",
       "          64.26746756,  65.56379182,  66.86011608,  68.15644034,\n",
       "          69.45276461,  70.74908887,  72.04541313,  73.34173739,\n",
       "          74.63806166,  75.93438592,  77.23071018,  78.52703444,\n",
       "          79.82335871,  81.11968297,  82.41600723,  83.71233149,\n",
       "          85.00865576,  86.30498002,  87.60130428,  88.89762855,\n",
       "          90.19395281,  91.49027707,  92.78660133,  94.0829256 ,\n",
       "          95.37924986,  96.67557412,  97.97189838,  99.26822265,\n",
       "         100.56454691, 101.86087117, 103.15719543, 104.4535197 ,\n",
       "         105.74984396, 107.04616822, 108.34249248, 109.63881675,\n",
       "         110.93514101, 112.23146527, 113.52778954, 114.8241138 ,\n",
       "         116.12043806, 117.41676232, 118.71308659, 120.00941085,\n",
       "         121.30573511, 122.60205937, 123.89838364, 125.1947079 ,\n",
       "         126.49103216, 127.78735642, 129.08368069, 130.38000495,\n",
       "         131.67632921, 132.97265347, 134.26897774, 135.565302  ])],\n",
       " 'average': array([[0.3702366, 0.3702366, 0.3702366, 0.3702366, 0.3702366, 0.3702366,\n",
       "         0.3702366, 0.3702366, 0.3702366, 0.3702366, 0.3702366, 0.3702366,\n",
       "         0.3702366, 0.3702366, 0.3702366, 0.3702366, 0.3702366, 0.3702366,\n",
       "         0.3702366, 0.3702366, 0.3702366, 0.3702366, 0.3702366, 0.3702366,\n",
       "         0.3702366, 0.3702366, 0.3702366, 0.3702366, 0.3702366, 0.3702366,\n",
       "         0.3702366, 0.3702366, 0.3702366, 0.3702366, 0.3702366, 0.3702366,\n",
       "         0.3702366, 0.3702366, 0.3702366, 0.3702366, 0.3702366, 0.3702366,\n",
       "         0.3702366, 0.3702366, 0.3702366, 0.3702366, 0.3702366, 0.3702366,\n",
       "         0.3702366, 0.3702366, 0.3702366, 0.3702366, 0.3702366, 0.3702366,\n",
       "         0.3702366, 0.3702366, 0.3702366, 0.3702366, 0.3702366, 0.3702366,\n",
       "         0.3702366, 0.3702366, 0.3702366, 0.3702366, 0.3702366, 0.3702366,\n",
       "         0.3702366, 0.3702366, 0.3702366, 0.3702366, 0.3702366, 0.3702366,\n",
       "         0.3702366, 0.3702366, 0.3702366, 0.3702366, 0.3702366, 0.3702366,\n",
       "         0.3702366, 0.3702366, 0.3702366, 0.3702366, 0.3702366, 0.3702366,\n",
       "         0.3702366, 0.3702366, 0.3702366, 0.3702366, 0.3702366, 0.3702366,\n",
       "         0.3702366, 0.3702366, 0.3702366, 0.3702366, 0.3702366, 0.3702366,\n",
       "         0.3702366, 0.3702366, 0.3702366, 0.3702366]], dtype=float32)}"
      ]
     },
     "execution_count": 24,
     "metadata": {},
     "output_type": "execute_result"
    }
   ],
   "source": [
    "results_fare"
   ]
  },
  {
   "cell_type": "code",
   "execution_count": null,
   "id": "83ad1ecd",
   "metadata": {},
   "outputs": [],
   "source": []
  }
 ],
 "metadata": {
  "kernelspec": {
   "display_name": "fsml",
   "language": "python",
   "name": "fsml"
  },
  "language_info": {
   "codemirror_mode": {
    "name": "ipython",
    "version": 3
   },
   "file_extension": ".py",
   "mimetype": "text/x-python",
   "name": "python",
   "nbconvert_exporter": "python",
   "pygments_lexer": "ipython3",
   "version": "3.10.5"
  },
  "toc": {
   "base_numbering": 1,
   "nav_menu": {},
   "number_sections": true,
   "sideBar": true,
   "skip_h1_title": false,
   "title_cell": "Table of Contents",
   "title_sidebar": "Contents",
   "toc_cell": false,
   "toc_position": {},
   "toc_section_display": true,
   "toc_window_display": true
  }
 },
 "nbformat": 4,
 "nbformat_minor": 5
}
