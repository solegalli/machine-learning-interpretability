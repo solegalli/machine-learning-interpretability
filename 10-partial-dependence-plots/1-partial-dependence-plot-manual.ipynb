{
 "cells": [
  {
   "cell_type": "markdown",
   "id": "a5edef54",
   "metadata": {},
   "source": [
    "# Partial dependence plots\n",
    "\n",
    "[Machine Learning Interpretability course](https://www.trainindata.com/p/machine-learning-interpretability)\n",
    "\n",
    "In this notebook we will use PDP to understand the relationship between a few features and a continuous target modeled with a linear regression.\n",
    "\n",
    "We will make the plots using pandas, and overlay the count of observations over the PDP, to understand which areas of the plot we can trust."
   ]
  },
  {
   "cell_type": "code",
   "execution_count": 1,
   "id": "0da331f9",
   "metadata": {},
   "outputs": [],
   "source": [
    "import numpy as np\n",
    "import matplotlib.pyplot as plt\n",
    "import pandas as pd\n",
    "\n",
    "from sklearn.datasets import fetch_california_housing\n",
    "from sklearn.linear_model import LinearRegression\n",
    "from sklearn.model_selection import train_test_split\n",
    "from sklearn.preprocessing import MinMaxScaler"
   ]
  },
  {
   "cell_type": "markdown",
   "id": "33a2f988",
   "metadata": {},
   "source": [
    "## Load data"
   ]
  },
  {
   "cell_type": "code",
   "execution_count": 2,
   "id": "7717800e",
   "metadata": {},
   "outputs": [
    {
     "data": {
      "text/html": [
       "<div>\n",
       "<style scoped>\n",
       "    .dataframe tbody tr th:only-of-type {\n",
       "        vertical-align: middle;\n",
       "    }\n",
       "\n",
       "    .dataframe tbody tr th {\n",
       "        vertical-align: top;\n",
       "    }\n",
       "\n",
       "    .dataframe thead th {\n",
       "        text-align: right;\n",
       "    }\n",
       "</style>\n",
       "<table border=\"1\" class=\"dataframe\">\n",
       "  <thead>\n",
       "    <tr style=\"text-align: right;\">\n",
       "      <th></th>\n",
       "      <th>MedInc</th>\n",
       "      <th>HouseAge</th>\n",
       "      <th>AveRooms</th>\n",
       "      <th>AveBedrms</th>\n",
       "      <th>Population</th>\n",
       "      <th>AveOccup</th>\n",
       "    </tr>\n",
       "  </thead>\n",
       "  <tbody>\n",
       "    <tr>\n",
       "      <th>0</th>\n",
       "      <td>0.539668</td>\n",
       "      <td>0.784314</td>\n",
       "      <td>0.043512</td>\n",
       "      <td>0.020469</td>\n",
       "      <td>0.008941</td>\n",
       "      <td>0.001499</td>\n",
       "    </tr>\n",
       "    <tr>\n",
       "      <th>1</th>\n",
       "      <td>0.538027</td>\n",
       "      <td>0.392157</td>\n",
       "      <td>0.038224</td>\n",
       "      <td>0.018929</td>\n",
       "      <td>0.067210</td>\n",
       "      <td>0.001141</td>\n",
       "    </tr>\n",
       "    <tr>\n",
       "      <th>2</th>\n",
       "      <td>0.466028</td>\n",
       "      <td>1.000000</td>\n",
       "      <td>0.052756</td>\n",
       "      <td>0.021940</td>\n",
       "      <td>0.013818</td>\n",
       "      <td>0.001698</td>\n",
       "    </tr>\n",
       "    <tr>\n",
       "      <th>3</th>\n",
       "      <td>0.354699</td>\n",
       "      <td>1.000000</td>\n",
       "      <td>0.035241</td>\n",
       "      <td>0.021929</td>\n",
       "      <td>0.015555</td>\n",
       "      <td>0.001493</td>\n",
       "    </tr>\n",
       "    <tr>\n",
       "      <th>4</th>\n",
       "      <td>0.230776</td>\n",
       "      <td>1.000000</td>\n",
       "      <td>0.038534</td>\n",
       "      <td>0.022166</td>\n",
       "      <td>0.015752</td>\n",
       "      <td>0.001198</td>\n",
       "    </tr>\n",
       "  </tbody>\n",
       "</table>\n",
       "</div>"
      ],
      "text/plain": [
       "     MedInc  HouseAge  AveRooms  AveBedrms  Population  AveOccup\n",
       "0  0.539668  0.784314  0.043512   0.020469    0.008941  0.001499\n",
       "1  0.538027  0.392157  0.038224   0.018929    0.067210  0.001141\n",
       "2  0.466028  1.000000  0.052756   0.021940    0.013818  0.001698\n",
       "3  0.354699  1.000000  0.035241   0.021929    0.015555  0.001493\n",
       "4  0.230776  1.000000  0.038534   0.022166    0.015752  0.001198"
      ]
     },
     "execution_count": 2,
     "metadata": {},
     "output_type": "execute_result"
    }
   ],
   "source": [
    "# load the California House price data from Scikit-learn\n",
    "\n",
    "X, y = fetch_california_housing(return_X_y=True, as_frame=True)\n",
    "X = X.drop(columns=[\"Latitude\", \"Longitude\"])\n",
    "\n",
    "# scale the variables\n",
    "X = MinMaxScaler().set_output(transform=\"pandas\").fit_transform(X)\n",
    "\n",
    "# display top 5 rows\n",
    "X.head()"
   ]
  },
  {
   "cell_type": "code",
   "execution_count": 3,
   "id": "93b2c180",
   "metadata": {},
   "outputs": [],
   "source": [
    "# split data\n",
    "\n",
    "X_train, X_test, y_train, y_test = train_test_split(\n",
    "    X, y, test_size=0.3, random_state=50)"
   ]
  },
  {
   "cell_type": "markdown",
   "id": "494990a3",
   "metadata": {},
   "source": [
    "## Linear Regression"
   ]
  },
  {
   "cell_type": "code",
   "execution_count": 4,
   "id": "cfd26bf8",
   "metadata": {},
   "outputs": [],
   "source": [
    "# train model\n",
    "\n",
    "linreg = LinearRegression().fit(X_train, y_train)"
   ]
  },
  {
   "cell_type": "code",
   "execution_count": 5,
   "id": "9a959fc5",
   "metadata": {},
   "outputs": [
    {
     "data": {
      "text/plain": [
       "0.5382828747778376"
      ]
     },
     "execution_count": 5,
     "metadata": {},
     "output_type": "execute_result"
    }
   ],
   "source": [
    "# R2 in train set\n",
    "\n",
    "linreg.score(X_train, y_train)"
   ]
  },
  {
   "cell_type": "code",
   "execution_count": 6,
   "id": "c7855121",
   "metadata": {},
   "outputs": [
    {
     "data": {
      "text/plain": [
       "0.5424083769532507"
      ]
     },
     "execution_count": 6,
     "metadata": {},
     "output_type": "execute_result"
    }
   ],
   "source": [
    "# R2 in test set\n",
    "\n",
    "linreg.score(X_test, y_test)"
   ]
  },
  {
   "cell_type": "markdown",
   "id": "016d64c9",
   "metadata": {},
   "source": [
    "The model explains > 50% of the variability in the target."
   ]
  },
  {
   "cell_type": "markdown",
   "id": "66bdfe52",
   "metadata": {},
   "source": [
    "## Coefficients - feature importance\n",
    "\n",
    "Let's determine the feature importance derived from the model by looking at the coefficient's value.\n",
    "\n",
    "More details on how to examine coefficients in the **Linear Regression** section."
   ]
  },
  {
   "cell_type": "code",
   "execution_count": 7,
   "id": "d2b89223",
   "metadata": {},
   "outputs": [
    {
     "data": {
      "image/png": "[encoded data removed]",
      "text/plain": [
       "<Figure size 576x360 with 1 Axes>"
      ]
     },
     "metadata": {
      "needs_background": "light"
     },
     "output_type": "display_data"
    }
   ],
   "source": [
    "# put coefficients in a series\n",
    "\n",
    "s = pd.Series(\n",
    "    linreg.coef_,\n",
    "    index = linreg.feature_names_in_,\n",
    ")\n",
    "\n",
    "# plot coefficients\n",
    "s.sort_values(ascending=False).plot.bar(figsize=(8,5))\n",
    "plt.title(\"Coefficients of the regression\")\n",
    "plt.ylabel(\"Coefficient\")\n",
    "plt.show()"
   ]
  },
  {
   "cell_type": "markdown",
   "id": "2785ffbe",
   "metadata": {},
   "source": [
    "## Partial dependence plots\n",
    "\n",
    "We'll create the plots using pandas."
   ]
  },
  {
   "cell_type": "code",
   "execution_count": 8,
   "id": "5ae9da58",
   "metadata": {},
   "outputs": [
    {
     "data": {
      "text/plain": [
       "1945        (0.3, 0.4]\n",
       "18006       (0.3, 0.4]\n",
       "13062       (0.3, 0.4]\n",
       "13396       (0.2, 0.3]\n",
       "9787        (0.1, 0.2]\n",
       "             ...      \n",
       "2931     (-0.001, 0.1]\n",
       "2060        (0.1, 0.2]\n",
       "5224     (-0.001, 0.1]\n",
       "15474       (0.1, 0.2]\n",
       "13745       (0.3, 0.4]\n",
       "Name: MedInc, Length: 6192, dtype: category\n",
       "Categories (10, interval[float64, right]): [(-0.001, 0.1] < (0.1, 0.2] < (0.2, 0.3] < (0.3, 0.4] ... (0.6, 0.7] < (0.7, 0.8] < (0.8, 0.9] < (0.9, 1.0]]"
      ]
     },
     "execution_count": 8,
     "metadata": {},
     "output_type": "execute_result"
    }
   ],
   "source": [
    "# Let's sort the variable into 10 bins\n",
    "\n",
    "bins = pd.cut(X_test[\"MedInc\"], bins=10)\n",
    "\n",
    "bins"
   ]
  },
  {
   "cell_type": "markdown",
   "id": "926a0518",
   "metadata": {},
   "source": [
    "The output contains the bins to which the observations were allocated."
   ]
  },
  {
   "cell_type": "code",
   "execution_count": 9,
   "id": "88a709cd",
   "metadata": {},
   "outputs": [
    {
     "data": {
      "text/html": [
       "<div>\n",
       "<style scoped>\n",
       "    .dataframe tbody tr th:only-of-type {\n",
       "        vertical-align: middle;\n",
       "    }\n",
       "\n",
       "    .dataframe tbody tr th {\n",
       "        vertical-align: top;\n",
       "    }\n",
       "\n",
       "    .dataframe thead th {\n",
       "        text-align: right;\n",
       "    }\n",
       "</style>\n",
       "<table border=\"1\" class=\"dataframe\">\n",
       "  <thead>\n",
       "    <tr style=\"text-align: right;\">\n",
       "      <th></th>\n",
       "      <th>mean</th>\n",
       "      <th>count</th>\n",
       "    </tr>\n",
       "    <tr>\n",
       "      <th>MedInc</th>\n",
       "      <th></th>\n",
       "      <th></th>\n",
       "    </tr>\n",
       "  </thead>\n",
       "  <tbody>\n",
       "    <tr>\n",
       "      <th>(-0.001, 0.1]</th>\n",
       "      <td>0.071317</td>\n",
       "      <td>687</td>\n",
       "    </tr>\n",
       "    <tr>\n",
       "      <th>(0.1, 0.2]</th>\n",
       "      <td>0.151476</td>\n",
       "      <td>2239</td>\n",
       "    </tr>\n",
       "    <tr>\n",
       "      <th>(0.2, 0.3]</th>\n",
       "      <td>0.245746</td>\n",
       "      <td>1781</td>\n",
       "    </tr>\n",
       "    <tr>\n",
       "      <th>(0.3, 0.4]</th>\n",
       "      <td>0.343794</td>\n",
       "      <td>919</td>\n",
       "    </tr>\n",
       "    <tr>\n",
       "      <th>(0.4, 0.5]</th>\n",
       "      <td>0.442559</td>\n",
       "      <td>339</td>\n",
       "    </tr>\n",
       "    <tr>\n",
       "      <th>(0.5, 0.6]</th>\n",
       "      <td>0.536766</td>\n",
       "      <td>126</td>\n",
       "    </tr>\n",
       "    <tr>\n",
       "      <th>(0.6, 0.7]</th>\n",
       "      <td>0.652347</td>\n",
       "      <td>48</td>\n",
       "    </tr>\n",
       "    <tr>\n",
       "      <th>(0.7, 0.8]</th>\n",
       "      <td>0.735646</td>\n",
       "      <td>25</td>\n",
       "    </tr>\n",
       "    <tr>\n",
       "      <th>(0.8, 0.9]</th>\n",
       "      <td>0.850416</td>\n",
       "      <td>11</td>\n",
       "    </tr>\n",
       "    <tr>\n",
       "      <th>(0.9, 1.0]</th>\n",
       "      <td>0.987141</td>\n",
       "      <td>17</td>\n",
       "    </tr>\n",
       "  </tbody>\n",
       "</table>\n",
       "</div>"
      ],
      "text/plain": [
       "                   mean  count\n",
       "MedInc                        \n",
       "(-0.001, 0.1]  0.071317    687\n",
       "(0.1, 0.2]     0.151476   2239\n",
       "(0.2, 0.3]     0.245746   1781\n",
       "(0.3, 0.4]     0.343794    919\n",
       "(0.4, 0.5]     0.442559    339\n",
       "(0.5, 0.6]     0.536766    126\n",
       "(0.6, 0.7]     0.652347     48\n",
       "(0.7, 0.8]     0.735646     25\n",
       "(0.8, 0.9]     0.850416     11\n",
       "(0.9, 1.0]     0.987141     17"
      ]
     },
     "execution_count": 9,
     "metadata": {},
     "output_type": "execute_result"
    }
   ],
   "source": [
    "# create dataframe with the data to analyse\n",
    "\n",
    "# the mean is the value in the middle of each interval\n",
    "# the count is the number of observations per interval\n",
    "\n",
    "pdp = X_test.groupby(bins, observed=False)[\"MedInc\"].agg([\"mean\", \"count\"])\n",
    "\n",
    "pdp"
   ]
  },
  {
   "cell_type": "code",
   "execution_count": 10,
   "id": "80b44273",
   "metadata": {},
   "outputs": [
    {
     "data": {
      "text/plain": [
       "[0.8394230296558344,\n",
       " 1.4528870255420119,\n",
       " 2.1743461983155417,\n",
       " 2.9247168543163693,\n",
       " 3.6805812898616046,\n",
       " 4.401554290277676,\n",
       " 5.286113823229717,\n",
       " 5.92360381940522,\n",
       " 6.801958738802735,\n",
       " 7.848329869384528]"
      ]
     },
     "execution_count": 10,
     "metadata": {},
     "output_type": "execute_result"
    }
   ],
   "source": [
    "# Determine the PDP values to plot\n",
    "\n",
    "pdp_preds = []\n",
    "\n",
    "# we will set the values of MedInc in the test set\n",
    "# to each one of the mean values within the intervals\n",
    "\n",
    "for value in pdp[\"mean\"]:\n",
    "    \n",
    "    # Set the feature to a fixed value\n",
    "    X_test[\"MedInc\"] = value\n",
    "    \n",
    "    # Obtain the predictions\n",
    "    preds = linreg.predict(X_test)\n",
    "    \n",
    "    # get the prediction average\n",
    "    pdp_preds.append(np.mean(preds))\n",
    "\n",
    "# the predictions average\n",
    "pdp_preds   "
   ]
  },
  {
   "cell_type": "code",
   "execution_count": 11,
   "id": "7a7b79e1",
   "metadata": {},
   "outputs": [
    {
     "data": {
      "text/html": [
       "<div>\n",
       "<style scoped>\n",
       "    .dataframe tbody tr th:only-of-type {\n",
       "        vertical-align: middle;\n",
       "    }\n",
       "\n",
       "    .dataframe tbody tr th {\n",
       "        vertical-align: top;\n",
       "    }\n",
       "\n",
       "    .dataframe thead th {\n",
       "        text-align: right;\n",
       "    }\n",
       "</style>\n",
       "<table border=\"1\" class=\"dataframe\">\n",
       "  <thead>\n",
       "    <tr style=\"text-align: right;\">\n",
       "      <th></th>\n",
       "      <th>mean</th>\n",
       "      <th>count</th>\n",
       "      <th>pdp_preds</th>\n",
       "    </tr>\n",
       "    <tr>\n",
       "      <th>MedInc</th>\n",
       "      <th></th>\n",
       "      <th></th>\n",
       "      <th></th>\n",
       "    </tr>\n",
       "  </thead>\n",
       "  <tbody>\n",
       "    <tr>\n",
       "      <th>(-0.001, 0.1]</th>\n",
       "      <td>0.071317</td>\n",
       "      <td>687</td>\n",
       "      <td>0.839423</td>\n",
       "    </tr>\n",
       "    <tr>\n",
       "      <th>(0.1, 0.2]</th>\n",
       "      <td>0.151476</td>\n",
       "      <td>2239</td>\n",
       "      <td>1.452887</td>\n",
       "    </tr>\n",
       "    <tr>\n",
       "      <th>(0.2, 0.3]</th>\n",
       "      <td>0.245746</td>\n",
       "      <td>1781</td>\n",
       "      <td>2.174346</td>\n",
       "    </tr>\n",
       "    <tr>\n",
       "      <th>(0.3, 0.4]</th>\n",
       "      <td>0.343794</td>\n",
       "      <td>919</td>\n",
       "      <td>2.924717</td>\n",
       "    </tr>\n",
       "    <tr>\n",
       "      <th>(0.4, 0.5]</th>\n",
       "      <td>0.442559</td>\n",
       "      <td>339</td>\n",
       "      <td>3.680581</td>\n",
       "    </tr>\n",
       "    <tr>\n",
       "      <th>(0.5, 0.6]</th>\n",
       "      <td>0.536766</td>\n",
       "      <td>126</td>\n",
       "      <td>4.401554</td>\n",
       "    </tr>\n",
       "    <tr>\n",
       "      <th>(0.6, 0.7]</th>\n",
       "      <td>0.652347</td>\n",
       "      <td>48</td>\n",
       "      <td>5.286114</td>\n",
       "    </tr>\n",
       "    <tr>\n",
       "      <th>(0.7, 0.8]</th>\n",
       "      <td>0.735646</td>\n",
       "      <td>25</td>\n",
       "      <td>5.923604</td>\n",
       "    </tr>\n",
       "    <tr>\n",
       "      <th>(0.8, 0.9]</th>\n",
       "      <td>0.850416</td>\n",
       "      <td>11</td>\n",
       "      <td>6.801959</td>\n",
       "    </tr>\n",
       "    <tr>\n",
       "      <th>(0.9, 1.0]</th>\n",
       "      <td>0.987141</td>\n",
       "      <td>17</td>\n",
       "      <td>7.848330</td>\n",
       "    </tr>\n",
       "  </tbody>\n",
       "</table>\n",
       "</div>"
      ],
      "text/plain": [
       "                   mean  count  pdp_preds\n",
       "MedInc                                   \n",
       "(-0.001, 0.1]  0.071317    687   0.839423\n",
       "(0.1, 0.2]     0.151476   2239   1.452887\n",
       "(0.2, 0.3]     0.245746   1781   2.174346\n",
       "(0.3, 0.4]     0.343794    919   2.924717\n",
       "(0.4, 0.5]     0.442559    339   3.680581\n",
       "(0.5, 0.6]     0.536766    126   4.401554\n",
       "(0.6, 0.7]     0.652347     48   5.286114\n",
       "(0.7, 0.8]     0.735646     25   5.923604\n",
       "(0.8, 0.9]     0.850416     11   6.801959\n",
       "(0.9, 1.0]     0.987141     17   7.848330"
      ]
     },
     "execution_count": 11,
     "metadata": {},
     "output_type": "execute_result"
    }
   ],
   "source": [
    "# add the predictions to the pdp dataframe\n",
    "\n",
    "pdp[\"pdp_preds\"] = pdp_preds\n",
    "\n",
    "pdp"
   ]
  },
  {
   "cell_type": "code",
   "execution_count": 12,
   "id": "9052f6d1",
   "metadata": {},
   "outputs": [
    {
     "data": {
      "image/png": "[encoded data removed]",
      "text/plain": [
       "<Figure size 576x360 with 2 Axes>"
      ]
     },
     "metadata": {
      "needs_background": "light"
     },
     "output_type": "display_data"
    }
   ],
   "source": [
    "# Now we can plot the PDP over the count of \n",
    "# observations within each of the analysed intervals\n",
    "\n",
    "fig, ax = plt.subplots()\n",
    "fig.set_size_inches(8, 5)\n",
    "ax2 = ax.twinx()\n",
    "\n",
    "pdp[\"count\"].plot.bar(ax=ax)\n",
    "pdp[\"pdp_preds\"].plot(ax=ax2, color=\"r\")\n",
    "\n",
    "plt.title(\"Partial dependence plot\")\n",
    "ax.set_ylabel(\"Number of observations\")\n",
    "ax2.set_ylabel(\"Partial dependence\")\n",
    "plt.show()"
   ]
  },
  {
   "cell_type": "markdown",
   "id": "f619e6f2",
   "metadata": {},
   "source": [
    "We observe the following:\n",
    "\n",
    "- As expected, there is a linear association between MedInc and House price\n",
    "- Most households show low MedInc, so we can trust the predictions for low MedInc better than those for higher MedInc."
   ]
  },
  {
   "cell_type": "code",
   "execution_count": 13,
   "id": "88e1b2be",
   "metadata": {},
   "outputs": [],
   "source": [
    "# Let's put the code in a function\n",
    "\n",
    "def plot_pdp(X, variable, bins=10):\n",
    "    \n",
    "    # to avoid modifying the original dataframe\n",
    "    X = X.copy()\n",
    "    \n",
    "    # sort variable into bins\n",
    "    bins = pd.cut(X[variable], bins=bins)\n",
    "    \n",
    "    # determine interval's middle point and n of observations\n",
    "    pdp = X.groupby(bins, observed=False)[variable].agg([\"mean\", \"count\"])\n",
    "    \n",
    "    # calculate partial dependence\n",
    "    pdp_preds = []\n",
    "    for value in pdp[\"mean\"]:\n",
    "        X[variable] = value\n",
    "        preds = linreg.predict(X)\n",
    "        pdp_preds.append(np.mean(preds))\n",
    "    pdp[\"pdp_preds\"] = pdp_preds\n",
    "    \n",
    "    # plot\n",
    "    fig, ax = plt.subplots()\n",
    "    fig.set_size_inches(8, 5)\n",
    "    ax2 = ax.twinx()\n",
    "\n",
    "    pdp[\"count\"].plot.bar(ax=ax)\n",
    "    pdp[\"pdp_preds\"].plot(ax=ax2, color=\"r\")\n",
    "\n",
    "    plt.title(f\"Partial dependence plot - {variable}\")\n",
    "    ax.set_ylabel(\"Number of observations\")\n",
    "    ax2.set_ylabel(\"Partial dependence\")\n",
    "    plt.show()"
   ]
  },
  {
   "cell_type": "code",
   "execution_count": 14,
   "id": "3e14fb15",
   "metadata": {},
   "outputs": [],
   "source": [
    "# split data again, because we modified the test\n",
    "# set in previous cells.\n",
    "\n",
    "X_train, X_test, y_train, y_test = train_test_split(\n",
    "    X, y, test_size=0.3, random_state=50)"
   ]
  },
  {
   "cell_type": "code",
   "execution_count": 15,
   "id": "a06cb82e",
   "metadata": {},
   "outputs": [
    {
     "data": {
      "image/png": "[encoded data removed]",
      "text/plain": [
       "<Figure size 576x360 with 2 Axes>"
      ]
     },
     "metadata": {
      "needs_background": "light"
     },
     "output_type": "display_data"
    }
   ],
   "source": [
    "# test the function\n",
    "\n",
    "plot_pdp(X_test, \"MedInc\")"
   ]
  },
  {
   "cell_type": "code",
   "execution_count": 16,
   "id": "5f27ae29",
   "metadata": {},
   "outputs": [
    {
     "data": {
      "image/png": "[encoded data removed]",
      "text/plain": [
       "<Figure size 576x360 with 2 Axes>"
      ]
     },
     "metadata": {
      "needs_background": "light"
     },
     "output_type": "display_data"
    }
   ],
   "source": [
    "# Analyse a different variable\n",
    "\n",
    "plot_pdp(X_test, \"HouseAge\")"
   ]
  },
  {
   "cell_type": "markdown",
   "id": "1bc50bb6",
   "metadata": {},
   "source": [
    "For HouseAge we see again a linear increase, which was expected given that we trained a linear model. The increase in house price is smaller. And we have a more homogeneous spread of House Ages in our data, so in principle, we could trust the predictions across all bins."
   ]
  },
  {
   "cell_type": "code",
   "execution_count": 17,
   "id": "ad5156a4",
   "metadata": {},
   "outputs": [
    {
     "data": {
      "image/png": "[encoded data removed]",
      "text/plain": [
       "<Figure size 576x360 with 2 Axes>"
      ]
     },
     "metadata": {
      "needs_background": "light"
     },
     "output_type": "display_data"
    }
   ],
   "source": [
    "# Analyse a different variable\n",
    "\n",
    "# These variable is so skewed, that we need less bins\n",
    "# otherwise most bins will be empty, and we'll get an error\n",
    "\n",
    "plot_pdp(X_test, \"AveRooms\", bins=4)"
   ]
  },
  {
   "cell_type": "markdown",
   "id": "ae020aa9",
   "metadata": {},
   "source": [
    "The variable AveRooms is very skewed. Most houses contain few rooms. Hence, we don't get a useful view from this PDP.\n",
    "\n",
    "When we have very skewed variables, it might be more useful designing the bins to contain equal number of observations, instead of being equidistant.\n",
    "\n",
    "Below a suitable alternative:"
   ]
  },
  {
   "cell_type": "code",
   "execution_count": 18,
   "id": "0d926216",
   "metadata": {},
   "outputs": [],
   "source": [
    "# Let's put the code in a function\n",
    "\n",
    "def plot_pdp(X, variable, bins=10):\n",
    "    \n",
    "    # to avoid modifying the original dataframe\n",
    "    X = X.copy()\n",
    "    \n",
    "    # sort variable into bins with equal n of obs.\n",
    "    bins = pd.qcut(X[variable], q=bins)\n",
    "    \n",
    "    # determine interval's middle point and n of observations\n",
    "    pdp = X.groupby(bins, observed=False)[variable].agg([\"mean\", \"count\"])\n",
    "    \n",
    "    # calculate partial dependence\n",
    "    pdp_preds = []\n",
    "    for value in pdp[\"mean\"]:\n",
    "        X[variable] = value\n",
    "        preds = linreg.predict(X)\n",
    "        pdp_preds.append(np.mean(preds))\n",
    "    pdp[\"pdp_preds\"] = pdp_preds\n",
    "    \n",
    "    # plot\n",
    "    fig, ax = plt.subplots()\n",
    "    fig.set_size_inches(8, 5)\n",
    "    ax2 = ax.twinx()\n",
    "\n",
    "    pdp[\"count\"].plot.bar(ax=ax)\n",
    "    pdp[\"pdp_preds\"].plot(ax=ax2, color=\"r\")\n",
    "\n",
    "    plt.title(f\"Partial dependence plot - {variable}\")\n",
    "    ax.set_ylabel(\"Number of observations\")\n",
    "    ax2.set_ylabel(\"Partial dependence\")\n",
    "    plt.show()"
   ]
  },
  {
   "cell_type": "code",
   "execution_count": 19,
   "id": "9d2042a7",
   "metadata": {},
   "outputs": [
    {
     "data": {
      "image/png": "[encoded data removed]",
      "text/plain": [
       "<Figure size 576x360 with 2 Axes>"
      ]
     },
     "metadata": {
      "needs_background": "light"
     },
     "output_type": "display_data"
    }
   ],
   "source": [
    "# Analyse a different variable\n",
    "\n",
    "plot_pdp(X_test, \"AveRooms\", bins=8)"
   ]
  },
  {
   "cell_type": "markdown",
   "id": "04beb558",
   "metadata": {},
   "source": [
    "There seems to be a linear relationship up to the previous to last bucket. Then, the price seems to decrease drastically.\n",
    "\n",
    "The advantage of making this plots manually, is that we can determine both the partial dependence and the number of observations per interval.\n",
    "\n",
    "Scikit-learn has a function to plot PDP, but it misses a key piece of information, which is the number of observations per interval. Hence, we are blind, we don't know how confident we should be about a certain point."
   ]
  },
  {
   "cell_type": "code",
   "execution_count": null,
   "id": "22f7596e",
   "metadata": {},
   "outputs": [],
   "source": []
  }
 ],
 "metadata": {
  "kernelspec": {
   "display_name": "fsml",
   "language": "python",
   "name": "fsml"
  },
  "language_info": {
   "codemirror_mode": {
    "name": "ipython",
    "version": 3
   },
   "file_extension": ".py",
   "mimetype": "text/x-python",
   "name": "python",
   "nbconvert_exporter": "python",
   "pygments_lexer": "ipython3",
   "version": "3.10.5"
  },
  "toc": {
   "base_numbering": 1,
   "nav_menu": {},
   "number_sections": true,
   "sideBar": true,
   "skip_h1_title": false,
   "title_cell": "Table of Contents",
   "title_sidebar": "Contents",
   "toc_cell": false,
   "toc_position": {
    "height": "calc(100% - 180px)",
    "left": "10px",
    "top": "150px",
    "width": "242.4px"
   },
   "toc_section_display": true,
   "toc_window_display": true
  }
 },
 "nbformat": 4,
 "nbformat_minor": 5
}
