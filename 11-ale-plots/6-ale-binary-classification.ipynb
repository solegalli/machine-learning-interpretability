{
 "cells": [
  {
   "cell_type": "markdown",
   "id": "1cd34d25",
   "metadata": {},
   "source": [
    "#  Accumulated Local Effects (ALE) Plots for Binary Classification"
   ]
  },
  {
   "cell_type": "markdown",
   "id": "e25dc805",
   "metadata": {},
   "source": [
    "[Machine Learning Interpretability course](https://www.trainindata.com/p/machine-learning-interpretability)\n",
    "\n",
    "This notebook was created by [Sal J.M](https://www.linkedin.com/in/salim-j-m-a04534114/). Thank you so much for your contribution Sal!!"
   ]
  },
  {
   "cell_type": "markdown",
   "id": "f77b096c",
   "metadata": {},
   "source": [
    " - In this notebook, our primary aim is to clarify the concept of Accumulated Local Effects (ALE) and its role in assessing the influence of features on a model in the context of a binary classification.\n",
    " \n",
    " - We'll be computing ALE using the ALIBI Python package. Our focus will be on understanding how these effects can be quantified for the positive class within the target variable.\n",
    " \n",
    " - To illustrate this, we'll be using the familiar titanic dataset."
   ]
  },
  {
   "cell_type": "code",
   "execution_count": 1,
   "id": "b1160650",
   "metadata": {},
   "outputs": [],
   "source": [
    "import numpy as np\n",
    "import pandas as pd\n",
    "from matplotlib import pyplot as plt"
   ]
  },
  {
   "cell_type": "code",
   "execution_count": 2,
   "id": "e430332e",
   "metadata": {},
   "outputs": [],
   "source": [
    "from feature_engine.encoding import OneHotEncoder"
   ]
  },
  {
   "cell_type": "code",
   "execution_count": 3,
   "id": "8aed124d",
   "metadata": {},
   "outputs": [],
   "source": [
    "from sklearn.model_selection import train_test_split\n",
    "from sklearn.metrics import roc_auc_score"
   ]
  },
  {
   "cell_type": "code",
   "execution_count": 4,
   "id": "34fa9e79",
   "metadata": {},
   "outputs": [],
   "source": [
    "from xgboost import XGBClassifier"
   ]
  },
  {
   "cell_type": "markdown",
   "id": "85145a5f",
   "metadata": {},
   "source": [
    "### Load Titanic data"
   ]
  },
  {
   "cell_type": "code",
   "execution_count": 5,
   "id": "c75698ce",
   "metadata": {},
   "outputs": [],
   "source": [
    "# The data can be accessed online.\n",
    "data = pd.read_csv('https://www.openml.org/data/get_csv/16826755/phpMYEkMl')"
   ]
  },
  {
   "cell_type": "code",
   "execution_count": 6,
   "id": "b90c3e36",
   "metadata": {},
   "outputs": [
    {
     "data": {
      "text/plain": [
       "(1309, 14)"
      ]
     },
     "execution_count": 6,
     "metadata": {},
     "output_type": "execute_result"
    }
   ],
   "source": [
    "data.shape"
   ]
  },
  {
   "cell_type": "code",
   "execution_count": 7,
   "id": "9ccdb28a",
   "metadata": {},
   "outputs": [
    {
     "data": {
      "text/html": [
       "<div>\n",
       "<style scoped>\n",
       "    .dataframe tbody tr th:only-of-type {\n",
       "        vertical-align: middle;\n",
       "    }\n",
       "\n",
       "    .dataframe tbody tr th {\n",
       "        vertical-align: top;\n",
       "    }\n",
       "\n",
       "    .dataframe thead th {\n",
       "        text-align: right;\n",
       "    }\n",
       "</style>\n",
       "<table border=\"1\" class=\"dataframe\">\n",
       "  <thead>\n",
       "    <tr style=\"text-align: right;\">\n",
       "      <th></th>\n",
       "      <th>pclass</th>\n",
       "      <th>survived</th>\n",
       "      <th>name</th>\n",
       "      <th>sex</th>\n",
       "      <th>age</th>\n",
       "      <th>sibsp</th>\n",
       "      <th>parch</th>\n",
       "      <th>ticket</th>\n",
       "      <th>fare</th>\n",
       "      <th>cabin</th>\n",
       "      <th>embarked</th>\n",
       "      <th>boat</th>\n",
       "      <th>body</th>\n",
       "      <th>home.dest</th>\n",
       "    </tr>\n",
       "  </thead>\n",
       "  <tbody>\n",
       "    <tr>\n",
       "      <th>0</th>\n",
       "      <td>1</td>\n",
       "      <td>1</td>\n",
       "      <td>Allen, Miss. Elisabeth Walton</td>\n",
       "      <td>female</td>\n",
       "      <td>29</td>\n",
       "      <td>0</td>\n",
       "      <td>0</td>\n",
       "      <td>24160</td>\n",
       "      <td>211.3375</td>\n",
       "      <td>B5</td>\n",
       "      <td>S</td>\n",
       "      <td>2</td>\n",
       "      <td>?</td>\n",
       "      <td>St Louis, MO</td>\n",
       "    </tr>\n",
       "    <tr>\n",
       "      <th>1</th>\n",
       "      <td>1</td>\n",
       "      <td>1</td>\n",
       "      <td>Allison, Master. Hudson Trevor</td>\n",
       "      <td>male</td>\n",
       "      <td>0.9167</td>\n",
       "      <td>1</td>\n",
       "      <td>2</td>\n",
       "      <td>113781</td>\n",
       "      <td>151.55</td>\n",
       "      <td>C22 C26</td>\n",
       "      <td>S</td>\n",
       "      <td>11</td>\n",
       "      <td>?</td>\n",
       "      <td>Montreal, PQ / Chesterville, ON</td>\n",
       "    </tr>\n",
       "    <tr>\n",
       "      <th>2</th>\n",
       "      <td>1</td>\n",
       "      <td>0</td>\n",
       "      <td>Allison, Miss. Helen Loraine</td>\n",
       "      <td>female</td>\n",
       "      <td>2</td>\n",
       "      <td>1</td>\n",
       "      <td>2</td>\n",
       "      <td>113781</td>\n",
       "      <td>151.55</td>\n",
       "      <td>C22 C26</td>\n",
       "      <td>S</td>\n",
       "      <td>?</td>\n",
       "      <td>?</td>\n",
       "      <td>Montreal, PQ / Chesterville, ON</td>\n",
       "    </tr>\n",
       "    <tr>\n",
       "      <th>3</th>\n",
       "      <td>1</td>\n",
       "      <td>0</td>\n",
       "      <td>Allison, Mr. Hudson Joshua Creighton</td>\n",
       "      <td>male</td>\n",
       "      <td>30</td>\n",
       "      <td>1</td>\n",
       "      <td>2</td>\n",
       "      <td>113781</td>\n",
       "      <td>151.55</td>\n",
       "      <td>C22 C26</td>\n",
       "      <td>S</td>\n",
       "      <td>?</td>\n",
       "      <td>135</td>\n",
       "      <td>Montreal, PQ / Chesterville, ON</td>\n",
       "    </tr>\n",
       "    <tr>\n",
       "      <th>4</th>\n",
       "      <td>1</td>\n",
       "      <td>0</td>\n",
       "      <td>Allison, Mrs. Hudson J C (Bessie Waldo Daniels)</td>\n",
       "      <td>female</td>\n",
       "      <td>25</td>\n",
       "      <td>1</td>\n",
       "      <td>2</td>\n",
       "      <td>113781</td>\n",
       "      <td>151.55</td>\n",
       "      <td>C22 C26</td>\n",
       "      <td>S</td>\n",
       "      <td>?</td>\n",
       "      <td>?</td>\n",
       "      <td>Montreal, PQ / Chesterville, ON</td>\n",
       "    </tr>\n",
       "  </tbody>\n",
       "</table>\n",
       "</div>"
      ],
      "text/plain": [
       "   pclass  survived                                             name     sex  \\\n",
       "0       1         1                    Allen, Miss. Elisabeth Walton  female   \n",
       "1       1         1                   Allison, Master. Hudson Trevor    male   \n",
       "2       1         0                     Allison, Miss. Helen Loraine  female   \n",
       "3       1         0             Allison, Mr. Hudson Joshua Creighton    male   \n",
       "4       1         0  Allison, Mrs. Hudson J C (Bessie Waldo Daniels)  female   \n",
       "\n",
       "      age  sibsp  parch  ticket      fare    cabin embarked boat body  \\\n",
       "0      29      0      0   24160  211.3375       B5        S    2    ?   \n",
       "1  0.9167      1      2  113781    151.55  C22 C26        S   11    ?   \n",
       "2       2      1      2  113781    151.55  C22 C26        S    ?    ?   \n",
       "3      30      1      2  113781    151.55  C22 C26        S    ?  135   \n",
       "4      25      1      2  113781    151.55  C22 C26        S    ?    ?   \n",
       "\n",
       "                         home.dest  \n",
       "0                     St Louis, MO  \n",
       "1  Montreal, PQ / Chesterville, ON  \n",
       "2  Montreal, PQ / Chesterville, ON  \n",
       "3  Montreal, PQ / Chesterville, ON  \n",
       "4  Montreal, PQ / Chesterville, ON  "
      ]
     },
     "execution_count": 7,
     "metadata": {},
     "output_type": "execute_result"
    }
   ],
   "source": [
    "data.head()"
   ]
  },
  {
   "cell_type": "markdown",
   "id": "51039127",
   "metadata": {},
   "source": [
    "### Preprocess data"
   ]
  },
  {
   "cell_type": "markdown",
   "id": "21b8271b",
   "metadata": {},
   "source": [
    " - Please note that it's important to split the data before pre-processing, which is not the case here."
   ]
  },
  {
   "cell_type": "code",
   "execution_count": 8,
   "id": "fab3fbfc",
   "metadata": {},
   "outputs": [],
   "source": [
    "# Replace question mark by NaN\n",
    "data = data.replace('?', np.nan)\n",
    "\n",
    "\n",
    "# Extract the first letter from the variable cabin\n",
    "def get_first_cabin(row):\n",
    "    try:\n",
    "        return row.split()[0]\n",
    "    except:\n",
    "        return np.nan\n",
    "    \n",
    "data['cabin'] = data['cabin'].apply(get_first_cabin)\n",
    "\n",
    "\n",
    "# capture letter from cabin\n",
    "data[\"cabin\"] = data[\"cabin\"].str[0]\n",
    "\n",
    "# cabin T is a rare label, we replace it with G\n",
    "data.loc[data[\"cabin\"] == \"T\", \"cabin\"] = \"G\"\n",
    "\n",
    "# impute cabin and embarked\n",
    "data.fillna({\n",
    "    \"cabin\":\"M\",\n",
    "    \"embarked\": \"S\",\n",
    "}, inplace=True)\n",
    "\n",
    "# set pclass', 'sibsp', 'parch' columns to data type int\n",
    "data[['pclass', 'sibsp', 'parch']] = data[['pclass', 'sibsp', 'parch']].astype(int)\n",
    "\n",
    "# set fare to data type float\n",
    "data['fare'] = data['fare'].astype(float)\n",
    "# impute fare with the median\n",
    "data['fare'] = data['fare'].fillna(data['fare'].median())\n",
    "\n",
    "# select the features of interest only\n",
    "usecols = [\"pclass\", \"sibsp\", \"parch\", \"sex\", \"fare\", \"embarked\", \"cabin\", \"survived\", ]\n",
    "data = data[usecols]\n",
    "\n",
    "# OHE for categorical features\n",
    "data = OneHotEncoder(drop_last=False).fit_transform(data)"
   ]
  },
  {
   "cell_type": "code",
   "execution_count": null,
   "id": "2a29f8fa",
   "metadata": {},
   "outputs": [],
   "source": []
  },
  {
   "cell_type": "markdown",
   "id": "d7121d7a",
   "metadata": {},
   "source": [
    "### Split Data"
   ]
  },
  {
   "cell_type": "code",
   "execution_count": 9,
   "id": "4016c6ac",
   "metadata": {},
   "outputs": [],
   "source": [
    "X = data.drop(columns='survived')\n",
    "y = data['survived']"
   ]
  },
  {
   "cell_type": "code",
   "execution_count": 10,
   "id": "3a8f79fa",
   "metadata": {},
   "outputs": [
    {
     "data": {
      "text/plain": [
       "((1309, 17), (1309,))"
      ]
     },
     "execution_count": 10,
     "metadata": {},
     "output_type": "execute_result"
    }
   ],
   "source": [
    "X.shape, y.shape"
   ]
  },
  {
   "cell_type": "code",
   "execution_count": 11,
   "id": "f04ceeae",
   "metadata": {},
   "outputs": [],
   "source": [
    "# separate into training and testing sets\n",
    "X_train, X_test, y_train, y_test = train_test_split(\n",
    "    X, y, test_size=0.3, random_state=0)\n"
   ]
  },
  {
   "cell_type": "code",
   "execution_count": 12,
   "id": "25494c76",
   "metadata": {},
   "outputs": [
    {
     "data": {
      "text/plain": [
       "((916, 17), (393, 17))"
      ]
     },
     "execution_count": 12,
     "metadata": {},
     "output_type": "execute_result"
    }
   ],
   "source": [
    "X_train.shape, X_test.shape"
   ]
  },
  {
   "cell_type": "code",
   "execution_count": 13,
   "id": "8e12d949",
   "metadata": {},
   "outputs": [
    {
     "data": {
      "text/plain": [
       "((916,), (393,))"
      ]
     },
     "execution_count": 13,
     "metadata": {},
     "output_type": "execute_result"
    }
   ],
   "source": [
    "y_train.shape, y_test.shape"
   ]
  },
  {
   "cell_type": "markdown",
   "id": "f4091d08",
   "metadata": {},
   "source": [
    "### Train XGBOOST"
   ]
  },
  {
   "cell_type": "code",
   "execution_count": 14,
   "id": "bca0a7c2",
   "metadata": {},
   "outputs": [
    {
     "data": {
      "text/html": [
       "<style>#sk-container-id-1 {color: black;background-color: white;}#sk-container-id-1 pre{padding: 0;}#sk-container-id-1 div.sk-toggleable {background-color: white;}#sk-container-id-1 label.sk-toggleable__label {cursor: pointer;display: block;width: 100%;margin-bottom: 0;padding: 0.3em;box-sizing: border-box;text-align: center;}#sk-container-id-1 label.sk-toggleable__label-arrow:before {content: \"▸\";float: left;margin-right: 0.25em;color: #696969;}#sk-container-id-1 label.sk-toggleable__label-arrow:hover:before {color: black;}#sk-container-id-1 div.sk-estimator:hover label.sk-toggleable__label-arrow:before {color: black;}#sk-container-id-1 div.sk-toggleable__content {max-height: 0;max-width: 0;overflow: hidden;text-align: left;background-color: #f0f8ff;}#sk-container-id-1 div.sk-toggleable__content pre {margin: 0.2em;color: black;border-radius: 0.25em;background-color: #f0f8ff;}#sk-container-id-1 input.sk-toggleable__control:checked~div.sk-toggleable__content {max-height: 200px;max-width: 100%;overflow: auto;}#sk-container-id-1 input.sk-toggleable__control:checked~label.sk-toggleable__label-arrow:before {content: \"▾\";}#sk-container-id-1 div.sk-estimator input.sk-toggleable__control:checked~label.sk-toggleable__label {background-color: #d4ebff;}#sk-container-id-1 div.sk-label input.sk-toggleable__control:checked~label.sk-toggleable__label {background-color: #d4ebff;}#sk-container-id-1 input.sk-hidden--visually {border: 0;clip: rect(1px 1px 1px 1px);clip: rect(1px, 1px, 1px, 1px);height: 1px;margin: -1px;overflow: hidden;padding: 0;position: absolute;width: 1px;}#sk-container-id-1 div.sk-estimator {font-family: monospace;background-color: #f0f8ff;border: 1px dotted black;border-radius: 0.25em;box-sizing: border-box;margin-bottom: 0.5em;}#sk-container-id-1 div.sk-estimator:hover {background-color: #d4ebff;}#sk-container-id-1 div.sk-parallel-item::after {content: \"\";width: 100%;border-bottom: 1px solid gray;flex-grow: 1;}#sk-container-id-1 div.sk-label:hover label.sk-toggleable__label {background-color: #d4ebff;}#sk-container-id-1 div.sk-serial::before {content: \"\";position: absolute;border-left: 1px solid gray;box-sizing: border-box;top: 0;bottom: 0;left: 50%;z-index: 0;}#sk-container-id-1 div.sk-serial {display: flex;flex-direction: column;align-items: center;background-color: white;padding-right: 0.2em;padding-left: 0.2em;position: relative;}#sk-container-id-1 div.sk-item {position: relative;z-index: 1;}#sk-container-id-1 div.sk-parallel {display: flex;align-items: stretch;justify-content: center;background-color: white;position: relative;}#sk-container-id-1 div.sk-item::before, #sk-container-id-1 div.sk-parallel-item::before {content: \"\";position: absolute;border-left: 1px solid gray;box-sizing: border-box;top: 0;bottom: 0;left: 50%;z-index: -1;}#sk-container-id-1 div.sk-parallel-item {display: flex;flex-direction: column;z-index: 1;position: relative;background-color: white;}#sk-container-id-1 div.sk-parallel-item:first-child::after {align-self: flex-end;width: 50%;}#sk-container-id-1 div.sk-parallel-item:last-child::after {align-self: flex-start;width: 50%;}#sk-container-id-1 div.sk-parallel-item:only-child::after {width: 0;}#sk-container-id-1 div.sk-dashed-wrapped {border: 1px dashed gray;margin: 0 0.4em 0.5em 0.4em;box-sizing: border-box;padding-bottom: 0.4em;background-color: white;}#sk-container-id-1 div.sk-label label {font-family: monospace;font-weight: bold;display: inline-block;line-height: 1.2em;}#sk-container-id-1 div.sk-label-container {text-align: center;}#sk-container-id-1 div.sk-container {/* jupyter's `normalize.less` sets `[hidden] { display: none; }` but bootstrap.min.css set `[hidden] { display: none !important; }` so we also need the `!important` here to be able to override the default hidden behavior on the sphinx rendered scikit-learn.org. See: https://github.com/scikit-learn/scikit-learn/issues/21755 */display: inline-block !important;position: relative;}#sk-container-id-1 div.sk-text-repr-fallback {display: none;}</style><div id=\"sk-container-id-1\" class=\"sk-top-container\"><div class=\"sk-text-repr-fallback\"><pre>XGBClassifier(base_score=None, booster=None, callbacks=None,\n",
       "              colsample_bylevel=None, colsample_bynode=None,\n",
       "              colsample_bytree=None, early_stopping_rounds=None,\n",
       "              enable_categorical=False, eval_metric=None, feature_types=None,\n",
       "              gamma=None, gpu_id=None, grow_policy=None, importance_type=None,\n",
       "              interaction_constraints=None, learning_rate=None, max_bin=None,\n",
       "              max_cat_threshold=None, max_cat_to_onehot=None,\n",
       "              max_delta_step=None, max_depth=1, max_leaves=None,\n",
       "              min_child_weight=None, missing=nan, monotone_constraints=None,\n",
       "              n_estimators=10, n_jobs=None, num_parallel_tree=None,\n",
       "              predictor=None, random_state=3, ...)</pre><b>In a Jupyter environment, please rerun this cell to show the HTML representation or trust the notebook. <br />On GitHub, the HTML representation is unable to render, please try loading this page with nbviewer.org.</b></div><div class=\"sk-container\" hidden><div class=\"sk-item\"><div class=\"sk-estimator sk-toggleable\"><input class=\"sk-toggleable__control sk-hidden--visually\" id=\"sk-estimator-id-1\" type=\"checkbox\" checked><label for=\"sk-estimator-id-1\" class=\"sk-toggleable__label sk-toggleable__label-arrow\">XGBClassifier</label><div class=\"sk-toggleable__content\"><pre>XGBClassifier(base_score=None, booster=None, callbacks=None,\n",
       "              colsample_bylevel=None, colsample_bynode=None,\n",
       "              colsample_bytree=None, early_stopping_rounds=None,\n",
       "              enable_categorical=False, eval_metric=None, feature_types=None,\n",
       "              gamma=None, gpu_id=None, grow_policy=None, importance_type=None,\n",
       "              interaction_constraints=None, learning_rate=None, max_bin=None,\n",
       "              max_cat_threshold=None, max_cat_to_onehot=None,\n",
       "              max_delta_step=None, max_depth=1, max_leaves=None,\n",
       "              min_child_weight=None, missing=nan, monotone_constraints=None,\n",
       "              n_estimators=10, n_jobs=None, num_parallel_tree=None,\n",
       "              predictor=None, random_state=3, ...)</pre></div></div></div></div></div>"
      ],
      "text/plain": [
       "XGBClassifier(base_score=None, booster=None, callbacks=None,\n",
       "              colsample_bylevel=None, colsample_bynode=None,\n",
       "              colsample_bytree=None, early_stopping_rounds=None,\n",
       "              enable_categorical=False, eval_metric=None, feature_types=None,\n",
       "              gamma=None, gpu_id=None, grow_policy=None, importance_type=None,\n",
       "              interaction_constraints=None, learning_rate=None, max_bin=None,\n",
       "              max_cat_threshold=None, max_cat_to_onehot=None,\n",
       "              max_delta_step=None, max_depth=1, max_leaves=None,\n",
       "              min_child_weight=None, missing=nan, monotone_constraints=None,\n",
       "              n_estimators=10, n_jobs=None, num_parallel_tree=None,\n",
       "              predictor=None, random_state=3, ...)"
      ]
     },
     "execution_count": 14,
     "metadata": {},
     "output_type": "execute_result"
    }
   ],
   "source": [
    "# create xgboost classifier\n",
    "xgbc = XGBClassifier(n_estimators=10,\n",
    "                     max_depth=1,\n",
    "                     random_state=3,)\n",
    "\n",
    "# train xgboost\n",
    "xgbc.fit(X_train, y_train)"
   ]
  },
  {
   "cell_type": "code",
   "execution_count": 15,
   "id": "3e099593",
   "metadata": {},
   "outputs": [],
   "source": [
    "# predict to get the model performance\n",
    "y_train_proba = xgbc.predict_proba(X_train)[:, 1]\n",
    "y_test_proba = xgbc.predict_proba(X_test)[:, 1]"
   ]
  },
  {
   "cell_type": "code",
   "execution_count": 16,
   "id": "eab4afd9",
   "metadata": {},
   "outputs": [
    {
     "data": {
      "text/plain": [
       "0.8301767645001736"
      ]
     },
     "execution_count": 16,
     "metadata": {},
     "output_type": "execute_result"
    }
   ],
   "source": [
    "# train roc-auc\n",
    "roc_auc_score(y_train, y_train_proba)"
   ]
  },
  {
   "cell_type": "code",
   "execution_count": 17,
   "id": "fe302793",
   "metadata": {},
   "outputs": [
    {
     "data": {
      "text/plain": [
       "0.8240556385155688"
      ]
     },
     "execution_count": 17,
     "metadata": {},
     "output_type": "execute_result"
    }
   ],
   "source": [
    "# test roc-auc\n",
    "roc_auc_score(y_test, y_test_proba)"
   ]
  },
  {
   "cell_type": "markdown",
   "id": "57c1c654",
   "metadata": {},
   "source": [
    "#### XGBoost Feature Importance"
   ]
  },
  {
   "cell_type": "markdown",
   "id": "577481f7",
   "metadata": {},
   "source": [
    " XGboost provides feature importance which can be used as a gloabal interpretation method\n"
   ]
  },
  {
   "cell_type": "code",
   "execution_count": 18,
   "id": "bbb46315",
   "metadata": {},
   "outputs": [],
   "source": [
    "fi = pd.Series(xgbc.feature_importances_, index=X_train.columns).sort_values(ascending=False)"
   ]
  },
  {
   "cell_type": "code",
   "execution_count": 19,
   "id": "7b4d9dc2",
   "metadata": {
    "scrolled": true
   },
   "outputs": [
    {
     "data": {
      "text/plain": [
       "sex_female    0.548961\n",
       "cabin_M       0.228459\n",
       "pclass        0.155400\n",
       "embarked_C    0.067179\n",
       "cabin_C       0.000000\n",
       "cabin_G       0.000000\n",
       "cabin_A       0.000000\n",
       "cabin_D       0.000000\n",
       "cabin_E       0.000000\n",
       "embarked_Q    0.000000\n",
       "cabin_B       0.000000\n",
       "sibsp         0.000000\n",
       "embarked_S    0.000000\n",
       "sex_male      0.000000\n",
       "fare          0.000000\n",
       "parch         0.000000\n",
       "cabin_F       0.000000\n",
       "dtype: float32"
      ]
     },
     "execution_count": 19,
     "metadata": {},
     "output_type": "execute_result"
    }
   ],
   "source": [
    "fi"
   ]
  },
  {
   "cell_type": "markdown",
   "id": "46c40d92",
   "metadata": {},
   "source": [
    "### ALE with Alibi"
   ]
  },
  {
   "cell_type": "markdown",
   "id": "2c621d0f",
   "metadata": {},
   "source": [
    " - To generate the ALE plots, follow these steps:\n",
    "     - Import the ALE explainer module.\n",
    "     - Import the plot_ale function.\n",
    "     - Create an ALE instance to compute the ALE values.\n",
    "     - Utilize the plot_ale function to visualize the ALE values."
   ]
  },
  {
   "cell_type": "code",
   "execution_count": 22,
   "id": "50b8c675",
   "metadata": {},
   "outputs": [],
   "source": [
    "# import ALE and plot_ale from alibi\n",
    "from alibi.explainers import ALE, plot_ale"
   ]
  },
  {
   "cell_type": "code",
   "execution_count": 39,
   "id": "01cd01a4",
   "metadata": {},
   "outputs": [],
   "source": [
    "# to create the ALE we get the following:\n",
    "\n",
    "# 1 - the classifier predict function\n",
    "prediction_fn_xgbc = xgbc.predict_proba\n",
    "\n",
    "# 2 - the names of the features\n",
    "feature_names = X_test.columns.tolist()\n",
    "\n",
    "# 3 - the name of the tagets,\n",
    "# although this is a binary target, we can assign a name for the negative class\n",
    "# we keep the name of the positive class as it is in the dataset and that is the name of the pandas Series (y_test.name)\n",
    "target_names = ['did not survive', y_test.name]"
   ]
  },
  {
   "cell_type": "code",
   "execution_count": 40,
   "id": "e1751f01",
   "metadata": {
    "scrolled": true
   },
   "outputs": [
    {
     "data": {
      "text/plain": [
       "['pclass',\n",
       " 'sibsp',\n",
       " 'parch',\n",
       " 'fare',\n",
       " 'sex_female',\n",
       " 'sex_male',\n",
       " 'embarked_S',\n",
       " 'embarked_C',\n",
       " 'embarked_Q',\n",
       " 'cabin_B',\n",
       " 'cabin_C',\n",
       " 'cabin_E',\n",
       " 'cabin_D',\n",
       " 'cabin_A',\n",
       " 'cabin_M',\n",
       " 'cabin_G',\n",
       " 'cabin_F']"
      ]
     },
     "execution_count": 40,
     "metadata": {},
     "output_type": "execute_result"
    }
   ],
   "source": [
    "feature_names"
   ]
  },
  {
   "cell_type": "code",
   "execution_count": 50,
   "id": "a83968ce",
   "metadata": {},
   "outputs": [
    {
     "data": {
      "text/plain": [
       "['did not survive', 'survived']"
      ]
     },
     "execution_count": 50,
     "metadata": {},
     "output_type": "execute_result"
    }
   ],
   "source": [
    "target_names"
   ]
  },
  {
   "cell_type": "code",
   "execution_count": 42,
   "id": "7faf2ad6",
   "metadata": {},
   "outputs": [],
   "source": [
    "# create the ALE explainer instance\n",
    "ale_xgbc = ALE(\n",
    "    predictor=xgbc.predict_proba, # specify the XGBoost prediction function\n",
    "    feature_names=feature_names, # specify the names of the features of intereset here\n",
    "    target_names=target_names, # specify the target names here\n",
    ")\n",
    "\n",
    "# compute the ALE values by calling the explain function on the ALE object\n",
    "# the explain function expects a numpy array\n",
    "exp_xgbc = ale_xgbc.explain(X_test.values)"
   ]
  },
  {
   "cell_type": "code",
   "execution_count": 43,
   "id": "1ba27aaa",
   "metadata": {
    "scrolled": true
   },
   "outputs": [
    {
     "data": {
      "text/plain": [
       "Explanation(meta={\n",
       "  'name': 'ALE',\n",
       "  'type': ['blackbox'],\n",
       "  'explanations': ['global'],\n",
       "  'params': {\n",
       "              'check_feature_resolution': True,\n",
       "              'low_resolution_threshold': 10,\n",
       "              'extrapolate_constant': True,\n",
       "              'extrapolate_constant_perc': 10.0,\n",
       "              'extrapolate_constant_min': 0.1,\n",
       "              'min_bin_points': 4}\n",
       "            ,\n",
       "  'version': '0.9.4'}\n",
       ", data={\n",
       "  'ale_values': [array([[-0.02222171,  0.02222171],\n",
       "       [-0.02222171,  0.02222171],\n",
       "       [ 0.0605568 , -0.06055678]]), array([[0., 0.],\n",
       "       [0., 0.],\n",
       "       [0., 0.],\n",
       "       [0., 0.],\n",
       "       [0., 0.],\n",
       "       [0., 0.]]), array([[0., 0.],\n",
       "       [0., 0.],\n",
       "       [0., 0.],\n",
       "       [0., 0.],\n",
       "       [0., 0.],\n",
       "       [0., 0.],\n",
       "       [0., 0.]]), array([[0., 0.],\n",
       "       [0., 0.],\n",
       "       [0., 0.],\n",
       "       [0., 0.],\n",
       "       [0., 0.],\n",
       "       [0., 0.],\n",
       "       [0., 0.],\n",
       "       [0., 0.],\n",
       "       [0., 0.],\n",
       "       [0., 0.],\n",
       "       [0., 0.],\n",
       "       [0., 0.],\n",
       "       [0., 0.],\n",
       "       [0., 0.],\n",
       "       [0., 0.],\n",
       "       [0., 0.],\n",
       "       [0., 0.],\n",
       "       [0., 0.],\n",
       "       [0., 0.],\n",
       "       [0., 0.],\n",
       "       [0., 0.]]), array([[ 0.20952098, -0.20952097],\n",
       "       [-0.20952098,  0.20952097]]), array([[0., 0.],\n",
       "       [0., 0.]]), array([[0., 0.],\n",
       "       [0., 0.]]), array([[ 0.01841156, -0.01841155],\n",
       "       [-0.01841156,  0.01841155]]), array([[0., 0.],\n",
       "       [0., 0.]]), array([[0., 0.],\n",
       "       [0., 0.]]), array([[0., 0.],\n",
       "       [0., 0.]]), array([[0., 0.],\n",
       "       [0., 0.]]), array([[0., 0.],\n",
       "       [0., 0.]]), array([[0., 0.],\n",
       "       [0., 0.]]), array([[-0.06034649,  0.0603465 ],\n",
       "       [ 0.06034649, -0.0603465 ]]), array([[0., 0.],\n",
       "       [0., 0.]]), array([[0., 0.],\n",
       "       [0., 0.]])],\n",
       "  'constant_value': 0.5,\n",
       "  'ale0': [array([ 0.02222171, -0.02222171]), array([0., 0.]), array([0., 0.]), array([0., 0.]), array([-0.20952098,  0.20952097]), array([0., 0.]), array([0., 0.]), array([-0.01841156,  0.01841155]), array([0., 0.]), array([0., 0.]), array([0., 0.]), array([0., 0.]), array([0., 0.]), array([0., 0.]), array([ 0.06034649, -0.0603465 ]), array([0., 0.]), array([0., 0.])],\n",
       "  'feature_values': [array([1., 2., 3.]), array([0., 1., 2., 3., 4., 5.]), array([0., 1., 2., 3., 4., 5., 9.]), array([  0.     ,   7.2292 ,   7.66416,   7.77   ,   7.89082,   7.925  ,\n",
       "         8.05   ,   9.21836,  10.5    ,  13.     ,  14.5    ,  16.46   ,\n",
       "        22.09166,  26.     ,  27.7208 ,  30.5    ,  41.5792 ,  58.26336,\n",
       "        73.5    , 134.95332, 512.3292 ]), array([0., 1.]), array([0., 1.]), array([0., 1.]), array([0., 1.]), array([0., 1.]), array([0., 1.]), array([0., 1.]), array([0., 1.]), array([0., 1.]), array([0., 1.]), array([0., 1.]), array([0., 1.]), array([0., 1.])],\n",
       "  'feature_names': array(['pclass', 'sibsp', 'parch', 'fare', 'sex_female', 'sex_male',\n",
       "       'embarked_S', 'embarked_C', 'embarked_Q', 'cabin_B', 'cabin_C',\n",
       "       'cabin_E', 'cabin_D', 'cabin_A', 'cabin_M', 'cabin_G', 'cabin_F'],\n",
       "      dtype='<U10'),\n",
       "  'target_names': array(['did not survive', 'survived'], dtype='<U15'),\n",
       "  'feature_deciles': [array([1., 1., 1., 2., 2., 3., 3., 3., 3., 3., 3.]), array([0., 0., 0., 0., 0., 0., 0., 0., 1., 1., 5.]), array([0., 0., 0., 0., 0., 0., 0., 0., 1., 2., 9.]), array([  0.     ,   7.66416,   7.89082,   8.05   ,  10.5    ,  14.5    ,\n",
       "        22.09166,  27.7208 ,  41.5792 ,  73.5    , 512.3292 ]), array([0., 0., 0., 0., 0., 0., 0., 1., 1., 1., 1.]), array([0., 0., 0., 0., 1., 1., 1., 1., 1., 1., 1.]), array([0., 0., 0., 0., 1., 1., 1., 1., 1., 1., 1.]), array([0., 0., 0., 0., 0., 0., 0., 0., 1., 1., 1.]), array([0. , 0. , 0. , 0. , 0. , 0. , 0. , 0. , 0. , 0.8, 1. ]), array([0., 0., 0., 0., 0., 0., 0., 0., 0., 0., 1.]), array([0., 0., 0., 0., 0., 0., 0., 0., 0., 0., 1.]), array([0., 0., 0., 0., 0., 0., 0., 0., 0., 0., 1.]), array([0., 0., 0., 0., 0., 0., 0., 0., 0., 0., 1.]), array([0., 0., 0., 0., 0., 0., 0., 0., 0., 0., 1.]), array([0., 0., 0., 1., 1., 1., 1., 1., 1., 1., 1.]), array([0., 0., 0., 0., 0., 0., 0., 0., 0., 0., 1.]), array([0., 0., 0., 0., 0., 0., 0., 0., 0., 0., 1.])]}\n",
       ")"
      ]
     },
     "execution_count": 43,
     "metadata": {},
     "output_type": "execute_result"
    }
   ],
   "source": [
    "# explanation results stored in the object\n",
    "exp_xgbc"
   ]
  },
  {
   "cell_type": "markdown",
   "id": "42427dae",
   "metadata": {},
   "source": [
    "#### ALE for the Significant Features"
   ]
  },
  {
   "cell_type": "code",
   "execution_count": 51,
   "id": "0f98c865",
   "metadata": {},
   "outputs": [
    {
     "data": {
      "image/png": "[encoded data removed]",
      "text/plain": [
       "<Figure size 700x400 with 5 Axes>"
      ]
     },
     "metadata": {},
     "output_type": "display_data"
    }
   ],
   "source": [
    "# After generating the ALE values we can plot them.\n",
    "# in this example, we choose to plot the ALE only for the 4 important features (from XGBoost fi)\n",
    "\n",
    "# get the important features\n",
    "important_features = fi[fi > 0].index.tolist()\n",
    "\n",
    "# plot for the important features ONLY, and also ONLY for the positive class \"survived\"\n",
    "plot_ale(exp_xgbc, # explanation object \n",
    "         features=important_features, # if we do not specify a list of features here, the ALE will be plotted for all of the features provided in the X_test\n",
    "         targets=target_names[1:], # if we do not specify target names, we will get ALE values for both classes: \"did not survice\" and \"survived\"; this parameter is a list so note the slicing\n",
    "         n_cols=2, # specify how many columns in the plot we want\n",
    "         fig_kw={'figwidth': 7, 'figheight': 4}); # specify figure size"
   ]
  },
  {
   "cell_type": "markdown",
   "id": "3273c249",
   "metadata": {},
   "source": [
    "\n",
    " - The plot function created four graphs specifically for the four features that xgboost identified as important. \n",
    "\n",
    " - On the X-axis, you'll find the different values of each feature, while the Y-axis shows ALE values in terms of probability. This is because we used the predict_proba function with the ALE explainer.\n",
    "\n",
    " - It's important to note that all the graphs are centered around 0, and the ALE values are in relative probability units with respect to the mean feature effect (mean ALE values for a feature)."
   ]
  },
  {
   "cell_type": "code",
   "execution_count": null,
   "id": "e8ee59cd",
   "metadata": {},
   "outputs": [],
   "source": []
  }
 ],
 "metadata": {
  "kernelspec": {
   "display_name": "Python 3 (ipykernel)",
   "language": "python",
   "name": "python3"
  },
  "language_info": {
   "codemirror_mode": {
    "name": "ipython",
    "version": 3
   },
   "file_extension": ".py",
   "mimetype": "text/x-python",
   "name": "python",
   "nbconvert_exporter": "python",
   "pygments_lexer": "ipython3",
   "version": "3.10.5"
  },
  "toc": {
   "base_numbering": 1,
   "nav_menu": {},
   "number_sections": true,
   "sideBar": true,
   "skip_h1_title": false,
   "title_cell": "Table of Contents",
   "title_sidebar": "Contents",
   "toc_cell": false,
   "toc_position": {},
   "toc_section_display": true,
   "toc_window_display": false
  }
 },
 "nbformat": 4,
 "nbformat_minor": 5
}
